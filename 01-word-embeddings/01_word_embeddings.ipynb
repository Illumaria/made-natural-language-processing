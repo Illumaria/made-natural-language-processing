{
  "nbformat": 4,
  "nbformat_minor": 0,
  "metadata": {
    "kernelspec": {
      "name": "python3",
      "display_name": "Python 3"
    },
    "colab": {
      "name": "nlp01_word_embeddings.ipynb",
      "provenance": [],
      "collapsed_sections": [],
      "toc_visible": true
    }
  },
  "cells": [
    {
      "cell_type": "markdown",
      "metadata": {
        "id": "1eqfmBE24lCN"
      },
      "source": [
        "# Seminar 01: Dealing with Word Embeddings\n",
        "\n",
        "Today we're going to play with word embeddings: train our own little embedding, load one from `gensim` model zoo and use it to visualize text corpora.\n",
        "\n",
        "This whole thing will happen on top of embedding dataset.\n",
        "\n",
        "__Requirements:__ if you use local environment, run the following command:\n",
        "\n",
        "```pip install --upgrade nltk gensim bokeh umap-learn```\n"
      ]
    },
    {
      "cell_type": "code",
      "metadata": {
        "id": "gow6NoPE4lCU"
      },
      "source": [
        "from IPython.display import clear_output\n",
        "import itertools\n",
        "import string\n",
        "\n",
        "from matplotlib import pyplot as plt\n",
        "from nltk.tokenize import WordPunctTokenizer\n",
        "import numpy as np\n",
        "import umap"
      ],
      "execution_count": 1,
      "outputs": []
    },
    {
      "cell_type": "code",
      "metadata": {
        "id": "svMZ2zPA4lCW"
      },
      "source": [
        "# Download the data:\n",
        "!wget -q https://github.com/Illumaria/made-natural-language-processing/raw/master/01-word-embeddings/quora.7z -nc\n",
        "!7z e -y quora.7z > nul"
      ],
      "execution_count": 2,
      "outputs": []
    },
    {
      "cell_type": "code",
      "metadata": {
        "scrolled": false,
        "id": "HmAWoiAK4lCY",
        "colab": {
          "base_uri": "https://localhost:8080/",
          "height": 36
        },
        "outputId": "5fc02d0c-32e8-4318-e65c-3c6e83a59380"
      },
      "source": [
        "with open(\"./quora.txt\", \"r\", encoding=\"utf-8\") as fin:\n",
        "    data = fin.readlines()\n",
        "\n",
        "data[50]"
      ],
      "execution_count": 3,
      "outputs": [
        {
          "output_type": "execute_result",
          "data": {
            "application/vnd.google.colaboratory.intrinsic+json": {
              "type": "string"
            },
            "text/plain": [
              "\"What TV shows or books help you read people's body language?\\n\""
            ]
          },
          "metadata": {
            "tags": []
          },
          "execution_count": 3
        }
      ]
    },
    {
      "cell_type": "markdown",
      "metadata": {
        "id": "f6MR8-9_4lCa"
      },
      "source": [
        "__Tokenization:__ a typical first step for an NLP task is to split raw data into words.\n",
        "The text we're working with is in raw format: with all the punctuation and smiles attached to some words, so a simple str.split won't do.\n",
        "\n",
        "Let's use __`nltk`__ — a library that handles many NLP tasks like tokenization, stemming or part-of-speech tagging."
      ]
    },
    {
      "cell_type": "code",
      "metadata": {
        "id": "rjtQp1Zl4lCb",
        "colab": {
          "base_uri": "https://localhost:8080/"
        },
        "outputId": "5f9b5aac-4844-45f6-a9aa-a9a71b8034c6"
      },
      "source": [
        "tokenizer = WordPunctTokenizer()\n",
        "\n",
        "print(tokenizer.tokenize(data[50]))"
      ],
      "execution_count": 4,
      "outputs": [
        {
          "output_type": "stream",
          "text": [
            "['What', 'TV', 'shows', 'or', 'books', 'help', 'you', 'read', 'people', \"'\", 's', 'body', 'language', '?']\n"
          ],
          "name": "stdout"
        }
      ]
    },
    {
      "cell_type": "code",
      "metadata": {
        "id": "hsQ0pj2f4lCd"
      },
      "source": [
        "# Let's lowercase everything and extract tokens with tokenizer.\n",
        "# data_tok should be a list of lists of tokens for each line in data.\n",
        "\n",
        "data_tok = [tokenizer.tokenize(x.lower()) for x in data]"
      ],
      "execution_count": 5,
      "outputs": []
    },
    {
      "cell_type": "markdown",
      "metadata": {
        "id": "2Ovrulib4lCf"
      },
      "source": [
        "Let's peek at the result:"
      ]
    },
    {
      "cell_type": "code",
      "metadata": {
        "id": "f7Mjsvz94lCf",
        "colab": {
          "base_uri": "https://localhost:8080/",
          "height": 36
        },
        "outputId": "1256b4ff-c263-4ac9-f098-c082fab23d6d"
      },
      "source": [
        "' '.join(data_tok[0])"
      ],
      "execution_count": 6,
      "outputs": [
        {
          "output_type": "execute_result",
          "data": {
            "application/vnd.google.colaboratory.intrinsic+json": {
              "type": "string"
            },
            "text/plain": [
              "\"can i get back with my ex even though she is pregnant with another guy ' s baby ?\""
            ]
          },
          "metadata": {
            "tags": []
          },
          "execution_count": 6
        }
      ]
    },
    {
      "cell_type": "markdown",
      "metadata": {
        "id": "T7gKp5f64lCg"
      },
      "source": [
        "Small check that everything is alright:"
      ]
    },
    {
      "cell_type": "code",
      "metadata": {
        "id": "QLDgXkk74lCh"
      },
      "source": [
        "assert all(isinstance(row, (list, tuple)) for row in data_tok), \\\n",
        "    \"Please convert each line into a list of tokens (strings).\"\n",
        "assert all(all(isinstance(tok, str) for tok in row) for row in data_tok), \\\n",
        "    \"Please convert each line into a list of tokens (strings).\"\n",
        "is_latin = lambda tok: all('a' <= x.lower() <= 'z' for x in tok)\n",
        "assert all(map(lambda l: not is_latin(l) or l.islower(), \\\n",
        "               map(' '.join, data_tok))), \\\n",
        "    \"Please make sure to lowercase the data.\""
      ],
      "execution_count": 7,
      "outputs": []
    },
    {
      "cell_type": "markdown",
      "metadata": {
        "id": "r2BNf2Vx4lCi"
      },
      "source": [
        "__Word vectors:__ as the saying goes, there's more than one way to train word embeddings. There's **word2Vec** and **GloVe** with different objective functions. Then there's **fasttext** that uses character-level models to train word embeddings. \n",
        "\n",
        "The choice is huge, so let's start someplace small: __gensim__ is another NLP library that features many vector-based models incuding word2vec."
      ]
    },
    {
      "cell_type": "code",
      "metadata": {
        "id": "CYbZC_a_4lCk"
      },
      "source": [
        "from gensim.models import Word2Vec\n",
        "\n",
        "model = Word2Vec(\n",
        "    data_tok,\n",
        "    size=32,      # embedding vector size\n",
        "    min_count=5,  # consider words that occured at least 5 times\n",
        "    window=5      # define context as a 5-word window around the target word\n",
        ").wv"
      ],
      "execution_count": 8,
      "outputs": []
    },
    {
      "cell_type": "code",
      "metadata": {
        "id": "2TQTeCSc4lCk",
        "colab": {
          "base_uri": "https://localhost:8080/"
        },
        "outputId": "a93a6d1c-501c-4adc-fb7c-d1301f1b2620"
      },
      "source": [
        "# Now we can get word vector for the query...\n",
        "model.get_vector('anything')"
      ],
      "execution_count": 9,
      "outputs": [
        {
          "output_type": "execute_result",
          "data": {
            "text/plain": [
              "array([-0.4362502 ,  3.6540833 , -2.2152069 , -2.407795  ,  3.974969  ,\n",
              "        3.5678759 , -3.0408304 ,  0.23898932, -0.46867397, -2.6194892 ,\n",
              "        0.0392862 , -1.5595074 , -0.6400229 ,  1.7327163 ,  0.39690322,\n",
              "        0.98567426,  2.9756992 , -0.9293279 , -3.4315064 , -1.2485244 ,\n",
              "       -0.85683054, -2.190353  , -3.6976829 ,  0.9330872 ,  1.4955001 ,\n",
              "        0.6598499 , -0.29883325, -1.1392059 ,  0.15666343,  0.6748608 ,\n",
              "        2.2420623 ,  0.25742805], dtype=float32)"
            ]
          },
          "metadata": {
            "tags": []
          },
          "execution_count": 9
        }
      ]
    },
    {
      "cell_type": "code",
      "metadata": {
        "id": "ygcsuAFa4lCl",
        "colab": {
          "base_uri": "https://localhost:8080/"
        },
        "outputId": "8b1c57e5-25c6-4328-d497-5072ed3fef11"
      },
      "source": [
        "# ...or get similar words directly. Try it out!\n",
        "model.most_similar('bread')"
      ],
      "execution_count": 10,
      "outputs": [
        {
          "output_type": "execute_result",
          "data": {
            "text/plain": [
              "[('rice', 0.9587961435317993),\n",
              " ('sauce', 0.9377138614654541),\n",
              " ('beans', 0.9318963289260864),\n",
              " ('cheese', 0.9266254305839539),\n",
              " ('potato', 0.9254434108734131),\n",
              " ('butter', 0.924426794052124),\n",
              " ('pasta', 0.9220989346504211),\n",
              " ('fruit', 0.9129747152328491),\n",
              " ('garlic', 0.9112244844436646),\n",
              " ('honey', 0.9086507558822632)]"
            ]
          },
          "metadata": {
            "tags": []
          },
          "execution_count": 10
        }
      ]
    },
    {
      "cell_type": "markdown",
      "metadata": {
        "id": "_GRySW214lCm"
      },
      "source": [
        "## Using pre-trained model\n",
        "\n",
        "Took us a while, didn't it? Now imagine training life-sized (100~300D) word embeddings on gigabytes of text: wikipedia articles or twitter posts. \n",
        "\n",
        "Thankfully, nowadays you can get a pre-trained word embedding model in 2 lines of code (no sms required, promise)."
      ]
    },
    {
      "cell_type": "code",
      "metadata": {
        "id": "e2WNqNmY4lCm"
      },
      "source": [
        "import gensim.downloader as api\n",
        "\n",
        "model = api.load('glove-twitter-25')"
      ],
      "execution_count": 11,
      "outputs": []
    },
    {
      "cell_type": "code",
      "metadata": {
        "id": "aEX1zDuP4lCn",
        "colab": {
          "base_uri": "https://localhost:8080/"
        },
        "outputId": "5fd2de7a-c22f-4aec-81ff-dfa560661f3e"
      },
      "source": [
        "model.most_similar(positive=[\"coder\", \"money\"], negative=[\"brain\"])"
      ],
      "execution_count": 12,
      "outputs": [
        {
          "output_type": "execute_result",
          "data": {
            "text/plain": [
              "[('realtor', 0.8265186548233032),\n",
              " ('gfx', 0.8249695897102356),\n",
              " ('caterers', 0.798202395439148),\n",
              " ('beatmaker', 0.7936854362487793),\n",
              " ('recruiter', 0.7892400622367859),\n",
              " ('sfi', 0.784467339515686),\n",
              " ('sosh', 0.7840631604194641),\n",
              " ('promoter', 0.7838252186775208),\n",
              " ('smallbusiness', 0.7786215543746948),\n",
              " ('promoters', 0.7764680981636047)]"
            ]
          },
          "metadata": {
            "tags": []
          },
          "execution_count": 12
        }
      ]
    },
    {
      "cell_type": "markdown",
      "metadata": {
        "id": "Eados35L4lCo"
      },
      "source": [
        "## Visualizing word vectors\n",
        "\n",
        "One way to see if our vectors are any good is to plot them. Thing is, those vectors are in 30D+ space and we humans are more used to 2-3D.\n",
        "\n",
        "Luckily, we machine learners know about __dimensionality reduction__ methods.\n",
        "\n",
        "Let's use that to plot 1000 most frequent words"
      ]
    },
    {
      "cell_type": "code",
      "metadata": {
        "id": "tRam84tm4lCo",
        "colab": {
          "base_uri": "https://localhost:8080/"
        },
        "outputId": "ca0493a7-714a-4e1e-c6da-d43ed154c46b"
      },
      "source": [
        "words = sorted(model.vocab.keys(), \n",
        "               key=lambda word: model.vocab[word].count,\n",
        "               reverse=True)[:1000]\n",
        "\n",
        "print(words[::100])"
      ],
      "execution_count": 13,
      "outputs": [
        {
          "output_type": "stream",
          "text": [
            "['<user>', '_', 'please', 'apa', 'justin', 'text', 'hari', 'playing', 'once', 'sei']\n"
          ],
          "name": "stdout"
        }
      ]
    },
    {
      "cell_type": "code",
      "metadata": {
        "id": "dCaPBGqm4lCp"
      },
      "source": [
        "# For each word, compute it's vector with model:\n",
        "word_vectors = np.asarray([model.get_vector(word) for word in words])"
      ],
      "execution_count": 14,
      "outputs": []
    },
    {
      "cell_type": "code",
      "metadata": {
        "id": "Wpcmt-Xm4lCp"
      },
      "source": [
        "assert isinstance(word_vectors, np.ndarray)\n",
        "assert word_vectors.shape == (len(words), 25)\n",
        "assert np.isfinite(word_vectors).all()"
      ],
      "execution_count": 15,
      "outputs": []
    },
    {
      "cell_type": "code",
      "metadata": {
        "id": "dwxOIpDE4lCp",
        "colab": {
          "base_uri": "https://localhost:8080/"
        },
        "outputId": "6660955b-5d92-4af2-b303-ea5eaee208f3"
      },
      "source": [
        "word_vectors.shape"
      ],
      "execution_count": 16,
      "outputs": [
        {
          "output_type": "execute_result",
          "data": {
            "text/plain": [
              "(1000, 25)"
            ]
          },
          "metadata": {
            "tags": []
          },
          "execution_count": 16
        }
      ]
    },
    {
      "cell_type": "markdown",
      "metadata": {
        "id": "EWmihGB64lCq"
      },
      "source": [
        "### Linear projection: PCA\n",
        "\n",
        "The simplest linear dimensionality reduction method is __P__rincipial __C__omponent __A__nalysis.\n",
        "\n",
        "In geometric terms, PCA tries to find axes along which most of the variance occurs. The \"natural\" axes, if you wish.\n",
        "\n",
        "<img src=\"https://github.com/yandexdataschool/Practical_RL/raw/master/yet_another_week/_resource/pca_fish.png\" style=\"width:30%\">\n",
        "\n",
        "\n",
        "Under the hood, it attempts to decompose object-feature matrix $X$ into two smaller matrices: $W$ and $\\hat W$ minimizing _mean squared error_:\n",
        "\n",
        "$$\\|(X W) \\hat{W} - X\\|^2_2 \\to_{W, \\hat{W}} \\min$$\n",
        "- $X \\in \\mathbb{R}^{n \\times m}$ - object matrix (**centered**);\n",
        "- $W \\in \\mathbb{R}^{m \\times d}$ - matrix of direct transformation;\n",
        "- $\\hat{W} \\in \\mathbb{R}^{d \\times m}$ - matrix of reverse transformation;\n",
        "- $n$ samples, $m$ original dimensions and $d$ target dimensions."
      ]
    },
    {
      "cell_type": "code",
      "metadata": {
        "id": "sRsyleJD4lCr"
      },
      "source": [
        "from sklearn.decomposition import PCA\n",
        "from sklearn.preprocessing import StandardScaler\n",
        "\n",
        "pca = PCA(2)\n",
        "scaler = StandardScaler()\n",
        "# Map word vectors onto 2D plane with PCA.\n",
        "# Use good old sklearn api (fit, transform).\n",
        "# After that, normalize vectors to make sure they have\n",
        "# zero mean and unit variance.\n",
        "word_vectors_pca = scaler.fit_transform(\n",
        "    pca.fit_transform(word_vectors)\n",
        ")"
      ],
      "execution_count": 17,
      "outputs": []
    },
    {
      "cell_type": "code",
      "metadata": {
        "id": "034qc1-14lCs"
      },
      "source": [
        "assert word_vectors_pca.shape == (len(word_vectors), 2), \\\n",
        "    \"There must be a 2D vector for each word.\"\n",
        "assert max(abs(word_vectors_pca.mean(0))) < 1e-5, \\\n",
        "    \"Points must be zero-centered.\"\n",
        "assert max(abs(1.0 - word_vectors_pca.std(0))) < 1e-2, \\\n",
        "    \"Points must have unit variance.\""
      ],
      "execution_count": 18,
      "outputs": []
    },
    {
      "cell_type": "markdown",
      "metadata": {
        "id": "3AmC1nGq4lCs"
      },
      "source": [
        "### Let's draw it!"
      ]
    },
    {
      "cell_type": "code",
      "metadata": {
        "id": "9PkdFS284lCs"
      },
      "source": [
        "import bokeh.models as bm, bokeh.plotting as pl\n",
        "from bokeh.io import output_notebook\n",
        "\n",
        "output_notebook()\n",
        "\n",
        "def draw_vectors(x, y, radius=10, alpha=0.25, color='blue',\n",
        "                 width=600, height=400, show=True, **kwargs):\n",
        "    \"\"\"\n",
        "    Draws an interactive plot for data points with auxilirary info on hover.\n",
        "    \"\"\"\n",
        "    if isinstance(color, str):\n",
        "        color = [color] * len(x)\n",
        "\n",
        "    data_source = bm.ColumnDataSource({\n",
        "        'x' : x, 'y' : y, 'color': color, **kwargs\n",
        "    })\n",
        "\n",
        "    fig = pl.figure(active_scroll='wheel_zoom', width=width, height=height)\n",
        "    fig.scatter('x', 'y', size=radius, color='color', alpha=alpha,\n",
        "                source=data_source)\n",
        "\n",
        "    fig.add_tools(\n",
        "        bm.HoverTool(tooltips=[(key, \"@\" + key) for key in kwargs.keys()])\n",
        "    )\n",
        "\n",
        "    if show:\n",
        "        pl.show(fig)\n",
        "\n",
        "    return fig"
      ],
      "execution_count": 19,
      "outputs": []
    },
    {
      "cell_type": "code",
      "metadata": {
        "id": "iLWHCbbH4lCs",
        "colab": {
          "base_uri": "https://localhost:8080/",
          "height": 434
        },
        "outputId": "1a344e4a-0126-418a-b78a-b12cce177380"
      },
      "source": [
        "draw_vectors(word_vectors_pca[:, 0], word_vectors_pca[:, 1], token=words)\n",
        "\n",
        "# hover a mouse over there and see if you can identify the clusters"
      ],
      "execution_count": 20,
      "outputs": [
        {
          "output_type": "display_data",
          "data": {
            "application/javascript": [
              "\n",
              "(function(root) {\n",
              "  function now() {\n",
              "    return new Date();\n",
              "  }\n",
              "\n",
              "  var force = true;\n",
              "\n",
              "  if (typeof root._bokeh_onload_callbacks === \"undefined\" || force === true) {\n",
              "    root._bokeh_onload_callbacks = [];\n",
              "    root._bokeh_is_loading = undefined;\n",
              "  }\n",
              "\n",
              "  var JS_MIME_TYPE = 'application/javascript';\n",
              "  var HTML_MIME_TYPE = 'text/html';\n",
              "  var EXEC_MIME_TYPE = 'application/vnd.bokehjs_exec.v0+json';\n",
              "  var CLASS_NAME = 'output_bokeh rendered_html';\n",
              "\n",
              "  /**\n",
              "   * Render data to the DOM node\n",
              "   */\n",
              "  function render(props, node) {\n",
              "    var script = document.createElement(\"script\");\n",
              "    node.appendChild(script);\n",
              "  }\n",
              "\n",
              "  /**\n",
              "   * Handle when an output is cleared or removed\n",
              "   */\n",
              "  function handleClearOutput(event, handle) {\n",
              "    var cell = handle.cell;\n",
              "\n",
              "    var id = cell.output_area._bokeh_element_id;\n",
              "    var server_id = cell.output_area._bokeh_server_id;\n",
              "    // Clean up Bokeh references\n",
              "    if (id != null && id in Bokeh.index) {\n",
              "      Bokeh.index[id].model.document.clear();\n",
              "      delete Bokeh.index[id];\n",
              "    }\n",
              "\n",
              "    if (server_id !== undefined) {\n",
              "      // Clean up Bokeh references\n",
              "      var cmd = \"from bokeh.io.state import curstate; print(curstate().uuid_to_server['\" + server_id + \"'].get_sessions()[0].document.roots[0]._id)\";\n",
              "      cell.notebook.kernel.execute(cmd, {\n",
              "        iopub: {\n",
              "          output: function(msg) {\n",
              "            var id = msg.content.text.trim();\n",
              "            if (id in Bokeh.index) {\n",
              "              Bokeh.index[id].model.document.clear();\n",
              "              delete Bokeh.index[id];\n",
              "            }\n",
              "          }\n",
              "        }\n",
              "      });\n",
              "      // Destroy server and session\n",
              "      var cmd = \"import bokeh.io.notebook as ion; ion.destroy_server('\" + server_id + \"')\";\n",
              "      cell.notebook.kernel.execute(cmd);\n",
              "    }\n",
              "  }\n",
              "\n",
              "  /**\n",
              "   * Handle when a new output is added\n",
              "   */\n",
              "  function handleAddOutput(event, handle) {\n",
              "    var output_area = handle.output_area;\n",
              "    var output = handle.output;\n",
              "\n",
              "    // limit handleAddOutput to display_data with EXEC_MIME_TYPE content only\n",
              "    if ((output.output_type != \"display_data\") || (!output.data.hasOwnProperty(EXEC_MIME_TYPE))) {\n",
              "      return\n",
              "    }\n",
              "\n",
              "    var toinsert = output_area.element.find(\".\" + CLASS_NAME.split(' ')[0]);\n",
              "\n",
              "    if (output.metadata[EXEC_MIME_TYPE][\"id\"] !== undefined) {\n",
              "      toinsert[toinsert.length - 1].firstChild.textContent = output.data[JS_MIME_TYPE];\n",
              "      // store reference to embed id on output_area\n",
              "      output_area._bokeh_element_id = output.metadata[EXEC_MIME_TYPE][\"id\"];\n",
              "    }\n",
              "    if (output.metadata[EXEC_MIME_TYPE][\"server_id\"] !== undefined) {\n",
              "      var bk_div = document.createElement(\"div\");\n",
              "      bk_div.innerHTML = output.data[HTML_MIME_TYPE];\n",
              "      var script_attrs = bk_div.children[0].attributes;\n",
              "      for (var i = 0; i < script_attrs.length; i++) {\n",
              "        toinsert[toinsert.length - 1].firstChild.setAttribute(script_attrs[i].name, script_attrs[i].value);\n",
              "        toinsert[toinsert.length - 1].firstChild.textContent = bk_div.children[0].textContent\n",
              "      }\n",
              "      // store reference to server id on output_area\n",
              "      output_area._bokeh_server_id = output.metadata[EXEC_MIME_TYPE][\"server_id\"];\n",
              "    }\n",
              "  }\n",
              "\n",
              "  function register_renderer(events, OutputArea) {\n",
              "\n",
              "    function append_mime(data, metadata, element) {\n",
              "      // create a DOM node to render to\n",
              "      var toinsert = this.create_output_subarea(\n",
              "        metadata,\n",
              "        CLASS_NAME,\n",
              "        EXEC_MIME_TYPE\n",
              "      );\n",
              "      this.keyboard_manager.register_events(toinsert);\n",
              "      // Render to node\n",
              "      var props = {data: data, metadata: metadata[EXEC_MIME_TYPE]};\n",
              "      render(props, toinsert[toinsert.length - 1]);\n",
              "      element.append(toinsert);\n",
              "      return toinsert\n",
              "    }\n",
              "\n",
              "    /* Handle when an output is cleared or removed */\n",
              "    events.on('clear_output.CodeCell', handleClearOutput);\n",
              "    events.on('delete.Cell', handleClearOutput);\n",
              "\n",
              "    /* Handle when a new output is added */\n",
              "    events.on('output_added.OutputArea', handleAddOutput);\n",
              "\n",
              "    /**\n",
              "     * Register the mime type and append_mime function with output_area\n",
              "     */\n",
              "    OutputArea.prototype.register_mime_type(EXEC_MIME_TYPE, append_mime, {\n",
              "      /* Is output safe? */\n",
              "      safe: true,\n",
              "      /* Index of renderer in `output_area.display_order` */\n",
              "      index: 0\n",
              "    });\n",
              "  }\n",
              "\n",
              "  // register the mime type if in Jupyter Notebook environment and previously unregistered\n",
              "  if (root.Jupyter !== undefined) {\n",
              "    var events = require('base/js/events');\n",
              "    var OutputArea = require('notebook/js/outputarea').OutputArea;\n",
              "\n",
              "    if (OutputArea.prototype.mime_types().indexOf(EXEC_MIME_TYPE) == -1) {\n",
              "      register_renderer(events, OutputArea);\n",
              "    }\n",
              "  }\n",
              "\n",
              "  \n",
              "  if (typeof (root._bokeh_timeout) === \"undefined\" || force === true) {\n",
              "    root._bokeh_timeout = Date.now() + 5000;\n",
              "    root._bokeh_failed_load = false;\n",
              "  }\n",
              "\n",
              "  var NB_LOAD_WARNING = {'data': {'text/html':\n",
              "     \"<div style='background-color: #fdd'>\\n\"+\n",
              "     \"<p>\\n\"+\n",
              "     \"BokehJS does not appear to have successfully loaded. If loading BokehJS from CDN, this \\n\"+\n",
              "     \"may be due to a slow or bad network connection. Possible fixes:\\n\"+\n",
              "     \"</p>\\n\"+\n",
              "     \"<ul>\\n\"+\n",
              "     \"<li>re-rerun `output_notebook()` to attempt to load from CDN again, or</li>\\n\"+\n",
              "     \"<li>use INLINE resources instead, as so:</li>\\n\"+\n",
              "     \"</ul>\\n\"+\n",
              "     \"<code>\\n\"+\n",
              "     \"from bokeh.resources import INLINE\\n\"+\n",
              "     \"output_notebook(resources=INLINE)\\n\"+\n",
              "     \"</code>\\n\"+\n",
              "     \"</div>\"}};\n",
              "\n",
              "  function display_loaded() {\n",
              "    var el = document.getElementById(null);\n",
              "    if (el != null) {\n",
              "      el.textContent = \"BokehJS is loading...\";\n",
              "    }\n",
              "    if (root.Bokeh !== undefined) {\n",
              "      if (el != null) {\n",
              "        el.textContent = \"BokehJS \" + root.Bokeh.version + \" successfully loaded.\";\n",
              "      }\n",
              "    } else if (Date.now() < root._bokeh_timeout) {\n",
              "      setTimeout(display_loaded, 100)\n",
              "    }\n",
              "  }\n",
              "\n",
              "\n",
              "  function run_callbacks() {\n",
              "    try {\n",
              "      root._bokeh_onload_callbacks.forEach(function(callback) {\n",
              "        if (callback != null)\n",
              "          callback();\n",
              "      });\n",
              "    } finally {\n",
              "      delete root._bokeh_onload_callbacks\n",
              "    }\n",
              "    console.debug(\"Bokeh: all callbacks have finished\");\n",
              "  }\n",
              "\n",
              "  function load_libs(css_urls, js_urls, callback) {\n",
              "    if (css_urls == null) css_urls = [];\n",
              "    if (js_urls == null) js_urls = [];\n",
              "\n",
              "    root._bokeh_onload_callbacks.push(callback);\n",
              "    if (root._bokeh_is_loading > 0) {\n",
              "      console.debug(\"Bokeh: BokehJS is being loaded, scheduling callback at\", now());\n",
              "      return null;\n",
              "    }\n",
              "    if (js_urls == null || js_urls.length === 0) {\n",
              "      run_callbacks();\n",
              "      return null;\n",
              "    }\n",
              "    console.debug(\"Bokeh: BokehJS not loaded, scheduling load and callback at\", now());\n",
              "    root._bokeh_is_loading = css_urls.length + js_urls.length;\n",
              "\n",
              "    function on_load() {\n",
              "      root._bokeh_is_loading--;\n",
              "      if (root._bokeh_is_loading === 0) {\n",
              "        console.debug(\"Bokeh: all BokehJS libraries/stylesheets loaded\");\n",
              "        run_callbacks()\n",
              "      }\n",
              "    }\n",
              "\n",
              "    function on_error() {\n",
              "      console.error(\"failed to load \" + url);\n",
              "    }\n",
              "\n",
              "    for (var i = 0; i < css_urls.length; i++) {\n",
              "      var url = css_urls[i];\n",
              "      const element = document.createElement(\"link\");\n",
              "      element.onload = on_load;\n",
              "      element.onerror = on_error;\n",
              "      element.rel = \"stylesheet\";\n",
              "      element.type = \"text/css\";\n",
              "      element.href = url;\n",
              "      console.debug(\"Bokeh: injecting link tag for BokehJS stylesheet: \", url);\n",
              "      document.body.appendChild(element);\n",
              "    }\n",
              "\n",
              "    const hashes = {\"https://cdn.bokeh.org/bokeh/release/bokeh-2.1.1.min.js\": \"kLr4fYcqcSpbuI95brIH3vnnYCquzzSxHPU6XGQCIkQRGJwhg0StNbj1eegrHs12\", \"https://cdn.bokeh.org/bokeh/release/bokeh-widgets-2.1.1.min.js\": \"xIGPmVtaOm+z0BqfSOMn4lOR6ciex448GIKG4eE61LsAvmGj48XcMQZtKcE/UXZe\", \"https://cdn.bokeh.org/bokeh/release/bokeh-tables-2.1.1.min.js\": \"Dc9u1wF/0zApGIWoBbH77iWEHtdmkuYWG839Uzmv8y8yBLXebjO9ZnERsde5Ln/P\", \"https://cdn.bokeh.org/bokeh/release/bokeh-gl-2.1.1.min.js\": \"cT9JaBz7GiRXdENrJLZNSC6eMNF3nh3fa5fTF51Svp+ukxPdwcU5kGXGPBgDCa2j\"};\n",
              "\n",
              "    for (var i = 0; i < js_urls.length; i++) {\n",
              "      var url = js_urls[i];\n",
              "      var element = document.createElement('script');\n",
              "      element.onload = on_load;\n",
              "      element.onerror = on_error;\n",
              "      element.async = false;\n",
              "      element.src = url;\n",
              "      if (url in hashes) {\n",
              "        element.crossOrigin = \"anonymous\";\n",
              "        element.integrity = \"sha384-\" + hashes[url];\n",
              "      }\n",
              "      console.debug(\"Bokeh: injecting script tag for BokehJS library: \", url);\n",
              "      document.head.appendChild(element);\n",
              "    }\n",
              "  };\n",
              "\n",
              "  function inject_raw_css(css) {\n",
              "    const element = document.createElement(\"style\");\n",
              "    element.appendChild(document.createTextNode(css));\n",
              "    document.body.appendChild(element);\n",
              "  }\n",
              "\n",
              "  \n",
              "  var js_urls = [\"https://cdn.bokeh.org/bokeh/release/bokeh-2.1.1.min.js\", \"https://cdn.bokeh.org/bokeh/release/bokeh-widgets-2.1.1.min.js\", \"https://cdn.bokeh.org/bokeh/release/bokeh-tables-2.1.1.min.js\", \"https://cdn.bokeh.org/bokeh/release/bokeh-gl-2.1.1.min.js\"];\n",
              "  var css_urls = [];\n",
              "  \n",
              "\n",
              "  var inline_js = [\n",
              "    function(Bokeh) {\n",
              "      Bokeh.set_log_level(\"info\");\n",
              "    },\n",
              "    function(Bokeh) {\n",
              "    \n",
              "    \n",
              "    }\n",
              "  ];\n",
              "\n",
              "  function run_inline_js() {\n",
              "    \n",
              "    if (root.Bokeh !== undefined || force === true) {\n",
              "      \n",
              "    for (var i = 0; i < inline_js.length; i++) {\n",
              "      inline_js[i].call(root, root.Bokeh);\n",
              "    }\n",
              "    } else if (Date.now() < root._bokeh_timeout) {\n",
              "      setTimeout(run_inline_js, 100);\n",
              "    } else if (!root._bokeh_failed_load) {\n",
              "      console.log(\"Bokeh: BokehJS failed to load within specified timeout.\");\n",
              "      root._bokeh_failed_load = true;\n",
              "    } else if (force !== true) {\n",
              "      var cell = $(document.getElementById(null)).parents('.cell').data().cell;\n",
              "      cell.output_area.append_execute_result(NB_LOAD_WARNING)\n",
              "    }\n",
              "\n",
              "  }\n",
              "\n",
              "  if (root._bokeh_is_loading === 0) {\n",
              "    console.debug(\"Bokeh: BokehJS loaded, going straight to plotting\");\n",
              "    run_inline_js();\n",
              "  } else {\n",
              "    load_libs(css_urls, js_urls, function() {\n",
              "      console.debug(\"Bokeh: BokehJS plotting callback run at\", now());\n",
              "      run_inline_js();\n",
              "    });\n",
              "  }\n",
              "}(window));"
            ],
            "application/vnd.bokehjs_load.v0+json": "\n(function(root) {\n  function now() {\n    return new Date();\n  }\n\n  var force = true;\n\n  if (typeof root._bokeh_onload_callbacks === \"undefined\" || force === true) {\n    root._bokeh_onload_callbacks = [];\n    root._bokeh_is_loading = undefined;\n  }\n\n  \n\n  \n  if (typeof (root._bokeh_timeout) === \"undefined\" || force === true) {\n    root._bokeh_timeout = Date.now() + 5000;\n    root._bokeh_failed_load = false;\n  }\n\n  var NB_LOAD_WARNING = {'data': {'text/html':\n     \"<div style='background-color: #fdd'>\\n\"+\n     \"<p>\\n\"+\n     \"BokehJS does not appear to have successfully loaded. If loading BokehJS from CDN, this \\n\"+\n     \"may be due to a slow or bad network connection. Possible fixes:\\n\"+\n     \"</p>\\n\"+\n     \"<ul>\\n\"+\n     \"<li>re-rerun `output_notebook()` to attempt to load from CDN again, or</li>\\n\"+\n     \"<li>use INLINE resources instead, as so:</li>\\n\"+\n     \"</ul>\\n\"+\n     \"<code>\\n\"+\n     \"from bokeh.resources import INLINE\\n\"+\n     \"output_notebook(resources=INLINE)\\n\"+\n     \"</code>\\n\"+\n     \"</div>\"}};\n\n  function display_loaded() {\n    var el = document.getElementById(null);\n    if (el != null) {\n      el.textContent = \"BokehJS is loading...\";\n    }\n    if (root.Bokeh !== undefined) {\n      if (el != null) {\n        el.textContent = \"BokehJS \" + root.Bokeh.version + \" successfully loaded.\";\n      }\n    } else if (Date.now() < root._bokeh_timeout) {\n      setTimeout(display_loaded, 100)\n    }\n  }\n\n\n  function run_callbacks() {\n    try {\n      root._bokeh_onload_callbacks.forEach(function(callback) {\n        if (callback != null)\n          callback();\n      });\n    } finally {\n      delete root._bokeh_onload_callbacks\n    }\n    console.debug(\"Bokeh: all callbacks have finished\");\n  }\n\n  function load_libs(css_urls, js_urls, callback) {\n    if (css_urls == null) css_urls = [];\n    if (js_urls == null) js_urls = [];\n\n    root._bokeh_onload_callbacks.push(callback);\n    if (root._bokeh_is_loading > 0) {\n      console.debug(\"Bokeh: BokehJS is being loaded, scheduling callback at\", now());\n      return null;\n    }\n    if (js_urls == null || js_urls.length === 0) {\n      run_callbacks();\n      return null;\n    }\n    console.debug(\"Bokeh: BokehJS not loaded, scheduling load and callback at\", now());\n    root._bokeh_is_loading = css_urls.length + js_urls.length;\n\n    function on_load() {\n      root._bokeh_is_loading--;\n      if (root._bokeh_is_loading === 0) {\n        console.debug(\"Bokeh: all BokehJS libraries/stylesheets loaded\");\n        run_callbacks()\n      }\n    }\n\n    function on_error() {\n      console.error(\"failed to load \" + url);\n    }\n\n    for (var i = 0; i < css_urls.length; i++) {\n      var url = css_urls[i];\n      const element = document.createElement(\"link\");\n      element.onload = on_load;\n      element.onerror = on_error;\n      element.rel = \"stylesheet\";\n      element.type = \"text/css\";\n      element.href = url;\n      console.debug(\"Bokeh: injecting link tag for BokehJS stylesheet: \", url);\n      document.body.appendChild(element);\n    }\n\n    const hashes = {\"https://cdn.bokeh.org/bokeh/release/bokeh-2.1.1.min.js\": \"kLr4fYcqcSpbuI95brIH3vnnYCquzzSxHPU6XGQCIkQRGJwhg0StNbj1eegrHs12\", \"https://cdn.bokeh.org/bokeh/release/bokeh-widgets-2.1.1.min.js\": \"xIGPmVtaOm+z0BqfSOMn4lOR6ciex448GIKG4eE61LsAvmGj48XcMQZtKcE/UXZe\", \"https://cdn.bokeh.org/bokeh/release/bokeh-tables-2.1.1.min.js\": \"Dc9u1wF/0zApGIWoBbH77iWEHtdmkuYWG839Uzmv8y8yBLXebjO9ZnERsde5Ln/P\", \"https://cdn.bokeh.org/bokeh/release/bokeh-gl-2.1.1.min.js\": \"cT9JaBz7GiRXdENrJLZNSC6eMNF3nh3fa5fTF51Svp+ukxPdwcU5kGXGPBgDCa2j\"};\n\n    for (var i = 0; i < js_urls.length; i++) {\n      var url = js_urls[i];\n      var element = document.createElement('script');\n      element.onload = on_load;\n      element.onerror = on_error;\n      element.async = false;\n      element.src = url;\n      if (url in hashes) {\n        element.crossOrigin = \"anonymous\";\n        element.integrity = \"sha384-\" + hashes[url];\n      }\n      console.debug(\"Bokeh: injecting script tag for BokehJS library: \", url);\n      document.head.appendChild(element);\n    }\n  };\n\n  function inject_raw_css(css) {\n    const element = document.createElement(\"style\");\n    element.appendChild(document.createTextNode(css));\n    document.body.appendChild(element);\n  }\n\n  \n  var js_urls = [\"https://cdn.bokeh.org/bokeh/release/bokeh-2.1.1.min.js\", \"https://cdn.bokeh.org/bokeh/release/bokeh-widgets-2.1.1.min.js\", \"https://cdn.bokeh.org/bokeh/release/bokeh-tables-2.1.1.min.js\", \"https://cdn.bokeh.org/bokeh/release/bokeh-gl-2.1.1.min.js\"];\n  var css_urls = [];\n  \n\n  var inline_js = [\n    function(Bokeh) {\n      Bokeh.set_log_level(\"info\");\n    },\n    function(Bokeh) {\n    \n    \n    }\n  ];\n\n  function run_inline_js() {\n    \n    if (root.Bokeh !== undefined || force === true) {\n      \n    for (var i = 0; i < inline_js.length; i++) {\n      inline_js[i].call(root, root.Bokeh);\n    }\n    } else if (Date.now() < root._bokeh_timeout) {\n      setTimeout(run_inline_js, 100);\n    } else if (!root._bokeh_failed_load) {\n      console.log(\"Bokeh: BokehJS failed to load within specified timeout.\");\n      root._bokeh_failed_load = true;\n    } else if (force !== true) {\n      var cell = $(document.getElementById(null)).parents('.cell').data().cell;\n      cell.output_area.append_execute_result(NB_LOAD_WARNING)\n    }\n\n  }\n\n  if (root._bokeh_is_loading === 0) {\n    console.debug(\"Bokeh: BokehJS loaded, going straight to plotting\");\n    run_inline_js();\n  } else {\n    load_libs(css_urls, js_urls, function() {\n      console.debug(\"Bokeh: BokehJS plotting callback run at\", now());\n      run_inline_js();\n    });\n  }\n}(window));"
          },
          "metadata": {
            "tags": []
          }
        },
        {
          "output_type": "display_data",
          "data": {
            "text/html": [
              "\n",
              "\n",
              "\n",
              "\n",
              "\n",
              "\n",
              "  <div class=\"bk-root\" id=\"8d763271-6c41-4d2a-95db-172c1287d3ac\" data-root-id=\"1002\"></div>\n"
            ]
          },
          "metadata": {
            "tags": []
          }
        },
        {
          "output_type": "display_data",
          "data": {
            "application/javascript": [
              "(function(root) {\n",
              "  function embed_document(root) {\n",
              "    \n",
              "  var docs_json = {\"a62a5ef4-7481-46f9-8c61-fde306fd9b79\":{\"roots\":{\"references\":[{\"attributes\":{\"below\":[{\"id\":\"1011\"}],\"center\":[{\"id\":\"1014\"},{\"id\":\"1018\"}],\"left\":[{\"id\":\"1015\"}],\"plot_height\":400,\"renderers\":[{\"id\":\"1036\"}],\"title\":{\"id\":\"1041\"},\"toolbar\":{\"id\":\"1026\"},\"x_range\":{\"id\":\"1003\"},\"x_scale\":{\"id\":\"1007\"},\"y_range\":{\"id\":\"1005\"},\"y_scale\":{\"id\":\"1009\"}},\"id\":\"1002\",\"subtype\":\"Figure\",\"type\":\"Plot\"},{\"attributes\":{},\"id\":\"1023\",\"type\":\"ResetTool\"},{\"attributes\":{\"fill_alpha\":{\"value\":0.1},\"fill_color\":{\"field\":\"color\"},\"line_alpha\":{\"value\":0.1},\"line_color\":{\"field\":\"color\"},\"size\":{\"units\":\"screen\",\"value\":10},\"x\":{\"field\":\"x\"},\"y\":{\"field\":\"y\"}},\"id\":\"1035\",\"type\":\"Scatter\"},{\"attributes\":{\"overlay\":{\"id\":\"1025\"}},\"id\":\"1021\",\"type\":\"BoxZoomTool\"},{\"attributes\":{\"text\":\"\"},\"id\":\"1041\",\"type\":\"Title\"},{\"attributes\":{\"formatter\":{\"id\":\"1042\"},\"ticker\":{\"id\":\"1016\"}},\"id\":\"1015\",\"type\":\"LinearAxis\"},{\"attributes\":{\"formatter\":{\"id\":\"1044\"},\"ticker\":{\"id\":\"1012\"}},\"id\":\"1011\",\"type\":\"LinearAxis\"},{\"attributes\":{},\"id\":\"1042\",\"type\":\"BasicTickFormatter\"},{\"attributes\":{\"callback\":null,\"tooltips\":[[\"token\",\"@token\"]]},\"id\":\"1038\",\"type\":\"HoverTool\"},{\"attributes\":{},\"id\":\"1044\",\"type\":\"BasicTickFormatter\"},{\"attributes\":{\"bottom_units\":\"screen\",\"fill_alpha\":0.5,\"fill_color\":\"lightgrey\",\"left_units\":\"screen\",\"level\":\"overlay\",\"line_alpha\":1.0,\"line_color\":\"black\",\"line_dash\":[4,4],\"line_width\":2,\"right_units\":\"screen\",\"top_units\":\"screen\"},\"id\":\"1025\",\"type\":\"BoxAnnotation\"},{\"attributes\":{\"data_source\":{\"id\":\"1001\"},\"glyph\":{\"id\":\"1034\"},\"hover_glyph\":null,\"muted_glyph\":null,\"nonselection_glyph\":{\"id\":\"1035\"},\"selection_glyph\":null,\"view\":{\"id\":\"1037\"}},\"id\":\"1036\",\"type\":\"GlyphRenderer\"},{\"attributes\":{\"data\":{\"color\":[\"blue\",\"blue\",\"blue\",\"blue\",\"blue\",\"blue\",\"blue\",\"blue\",\"blue\",\"blue\",\"blue\",\"blue\",\"blue\",\"blue\",\"blue\",\"blue\",\"blue\",\"blue\",\"blue\",\"blue\",\"blue\",\"blue\",\"blue\",\"blue\",\"blue\",\"blue\",\"blue\",\"blue\",\"blue\",\"blue\",\"blue\",\"blue\",\"blue\",\"blue\",\"blue\",\"blue\",\"blue\",\"blue\",\"blue\",\"blue\",\"blue\",\"blue\",\"blue\",\"blue\",\"blue\",\"blue\",\"blue\",\"blue\",\"blue\",\"blue\",\"blue\",\"blue\",\"blue\",\"blue\",\"blue\",\"blue\",\"blue\",\"blue\",\"blue\",\"blue\",\"blue\",\"blue\",\"blue\",\"blue\",\"blue\",\"blue\",\"blue\",\"blue\",\"blue\",\"blue\",\"blue\",\"blue\",\"blue\",\"blue\",\"blue\",\"blue\",\"blue\",\"blue\",\"blue\",\"blue\",\"blue\",\"blue\",\"blue\",\"blue\",\"blue\",\"blue\",\"blue\",\"blue\",\"blue\",\"blue\",\"blue\",\"blue\",\"blue\",\"blue\",\"blue\",\"blue\",\"blue\",\"blue\",\"blue\",\"blue\",\"blue\",\"blue\",\"blue\",\"blue\",\"blue\",\"blue\",\"blue\",\"blue\",\"blue\",\"blue\",\"blue\",\"blue\",\"blue\",\"blue\",\"blue\",\"blue\",\"blue\",\"blue\",\"blue\",\"blue\",\"blue\",\"blue\",\"blue\",\"blue\",\"blue\",\"blue\",\"blue\",\"blue\",\"blue\",\"blue\",\"blue\",\"blue\",\"blue\",\"blue\",\"blue\",\"blue\",\"blue\",\"blue\",\"blue\",\"blue\",\"blue\",\"blue\",\"blue\",\"blue\",\"blue\",\"blue\",\"blue\",\"blue\",\"blue\",\"blue\",\"blue\",\"blue\",\"blue\",\"blue\",\"blue\",\"blue\",\"blue\",\"blue\",\"blue\",\"blue\",\"blue\",\"blue\",\"blue\",\"blue\",\"blue\",\"blue\",\"blue\",\"blue\",\"blue\",\"blue\",\"blue\",\"blue\",\"blue\",\"blue\",\"blue\",\"blue\",\"blue\",\"blue\",\"blue\",\"blue\",\"blue\",\"blue\",\"blue\",\"blue\",\"blue\",\"blue\",\"blue\",\"blue\",\"blue\",\"blue\",\"blue\",\"blue\",\"blue\",\"blue\",\"blue\",\"blue\",\"blue\",\"blue\",\"blue\",\"blue\",\"blue\",\"blue\",\"blue\",\"blue\",\"blue\",\"blue\",\"blue\",\"blue\",\"blue\",\"blue\",\"blue\",\"blue\",\"blue\",\"blue\",\"blue\",\"blue\",\"blue\",\"blue\",\"blue\",\"blue\",\"blue\",\"blue\",\"blue\",\"blue\",\"blue\",\"blue\",\"blue\",\"blue\",\"blue\",\"blue\",\"blue\",\"blue\",\"blue\",\"blue\",\"blue\",\"blue\",\"blue\",\"blue\",\"blue\",\"blue\",\"blue\",\"blue\",\"blue\",\"blue\",\"blue\",\"blue\",\"blue\",\"blue\",\"blue\",\"blue\",\"blue\",\"blue\",\"blue\",\"blue\",\"blue\",\"blue\",\"blue\",\"blue\",\"blue\",\"blue\",\"blue\",\"blue\",\"blue\",\"blue\",\"blue\",\"blue\",\"blue\",\"blue\",\"blue\",\"blue\",\"blue\",\"blue\",\"blue\",\"blue\",\"blue\",\"blue\",\"blue\",\"blue\",\"blue\",\"blue\",\"blue\",\"blue\",\"blue\",\"blue\",\"blue\",\"blue\",\"blue\",\"blue\",\"blue\",\"blue\",\"blue\",\"blue\",\"blue\",\"blue\",\"blue\",\"blue\",\"blue\",\"blue\",\"blue\",\"blue\",\"blue\",\"blue\",\"blue\",\"blue\",\"blue\",\"blue\",\"blue\",\"blue\",\"blue\",\"blue\",\"blue\",\"blue\",\"blue\",\"blue\",\"blue\",\"blue\",\"blue\",\"blue\",\"blue\",\"blue\",\"blue\",\"blue\",\"blue\",\"blue\",\"blue\",\"blue\",\"blue\",\"blue\",\"blue\",\"blue\",\"blue\",\"blue\",\"blue\",\"blue\",\"blue\",\"blue\",\"blue\",\"blue\",\"blue\",\"blue\",\"blue\",\"blue\",\"blue\",\"blue\",\"blue\",\"blue\",\"blue\",\"blue\",\"blue\",\"blue\",\"blue\",\"blue\",\"blue\",\"blue\",\"blue\",\"blue\",\"blue\",\"blue\",\"blue\",\"blue\",\"blue\",\"blue\",\"blue\",\"blue\",\"blue\",\"blue\",\"blue\",\"blue\",\"blue\",\"blue\",\"blue\",\"blue\",\"blue\",\"blue\",\"blue\",\"blue\",\"blue\",\"blue\",\"blue\",\"blue\",\"blue\",\"blue\",\"blue\",\"blue\",\"blue\",\"blue\",\"blue\",\"blue\",\"blue\",\"blue\",\"blue\",\"blue\",\"blue\",\"blue\",\"blue\",\"blue\",\"blue\",\"blue\",\"blue\",\"blue\",\"blue\",\"blue\",\"blue\",\"blue\",\"blue\",\"blue\",\"blue\",\"blue\",\"blue\",\"blue\",\"blue\",\"blue\",\"blue\",\"blue\",\"blue\",\"blue\",\"blue\",\"blue\",\"blue\",\"blue\",\"blue\",\"blue\",\"blue\",\"blue\",\"blue\",\"blue\",\"blue\",\"blue\",\"blue\",\"blue\",\"blue\",\"blue\",\"blue\",\"blue\",\"blue\",\"blue\",\"blue\",\"blue\",\"blue\",\"blue\",\"blue\",\"blue\",\"blue\",\"blue\",\"blue\",\"blue\",\"blue\",\"blue\",\"blue\",\"blue\",\"blue\",\"blue\",\"blue\",\"blue\",\"blue\",\"blue\",\"blue\",\"blue\",\"blue\",\"blue\",\"blue\",\"blue\",\"blue\",\"blue\",\"blue\",\"blue\",\"blue\",\"blue\",\"blue\",\"blue\",\"blue\",\"blue\",\"blue\",\"blue\",\"blue\",\"blue\",\"blue\",\"blue\",\"blue\",\"blue\",\"blue\",\"blue\",\"blue\",\"blue\",\"blue\",\"blue\",\"blue\",\"blue\",\"blue\",\"blue\",\"blue\",\"blue\",\"blue\",\"blue\",\"blue\",\"blue\",\"blue\",\"blue\",\"blue\",\"blue\",\"blue\",\"blue\",\"blue\",\"blue\",\"blue\",\"blue\",\"blue\",\"blue\",\"blue\",\"blue\",\"blue\",\"blue\",\"blue\",\"blue\",\"blue\",\"blue\",\"blue\",\"blue\",\"blue\",\"blue\",\"blue\",\"blue\",\"blue\",\"blue\",\"blue\",\"blue\",\"blue\",\"blue\",\"blue\",\"blue\",\"blue\",\"blue\",\"blue\",\"blue\",\"blue\",\"blue\",\"blue\",\"blue\",\"blue\",\"blue\",\"blue\",\"blue\",\"blue\",\"blue\",\"blue\",\"blue\",\"blue\",\"blue\",\"blue\",\"blue\",\"blue\",\"blue\",\"blue\",\"blue\",\"blue\",\"blue\",\"blue\",\"blue\",\"blue\",\"blue\",\"blue\",\"blue\",\"blue\",\"blue\",\"blue\",\"blue\",\"blue\",\"blue\",\"blue\",\"blue\",\"blue\",\"blue\",\"blue\",\"blue\",\"blue\",\"blue\",\"blue\",\"blue\",\"blue\",\"blue\",\"blue\",\"blue\",\"blue\",\"blue\",\"blue\",\"blue\",\"blue\",\"blue\",\"blue\",\"blue\",\"blue\",\"blue\",\"blue\",\"blue\",\"blue\",\"blue\",\"blue\",\"blue\",\"blue\",\"blue\",\"blue\",\"blue\",\"blue\",\"blue\",\"blue\",\"blue\",\"blue\",\"blue\",\"blue\",\"blue\",\"blue\",\"blue\",\"blue\",\"blue\",\"blue\",\"blue\",\"blue\",\"blue\",\"blue\",\"blue\",\"blue\",\"blue\",\"blue\",\"blue\",\"blue\",\"blue\",\"blue\",\"blue\",\"blue\",\"blue\",\"blue\",\"blue\",\"blue\",\"blue\",\"blue\",\"blue\",\"blue\",\"blue\",\"blue\",\"blue\",\"blue\",\"blue\",\"blue\",\"blue\",\"blue\",\"blue\",\"blue\",\"blue\",\"blue\",\"blue\",\"blue\",\"blue\",\"blue\",\"blue\",\"blue\",\"blue\",\"blue\",\"blue\",\"blue\",\"blue\",\"blue\",\"blue\",\"blue\",\"blue\",\"blue\",\"blue\",\"blue\",\"blue\",\"blue\",\"blue\",\"blue\",\"blue\",\"blue\",\"blue\",\"blue\",\"blue\",\"blue\",\"blue\",\"blue\",\"blue\",\"blue\",\"blue\",\"blue\",\"blue\",\"blue\",\"blue\",\"blue\",\"blue\",\"blue\",\"blue\",\"blue\",\"blue\",\"blue\",\"blue\",\"blue\",\"blue\",\"blue\",\"blue\",\"blue\",\"blue\",\"blue\",\"blue\",\"blue\",\"blue\",\"blue\",\"blue\",\"blue\",\"blue\",\"blue\",\"blue\",\"blue\",\"blue\",\"blue\",\"blue\",\"blue\",\"blue\",\"blue\",\"blue\",\"blue\",\"blue\",\"blue\",\"blue\",\"blue\",\"blue\",\"blue\",\"blue\",\"blue\",\"blue\",\"blue\",\"blue\",\"blue\",\"blue\",\"blue\",\"blue\",\"blue\",\"blue\",\"blue\",\"blue\",\"blue\",\"blue\",\"blue\",\"blue\",\"blue\",\"blue\",\"blue\",\"blue\",\"blue\",\"blue\",\"blue\",\"blue\",\"blue\",\"blue\",\"blue\",\"blue\",\"blue\",\"blue\",\"blue\",\"blue\",\"blue\",\"blue\",\"blue\",\"blue\",\"blue\",\"blue\",\"blue\",\"blue\",\"blue\",\"blue\",\"blue\",\"blue\",\"blue\",\"blue\",\"blue\",\"blue\",\"blue\",\"blue\",\"blue\",\"blue\",\"blue\",\"blue\",\"blue\",\"blue\",\"blue\",\"blue\",\"blue\",\"blue\",\"blue\",\"blue\",\"blue\",\"blue\",\"blue\",\"blue\",\"blue\",\"blue\",\"blue\",\"blue\",\"blue\",\"blue\",\"blue\",\"blue\",\"blue\",\"blue\",\"blue\",\"blue\",\"blue\",\"blue\",\"blue\",\"blue\",\"blue\",\"blue\",\"blue\",\"blue\",\"blue\",\"blue\",\"blue\",\"blue\",\"blue\",\"blue\",\"blue\",\"blue\",\"blue\",\"blue\",\"blue\",\"blue\",\"blue\",\"blue\",\"blue\",\"blue\",\"blue\",\"blue\",\"blue\",\"blue\",\"blue\",\"blue\",\"blue\",\"blue\",\"blue\",\"blue\",\"blue\",\"blue\",\"blue\",\"blue\",\"blue\",\"blue\",\"blue\",\"blue\",\"blue\",\"blue\",\"blue\",\"blue\",\"blue\",\"blue\",\"blue\",\"blue\",\"blue\",\"blue\",\"blue\",\"blue\",\"blue\",\"blue\",\"blue\",\"blue\",\"blue\",\"blue\",\"blue\",\"blue\",\"blue\",\"blue\",\"blue\",\"blue\",\"blue\",\"blue\",\"blue\",\"blue\",\"blue\",\"blue\",\"blue\",\"blue\",\"blue\",\"blue\",\"blue\",\"blue\",\"blue\",\"blue\",\"blue\",\"blue\",\"blue\",\"blue\",\"blue\",\"blue\",\"blue\",\"blue\",\"blue\",\"blue\",\"blue\",\"blue\",\"blue\",\"blue\",\"blue\",\"blue\",\"blue\",\"blue\",\"blue\",\"blue\",\"blue\",\"blue\",\"blue\",\"blue\",\"blue\",\"blue\",\"blue\",\"blue\",\"blue\",\"blue\",\"blue\",\"blue\",\"blue\",\"blue\",\"blue\",\"blue\",\"blue\",\"blue\",\"blue\",\"blue\",\"blue\",\"blue\",\"blue\",\"blue\",\"blue\",\"blue\",\"blue\",\"blue\",\"blue\",\"blue\",\"blue\",\"blue\",\"blue\",\"blue\",\"blue\",\"blue\",\"blue\",\"blue\",\"blue\",\"blue\",\"blue\",\"blue\",\"blue\",\"blue\",\"blue\",\"blue\",\"blue\",\"blue\",\"blue\",\"blue\",\"blue\",\"blue\",\"blue\",\"blue\",\"blue\",\"blue\",\"blue\",\"blue\",\"blue\",\"blue\",\"blue\",\"blue\",\"blue\",\"blue\",\"blue\",\"blue\",\"blue\",\"blue\",\"blue\",\"blue\",\"blue\",\"blue\",\"blue\",\"blue\",\"blue\",\"blue\",\"blue\",\"blue\",\"blue\",\"blue\",\"blue\",\"blue\",\"blue\",\"blue\",\"blue\",\"blue\",\"blue\",\"blue\",\"blue\",\"blue\",\"blue\",\"blue\",\"blue\",\"blue\",\"blue\",\"blue\"],\"token\":[\"<user>\",\".\",\":\",\"rt\",\",\",\"<repeat>\",\"<hashtag>\",\"<number>\",\"<url>\",\"!\",\"i\",\"a\",\"\\\"\",\"the\",\"?\",\"you\",\"to\",\"(\",\"<allcaps>\",\"<elong>\",\")\",\"me\",\"de\",\"<smile>\",\"\\uff01\",\"que\",\"and\",\"\\u3002\",\"-\",\"my\",\"no\",\"\\u3001\",\"is\",\"it\",\"\\u2026\",\"in\",\"n\",\"for\",\"/\",\"of\",\"la\",\"'s\",\"*\",\"do\",\"n't\",\"that\",\"on\",\"y\",\"'\",\"e\",\"o\",\"u\",\"en\",\"this\",\"el\",\"so\",\"be\",\"'m\",\"with\",\"just\",\">\",\"your\",\"^\",\"like\",\"have\",\"te\",\"at\",\"\\uff1f\",\"love\",\"se\",\"are\",\"<\",\"m\",\"r\",\"if\",\"all\",\"b\",\"\\u30fb\",\"not\",\"but\",\"we\",\"es\",\"ya\",\"&\",\"follow\",\"up\",\"what\",\"get\",\"lol\",\"un\",\"\\u2665\",\"lo\",\"when\",\"was\",\"\\u201c\",\"\\u201d\",\"one\",\"por\",\"si\",\"out\",\"_\",\"mi\",\"can\",\"<sadface>\",\"\\u0645\\u0646\",\"\\u2661\",\"\\u00b4\",\"he\",\"con\",\"they\",\"now\",\"go\",\"\\u060c\",\"para\",\"los\",\"know\",\"haha\",\"good\",\"tu\",\"back\",\"~\",\"about\",\"new\",\";\",\"as\",\"day\",\"how\",\"who\",\"will\",\"want\",\"people\",\"yo\",\"eu\",\"from\",\"di\",\"time\",\"<heart>\",\"s\",\"aku\",\"da\",\"'re\",\"<lolface>\",\"una\",\"got\",\"las\",\"more\",\"x\",\"she\",\"today\",\"\\uff08\",\">>\",\"k\",\"by\",\"or\",\"\\u0641\\u064a\",\"\\uff65\",\"too\",\"le\",\"\\u00e9\",\"|\",\"[\",\"\\uff09\",\"]\",\"see\",\"why\",\"yg\",\"ca\",\"como\",\"her\",\"\\u2014\",\"q\",\"need\",\"an\",\"na\",\"\\u7b11\",\"there\",\"\\u03c9\",\"happy\",\"im\",\"mas\",\"je\",\"life\",\"really\",\"make\",\"yang\",\"shit\",\"think\",\"t\",\"\\u2764\",\"n\\u00e3o\",\"never\",\"some\",\"\\uff5e\",\"oh\",\"\\u2605\",\"did\",\"would\",\"del\",\"`\",\"d\",\"please\",\"via\",\"much\",\"fuck\",\"al\",\"dia\",\"$\",\"\\u0648\",\"right\",\"best\",\"c\",\"going\",\"\\u0627\\u0644\\u0644\\u0647\",\"pero\",\"only\",\"has\",\"\\u266a\",\"'ll\",\"twitter\",\"=\",\"hahaha\",\"its\",\"nn\",\"\\uff40\",\"\\u00bf\",\"am\",\"say\",\"<neutralface>\",\"them\",\"here\",\"\\u0644\\u0627\",\"off\",\"still\",\"dan\",\"+\",\"night\",\"w\",\"ada\",\"someone\",\"even\",\"then\",\"\\u2606\",\"ni\",\"come\",\"com\",\"always\",\"man\",\"'ve\",\"been\",\"his\",\"itu\",\"\\u0639\\u0644\\u0649\",\"-_-\",\"\\u263a\",\"over\",\"um\",\"\\u0645\\u0627\",\"hate\",\"girl\",\"ai\",\"had\",\"pra\",\"todo\",\"mais\",\"feel\",\"let\",\"ini\",\"because\",\"\\uff9f\",\"thanks\",\"ah\",\"way\",\"ever\",\"look\",\"tweet\",\"followers\",\"should\",\"our\",\"xd\",\"aja\",\"esta\",\"school\",\"him\",\"ser\",\"take\",\"than\",\"video\",\"em\",\"last\",\"wanna\",\"does\",\"us\",\"miss\",\"l\",\"ga\",\"better\",\"well\",\"could\",\"\\u25bd\",\"%\",\"apa\",\"cuando\",\"team\",\"\\u2714\",\"@\",\"ok\",\"\\u061f\",\"\\u2022\",\"vida\",\"quiero\",\"les\",\"being\",\"real\",\"down\",\"kamu\",\"everyone\",\"gonna\",\"live\",\"tonight\",\"yes\",\"work\",\"ass\",\"retweet\",\"nada\",\"sama\",\"first\",\"<<\",\"photo\",\"tomorrow\",\"where\",\"god\",\"son\",\"ke\",\"ta\",\"f\",\"home\",\"lagi\",\"thank\",\"birthday\",\"\\u2588\",\"ha\",\"great\",\"lmao\",\"omg\",\"morning\",\"m\\u00e1s\",\"mau\",\"baby\",\"dont\",\"\\uff61\",\"their\",\"p\",\"things\",\"game\",\"pas\",\"bad\",\"year\",\"yeah\",\"su\",\"bitch\",\"\\u0432\",\"stop\",\"hoy\",\"something\",\"meu\",\"tak\",\"gak\",\"world\",\"amor\",\"h\",\"\\\\\",\"ver\",\"\\uff1b\",\"porque\",\"give\",\"these\",\"\\u0627\\u0644\\u0644\\u0647\\u0645\",\"were\",\"hay\",\"sleep\",\"gue\",\"every\",\"friends\",\"uma\",\"tell\",\"amo\",\"vou\",\"bien\",\"\\u00a1\",\"again\",\"\\uff3e\",\"\\uff0f\",\"done\",\"after\",\"todos\",\"girls\",\"guys\",\"getting\",\"big\",\"wait\",\"justin\",\"eh\",\"\\u2192\",\"kan\",\"kita\",\"jajaja\",\"wish\",\"said\",\"fucking\",\"show\",\"thing\",\"next\",\"voc\\u00ea\",\"nos\",\"little\",\"tengo\",\"keep\",\"person\",\"''\",\"\\u2200\",\"hope\",\"\\u0643\\u0644\",\"hey\",\"bisa\",\"free\",\"made\",\"foto\",\"va\",\"everything\",\"iya\",\"nigga\",\"eso\",\"et\",\"watch\",\"music\",\"week\",\"talk\",\"ne\",\"solo\",\"gente\",\"udah\",\"\\uff1a\",\"--\",\"\\uff3c\",\"mejor\",\"facebook\",\"ma\",\"v\",\"phone\",\"most\",\"same\",\"okay\",\"ik\",\"before\",\"minha\",\"days\",\"g\",\"ti\",\"damn\",\"nice\",\"voy\",\"vai\",\"call\",\"long\",\"tapi\",\"http\",\"sin\",\"nunca\",\"doing\",\"other\",\"find\",\"il\",\"sa\",\"sorry\",\"nya\",\"orang\",\"\\u00b0\",\"hard\",\"mean\",\"die\",\"\\u0627\\u0644\\u0644\\u064a\",\"tem\",\"soy\",\"este\",\"kalo\",\"s\\u00f3\",\"th\",\"win\",\"nothing\",\"into\",\"face\",\"cute\",\"'d\",\"gracias\",\"lah\",\"\\u0438\",\"any\",\"play\",\"\\u2190\",\"ko\",\"text\",\"\\u2323\",\"estoy\",\"tau\",\"ur\",\"buat\",\"#\",\"cause\",\"\\u044f\",\"put\",\"kau\",\"siempre\",\"juga\",\"casa\",\"\\u0623\\u0646\",\"help\",\"start\",\"feliz\",\"old\",\"ir\",\"very\",\"care\",\"bir\",\"makes\",\"song\",\"check\",\"watching\",\"ahora\",\"jadi\",\"os\",\"may\",\"friend\",\"beautiful\",\"heart\",\"ka\",\"vc\",\"mundo\",\"\\u043d\\u0430\",\"sure\",\"tan\",\"pretty\",\"aqui\",\"\\u043d\\u0435\",\"house\",\"\\u0631\\u062a\\u0648\\u064a\\u062a\",\"\\u064a\\u0627\",\"ja\",\"true\",\"muy\",\"away\",\"already\",\"actually\",\"believe\",\"try\",\"many\",\"ma\\u00f1ana\",\"mis\",\"lu\",\"those\",\"hot\",\"qu\\u00e9\",\"mal\",\"\\u0639\\u0646\",\"though\",\"ask\",\"amazing\",\"bed\",\"}\",\"two\",\"mom\",\"d\\u00eda\",\"ve\",\"dari\",\"gameinsight\",\"stay\",\"fun\",\"around\",\"van\",\"cont\",\"ready\",\"money\",\"bu\",\"funny\",\"cool\",\"hair\",\"\\u00e0\",\"tho\",\"{\",\"wo\",\"hi\",\"name\",\"tiene\",\"hahahaha\",\"pa\",\"algo\",\"gotta\",\"\\u0648\\u0644\\u0627\",\"boy\",\"another\",\"c'est\",\"hari\",\"jajajaja\",\"having\",\"cara\",\"jaja\",\"dm\",\"looking\",\"top\",\"android\",\"dah\",\"wow\",\"\\u2591\",\"eres\",\"ben\",\"must\",\"news\",\"met\",\"est\\u00e1\",\"nih\",\"family\",\"black\",\"thought\",\"nak\",\"super\",\"end\",\"hace\",\"remember\",\"ama\",\"party\",\"cant\",\"vamos\",\"anything\",\"anyone\",\"\\u0641\\u0648\\u0644\\u0648\",\"perfect\",\"guy\",\"vez\",\"christmas\",\"dos\",\"bueno\",\"nao\",\"years\",\"vote\",\"dormir\",\"bro\",\"else\",\"quien\",\"untuk\",\"jangan\",\"myself\",\"head\",\"mind\",\"gua\",\"talking\",\"while\",\"dat\",\"food\",\"\\u0434\",\"coming\",\"wkwk\",\"trying\",\"saya\",\"mucho\",\"without\",\"wrong\",\"\\u2019s\",\"baru\",\"__\",\"hehe\",\"hacer\",\"lot\",\"followed\",\"crazy\",\"hell\",\"feeling\",\"des\",\"kok\",\"j\",\"stats\",\"j'\",\"\\u0627\\u0646\",\"tweets\",\"non\",\"cosas\",\"era\",\"high\",\"niggas\",\"change\",\"movie\",\"xx\",\"mad\",\"sih\",\"sometimes\",\"deh\",\"allah\",\"through\",\"pour\",\"ela\",\"soon\",\"gone\",\"playing\",\"smile\",\"bukan\",\"tv\",\"fans\",\"hasta\",\"akan\",\"y'\",\"looks\",\"isso\",\"\\u270c\",\"tired\",\"boys\",\"might\",\"dong\",\"lg\",\"use\",\"maybe\",\"until\",\"menos\",\"own\",\"dengan\",\"eat\",\"ou\",\"weekend\",\"\\u02d8\",\"class\",\"ele\",\"harry\",\"iphone\",\"friday\",\"single\",\"ff\",\"awesome\",\"bout\",\"muito\",\"hoje\",\"\\u00ac\",\"dios\",\"such\",\"estar\",\"j\\u00e1\",\"quando\",\"esa\",\"making\",\"\\u2501\",\"times\",\"lmfao\",\"gw\",\"moment\",\"yet\",\"aw\",\"smh\",\"banget\",\"masih\",\"qui\",\"quem\",\"\\u2013\",\"leave\",\"du\",\"une\",\"guess\",\"hit\",\"\\u0441\",\"pm\",\"since\",\"pues\",\"est\",\"job\",\"\\uff89\",\"mana\",\"bom\",\"siapa\",\"suka\",\"bieber\",\"mention\",\"lebih\",\"favorite\",\"bitches\",\"forever\",\"\\u0644\\u064a\",\"final\",\"read\",\"alguien\",\"open\",\"yourself\",\"ese\",\"che\",\"sex\",\"yaa\",\"car\",\"direction\",\"tidak\",\"seu\",\"gets\",\"left\",\"re\",\"jam\",\"enough\",\"\\u0625\\u0644\\u0627\",\"once\",\"\\u2019\",\"part\",\"cada\",\"\\u5b9a\\u671f\",\"\\u0644\\u0643\",\"een\",\"seen\",\"kak\",\"as\\u00ed\",\"nem\",\"\\u0639\\u0645\\u0644\",\"white\",\"told\",\"says\",\"esto\",\"sad\",\"mo\",\"fue\",\"yah\",\"summer\",\"\\u0647\",\"\\u2b55\",\"\\u00bb\",\"thats\",\"\\u0645\\u0639\",\"posted\",\"wants\",\"agora\",\"together\",\"fan\",\"men\",\"hear\",\"full\",\"\\u2600\",\"sigo\",\"pq\",\"dulu\",\"plus\",\"foi\",\"tudo\",\"\\u0647\\u0648\",\"ill\",\"\\u3042\",\"thinking\",\"wtf\",\"pagi\",\"mama\",\"kalau\",\"hati\",\"sexy\",\"sayang\",\"baik\",\"semua\",\"hola\",\"went\",\"vos\",\"tanto\",\"finally\",\"fb\",\"sea\",\"stupid\",\"tus\",\"seriously\",\"hora\",\"min\",\"pic\",\"estas\",\"turn\",\"hours\",\"excited\",\"nah\",\"buy\",\"saying\",\"mah\",\"break\",\"needs\",\"ce\",\"room\",\"choice\",\"far\",\"dead\",\"quero\",\"saw\",\"kids\",\"lil\",\"whole\",\"puede\",\"fall\",\"sus\",\"lost\",\"asi\",\"word\",\"\\u2639\",\"also\",\"\\u0631\\u064a\\u062a\\u0648\\u064a\\u062a\",\"probably\",\"everybody\",\"tarde\",\"run\",\"sei\",\"follback\",\"forget\",\"sweet\",\"welcome\",\"selamat\",\"\\uff3f\",\"sur\",\"place\",\"gusta\",\"sabe\",\"androidgames\",\"tp\",\"tiempo\",\"\\u0628\\u0633\",\"sou\",\"tuh\",\"vs\",\"eyes\",\"\\u0627\\u0646\\u0627\",\"picture\",\"das\",\"meet\",\"anak\",\"persona\",\"essa\",\"bored\",\"following\",\"nadie\",\"nobody\",\"dice\",\"alone\",\"sick\",\"red\",\"city\",\"cinta\",\"\\u6708\",\"linda\",\"dream\",\"story\",\"km\",\"het\",\"waiting\",\"^_^\",\"mine\",\"\\u0447\\u0442\\u043e\",\"reason\",\"kk\",\"\\u0644\\u0648\",\"online\",\"fast\",\"udh\",\"wanted\",\"op\",\"others\",\"gay\",\"n\\u2019t\",\"used\",\"sem\",\"understand\",\"moi\",\"sm\",\"aint\",\"donde\",\"bem\",\"which\",\"ng\",\"followback\",\"punya\",\"late\",\"anda\",\"tidur\",\"puedo\",\"early\",\"nd\",\"personas\",\"banyak\",\"\\u2705\",\"\\u278a\",\"trust\",\"noche\",\"tl\",\"\\uff1e\",\"\\u00ab\",\"af\",\"move\",\"pro\",\"bring\",\"ku\",\"called\",\"relationship\",\"idk\",\"hurt\",\"st\",\"pernah\",\"pessoas\",\"hello\",\"uno\",\"unfollowers\",\"cry\"],\"x\":{\"__ndarray__\":\"JubIPvYHmz47ngU/6QDjPvEXqj7iYvI+6gFYPui+lD6bT4c+DGGXPg12o79yVHO9+CzkPqeJvL8KkKQ+/3O5v9MPm78wwx4/vqb4PkLlPT9lpQc/8PT3veluvz8pCeE+cjB+Ppad1j/gC7+/6zmRPglPrz7WObm/UiXMPrJbhz6UuKy/7yHAv9ph/D4nR5O/Q9z9PokbmL8aEMY+lj6uvw1gqj/+sZC/a0gQP3P5Eb8A58q/Hr/Sv+w+g78pSKM/WQmWPqcLQj8iR2U/hSCzvjOPpD9pubW/IRS4P0WeYr+NE6C/yzeYv3oKpr9slru/NbaNPvCav7/0Rhs/vw+av0qtvL9MWcQ/hJ1/v2nDiz48glq/kAnAP+oumr/wBJE+WzmHPlZYKz6lM7m/2fGlv4mpAj57tus+qWuuv3izur/dJoW/2+bMPw7GLT8es/O+dZtAvpjmmL9HH6W/GMq1v8xOSL+y+7E/rCdIP8pHxz8MmMa/x8Wyv/TojT4B6IE9fr12v7QXyT8Fr7Q/iCSfv0XoND8Z+J8/hAufvxdtFD/EA78/XFw3P9xfgT+nzjK/qRm3P27A0L8xiZa/XnN/v/8UkD/djMc/2XqhPx8pp79LyZE9vHWNvwrLsD9X3VS/NNLOPnE+rL8qqF+/u8fYPk+qFL856Hi/7/2sv2KYsL/RiKu/lp6gvwAssr+VMgw/BVOGP9IAkb8DgV0/tolbv6oRvz753p8+3w0PPy31Ij/yzqq/tDkUPwPwwj/tnae/SD+lP/kqgr8vypQ+heSxv5XqmL9QOdY+HZdZvaPpIT98lFe/zPSVv/zmoT9GSS4/2VaHv64vhj9Vb5w/QkX7PoSX7D5It68+ABC6PpVHir9YLJK/1XUkP96OSL8H78o/g0OGv/vUUz+87Ks/uambv2v5Nr8qNgg/6+UoPxQ9t7/qn0Q/ORQCv6zSib/UadA/PWmxPk+1ib+Uq6+/HP6Kv8WDND9q8J+/snCxv1lenD51yTw+uXSiP4zqoL/LeKW/zayxPlIbKb4l9t4+S5GyvzAAwL+CurE/6AcDP1mRFz+hbx6/GcmBPr8Xk78YwW2/SLmDP2nXqD8cxas+71OtP7Utpb+v4lq/QiTwPvijt7+PQM4/1s6xPxEyor9l0kW/ckZRP2mSr7/c+Ak+yo/RPkYRkD4NRaW/8TUSPxyKeT8Qjqg/RcARv81pbr9lxj0/4Zy+v6NYib/18c8/XSFHvxK9n7+g8z8/ws4JPxahY78I/Lq+vhEaP0esp79/EKi/9j+gv6+08z72HUY/4kMUv8n9YT/j3pu/byo8vyaftr8+gK6/aGWyv1tjTT/uMrk/fmPIPp8F+D6OkZC/9jM/P6O84z9MsYq/AhCDv1X+nT1eMKy/1PiZP6SKxD+axpU/di2Uv1tsj7+DOFM/pOmxvxrqWD/oWxy/PYkKP9zWj78uUZO/k0l6v63mm730kpG9/w20v3GRpb8BqCg/m2NTP2WUwD+9hZG/AiivvyBMxD+yYYq/h+Wav2jtCz39+tU+XeOGv6+Zor+NqK6/iAWJvyEf7778mac+nGwHP3k8oL8z7JS/uJq6vzO6ST+RRrA+4yg9PxyOwT8m1f2+cjS7PlkxJT4Xuvw9aE2bP6txET/brMU/hji/P3VwbD86abe/kr7Lvo9Phr+LSWw/hq2bv32Os78bbt2+/ziRv0WHI787b6G/+TSYv5UKzL2Atsc/EvlFP73ckL+Bh1a+PryXvqMOkL9Rb5m/a1ptv/pXIj8nAWs/xDZbPw8hGj7dX1i/mownP22QSL85EN6+GZcfP7rn4j6ilJS/3cR4v6th477iBz2/sc/UPwl1Wj/3EAe/RZqOv2xlRj9P07q/JbETP4ESjr9ejTm/FzM6PxPvcL820YO/MAw1v4TYqD9g2WK/wrlGP3IQRb+WKLM/uu+cv2CtkT/7mvw+NPxDPwu7Xb+6OtQ/X7nYPiVzNz9xo68/CBVhPxmxvT/VDo+/3u2nv73/oj9RMai/LZm0P2k1g7+/QEo/JSeqvxyHcb/t+JQ/MAiYvy8Krz9B1Jw/2JWyP6cfoz/uf3q/1GdHP//Axz66C3C/5uKMv97AwT8X4IK/O3x/v3lSsr9/dD+/TT53v17WYT3t5FA/9Cz2PhLsJT+D2Rc/I/u3P+mGZL+Qg5a/MQ2Ev4gJzr5E0pu/K1h6v8TRtz8DJaw/vbJhv9I5uT+qenS/ahqXv8FOWj8WknE/6tyKv1uNwT/tfBq+XixUP+dkIL/whIi/xsm3Pw5Ykj/mgJ+/nBhiP7RPir8nqsQ/EdvhPlOhgL85DB2/gzZmv2L7kb81AiQ/2aGRP/ykyT+svVM/ApirPr6Gyj6Kuh8/pt/CP+q/LT7X2Ew+0kisPrXMR78A/Ja/zG6Kv/lHAL9Luoq9aLWbv75ykD914IW/KgZXPsmooz8cioe/KIVRv0IvuT/Ypp8/271Lvy/Va7+KbCs/Lla+PvdshD9b9Ls/MNikvwdIqL++gZS/qXEVPxlq2D0IcN++E/ArP1B1UT8GnWQ/GM6Av3EAjL8aTMi+hiybP0+HoD9/O6k/tenFP8AzTD86Rpo/e300v4UPPr8na5C/IWekv56vq76BXUC/Dn+Bv5cQtz9eSuU+7kxnP2U/mr+uVS2/sCo7PyqEeD63cku/MjIsP3UosD8zk0U/pO6RvxdyIz+06r0+p8mKv6JoZT8ZnHm/BmH1Pht1wz++gks/ComuP6hX2T9TxFO/qCN1v3s70D9o44a/gDKoP2BGe7/uRUe/IPpPP/57kb/1iDi/vCUzv1fGj78tlbM//mhEP1OCiT9B/TW/LL9dv1W8V79otkm/CaK8PkoTlD8/FMQ/g9RCP26GdL8UmIU/f+6Dv9j9qz8umI8/1uNXvzUUfz9a/bs/Kax8P2F6Rr8NjcM/ZSCHvxNcnL96SaK/FvArvwKMd78cFpO/iSCyPxK2iD/T7m8/mH2kv6CQCr9dQsk/loG2P/avuz+1hpu/8cmMvk5faL83j4K/CC0mP2vfi7+2xW2/zunOP1hvlD8s0Eg/JIn9PS7HT7+euE+/PKujv9kAJz+yW8M+XYdJv4zMeL9gbVQ/YEmCv/wcFL+jVWi/6pQ8Pxwjeb/Zcx4/CTM7v0UkLb5t21y/YE/DP41Xnz5/vE0/PFbNPymPo7+MC+E/ikoUv2UYkr+mzxY/ghAwP28Mtz/IPam/V9m1P2iKtT+pU5c+I42fv2Yjlr74CGk+X5m/PtR/g74vozg/gL7MPx14iD72+oW/AlG1vrHAh75KM7s/xfdOP5PNTb8Kxh2/rDqkv+OFej6Jl18+9bBcv46Xvz+HB4G/jvWOP93yDr++7I+/4KrBPy7Opr+KwZy/au2SP3rCNr9d1o+/iKzFPyhGar8woqg/8HmwP2+SkT8EU4C/w9U0vjjbuz+PD6S+j0ahv0txwD/jHz8/dxNLPzjRpr+48Yu/xQ2Ev0buST+IoJ6/QaiWv4YpSr9e+22/wKd3Px4mgr9fk1g/LSaxv6vpJz8UEbU/ZzOQv1IYm7/W/Gy/SxYvP48A9z6hra8+JkK8P2Frh7/MzMC+JAhrv3mpd78V5Fu/45kbP7+QTT/uHCI+bfHRvntg+T5Viec/Cq/tveBc5j4KO9I/rJyRP2E+X7+2kJS/X+Z7v1f9Lb/r3kC+LMZzv1y8Tz/NY5K/pxcwP5T2Zj7OpaK/FhKsPmedmj+uGVq/fvKev3skbr+LHyC/53VBPw5AeD2hcy6+L9/AP2V9QT8OeVS/ns59v6HVoj9DD0Y9d6J8v5bwUr9Zzqm/KlUrP8KCFT/NBES//RZavwmJnb8NMdE/rXiAvz6eHj/xiYK/Gg9XPyTZNr/B/iQ/ib9yv7XNmz9Qngk8DkoqPlkTQL/b3eO+fBH1PunqUr+884m/K9WaP9Q1kj+8Aqg/bdCyP8ILir+MRcY/wOWTP5n1oz862rk/deePv6qRKz8n/V2/CxpMvzHOPz+xzBC/zWOUv5Z86DrtA3y/omlbP+LaTz+7zB0/Iu+oP627Uj4Q042/JkTZPinTJj+aAYe/rlBOv3cUSD811608+uCJv0ZSuz/R2P8+xxFTv+H8Qj8E300/PI6jPyjbRz+oFzI/F9aOPTpPp7wn5lU/Fsstv1Q5W7/td+C+sYnbP48C/j7xy0q/vny8PwJUGb9/95a/hCC4Pw4Ngz8dmjS/BVBIP9jBOL/m4lg8EiFYP2ZeoT++u5G/7yORvzQ6Cj+v7k4+ddaXvzdqzD8FDUa/KjgQPnWTCr+oFNA/r/IpP6XluT/b7FU9NEGAv54aMD8X3cU/dCWVP0iLkj8B0la/DJugv8kCcb/Ks7w/Sb5bvyg07D3luLM/swuWPoTBUL/g9KU/8djWPo57Nz8KkI+/AUquP/utL79N5nC/GiCOPx/Sib9HdFm+bJDKvjp5jr9s4Ka+UOw6Pkh5tz/Ft5s/5pYiPzwRtrvHO5M/yOqqP0WOqj8MlZm/7uebP1QGjb8x5eO+Y71LP6oorj6xRQM/wNVRP7EMAjyImxg/yO4/PyTRIT9HwZo/F6Wiv7BFsT+SOr0/RHh2v4IKsD7VHkA/EhOJv4vsvz/4A4C/EEvCP3JP0T7bLNW+mW28P3Yed78RBoC/w8tUvzVDwbx99nC/T+qSv6YR3D4tUT6/rQRfv7PGPT/gKX6/gd7MvmcvMb+vCB6/LnabP2pISL+fDmq/4yJivyI8ob+uEtE/h41tv2KVmT8Q6m6/dpDBPxszUr84t0Y/nFN4vyULiz9XR6e/nXuHv6YTyD862EK/jwGvP6JuJD8Iu3u/+kMNv5t0yr6ivEA/YeR5P5kfMD9qd1y/OzutP40dxz+jPZs+6ykeP8g8yT+R5Lw/ywSWP8gLKz+2K6w+LjNsv13Ayz9SzWS/O+WDP7SMJ78XA2c/q02wP1JQjz8mT0a/tnAgv0nftj/KBYy/riWcP2miBr/8WnS/1byQvnuF274SGWo/sNa0PkZqnj897yy/toj7vtXHUj9Lqvg9zsBsv0djmz5//26/b8anP0QgjL9v1mk/wcrcP9W0Ur1LfS+/FetJP126T78q5hQ+yNFDv0KYrL04JJq/S+WRv2zmjD80+5O/Suv7PtkC7T69+5m/nGO7PzWgsz+Uo5K/AH2zPSyxCT+tMkQ/4g8wvzYoqz8ZK1s/yMa4Pyqugr+AjgG/rv7FP/+KSD/JI8Q+O2P3PpW9hb+SV7o/6RScPvR+XD8vBzs/Jd1Cvn2rFL+R8wA/gnWGv08IKT+qDY6/ANx2v2KxRL9MipG/QlYJv52iMD9m9Kk/BNoyvpYzlj81cJC9qupTvw==\",\"dtype\":\"float32\",\"order\":\"little\",\"shape\":[1000]},\"y\":{\"__ndarray__\":\"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\",\"dtype\":\"float32\",\"order\":\"little\",\"shape\":[1000]}},\"selected\":{\"id\":\"1048\"},\"selection_policy\":{\"id\":\"1047\"}},\"id\":\"1001\",\"type\":\"ColumnDataSource\"},{\"attributes\":{},\"id\":\"1007\",\"type\":\"LinearScale\"},{\"attributes\":{},\"id\":\"1005\",\"type\":\"DataRange1d\"},{\"attributes\":{\"active_drag\":\"auto\",\"active_inspect\":\"auto\",\"active_multi\":null,\"active_scroll\":{\"id\":\"1020\"},\"active_tap\":\"auto\",\"tools\":[{\"id\":\"1019\"},{\"id\":\"1020\"},{\"id\":\"1021\"},{\"id\":\"1022\"},{\"id\":\"1023\"},{\"id\":\"1024\"},{\"id\":\"1038\"}]},\"id\":\"1026\",\"type\":\"Toolbar\"},{\"attributes\":{\"fill_alpha\":{\"value\":0.25},\"fill_color\":{\"field\":\"color\"},\"line_alpha\":{\"value\":0.25},\"line_color\":{\"field\":\"color\"},\"size\":{\"units\":\"screen\",\"value\":10},\"x\":{\"field\":\"x\"},\"y\":{\"field\":\"y\"}},\"id\":\"1034\",\"type\":\"Scatter\"},{\"attributes\":{\"axis\":{\"id\":\"1015\"},\"dimension\":1,\"ticker\":null},\"id\":\"1018\",\"type\":\"Grid\"},{\"attributes\":{},\"id\":\"1024\",\"type\":\"HelpTool\"},{\"attributes\":{},\"id\":\"1009\",\"type\":\"LinearScale\"},{\"attributes\":{},\"id\":\"1019\",\"type\":\"PanTool\"},{\"attributes\":{\"source\":{\"id\":\"1001\"}},\"id\":\"1037\",\"type\":\"CDSView\"},{\"attributes\":{},\"id\":\"1012\",\"type\":\"BasicTicker\"},{\"attributes\":{},\"id\":\"1047\",\"type\":\"UnionRenderers\"},{\"attributes\":{},\"id\":\"1020\",\"type\":\"WheelZoomTool\"},{\"attributes\":{},\"id\":\"1003\",\"type\":\"DataRange1d\"},{\"attributes\":{},\"id\":\"1016\",\"type\":\"BasicTicker\"},{\"attributes\":{},\"id\":\"1022\",\"type\":\"SaveTool\"},{\"attributes\":{},\"id\":\"1048\",\"type\":\"Selection\"},{\"attributes\":{\"axis\":{\"id\":\"1011\"},\"ticker\":null},\"id\":\"1014\",\"type\":\"Grid\"}],\"root_ids\":[\"1002\"]},\"title\":\"Bokeh Application\",\"version\":\"2.1.1\"}};\n",
              "  var render_items = [{\"docid\":\"a62a5ef4-7481-46f9-8c61-fde306fd9b79\",\"root_ids\":[\"1002\"],\"roots\":{\"1002\":\"8d763271-6c41-4d2a-95db-172c1287d3ac\"}}];\n",
              "  root.Bokeh.embed.embed_items_notebook(docs_json, render_items);\n",
              "\n",
              "  }\n",
              "  if (root.Bokeh !== undefined) {\n",
              "    embed_document(root);\n",
              "  } else {\n",
              "    var attempts = 0;\n",
              "    var timer = setInterval(function(root) {\n",
              "      if (root.Bokeh !== undefined) {\n",
              "        clearInterval(timer);\n",
              "        embed_document(root);\n",
              "      } else {\n",
              "        attempts++;\n",
              "        if (attempts > 100) {\n",
              "          clearInterval(timer);\n",
              "          console.log(\"Bokeh: ERROR: Unable to run BokehJS code because BokehJS library is missing\");\n",
              "        }\n",
              "      }\n",
              "    }, 10, root)\n",
              "  }\n",
              "})(window);"
            ],
            "application/vnd.bokehjs_exec.v0+json": ""
          },
          "metadata": {
            "tags": [],
            "application/vnd.bokehjs_exec.v0+json": {
              "id": "1002"
            }
          }
        },
        {
          "output_type": "execute_result",
          "data": {
            "text/html": [
              "<div style=\"display: table;\"><div style=\"display: table-row;\"><div style=\"display: table-cell;\"><b title=\"bokeh.plotting.figure.Figure\">Figure</b>(</div><div style=\"display: table-cell;\">id&nbsp;=&nbsp;'1002', <span id=\"1104\" style=\"cursor: pointer;\">&hellip;)</span></div></div><div class=\"1103\" style=\"display: none;\"><div style=\"display: table-cell;\"></div><div style=\"display: table-cell;\">above&nbsp;=&nbsp;[],</div></div><div class=\"1103\" style=\"display: none;\"><div style=\"display: table-cell;\"></div><div style=\"display: table-cell;\">align&nbsp;=&nbsp;'start',</div></div><div class=\"1103\" style=\"display: none;\"><div style=\"display: table-cell;\"></div><div style=\"display: table-cell;\">aspect_ratio&nbsp;=&nbsp;None,</div></div><div class=\"1103\" style=\"display: none;\"><div style=\"display: table-cell;\"></div><div style=\"display: table-cell;\">aspect_scale&nbsp;=&nbsp;1,</div></div><div class=\"1103\" style=\"display: none;\"><div style=\"display: table-cell;\"></div><div style=\"display: table-cell;\">background&nbsp;=&nbsp;None,</div></div><div class=\"1103\" style=\"display: none;\"><div style=\"display: table-cell;\"></div><div style=\"display: table-cell;\">background_fill_alpha&nbsp;=&nbsp;1.0,</div></div><div class=\"1103\" style=\"display: none;\"><div style=\"display: table-cell;\"></div><div style=\"display: table-cell;\">background_fill_color&nbsp;=&nbsp;'#ffffff',</div></div><div class=\"1103\" style=\"display: none;\"><div style=\"display: table-cell;\"></div><div style=\"display: table-cell;\">below&nbsp;=&nbsp;[LinearAxis(id='1011', ...)],</div></div><div class=\"1103\" style=\"display: none;\"><div style=\"display: table-cell;\"></div><div style=\"display: table-cell;\">border_fill_alpha&nbsp;=&nbsp;1.0,</div></div><div class=\"1103\" style=\"display: none;\"><div style=\"display: table-cell;\"></div><div style=\"display: table-cell;\">border_fill_color&nbsp;=&nbsp;'#ffffff',</div></div><div class=\"1103\" style=\"display: none;\"><div style=\"display: table-cell;\"></div><div style=\"display: table-cell;\">center&nbsp;=&nbsp;[Grid(id='1014', ...), Grid(id='1018', ...)],</div></div><div class=\"1103\" style=\"display: none;\"><div style=\"display: table-cell;\"></div><div style=\"display: table-cell;\">css_classes&nbsp;=&nbsp;[],</div></div><div class=\"1103\" style=\"display: none;\"><div style=\"display: table-cell;\"></div><div style=\"display: table-cell;\">disabled&nbsp;=&nbsp;False,</div></div><div class=\"1103\" style=\"display: none;\"><div style=\"display: table-cell;\"></div><div style=\"display: table-cell;\">extra_x_ranges&nbsp;=&nbsp;{},</div></div><div class=\"1103\" style=\"display: none;\"><div style=\"display: table-cell;\"></div><div style=\"display: table-cell;\">extra_y_ranges&nbsp;=&nbsp;{},</div></div><div class=\"1103\" style=\"display: none;\"><div style=\"display: table-cell;\"></div><div style=\"display: table-cell;\">frame_height&nbsp;=&nbsp;None,</div></div><div class=\"1103\" style=\"display: none;\"><div style=\"display: table-cell;\"></div><div style=\"display: table-cell;\">frame_width&nbsp;=&nbsp;None,</div></div><div class=\"1103\" style=\"display: none;\"><div style=\"display: table-cell;\"></div><div style=\"display: table-cell;\">height&nbsp;=&nbsp;None,</div></div><div class=\"1103\" style=\"display: none;\"><div style=\"display: table-cell;\"></div><div style=\"display: table-cell;\">height_policy&nbsp;=&nbsp;'auto',</div></div><div class=\"1103\" style=\"display: none;\"><div style=\"display: table-cell;\"></div><div style=\"display: table-cell;\">hidpi&nbsp;=&nbsp;True,</div></div><div class=\"1103\" style=\"display: none;\"><div style=\"display: table-cell;\"></div><div style=\"display: table-cell;\">js_event_callbacks&nbsp;=&nbsp;{},</div></div><div class=\"1103\" style=\"display: none;\"><div style=\"display: table-cell;\"></div><div style=\"display: table-cell;\">js_property_callbacks&nbsp;=&nbsp;{},</div></div><div class=\"1103\" style=\"display: none;\"><div style=\"display: table-cell;\"></div><div style=\"display: table-cell;\">left&nbsp;=&nbsp;[LinearAxis(id='1015', ...)],</div></div><div class=\"1103\" style=\"display: none;\"><div style=\"display: table-cell;\"></div><div style=\"display: table-cell;\">lod_factor&nbsp;=&nbsp;10,</div></div><div class=\"1103\" style=\"display: none;\"><div style=\"display: table-cell;\"></div><div style=\"display: table-cell;\">lod_interval&nbsp;=&nbsp;300,</div></div><div class=\"1103\" style=\"display: none;\"><div style=\"display: table-cell;\"></div><div style=\"display: table-cell;\">lod_threshold&nbsp;=&nbsp;2000,</div></div><div class=\"1103\" style=\"display: none;\"><div style=\"display: table-cell;\"></div><div style=\"display: table-cell;\">lod_timeout&nbsp;=&nbsp;500,</div></div><div class=\"1103\" style=\"display: none;\"><div style=\"display: table-cell;\"></div><div style=\"display: table-cell;\">margin&nbsp;=&nbsp;(0, 0, 0, 0),</div></div><div class=\"1103\" style=\"display: none;\"><div style=\"display: table-cell;\"></div><div style=\"display: table-cell;\">match_aspect&nbsp;=&nbsp;False,</div></div><div class=\"1103\" style=\"display: none;\"><div style=\"display: table-cell;\"></div><div style=\"display: table-cell;\">max_height&nbsp;=&nbsp;None,</div></div><div class=\"1103\" style=\"display: none;\"><div style=\"display: table-cell;\"></div><div style=\"display: table-cell;\">max_width&nbsp;=&nbsp;None,</div></div><div class=\"1103\" style=\"display: none;\"><div style=\"display: table-cell;\"></div><div style=\"display: table-cell;\">min_border&nbsp;=&nbsp;5,</div></div><div class=\"1103\" style=\"display: none;\"><div style=\"display: table-cell;\"></div><div style=\"display: table-cell;\">min_border_bottom&nbsp;=&nbsp;None,</div></div><div class=\"1103\" style=\"display: none;\"><div style=\"display: table-cell;\"></div><div style=\"display: table-cell;\">min_border_left&nbsp;=&nbsp;None,</div></div><div class=\"1103\" style=\"display: none;\"><div style=\"display: table-cell;\"></div><div style=\"display: table-cell;\">min_border_right&nbsp;=&nbsp;None,</div></div><div class=\"1103\" style=\"display: none;\"><div style=\"display: table-cell;\"></div><div style=\"display: table-cell;\">min_border_top&nbsp;=&nbsp;None,</div></div><div class=\"1103\" style=\"display: none;\"><div style=\"display: table-cell;\"></div><div style=\"display: table-cell;\">min_height&nbsp;=&nbsp;None,</div></div><div class=\"1103\" style=\"display: none;\"><div style=\"display: table-cell;\"></div><div style=\"display: table-cell;\">min_width&nbsp;=&nbsp;None,</div></div><div class=\"1103\" style=\"display: none;\"><div style=\"display: table-cell;\"></div><div style=\"display: table-cell;\">name&nbsp;=&nbsp;None,</div></div><div class=\"1103\" style=\"display: none;\"><div style=\"display: table-cell;\"></div><div style=\"display: table-cell;\">outline_line_alpha&nbsp;=&nbsp;1.0,</div></div><div class=\"1103\" style=\"display: none;\"><div style=\"display: table-cell;\"></div><div style=\"display: table-cell;\">outline_line_cap&nbsp;=&nbsp;'butt',</div></div><div class=\"1103\" style=\"display: none;\"><div style=\"display: table-cell;\"></div><div style=\"display: table-cell;\">outline_line_color&nbsp;=&nbsp;'#e5e5e5',</div></div><div class=\"1103\" style=\"display: none;\"><div style=\"display: table-cell;\"></div><div style=\"display: table-cell;\">outline_line_dash&nbsp;=&nbsp;[],</div></div><div class=\"1103\" style=\"display: none;\"><div style=\"display: table-cell;\"></div><div style=\"display: table-cell;\">outline_line_dash_offset&nbsp;=&nbsp;0,</div></div><div class=\"1103\" style=\"display: none;\"><div style=\"display: table-cell;\"></div><div style=\"display: table-cell;\">outline_line_join&nbsp;=&nbsp;'bevel',</div></div><div class=\"1103\" style=\"display: none;\"><div style=\"display: table-cell;\"></div><div style=\"display: table-cell;\">outline_line_width&nbsp;=&nbsp;1,</div></div><div class=\"1103\" style=\"display: none;\"><div style=\"display: table-cell;\"></div><div style=\"display: table-cell;\">output_backend&nbsp;=&nbsp;'canvas',</div></div><div class=\"1103\" style=\"display: none;\"><div style=\"display: table-cell;\"></div><div style=\"display: table-cell;\">plot_height&nbsp;=&nbsp;400,</div></div><div class=\"1103\" style=\"display: none;\"><div style=\"display: table-cell;\"></div><div style=\"display: table-cell;\">plot_width&nbsp;=&nbsp;600,</div></div><div class=\"1103\" style=\"display: none;\"><div style=\"display: table-cell;\"></div><div style=\"display: table-cell;\">renderers&nbsp;=&nbsp;[GlyphRenderer(id='1036', ...)],</div></div><div class=\"1103\" style=\"display: none;\"><div style=\"display: table-cell;\"></div><div style=\"display: table-cell;\">reset_policy&nbsp;=&nbsp;'standard',</div></div><div class=\"1103\" style=\"display: none;\"><div style=\"display: table-cell;\"></div><div style=\"display: table-cell;\">right&nbsp;=&nbsp;[],</div></div><div class=\"1103\" style=\"display: none;\"><div style=\"display: table-cell;\"></div><div style=\"display: table-cell;\">sizing_mode&nbsp;=&nbsp;None,</div></div><div class=\"1103\" style=\"display: none;\"><div style=\"display: table-cell;\"></div><div style=\"display: table-cell;\">subscribed_events&nbsp;=&nbsp;[],</div></div><div class=\"1103\" style=\"display: none;\"><div style=\"display: table-cell;\"></div><div style=\"display: table-cell;\">tags&nbsp;=&nbsp;[],</div></div><div class=\"1103\" style=\"display: none;\"><div style=\"display: table-cell;\"></div><div style=\"display: table-cell;\">title&nbsp;=&nbsp;Title(id='1041', ...),</div></div><div class=\"1103\" style=\"display: none;\"><div style=\"display: table-cell;\"></div><div style=\"display: table-cell;\">title_location&nbsp;=&nbsp;'above',</div></div><div class=\"1103\" style=\"display: none;\"><div style=\"display: table-cell;\"></div><div style=\"display: table-cell;\">toolbar&nbsp;=&nbsp;Toolbar(id='1026', ...),</div></div><div class=\"1103\" style=\"display: none;\"><div style=\"display: table-cell;\"></div><div style=\"display: table-cell;\">toolbar_location&nbsp;=&nbsp;'right',</div></div><div class=\"1103\" style=\"display: none;\"><div style=\"display: table-cell;\"></div><div style=\"display: table-cell;\">toolbar_sticky&nbsp;=&nbsp;True,</div></div><div class=\"1103\" style=\"display: none;\"><div style=\"display: table-cell;\"></div><div style=\"display: table-cell;\">visible&nbsp;=&nbsp;True,</div></div><div class=\"1103\" style=\"display: none;\"><div style=\"display: table-cell;\"></div><div style=\"display: table-cell;\">width&nbsp;=&nbsp;None,</div></div><div class=\"1103\" style=\"display: none;\"><div style=\"display: table-cell;\"></div><div style=\"display: table-cell;\">width_policy&nbsp;=&nbsp;'auto',</div></div><div class=\"1103\" style=\"display: none;\"><div style=\"display: table-cell;\"></div><div style=\"display: table-cell;\">x_range&nbsp;=&nbsp;DataRange1d(id='1003', ...),</div></div><div class=\"1103\" style=\"display: none;\"><div style=\"display: table-cell;\"></div><div style=\"display: table-cell;\">x_scale&nbsp;=&nbsp;LinearScale(id='1007', ...),</div></div><div class=\"1103\" style=\"display: none;\"><div style=\"display: table-cell;\"></div><div style=\"display: table-cell;\">y_range&nbsp;=&nbsp;DataRange1d(id='1005', ...),</div></div><div class=\"1103\" style=\"display: none;\"><div style=\"display: table-cell;\"></div><div style=\"display: table-cell;\">y_scale&nbsp;=&nbsp;LinearScale(id='1009', ...))</div></div></div>\n",
              "<script>\n",
              "(function() {\n",
              "  var expanded = false;\n",
              "  var ellipsis = document.getElementById(\"1104\");\n",
              "  ellipsis.addEventListener(\"click\", function() {\n",
              "    var rows = document.getElementsByClassName(\"1103\");\n",
              "    for (var i = 0; i < rows.length; i++) {\n",
              "      var el = rows[i];\n",
              "      el.style.display = expanded ? \"none\" : \"table-row\";\n",
              "    }\n",
              "    ellipsis.innerHTML = expanded ? \"&hellip;)\" : \"&lsaquo;&lsaquo;&lsaquo;\";\n",
              "    expanded = !expanded;\n",
              "  });\n",
              "})();\n",
              "</script>\n"
            ],
            "text/plain": [
              "Figure(id='1002', ...)"
            ]
          },
          "metadata": {
            "tags": []
          },
          "execution_count": 20
        }
      ]
    },
    {
      "cell_type": "markdown",
      "metadata": {
        "id": "sDYkl-l54lCs"
      },
      "source": [
        "## Visualizing neighbors with UMAP\n",
        "PCA is nice but it's strictly linear and thus only able to capture coarse high-level structure of the data.\n",
        "\n",
        "If we instead want to focus on keeping neighboring points near, we could use UMAP, which is itself an embedding method. Here you can read __[more on UMAP (ru)](https://habr.com/ru/company/newprolab/blog/350584/)__ and on __[t-SNE](https://distill.pub/2016/misread-tsne/)__, which is also an embedding."
      ]
    },
    {
      "cell_type": "code",
      "metadata": {
        "id": "YqVW5gQn4lCt"
      },
      "source": [
        "embedding = umap.UMAP(n_neighbors=5).fit_transform(word_vectors)"
      ],
      "execution_count": 21,
      "outputs": []
    },
    {
      "cell_type": "code",
      "metadata": {
        "id": "w3qzJuGv4lCt",
        "colab": {
          "base_uri": "https://localhost:8080/",
          "height": 434
        },
        "outputId": "53e60377-d4ec-4cde-9f5a-b0ec2f95270d"
      },
      "source": [
        "draw_vectors(embedding[:, 0], embedding[:, 1], token=words)\n",
        "\n",
        "# hover a mouse over there and see if you can identify the clusters"
      ],
      "execution_count": 22,
      "outputs": [
        {
          "output_type": "display_data",
          "data": {
            "application/javascript": [
              "\n",
              "(function(root) {\n",
              "  function now() {\n",
              "    return new Date();\n",
              "  }\n",
              "\n",
              "  var force = true;\n",
              "\n",
              "  if (typeof root._bokeh_onload_callbacks === \"undefined\" || force === true) {\n",
              "    root._bokeh_onload_callbacks = [];\n",
              "    root._bokeh_is_loading = undefined;\n",
              "  }\n",
              "\n",
              "  var JS_MIME_TYPE = 'application/javascript';\n",
              "  var HTML_MIME_TYPE = 'text/html';\n",
              "  var EXEC_MIME_TYPE = 'application/vnd.bokehjs_exec.v0+json';\n",
              "  var CLASS_NAME = 'output_bokeh rendered_html';\n",
              "\n",
              "  /**\n",
              "   * Render data to the DOM node\n",
              "   */\n",
              "  function render(props, node) {\n",
              "    var script = document.createElement(\"script\");\n",
              "    node.appendChild(script);\n",
              "  }\n",
              "\n",
              "  /**\n",
              "   * Handle when an output is cleared or removed\n",
              "   */\n",
              "  function handleClearOutput(event, handle) {\n",
              "    var cell = handle.cell;\n",
              "\n",
              "    var id = cell.output_area._bokeh_element_id;\n",
              "    var server_id = cell.output_area._bokeh_server_id;\n",
              "    // Clean up Bokeh references\n",
              "    if (id != null && id in Bokeh.index) {\n",
              "      Bokeh.index[id].model.document.clear();\n",
              "      delete Bokeh.index[id];\n",
              "    }\n",
              "\n",
              "    if (server_id !== undefined) {\n",
              "      // Clean up Bokeh references\n",
              "      var cmd = \"from bokeh.io.state import curstate; print(curstate().uuid_to_server['\" + server_id + \"'].get_sessions()[0].document.roots[0]._id)\";\n",
              "      cell.notebook.kernel.execute(cmd, {\n",
              "        iopub: {\n",
              "          output: function(msg) {\n",
              "            var id = msg.content.text.trim();\n",
              "            if (id in Bokeh.index) {\n",
              "              Bokeh.index[id].model.document.clear();\n",
              "              delete Bokeh.index[id];\n",
              "            }\n",
              "          }\n",
              "        }\n",
              "      });\n",
              "      // Destroy server and session\n",
              "      var cmd = \"import bokeh.io.notebook as ion; ion.destroy_server('\" + server_id + \"')\";\n",
              "      cell.notebook.kernel.execute(cmd);\n",
              "    }\n",
              "  }\n",
              "\n",
              "  /**\n",
              "   * Handle when a new output is added\n",
              "   */\n",
              "  function handleAddOutput(event, handle) {\n",
              "    var output_area = handle.output_area;\n",
              "    var output = handle.output;\n",
              "\n",
              "    // limit handleAddOutput to display_data with EXEC_MIME_TYPE content only\n",
              "    if ((output.output_type != \"display_data\") || (!output.data.hasOwnProperty(EXEC_MIME_TYPE))) {\n",
              "      return\n",
              "    }\n",
              "\n",
              "    var toinsert = output_area.element.find(\".\" + CLASS_NAME.split(' ')[0]);\n",
              "\n",
              "    if (output.metadata[EXEC_MIME_TYPE][\"id\"] !== undefined) {\n",
              "      toinsert[toinsert.length - 1].firstChild.textContent = output.data[JS_MIME_TYPE];\n",
              "      // store reference to embed id on output_area\n",
              "      output_area._bokeh_element_id = output.metadata[EXEC_MIME_TYPE][\"id\"];\n",
              "    }\n",
              "    if (output.metadata[EXEC_MIME_TYPE][\"server_id\"] !== undefined) {\n",
              "      var bk_div = document.createElement(\"div\");\n",
              "      bk_div.innerHTML = output.data[HTML_MIME_TYPE];\n",
              "      var script_attrs = bk_div.children[0].attributes;\n",
              "      for (var i = 0; i < script_attrs.length; i++) {\n",
              "        toinsert[toinsert.length - 1].firstChild.setAttribute(script_attrs[i].name, script_attrs[i].value);\n",
              "        toinsert[toinsert.length - 1].firstChild.textContent = bk_div.children[0].textContent\n",
              "      }\n",
              "      // store reference to server id on output_area\n",
              "      output_area._bokeh_server_id = output.metadata[EXEC_MIME_TYPE][\"server_id\"];\n",
              "    }\n",
              "  }\n",
              "\n",
              "  function register_renderer(events, OutputArea) {\n",
              "\n",
              "    function append_mime(data, metadata, element) {\n",
              "      // create a DOM node to render to\n",
              "      var toinsert = this.create_output_subarea(\n",
              "        metadata,\n",
              "        CLASS_NAME,\n",
              "        EXEC_MIME_TYPE\n",
              "      );\n",
              "      this.keyboard_manager.register_events(toinsert);\n",
              "      // Render to node\n",
              "      var props = {data: data, metadata: metadata[EXEC_MIME_TYPE]};\n",
              "      render(props, toinsert[toinsert.length - 1]);\n",
              "      element.append(toinsert);\n",
              "      return toinsert\n",
              "    }\n",
              "\n",
              "    /* Handle when an output is cleared or removed */\n",
              "    events.on('clear_output.CodeCell', handleClearOutput);\n",
              "    events.on('delete.Cell', handleClearOutput);\n",
              "\n",
              "    /* Handle when a new output is added */\n",
              "    events.on('output_added.OutputArea', handleAddOutput);\n",
              "\n",
              "    /**\n",
              "     * Register the mime type and append_mime function with output_area\n",
              "     */\n",
              "    OutputArea.prototype.register_mime_type(EXEC_MIME_TYPE, append_mime, {\n",
              "      /* Is output safe? */\n",
              "      safe: true,\n",
              "      /* Index of renderer in `output_area.display_order` */\n",
              "      index: 0\n",
              "    });\n",
              "  }\n",
              "\n",
              "  // register the mime type if in Jupyter Notebook environment and previously unregistered\n",
              "  if (root.Jupyter !== undefined) {\n",
              "    var events = require('base/js/events');\n",
              "    var OutputArea = require('notebook/js/outputarea').OutputArea;\n",
              "\n",
              "    if (OutputArea.prototype.mime_types().indexOf(EXEC_MIME_TYPE) == -1) {\n",
              "      register_renderer(events, OutputArea);\n",
              "    }\n",
              "  }\n",
              "\n",
              "  \n",
              "  if (typeof (root._bokeh_timeout) === \"undefined\" || force === true) {\n",
              "    root._bokeh_timeout = Date.now() + 5000;\n",
              "    root._bokeh_failed_load = false;\n",
              "  }\n",
              "\n",
              "  var NB_LOAD_WARNING = {'data': {'text/html':\n",
              "     \"<div style='background-color: #fdd'>\\n\"+\n",
              "     \"<p>\\n\"+\n",
              "     \"BokehJS does not appear to have successfully loaded. If loading BokehJS from CDN, this \\n\"+\n",
              "     \"may be due to a slow or bad network connection. Possible fixes:\\n\"+\n",
              "     \"</p>\\n\"+\n",
              "     \"<ul>\\n\"+\n",
              "     \"<li>re-rerun `output_notebook()` to attempt to load from CDN again, or</li>\\n\"+\n",
              "     \"<li>use INLINE resources instead, as so:</li>\\n\"+\n",
              "     \"</ul>\\n\"+\n",
              "     \"<code>\\n\"+\n",
              "     \"from bokeh.resources import INLINE\\n\"+\n",
              "     \"output_notebook(resources=INLINE)\\n\"+\n",
              "     \"</code>\\n\"+\n",
              "     \"</div>\"}};\n",
              "\n",
              "  function display_loaded() {\n",
              "    var el = document.getElementById(null);\n",
              "    if (el != null) {\n",
              "      el.textContent = \"BokehJS is loading...\";\n",
              "    }\n",
              "    if (root.Bokeh !== undefined) {\n",
              "      if (el != null) {\n",
              "        el.textContent = \"BokehJS \" + root.Bokeh.version + \" successfully loaded.\";\n",
              "      }\n",
              "    } else if (Date.now() < root._bokeh_timeout) {\n",
              "      setTimeout(display_loaded, 100)\n",
              "    }\n",
              "  }\n",
              "\n",
              "\n",
              "  function run_callbacks() {\n",
              "    try {\n",
              "      root._bokeh_onload_callbacks.forEach(function(callback) {\n",
              "        if (callback != null)\n",
              "          callback();\n",
              "      });\n",
              "    } finally {\n",
              "      delete root._bokeh_onload_callbacks\n",
              "    }\n",
              "    console.debug(\"Bokeh: all callbacks have finished\");\n",
              "  }\n",
              "\n",
              "  function load_libs(css_urls, js_urls, callback) {\n",
              "    if (css_urls == null) css_urls = [];\n",
              "    if (js_urls == null) js_urls = [];\n",
              "\n",
              "    root._bokeh_onload_callbacks.push(callback);\n",
              "    if (root._bokeh_is_loading > 0) {\n",
              "      console.debug(\"Bokeh: BokehJS is being loaded, scheduling callback at\", now());\n",
              "      return null;\n",
              "    }\n",
              "    if (js_urls == null || js_urls.length === 0) {\n",
              "      run_callbacks();\n",
              "      return null;\n",
              "    }\n",
              "    console.debug(\"Bokeh: BokehJS not loaded, scheduling load and callback at\", now());\n",
              "    root._bokeh_is_loading = css_urls.length + js_urls.length;\n",
              "\n",
              "    function on_load() {\n",
              "      root._bokeh_is_loading--;\n",
              "      if (root._bokeh_is_loading === 0) {\n",
              "        console.debug(\"Bokeh: all BokehJS libraries/stylesheets loaded\");\n",
              "        run_callbacks()\n",
              "      }\n",
              "    }\n",
              "\n",
              "    function on_error() {\n",
              "      console.error(\"failed to load \" + url);\n",
              "    }\n",
              "\n",
              "    for (var i = 0; i < css_urls.length; i++) {\n",
              "      var url = css_urls[i];\n",
              "      const element = document.createElement(\"link\");\n",
              "      element.onload = on_load;\n",
              "      element.onerror = on_error;\n",
              "      element.rel = \"stylesheet\";\n",
              "      element.type = \"text/css\";\n",
              "      element.href = url;\n",
              "      console.debug(\"Bokeh: injecting link tag for BokehJS stylesheet: \", url);\n",
              "      document.body.appendChild(element);\n",
              "    }\n",
              "\n",
              "    const hashes = {\"https://cdn.bokeh.org/bokeh/release/bokeh-2.1.1.min.js\": \"kLr4fYcqcSpbuI95brIH3vnnYCquzzSxHPU6XGQCIkQRGJwhg0StNbj1eegrHs12\", \"https://cdn.bokeh.org/bokeh/release/bokeh-widgets-2.1.1.min.js\": \"xIGPmVtaOm+z0BqfSOMn4lOR6ciex448GIKG4eE61LsAvmGj48XcMQZtKcE/UXZe\", \"https://cdn.bokeh.org/bokeh/release/bokeh-tables-2.1.1.min.js\": \"Dc9u1wF/0zApGIWoBbH77iWEHtdmkuYWG839Uzmv8y8yBLXebjO9ZnERsde5Ln/P\", \"https://cdn.bokeh.org/bokeh/release/bokeh-gl-2.1.1.min.js\": \"cT9JaBz7GiRXdENrJLZNSC6eMNF3nh3fa5fTF51Svp+ukxPdwcU5kGXGPBgDCa2j\"};\n",
              "\n",
              "    for (var i = 0; i < js_urls.length; i++) {\n",
              "      var url = js_urls[i];\n",
              "      var element = document.createElement('script');\n",
              "      element.onload = on_load;\n",
              "      element.onerror = on_error;\n",
              "      element.async = false;\n",
              "      element.src = url;\n",
              "      if (url in hashes) {\n",
              "        element.crossOrigin = \"anonymous\";\n",
              "        element.integrity = \"sha384-\" + hashes[url];\n",
              "      }\n",
              "      console.debug(\"Bokeh: injecting script tag for BokehJS library: \", url);\n",
              "      document.head.appendChild(element);\n",
              "    }\n",
              "  };\n",
              "\n",
              "  function inject_raw_css(css) {\n",
              "    const element = document.createElement(\"style\");\n",
              "    element.appendChild(document.createTextNode(css));\n",
              "    document.body.appendChild(element);\n",
              "  }\n",
              "\n",
              "  \n",
              "  var js_urls = [\"https://cdn.bokeh.org/bokeh/release/bokeh-2.1.1.min.js\", \"https://cdn.bokeh.org/bokeh/release/bokeh-widgets-2.1.1.min.js\", \"https://cdn.bokeh.org/bokeh/release/bokeh-tables-2.1.1.min.js\", \"https://cdn.bokeh.org/bokeh/release/bokeh-gl-2.1.1.min.js\"];\n",
              "  var css_urls = [];\n",
              "  \n",
              "\n",
              "  var inline_js = [\n",
              "    function(Bokeh) {\n",
              "      Bokeh.set_log_level(\"info\");\n",
              "    },\n",
              "    function(Bokeh) {\n",
              "    \n",
              "    \n",
              "    }\n",
              "  ];\n",
              "\n",
              "  function run_inline_js() {\n",
              "    \n",
              "    if (root.Bokeh !== undefined || force === true) {\n",
              "      \n",
              "    for (var i = 0; i < inline_js.length; i++) {\n",
              "      inline_js[i].call(root, root.Bokeh);\n",
              "    }\n",
              "    } else if (Date.now() < root._bokeh_timeout) {\n",
              "      setTimeout(run_inline_js, 100);\n",
              "    } else if (!root._bokeh_failed_load) {\n",
              "      console.log(\"Bokeh: BokehJS failed to load within specified timeout.\");\n",
              "      root._bokeh_failed_load = true;\n",
              "    } else if (force !== true) {\n",
              "      var cell = $(document.getElementById(null)).parents('.cell').data().cell;\n",
              "      cell.output_area.append_execute_result(NB_LOAD_WARNING)\n",
              "    }\n",
              "\n",
              "  }\n",
              "\n",
              "  if (root._bokeh_is_loading === 0) {\n",
              "    console.debug(\"Bokeh: BokehJS loaded, going straight to plotting\");\n",
              "    run_inline_js();\n",
              "  } else {\n",
              "    load_libs(css_urls, js_urls, function() {\n",
              "      console.debug(\"Bokeh: BokehJS plotting callback run at\", now());\n",
              "      run_inline_js();\n",
              "    });\n",
              "  }\n",
              "}(window));"
            ],
            "application/vnd.bokehjs_load.v0+json": "\n(function(root) {\n  function now() {\n    return new Date();\n  }\n\n  var force = true;\n\n  if (typeof root._bokeh_onload_callbacks === \"undefined\" || force === true) {\n    root._bokeh_onload_callbacks = [];\n    root._bokeh_is_loading = undefined;\n  }\n\n  \n\n  \n  if (typeof (root._bokeh_timeout) === \"undefined\" || force === true) {\n    root._bokeh_timeout = Date.now() + 5000;\n    root._bokeh_failed_load = false;\n  }\n\n  var NB_LOAD_WARNING = {'data': {'text/html':\n     \"<div style='background-color: #fdd'>\\n\"+\n     \"<p>\\n\"+\n     \"BokehJS does not appear to have successfully loaded. If loading BokehJS from CDN, this \\n\"+\n     \"may be due to a slow or bad network connection. Possible fixes:\\n\"+\n     \"</p>\\n\"+\n     \"<ul>\\n\"+\n     \"<li>re-rerun `output_notebook()` to attempt to load from CDN again, or</li>\\n\"+\n     \"<li>use INLINE resources instead, as so:</li>\\n\"+\n     \"</ul>\\n\"+\n     \"<code>\\n\"+\n     \"from bokeh.resources import INLINE\\n\"+\n     \"output_notebook(resources=INLINE)\\n\"+\n     \"</code>\\n\"+\n     \"</div>\"}};\n\n  function display_loaded() {\n    var el = document.getElementById(null);\n    if (el != null) {\n      el.textContent = \"BokehJS is loading...\";\n    }\n    if (root.Bokeh !== undefined) {\n      if (el != null) {\n        el.textContent = \"BokehJS \" + root.Bokeh.version + \" successfully loaded.\";\n      }\n    } else if (Date.now() < root._bokeh_timeout) {\n      setTimeout(display_loaded, 100)\n    }\n  }\n\n\n  function run_callbacks() {\n    try {\n      root._bokeh_onload_callbacks.forEach(function(callback) {\n        if (callback != null)\n          callback();\n      });\n    } finally {\n      delete root._bokeh_onload_callbacks\n    }\n    console.debug(\"Bokeh: all callbacks have finished\");\n  }\n\n  function load_libs(css_urls, js_urls, callback) {\n    if (css_urls == null) css_urls = [];\n    if (js_urls == null) js_urls = [];\n\n    root._bokeh_onload_callbacks.push(callback);\n    if (root._bokeh_is_loading > 0) {\n      console.debug(\"Bokeh: BokehJS is being loaded, scheduling callback at\", now());\n      return null;\n    }\n    if (js_urls == null || js_urls.length === 0) {\n      run_callbacks();\n      return null;\n    }\n    console.debug(\"Bokeh: BokehJS not loaded, scheduling load and callback at\", now());\n    root._bokeh_is_loading = css_urls.length + js_urls.length;\n\n    function on_load() {\n      root._bokeh_is_loading--;\n      if (root._bokeh_is_loading === 0) {\n        console.debug(\"Bokeh: all BokehJS libraries/stylesheets loaded\");\n        run_callbacks()\n      }\n    }\n\n    function on_error() {\n      console.error(\"failed to load \" + url);\n    }\n\n    for (var i = 0; i < css_urls.length; i++) {\n      var url = css_urls[i];\n      const element = document.createElement(\"link\");\n      element.onload = on_load;\n      element.onerror = on_error;\n      element.rel = \"stylesheet\";\n      element.type = \"text/css\";\n      element.href = url;\n      console.debug(\"Bokeh: injecting link tag for BokehJS stylesheet: \", url);\n      document.body.appendChild(element);\n    }\n\n    const hashes = {\"https://cdn.bokeh.org/bokeh/release/bokeh-2.1.1.min.js\": \"kLr4fYcqcSpbuI95brIH3vnnYCquzzSxHPU6XGQCIkQRGJwhg0StNbj1eegrHs12\", \"https://cdn.bokeh.org/bokeh/release/bokeh-widgets-2.1.1.min.js\": \"xIGPmVtaOm+z0BqfSOMn4lOR6ciex448GIKG4eE61LsAvmGj48XcMQZtKcE/UXZe\", \"https://cdn.bokeh.org/bokeh/release/bokeh-tables-2.1.1.min.js\": \"Dc9u1wF/0zApGIWoBbH77iWEHtdmkuYWG839Uzmv8y8yBLXebjO9ZnERsde5Ln/P\", \"https://cdn.bokeh.org/bokeh/release/bokeh-gl-2.1.1.min.js\": \"cT9JaBz7GiRXdENrJLZNSC6eMNF3nh3fa5fTF51Svp+ukxPdwcU5kGXGPBgDCa2j\"};\n\n    for (var i = 0; i < js_urls.length; i++) {\n      var url = js_urls[i];\n      var element = document.createElement('script');\n      element.onload = on_load;\n      element.onerror = on_error;\n      element.async = false;\n      element.src = url;\n      if (url in hashes) {\n        element.crossOrigin = \"anonymous\";\n        element.integrity = \"sha384-\" + hashes[url];\n      }\n      console.debug(\"Bokeh: injecting script tag for BokehJS library: \", url);\n      document.head.appendChild(element);\n    }\n  };\n\n  function inject_raw_css(css) {\n    const element = document.createElement(\"style\");\n    element.appendChild(document.createTextNode(css));\n    document.body.appendChild(element);\n  }\n\n  \n  var js_urls = [\"https://cdn.bokeh.org/bokeh/release/bokeh-2.1.1.min.js\", \"https://cdn.bokeh.org/bokeh/release/bokeh-widgets-2.1.1.min.js\", \"https://cdn.bokeh.org/bokeh/release/bokeh-tables-2.1.1.min.js\", \"https://cdn.bokeh.org/bokeh/release/bokeh-gl-2.1.1.min.js\"];\n  var css_urls = [];\n  \n\n  var inline_js = [\n    function(Bokeh) {\n      Bokeh.set_log_level(\"info\");\n    },\n    function(Bokeh) {\n    \n    \n    }\n  ];\n\n  function run_inline_js() {\n    \n    if (root.Bokeh !== undefined || force === true) {\n      \n    for (var i = 0; i < inline_js.length; i++) {\n      inline_js[i].call(root, root.Bokeh);\n    }\n    } else if (Date.now() < root._bokeh_timeout) {\n      setTimeout(run_inline_js, 100);\n    } else if (!root._bokeh_failed_load) {\n      console.log(\"Bokeh: BokehJS failed to load within specified timeout.\");\n      root._bokeh_failed_load = true;\n    } else if (force !== true) {\n      var cell = $(document.getElementById(null)).parents('.cell').data().cell;\n      cell.output_area.append_execute_result(NB_LOAD_WARNING)\n    }\n\n  }\n\n  if (root._bokeh_is_loading === 0) {\n    console.debug(\"Bokeh: BokehJS loaded, going straight to plotting\");\n    run_inline_js();\n  } else {\n    load_libs(css_urls, js_urls, function() {\n      console.debug(\"Bokeh: BokehJS plotting callback run at\", now());\n      run_inline_js();\n    });\n  }\n}(window));"
          },
          "metadata": {
            "tags": []
          }
        },
        {
          "output_type": "display_data",
          "data": {
            "text/html": [
              "\n",
              "\n",
              "\n",
              "\n",
              "\n",
              "\n",
              "  <div class=\"bk-root\" id=\"76f2c9c6-ab4e-4124-9233-025daa24b195\" data-root-id=\"1108\"></div>\n"
            ]
          },
          "metadata": {
            "tags": []
          }
        },
        {
          "output_type": "display_data",
          "data": {
            "application/javascript": [
              "(function(root) {\n",
              "  function embed_document(root) {\n",
              "    \n",
              "  var docs_json = {\"fd5a1b79-ca8b-4d52-9d34-35b8ab0900c1\":{\"roots\":{\"references\":[{\"attributes\":{\"below\":[{\"id\":\"1117\"}],\"center\":[{\"id\":\"1120\"},{\"id\":\"1124\"}],\"left\":[{\"id\":\"1121\"}],\"plot_height\":400,\"renderers\":[{\"id\":\"1142\"}],\"title\":{\"id\":\"1156\"},\"toolbar\":{\"id\":\"1132\"},\"x_range\":{\"id\":\"1109\"},\"x_scale\":{\"id\":\"1113\"},\"y_range\":{\"id\":\"1111\"},\"y_scale\":{\"id\":\"1115\"}},\"id\":\"1108\",\"subtype\":\"Figure\",\"type\":\"Plot\"},{\"attributes\":{},\"id\":\"1115\",\"type\":\"LinearScale\"},{\"attributes\":{},\"id\":\"1113\",\"type\":\"LinearScale\"},{\"attributes\":{},\"id\":\"1126\",\"type\":\"WheelZoomTool\"},{\"attributes\":{\"active_drag\":\"auto\",\"active_inspect\":\"auto\",\"active_multi\":null,\"active_scroll\":{\"id\":\"1126\"},\"active_tap\":\"auto\",\"tools\":[{\"id\":\"1125\"},{\"id\":\"1126\"},{\"id\":\"1127\"},{\"id\":\"1128\"},{\"id\":\"1129\"},{\"id\":\"1130\"},{\"id\":\"1144\"}]},\"id\":\"1132\",\"type\":\"Toolbar\"},{\"attributes\":{\"data\":{\"color\":[\"blue\",\"blue\",\"blue\",\"blue\",\"blue\",\"blue\",\"blue\",\"blue\",\"blue\",\"blue\",\"blue\",\"blue\",\"blue\",\"blue\",\"blue\",\"blue\",\"blue\",\"blue\",\"blue\",\"blue\",\"blue\",\"blue\",\"blue\",\"blue\",\"blue\",\"blue\",\"blue\",\"blue\",\"blue\",\"blue\",\"blue\",\"blue\",\"blue\",\"blue\",\"blue\",\"blue\",\"blue\",\"blue\",\"blue\",\"blue\",\"blue\",\"blue\",\"blue\",\"blue\",\"blue\",\"blue\",\"blue\",\"blue\",\"blue\",\"blue\",\"blue\",\"blue\",\"blue\",\"blue\",\"blue\",\"blue\",\"blue\",\"blue\",\"blue\",\"blue\",\"blue\",\"blue\",\"blue\",\"blue\",\"blue\",\"blue\",\"blue\",\"blue\",\"blue\",\"blue\",\"blue\",\"blue\",\"blue\",\"blue\",\"blue\",\"blue\",\"blue\",\"blue\",\"blue\",\"blue\",\"blue\",\"blue\",\"blue\",\"blue\",\"blue\",\"blue\",\"blue\",\"blue\",\"blue\",\"blue\",\"blue\",\"blue\",\"blue\",\"blue\",\"blue\",\"blue\",\"blue\",\"blue\",\"blue\",\"blue\",\"blue\",\"blue\",\"blue\",\"blue\",\"blue\",\"blue\",\"blue\",\"blue\",\"blue\",\"blue\",\"blue\",\"blue\",\"blue\",\"blue\",\"blue\",\"blue\",\"blue\",\"blue\",\"blue\",\"blue\",\"blue\",\"blue\",\"blue\",\"blue\",\"blue\",\"blue\",\"blue\",\"blue\",\"blue\",\"blue\",\"blue\",\"blue\",\"blue\",\"blue\",\"blue\",\"blue\",\"blue\",\"blue\",\"blue\",\"blue\",\"blue\",\"blue\",\"blue\",\"blue\",\"blue\",\"blue\",\"blue\",\"blue\",\"blue\",\"blue\",\"blue\",\"blue\",\"blue\",\"blue\",\"blue\",\"blue\",\"blue\",\"blue\",\"blue\",\"blue\",\"blue\",\"blue\",\"blue\",\"blue\",\"blue\",\"blue\",\"blue\",\"blue\",\"blue\",\"blue\",\"blue\",\"blue\",\"blue\",\"blue\",\"blue\",\"blue\",\"blue\",\"blue\",\"blue\",\"blue\",\"blue\",\"blue\",\"blue\",\"blue\",\"blue\",\"blue\",\"blue\",\"blue\",\"blue\",\"blue\",\"blue\",\"blue\",\"blue\",\"blue\",\"blue\",\"blue\",\"blue\",\"blue\",\"blue\",\"blue\",\"blue\",\"blue\",\"blue\",\"blue\",\"blue\",\"blue\",\"blue\",\"blue\",\"blue\",\"blue\",\"blue\",\"blue\",\"blue\",\"blue\",\"blue\",\"blue\",\"blue\",\"blue\",\"blue\",\"blue\",\"blue\",\"blue\",\"blue\",\"blue\",\"blue\",\"blue\",\"blue\",\"blue\",\"blue\",\"blue\",\"blue\",\"blue\",\"blue\",\"blue\",\"blue\",\"blue\",\"blue\",\"blue\",\"blue\",\"blue\",\"blue\",\"blue\",\"blue\",\"blue\",\"blue\",\"blue\",\"blue\",\"blue\",\"blue\",\"blue\",\"blue\",\"blue\",\"blue\",\"blue\",\"blue\",\"blue\",\"blue\",\"blue\",\"blue\",\"blue\",\"blue\",\"blue\",\"blue\",\"blue\",\"blue\",\"blue\",\"blue\",\"blue\",\"blue\",\"blue\",\"blue\",\"blue\",\"blue\",\"blue\",\"blue\",\"blue\",\"blue\",\"blue\",\"blue\",\"blue\",\"blue\",\"blue\",\"blue\",\"blue\",\"blue\",\"blue\",\"blue\",\"blue\",\"blue\",\"blue\",\"blue\",\"blue\",\"blue\",\"blue\",\"blue\",\"blue\",\"blue\",\"blue\",\"blue\",\"blue\",\"blue\",\"blue\",\"blue\",\"blue\",\"blue\",\"blue\",\"blue\",\"blue\",\"blue\",\"blue\",\"blue\",\"blue\",\"blue\",\"blue\",\"blue\",\"blue\",\"blue\",\"blue\",\"blue\",\"blue\",\"blue\",\"blue\",\"blue\",\"blue\",\"blue\",\"blue\",\"blue\",\"blue\",\"blue\",\"blue\",\"blue\",\"blue\",\"blue\",\"blue\",\"blue\",\"blue\",\"blue\",\"blue\",\"blue\",\"blue\",\"blue\",\"blue\",\"blue\",\"blue\",\"blue\",\"blue\",\"blue\",\"blue\",\"blue\",\"blue\",\"blue\",\"blue\",\"blue\",\"blue\",\"blue\",\"blue\",\"blue\",\"blue\",\"blue\",\"blue\",\"blue\",\"blue\",\"blue\",\"blue\",\"blue\",\"blue\",\"blue\",\"blue\",\"blue\",\"blue\",\"blue\",\"blue\",\"blue\",\"blue\",\"blue\",\"blue\",\"blue\",\"blue\",\"blue\",\"blue\",\"blue\",\"blue\",\"blue\",\"blue\",\"blue\",\"blue\",\"blue\",\"blue\",\"blue\",\"blue\",\"blue\",\"blue\",\"blue\",\"blue\",\"blue\",\"blue\",\"blue\",\"blue\",\"blue\",\"blue\",\"blue\",\"blue\",\"blue\",\"blue\",\"blue\",\"blue\",\"blue\",\"blue\",\"blue\",\"blue\",\"blue\",\"blue\",\"blue\",\"blue\",\"blue\",\"blue\",\"blue\",\"blue\",\"blue\",\"blue\",\"blue\",\"blue\",\"blue\",\"blue\",\"blue\",\"blue\",\"blue\",\"blue\",\"blue\",\"blue\",\"blue\",\"blue\",\"blue\",\"blue\",\"blue\",\"blue\",\"blue\",\"blue\",\"blue\",\"blue\",\"blue\",\"blue\",\"blue\",\"blue\",\"blue\",\"blue\",\"blue\",\"blue\",\"blue\",\"blue\",\"blue\",\"blue\",\"blue\",\"blue\",\"blue\",\"blue\",\"blue\",\"blue\",\"blue\",\"blue\",\"blue\",\"blue\",\"blue\",\"blue\",\"blue\",\"blue\",\"blue\",\"blue\",\"blue\",\"blue\",\"blue\",\"blue\",\"blue\",\"blue\",\"blue\",\"blue\",\"blue\",\"blue\",\"blue\",\"blue\",\"blue\",\"blue\",\"blue\",\"blue\",\"blue\",\"blue\",\"blue\",\"blue\",\"blue\",\"blue\",\"blue\",\"blue\",\"blue\",\"blue\",\"blue\",\"blue\",\"blue\",\"blue\",\"blue\",\"blue\",\"blue\",\"blue\",\"blue\",\"blue\",\"blue\",\"blue\",\"blue\",\"blue\",\"blue\",\"blue\",\"blue\",\"blue\",\"blue\",\"blue\",\"blue\",\"blue\",\"blue\",\"blue\",\"blue\",\"blue\",\"blue\",\"blue\",\"blue\",\"blue\",\"blue\",\"blue\",\"blue\",\"blue\",\"blue\",\"blue\",\"blue\",\"blue\",\"blue\",\"blue\",\"blue\",\"blue\",\"blue\",\"blue\",\"blue\",\"blue\",\"blue\",\"blue\",\"blue\",\"blue\",\"blue\",\"blue\",\"blue\",\"blue\",\"blue\",\"blue\",\"blue\",\"blue\",\"blue\",\"blue\",\"blue\",\"blue\",\"blue\",\"blue\",\"blue\",\"blue\",\"blue\",\"blue\",\"blue\",\"blue\",\"blue\",\"blue\",\"blue\",\"blue\",\"blue\",\"blue\",\"blue\",\"blue\",\"blue\",\"blue\",\"blue\",\"blue\",\"blue\",\"blue\",\"blue\",\"blue\",\"blue\",\"blue\",\"blue\",\"blue\",\"blue\",\"blue\",\"blue\",\"blue\",\"blue\",\"blue\",\"blue\",\"blue\",\"blue\",\"blue\",\"blue\",\"blue\",\"blue\",\"blue\",\"blue\",\"blue\",\"blue\",\"blue\",\"blue\",\"blue\",\"blue\",\"blue\",\"blue\",\"blue\",\"blue\",\"blue\",\"blue\",\"blue\",\"blue\",\"blue\",\"blue\",\"blue\",\"blue\",\"blue\",\"blue\",\"blue\",\"blue\",\"blue\",\"blue\",\"blue\",\"blue\",\"blue\",\"blue\",\"blue\",\"blue\",\"blue\",\"blue\",\"blue\",\"blue\",\"blue\",\"blue\",\"blue\",\"blue\",\"blue\",\"blue\",\"blue\",\"blue\",\"blue\",\"blue\",\"blue\",\"blue\",\"blue\",\"blue\",\"blue\",\"blue\",\"blue\",\"blue\",\"blue\",\"blue\",\"blue\",\"blue\",\"blue\",\"blue\",\"blue\",\"blue\",\"blue\",\"blue\",\"blue\",\"blue\",\"blue\",\"blue\",\"blue\",\"blue\",\"blue\",\"blue\",\"blue\",\"blue\",\"blue\",\"blue\",\"blue\",\"blue\",\"blue\",\"blue\",\"blue\",\"blue\",\"blue\",\"blue\",\"blue\",\"blue\",\"blue\",\"blue\",\"blue\",\"blue\",\"blue\",\"blue\",\"blue\",\"blue\",\"blue\",\"blue\",\"blue\",\"blue\",\"blue\",\"blue\",\"blue\",\"blue\",\"blue\",\"blue\",\"blue\",\"blue\",\"blue\",\"blue\",\"blue\",\"blue\",\"blue\",\"blue\",\"blue\",\"blue\",\"blue\",\"blue\",\"blue\",\"blue\",\"blue\",\"blue\",\"blue\",\"blue\",\"blue\",\"blue\",\"blue\",\"blue\",\"blue\",\"blue\",\"blue\",\"blue\",\"blue\",\"blue\",\"blue\",\"blue\",\"blue\",\"blue\",\"blue\",\"blue\",\"blue\",\"blue\",\"blue\",\"blue\",\"blue\",\"blue\",\"blue\",\"blue\",\"blue\",\"blue\",\"blue\",\"blue\",\"blue\",\"blue\",\"blue\",\"blue\",\"blue\",\"blue\",\"blue\",\"blue\",\"blue\",\"blue\",\"blue\",\"blue\",\"blue\",\"blue\",\"blue\",\"blue\",\"blue\",\"blue\",\"blue\",\"blue\",\"blue\",\"blue\",\"blue\",\"blue\",\"blue\",\"blue\",\"blue\",\"blue\",\"blue\",\"blue\",\"blue\",\"blue\",\"blue\",\"blue\",\"blue\",\"blue\",\"blue\",\"blue\",\"blue\",\"blue\",\"blue\",\"blue\",\"blue\",\"blue\",\"blue\",\"blue\",\"blue\",\"blue\",\"blue\",\"blue\",\"blue\",\"blue\",\"blue\",\"blue\",\"blue\",\"blue\",\"blue\",\"blue\",\"blue\",\"blue\",\"blue\",\"blue\",\"blue\",\"blue\",\"blue\",\"blue\",\"blue\",\"blue\",\"blue\",\"blue\",\"blue\",\"blue\",\"blue\",\"blue\",\"blue\",\"blue\",\"blue\",\"blue\",\"blue\",\"blue\",\"blue\",\"blue\",\"blue\",\"blue\",\"blue\",\"blue\",\"blue\",\"blue\",\"blue\",\"blue\",\"blue\",\"blue\",\"blue\",\"blue\",\"blue\",\"blue\",\"blue\",\"blue\",\"blue\",\"blue\",\"blue\",\"blue\",\"blue\",\"blue\",\"blue\",\"blue\",\"blue\",\"blue\",\"blue\",\"blue\",\"blue\",\"blue\",\"blue\",\"blue\",\"blue\",\"blue\",\"blue\",\"blue\",\"blue\",\"blue\",\"blue\",\"blue\",\"blue\",\"blue\",\"blue\",\"blue\",\"blue\",\"blue\",\"blue\",\"blue\",\"blue\",\"blue\",\"blue\",\"blue\",\"blue\",\"blue\",\"blue\",\"blue\",\"blue\",\"blue\",\"blue\",\"blue\",\"blue\",\"blue\",\"blue\",\"blue\",\"blue\",\"blue\",\"blue\",\"blue\",\"blue\",\"blue\",\"blue\",\"blue\",\"blue\",\"blue\",\"blue\",\"blue\",\"blue\",\"blue\",\"blue\",\"blue\",\"blue\",\"blue\",\"blue\",\"blue\",\"blue\",\"blue\",\"blue\",\"blue\",\"blue\",\"blue\",\"blue\",\"blue\",\"blue\",\"blue\",\"blue\",\"blue\",\"blue\",\"blue\",\"blue\",\"blue\",\"blue\",\"blue\",\"blue\",\"blue\",\"blue\",\"blue\",\"blue\",\"blue\",\"blue\",\"blue\",\"blue\",\"blue\",\"blue\",\"blue\",\"blue\",\"blue\",\"blue\",\"blue\",\"blue\",\"blue\",\"blue\",\"blue\",\"blue\",\"blue\",\"blue\",\"blue\",\"blue\",\"blue\",\"blue\",\"blue\",\"blue\",\"blue\",\"blue\",\"blue\",\"blue\",\"blue\",\"blue\",\"blue\",\"blue\",\"blue\",\"blue\",\"blue\",\"blue\",\"blue\",\"blue\",\"blue\",\"blue\",\"blue\",\"blue\",\"blue\",\"blue\",\"blue\",\"blue\",\"blue\",\"blue\",\"blue\",\"blue\",\"blue\",\"blue\",\"blue\",\"blue\",\"blue\",\"blue\",\"blue\",\"blue\",\"blue\",\"blue\",\"blue\",\"blue\",\"blue\",\"blue\"],\"token\":[\"<user>\",\".\",\":\",\"rt\",\",\",\"<repeat>\",\"<hashtag>\",\"<number>\",\"<url>\",\"!\",\"i\",\"a\",\"\\\"\",\"the\",\"?\",\"you\",\"to\",\"(\",\"<allcaps>\",\"<elong>\",\")\",\"me\",\"de\",\"<smile>\",\"\\uff01\",\"que\",\"and\",\"\\u3002\",\"-\",\"my\",\"no\",\"\\u3001\",\"is\",\"it\",\"\\u2026\",\"in\",\"n\",\"for\",\"/\",\"of\",\"la\",\"'s\",\"*\",\"do\",\"n't\",\"that\",\"on\",\"y\",\"'\",\"e\",\"o\",\"u\",\"en\",\"this\",\"el\",\"so\",\"be\",\"'m\",\"with\",\"just\",\">\",\"your\",\"^\",\"like\",\"have\",\"te\",\"at\",\"\\uff1f\",\"love\",\"se\",\"are\",\"<\",\"m\",\"r\",\"if\",\"all\",\"b\",\"\\u30fb\",\"not\",\"but\",\"we\",\"es\",\"ya\",\"&\",\"follow\",\"up\",\"what\",\"get\",\"lol\",\"un\",\"\\u2665\",\"lo\",\"when\",\"was\",\"\\u201c\",\"\\u201d\",\"one\",\"por\",\"si\",\"out\",\"_\",\"mi\",\"can\",\"<sadface>\",\"\\u0645\\u0646\",\"\\u2661\",\"\\u00b4\",\"he\",\"con\",\"they\",\"now\",\"go\",\"\\u060c\",\"para\",\"los\",\"know\",\"haha\",\"good\",\"tu\",\"back\",\"~\",\"about\",\"new\",\";\",\"as\",\"day\",\"how\",\"who\",\"will\",\"want\",\"people\",\"yo\",\"eu\",\"from\",\"di\",\"time\",\"<heart>\",\"s\",\"aku\",\"da\",\"'re\",\"<lolface>\",\"una\",\"got\",\"las\",\"more\",\"x\",\"she\",\"today\",\"\\uff08\",\">>\",\"k\",\"by\",\"or\",\"\\u0641\\u064a\",\"\\uff65\",\"too\",\"le\",\"\\u00e9\",\"|\",\"[\",\"\\uff09\",\"]\",\"see\",\"why\",\"yg\",\"ca\",\"como\",\"her\",\"\\u2014\",\"q\",\"need\",\"an\",\"na\",\"\\u7b11\",\"there\",\"\\u03c9\",\"happy\",\"im\",\"mas\",\"je\",\"life\",\"really\",\"make\",\"yang\",\"shit\",\"think\",\"t\",\"\\u2764\",\"n\\u00e3o\",\"never\",\"some\",\"\\uff5e\",\"oh\",\"\\u2605\",\"did\",\"would\",\"del\",\"`\",\"d\",\"please\",\"via\",\"much\",\"fuck\",\"al\",\"dia\",\"$\",\"\\u0648\",\"right\",\"best\",\"c\",\"going\",\"\\u0627\\u0644\\u0644\\u0647\",\"pero\",\"only\",\"has\",\"\\u266a\",\"'ll\",\"twitter\",\"=\",\"hahaha\",\"its\",\"nn\",\"\\uff40\",\"\\u00bf\",\"am\",\"say\",\"<neutralface>\",\"them\",\"here\",\"\\u0644\\u0627\",\"off\",\"still\",\"dan\",\"+\",\"night\",\"w\",\"ada\",\"someone\",\"even\",\"then\",\"\\u2606\",\"ni\",\"come\",\"com\",\"always\",\"man\",\"'ve\",\"been\",\"his\",\"itu\",\"\\u0639\\u0644\\u0649\",\"-_-\",\"\\u263a\",\"over\",\"um\",\"\\u0645\\u0627\",\"hate\",\"girl\",\"ai\",\"had\",\"pra\",\"todo\",\"mais\",\"feel\",\"let\",\"ini\",\"because\",\"\\uff9f\",\"thanks\",\"ah\",\"way\",\"ever\",\"look\",\"tweet\",\"followers\",\"should\",\"our\",\"xd\",\"aja\",\"esta\",\"school\",\"him\",\"ser\",\"take\",\"than\",\"video\",\"em\",\"last\",\"wanna\",\"does\",\"us\",\"miss\",\"l\",\"ga\",\"better\",\"well\",\"could\",\"\\u25bd\",\"%\",\"apa\",\"cuando\",\"team\",\"\\u2714\",\"@\",\"ok\",\"\\u061f\",\"\\u2022\",\"vida\",\"quiero\",\"les\",\"being\",\"real\",\"down\",\"kamu\",\"everyone\",\"gonna\",\"live\",\"tonight\",\"yes\",\"work\",\"ass\",\"retweet\",\"nada\",\"sama\",\"first\",\"<<\",\"photo\",\"tomorrow\",\"where\",\"god\",\"son\",\"ke\",\"ta\",\"f\",\"home\",\"lagi\",\"thank\",\"birthday\",\"\\u2588\",\"ha\",\"great\",\"lmao\",\"omg\",\"morning\",\"m\\u00e1s\",\"mau\",\"baby\",\"dont\",\"\\uff61\",\"their\",\"p\",\"things\",\"game\",\"pas\",\"bad\",\"year\",\"yeah\",\"su\",\"bitch\",\"\\u0432\",\"stop\",\"hoy\",\"something\",\"meu\",\"tak\",\"gak\",\"world\",\"amor\",\"h\",\"\\\\\",\"ver\",\"\\uff1b\",\"porque\",\"give\",\"these\",\"\\u0627\\u0644\\u0644\\u0647\\u0645\",\"were\",\"hay\",\"sleep\",\"gue\",\"every\",\"friends\",\"uma\",\"tell\",\"amo\",\"vou\",\"bien\",\"\\u00a1\",\"again\",\"\\uff3e\",\"\\uff0f\",\"done\",\"after\",\"todos\",\"girls\",\"guys\",\"getting\",\"big\",\"wait\",\"justin\",\"eh\",\"\\u2192\",\"kan\",\"kita\",\"jajaja\",\"wish\",\"said\",\"fucking\",\"show\",\"thing\",\"next\",\"voc\\u00ea\",\"nos\",\"little\",\"tengo\",\"keep\",\"person\",\"''\",\"\\u2200\",\"hope\",\"\\u0643\\u0644\",\"hey\",\"bisa\",\"free\",\"made\",\"foto\",\"va\",\"everything\",\"iya\",\"nigga\",\"eso\",\"et\",\"watch\",\"music\",\"week\",\"talk\",\"ne\",\"solo\",\"gente\",\"udah\",\"\\uff1a\",\"--\",\"\\uff3c\",\"mejor\",\"facebook\",\"ma\",\"v\",\"phone\",\"most\",\"same\",\"okay\",\"ik\",\"before\",\"minha\",\"days\",\"g\",\"ti\",\"damn\",\"nice\",\"voy\",\"vai\",\"call\",\"long\",\"tapi\",\"http\",\"sin\",\"nunca\",\"doing\",\"other\",\"find\",\"il\",\"sa\",\"sorry\",\"nya\",\"orang\",\"\\u00b0\",\"hard\",\"mean\",\"die\",\"\\u0627\\u0644\\u0644\\u064a\",\"tem\",\"soy\",\"este\",\"kalo\",\"s\\u00f3\",\"th\",\"win\",\"nothing\",\"into\",\"face\",\"cute\",\"'d\",\"gracias\",\"lah\",\"\\u0438\",\"any\",\"play\",\"\\u2190\",\"ko\",\"text\",\"\\u2323\",\"estoy\",\"tau\",\"ur\",\"buat\",\"#\",\"cause\",\"\\u044f\",\"put\",\"kau\",\"siempre\",\"juga\",\"casa\",\"\\u0623\\u0646\",\"help\",\"start\",\"feliz\",\"old\",\"ir\",\"very\",\"care\",\"bir\",\"makes\",\"song\",\"check\",\"watching\",\"ahora\",\"jadi\",\"os\",\"may\",\"friend\",\"beautiful\",\"heart\",\"ka\",\"vc\",\"mundo\",\"\\u043d\\u0430\",\"sure\",\"tan\",\"pretty\",\"aqui\",\"\\u043d\\u0435\",\"house\",\"\\u0631\\u062a\\u0648\\u064a\\u062a\",\"\\u064a\\u0627\",\"ja\",\"true\",\"muy\",\"away\",\"already\",\"actually\",\"believe\",\"try\",\"many\",\"ma\\u00f1ana\",\"mis\",\"lu\",\"those\",\"hot\",\"qu\\u00e9\",\"mal\",\"\\u0639\\u0646\",\"though\",\"ask\",\"amazing\",\"bed\",\"}\",\"two\",\"mom\",\"d\\u00eda\",\"ve\",\"dari\",\"gameinsight\",\"stay\",\"fun\",\"around\",\"van\",\"cont\",\"ready\",\"money\",\"bu\",\"funny\",\"cool\",\"hair\",\"\\u00e0\",\"tho\",\"{\",\"wo\",\"hi\",\"name\",\"tiene\",\"hahahaha\",\"pa\",\"algo\",\"gotta\",\"\\u0648\\u0644\\u0627\",\"boy\",\"another\",\"c'est\",\"hari\",\"jajajaja\",\"having\",\"cara\",\"jaja\",\"dm\",\"looking\",\"top\",\"android\",\"dah\",\"wow\",\"\\u2591\",\"eres\",\"ben\",\"must\",\"news\",\"met\",\"est\\u00e1\",\"nih\",\"family\",\"black\",\"thought\",\"nak\",\"super\",\"end\",\"hace\",\"remember\",\"ama\",\"party\",\"cant\",\"vamos\",\"anything\",\"anyone\",\"\\u0641\\u0648\\u0644\\u0648\",\"perfect\",\"guy\",\"vez\",\"christmas\",\"dos\",\"bueno\",\"nao\",\"years\",\"vote\",\"dormir\",\"bro\",\"else\",\"quien\",\"untuk\",\"jangan\",\"myself\",\"head\",\"mind\",\"gua\",\"talking\",\"while\",\"dat\",\"food\",\"\\u0434\",\"coming\",\"wkwk\",\"trying\",\"saya\",\"mucho\",\"without\",\"wrong\",\"\\u2019s\",\"baru\",\"__\",\"hehe\",\"hacer\",\"lot\",\"followed\",\"crazy\",\"hell\",\"feeling\",\"des\",\"kok\",\"j\",\"stats\",\"j'\",\"\\u0627\\u0646\",\"tweets\",\"non\",\"cosas\",\"era\",\"high\",\"niggas\",\"change\",\"movie\",\"xx\",\"mad\",\"sih\",\"sometimes\",\"deh\",\"allah\",\"through\",\"pour\",\"ela\",\"soon\",\"gone\",\"playing\",\"smile\",\"bukan\",\"tv\",\"fans\",\"hasta\",\"akan\",\"y'\",\"looks\",\"isso\",\"\\u270c\",\"tired\",\"boys\",\"might\",\"dong\",\"lg\",\"use\",\"maybe\",\"until\",\"menos\",\"own\",\"dengan\",\"eat\",\"ou\",\"weekend\",\"\\u02d8\",\"class\",\"ele\",\"harry\",\"iphone\",\"friday\",\"single\",\"ff\",\"awesome\",\"bout\",\"muito\",\"hoje\",\"\\u00ac\",\"dios\",\"such\",\"estar\",\"j\\u00e1\",\"quando\",\"esa\",\"making\",\"\\u2501\",\"times\",\"lmfao\",\"gw\",\"moment\",\"yet\",\"aw\",\"smh\",\"banget\",\"masih\",\"qui\",\"quem\",\"\\u2013\",\"leave\",\"du\",\"une\",\"guess\",\"hit\",\"\\u0441\",\"pm\",\"since\",\"pues\",\"est\",\"job\",\"\\uff89\",\"mana\",\"bom\",\"siapa\",\"suka\",\"bieber\",\"mention\",\"lebih\",\"favorite\",\"bitches\",\"forever\",\"\\u0644\\u064a\",\"final\",\"read\",\"alguien\",\"open\",\"yourself\",\"ese\",\"che\",\"sex\",\"yaa\",\"car\",\"direction\",\"tidak\",\"seu\",\"gets\",\"left\",\"re\",\"jam\",\"enough\",\"\\u0625\\u0644\\u0627\",\"once\",\"\\u2019\",\"part\",\"cada\",\"\\u5b9a\\u671f\",\"\\u0644\\u0643\",\"een\",\"seen\",\"kak\",\"as\\u00ed\",\"nem\",\"\\u0639\\u0645\\u0644\",\"white\",\"told\",\"says\",\"esto\",\"sad\",\"mo\",\"fue\",\"yah\",\"summer\",\"\\u0647\",\"\\u2b55\",\"\\u00bb\",\"thats\",\"\\u0645\\u0639\",\"posted\",\"wants\",\"agora\",\"together\",\"fan\",\"men\",\"hear\",\"full\",\"\\u2600\",\"sigo\",\"pq\",\"dulu\",\"plus\",\"foi\",\"tudo\",\"\\u0647\\u0648\",\"ill\",\"\\u3042\",\"thinking\",\"wtf\",\"pagi\",\"mama\",\"kalau\",\"hati\",\"sexy\",\"sayang\",\"baik\",\"semua\",\"hola\",\"went\",\"vos\",\"tanto\",\"finally\",\"fb\",\"sea\",\"stupid\",\"tus\",\"seriously\",\"hora\",\"min\",\"pic\",\"estas\",\"turn\",\"hours\",\"excited\",\"nah\",\"buy\",\"saying\",\"mah\",\"break\",\"needs\",\"ce\",\"room\",\"choice\",\"far\",\"dead\",\"quero\",\"saw\",\"kids\",\"lil\",\"whole\",\"puede\",\"fall\",\"sus\",\"lost\",\"asi\",\"word\",\"\\u2639\",\"also\",\"\\u0631\\u064a\\u062a\\u0648\\u064a\\u062a\",\"probably\",\"everybody\",\"tarde\",\"run\",\"sei\",\"follback\",\"forget\",\"sweet\",\"welcome\",\"selamat\",\"\\uff3f\",\"sur\",\"place\",\"gusta\",\"sabe\",\"androidgames\",\"tp\",\"tiempo\",\"\\u0628\\u0633\",\"sou\",\"tuh\",\"vs\",\"eyes\",\"\\u0627\\u0646\\u0627\",\"picture\",\"das\",\"meet\",\"anak\",\"persona\",\"essa\",\"bored\",\"following\",\"nadie\",\"nobody\",\"dice\",\"alone\",\"sick\",\"red\",\"city\",\"cinta\",\"\\u6708\",\"linda\",\"dream\",\"story\",\"km\",\"het\",\"waiting\",\"^_^\",\"mine\",\"\\u0447\\u0442\\u043e\",\"reason\",\"kk\",\"\\u0644\\u0648\",\"online\",\"fast\",\"udh\",\"wanted\",\"op\",\"others\",\"gay\",\"n\\u2019t\",\"used\",\"sem\",\"understand\",\"moi\",\"sm\",\"aint\",\"donde\",\"bem\",\"which\",\"ng\",\"followback\",\"punya\",\"late\",\"anda\",\"tidur\",\"puedo\",\"early\",\"nd\",\"personas\",\"banyak\",\"\\u2705\",\"\\u278a\",\"trust\",\"noche\",\"tl\",\"\\uff1e\",\"\\u00ab\",\"af\",\"move\",\"pro\",\"bring\",\"ku\",\"called\",\"relationship\",\"idk\",\"hurt\",\"st\",\"pernah\",\"pessoas\",\"hello\",\"uno\",\"unfollowers\",\"cry\"],\"x\":{\"__ndarray__\":\"iEDpQCqS4kAyueZAjMDpQOxs4EAUmOZAaowGQUiuAkG3zPpAjufnQCTrHEER/BNBqyvlQJCJR0GStOBAq5QrQUl5LUFeLPpAeGb7QBpdBkHki/pAWtwTQfKmW0GW8AdBfmLCP3H6VkEy0kZBJGudP74/9UDt+ipB08YTQVw2lT96zENBZwgrQfvu6kC3e0VBP9UGQchcJkFQaP1AtWxHQbdxdUHlP0RBB/4AQXHOJ0Fyry5BFpAuQSG1LUHY3G1BuCneQGhsD0Grfg5B8VkUQYa6ZUE5ESxBpO5qQWzDMUGCDyxBHxYaQaDjR0FNMy9B30UIQVeoKUGTYv9AT3MnQe/4NUEL61dBx+dCQc+zgD9brBNB+jtWQUqSMkF6AAlBq4EYQdMfFEGIuC5BrL4nQWEdFEG6zqY/YIotQRLvKkGuAR9BN8B5QekCEEGYoEVBPnD8QKItPkHc5yhBvQIxQZtWAUGmFHpBK6kBQSjWeEFJKiRBYwFAQYXW5kB0y+dACxYnQcGSUkHBZHhBvFQ/QY7a/kAsdXFB/GcsQfzgB0E1N6rAe3sBQQHX+EAShDxBU2BwQXbaL0HI+D1Be7oqQZCvpsBBWlFBS+JoQcLrJkFJUA1B0Ws9QR45d0HMPD5Bg8f+QIVzKUE75zBBYIDgQNFTJ0GQnUJBpoMqQU77NEGnzTdBGHwhQRLuHkGhfxJB6QIVQZ71R0EI9UBBSa0zQYMNAEFf7xlBlclOQYVDD0HDvCVBh1cNQRcicUFVDjVBX1BqQTOpGUGiRRhButwzQU26QUE5B6o/4twBQRysEUHuy0dBvwlDQdnuq8AMkpg/OeAxQWtOfEEBLhFBcBz6QC5U+kCv96M/43D7QOHUKEH5USZBhMhJQZZ3K0FEFFJBoBImQRWu4EAfmlFB3EUrQdWzGUGByA9Bnw6FP5q/KEFKDZw/KrgEQSUjFkFUh09B+f+VQT5JFkGtfC9BYOMqQaVsTkFNHgVB3pUtQV6OGkGeSQBBjvQRQXdjL0GJ/CRBmoHMP53d/0A+NfU/5IwxQVcyOUGFUWlB/Bv6QLSFF0F82vhAQEH/QLPeEkGJ5wVBvhdpQV6yTEEWNgNBfFirwIxmPkHHiThBajIaQcDBO0H8GKvAv2x9QUyAL0HCWzxBL4vnP+ZbIkFgxwlBgAYEQTs/DUE6LChB0eoFQRIooD8cBHpB8OQYQcyxI0EAhwZBPk8gQVLFPkFQNKXA2/U8QQjVLUFvFlFBZdcDQTuUQUEXeRlBhltEQQdIGkFqXh1BHWAqQeE85D+rGA5B9AkuQfhvFEF6jSxB28wWQRqhOUFr/D1BrBAzQbTnSkE6s6vA5u0SQac1BEEPiEJBhToXQcUnr8BkmhJBBCYbQRidFUFrSj5BRboXQVEqUkER5hVBsXcNQT8nJ0EoFEVB988jQd/jnT/LcgNB/l8NQWu7MkEpIzNBUEsZQSKtCUEFlf1AKtg4QXuKJUGakgtBUK4wQYXeakG8jkFBzM0rQQ7hT0ERkypBG+AZQSM7K0GzVQ9BZulGQWE7EUElTzhBuY4jQYHMBEHi1xZBM0Q1QTD1L0ESbzJBeMU4QUg++EAV5QFBZIQ9QVtpdEEE/iVB94Y1QBp3/EB8FABBn02zwA/l/EDTjU9BHyN4QSTvlkEpKDBB/+4jQUaoPUGjGUxBpTgbQaMuEkFN1DFB2XRBQbkKAUEWezlBELMEQaE3/UCjxFBBG+c6QV5ySEEVeQFBoe0rQSdwQkHC0ChBJOwTQUZCZ0EfkT9B40YVQYHwFEHw2kBBmD1DQdBNBEG1zwRBoh8AQOQTf0HfVjxBEIMAQUeUAEGTREJBMs13QZQpNEGkhhRBCbgPQTGJmD9F5SFBw/0QQaZfF0HksDhBEW2XQcotDUHjeUdBQf0AQR4DcUH/mwVBiROewMwNIkGy4XBB97cRQUlkF0HZeE9BZK4zQU1xIUFhqU5BgPYaQfFQ/kAOJU1Bto6VP18LUkGhKSlBF78eQUahqsB2qzVBBFx2QZGtCUFTUDVBbfgnQY6aIkEMhg1B67cgQR3dTUEaHhhBwIt8QeFreUGPWD5BfH6vP6qurT8P0kBB71FFQVRyUUFiGSFB5eUjQQ/tOEGDqx5Bqqw8QSj6JEGPcQ5BLAuuP2hQNkEVRVFBtJyCQQncJ0FSLTVB1mgHQdIwL0HWgiZB0ShHQffmE0GpXVNBPDkaQY9JdUGa7StBGmgVQdb23UC77KA/WVMpQVyorMCSAgNBi3g+QV4dMEF5UClBqLpLQc1Ke0FLuRFBYBYsQUzvBUHJeXtBaGWXQSTlNUEPPS9B7b5DQcwiH0EJxs1AQJJ2Qa0OT0EKEzhBcnSqP0ts8EA0Pbc/15h5Qa8EB0GpbxtBMz8aQdOjI0ElAxxBPCUeQQBD/0CWTjBA4XBEQe/eDUFzO0hBavsYQRXxdEHm6QVBjPcZQcuidEEeMBdBLBojQTg7MEEr7ktB5/P8QEhyc0G1C1FB+9sgQXCzH0FLeCxBg1aUQa/ID0HLJgBBFlQ4QZGeTEFPqvtAnQgbQao8I0GnrhdBoFmzwABPEUFQIn5BBclsQROiNUHjohNBgDxHQVSONEGpWRJBRABIQeLEGkE/6xdBi3MoQVGAfkFH3ExBK7ydwJH1IkEVazVBXgCMPyu1D0EIcyJBft/+QDlwe0GDWzpBWO8kQZxWSUGM4AZB9boKQWC/m8ArgyhBrpxPQfu3eEHIHzpBjvxGQYd9ocAvORxBRckyQanuTUEWIiZBTshHQcCiGkFSShpBsSzJQMs8IkGvoi9B5V8vQdp0NEGHcnJB3CBJQXJmUUFBozJBYFkfQU6UNUFfPRlBJDUQQXzQFUGzL1BBnx+ewEA7L0EGWX9BqSkXQT3WREEzKp3A50VCQfhqR0AZ4q3A6vURQWNqFEFddX1BsPNEQe75P0GbCzNB8pghQWJnKkHzjhxBZfFwQRq0ZkFzbjZBeSkeQdFgF0HEv3hBnCN8QblYrMDnEzhBOiAcQaEQOUG8FSZBPK38QNVUHkGtpB5BRfRvQeX1yUDV2UpBGlP+QKerLkF4WzxBe/JDQSpSMkDfKPNA6Ew9Qb4jKUHL3clAoXUHQQDNF0EerxdBgV2YQfa8AUG6H/xAs2UlQf9JA0Eimx9BykNxQV2ZDUEf4Q5BvZ9QQYHpD0Gu9KfA6T0YQcvqM0Gko5ZBpD5CQRyagkEjLyBBtUlNQdw2gkEVngpBpa8eQbqgI0FirQBBtLlNQRhJAEEFQQBAXW58QecozUA+8zZBISf+QATyMUCNfVJB0U4yQeM+IkFUXh5Brd0zQTn8TkFyzCRBuzcxQUsWcUGjDSJB7l7NQPG+P0FOhxJB+ZdPQalIEUGSgBdBfFREQB1hNUErLB9B0bRPQVQ8QkHXN1FBZeqAQR0eFEElL0FBKYAmQYmWSEH7WwJBVY8WQbIGdkGxNlFBuC5MQQXoEEEcxz5BWMMVQQm9NkFuKyJB2w9FQRBhLEDWPiVBwvWWPy07QUF3gyxBC7A6QbQ4UUHyp3xBUoAUQTXNGUHuqkRBkwVEQWBiAEHW0g1Bp3t0Qcz6GEEpbQJBuHUHQe9tBEHN5Q1BmuuXQfU1L0EgkxpBB4UDQVBwlkFbxKTAIE4JQWs8k0FMOHZBQpdQQfZpNEG+9AdBEW8aQc1BL0FmpABBzbUEQZtsMUFy4xRBD5ktQdIVVEFugkdBq/6XQVPLFkEAbEBBNW4OQS/8NUEslRlBZLZMQZssKkGjpyVBRQFyQVS7UkHU4QpBIRQXQfxlD0H/1QBBjgsHQeYTJEHhUzpBKagrQb8cO0Gp2ixB/9osQXmWQkG/fVBBzHUlQcyZT0FElyVBNMkVQTJEQkGEDfxAO4Q2Qf5BFkGWAiVBLBUDQTzmQEE+1ShBwYb8QHE5OUFo+wlB3xwOQYs2FkEnfghBqBB5Qa2YG0HTMk5BsagWQSSgFkH2t3BB44YgQWEU5z+M5DxBrGQAQeM4OEHsyC5BvK47QdnaAUGP1AFB0f0vQSv+REHR7ZZBeycUQbA/+kD6XypB74SXQRubl0GBWC5BoFg8QRj6ncC9nUVBapNAQQLggUE9BJdB2DQ5QYQdnj830j1BEBcNQTSRPUGx9ktBlaQkQXc6C0H1uVFBUM03QRymBkGE5RpBvBCuwLvAREGHnypBsg14Qa/LM0FpdhBBWwNuQQ+4kkFdLSJBT1EqQfWqL0HHCiVBWXZSQZkMFkFOLjtBuvxAQVcngEHGkkBB1psYQTGmpcBsiDtBqgviQFm1LkHGWlBB7HqfPwvtrcC1TjJAApI5QTkpKkEl5HZBeg0VQf7TRECMvB1BrHw0QW+AP0F+YHJBgCITQRoGEEH0YXJBdDwqQdqGQUFN0bPA4U48QMjc50ClQwVBuWuswL+1LEHeujRBBmAYQaFXIEEbASVBbQgZQaHQH0GU2iRBOSQAQUyVfEGAcBVBxBA/QdiIl0H3VBVBSmcOQajApsAjHRNBGLqFP61ME0EO5ABBAQRBQcNMEkGej05By5NPQV5qFkEaolJBUxRTQTAPUEHeqH9B789AQcFnfkHTHk9BR8BBQX+LCUGlB3hBkLwPQS8saEEyWTBB8dJIQdZ8FUEuIShBAhd/QbmcNUHOQkpBfbI8QRNFD0GHMyxBgKsjQVHNLkFc9DJBx3U0Qe2llkGri0JB02MoQcuZMkEE4TlBiNgXQXFPNkF8UiRBcJAEQVSlKEE/SndBCXwgQVrNZ0EXNT1BMVeAQQxPGkG4AgVBcn4wQWnlRUC4WDZBB20YQXAySEEuPzhBlLwVQbWkKkExxyRBwLUXQdtiBEFRwkFBWsm4P0zNl0FiVi9BmgV6Qfc+UUFJB/5Agx88QQH3cUHtcrPAjWIQQb/tN0EdWURBRzkZQczMssAAZiFB468SQcshIUHETEhBWEl3Qe42DUGvQwdBKIgCQXEqeEHX2hdBFXZ2QdToGkEXMgdBjakfQUxnRUFtgE5B/KWZP8xETUHF6DFB3WUtQdnQOkF2xjFApVVEQUWv/0A7ASdBAjOdwPnvFEEfehFB8/qxwHrxAkF0cB1BJwE5Qd1SH0HzvzJAoT0ZQdwmG0GpSzhBdYkvQW0uD0F5rBVB+WeWQaV0OkHNxQtBf3h0QVK+DUGtlDFBsu8PQW5d+0B0Y0pBFRNKQdteTEHq5EBB/tJ0QWFVSkHYmRpBcKV3QZMaTkEghj5AN588QOFUFkF1229B6fwJQfFwsj+RQuZAc3cXQW5GMEEGSxBB8fQoQbFJTkG+1DJB1bEUQelbAkEH/Q9BdrdFQTswS0HHPg9BhM4DQZVadkFG9gFBXRscQQ==\",\"dtype\":\"float32\",\"order\":\"little\",\"shape\":[1000]},\"y\":{\"__ndarray__\":\"uHrJQNVavUBqxM1Ah7rMQLQfwEDKubxAgLbJQIQK4ECipttAt1S9QIsxUEG69ZJAvwrIQCVnV0EVEsJAC/xnQQDUcEFp2thA4NnYQKIUh0DJItlAMqGSQEiyQ8AKfIVAyGbhQLC0KcDI5lZBm6zSQHxK1kDBIW5BchaSQDEe00DDtFpBQDNtQd7RxEDdBVlBSe7FQIcCdkHIzthASypYQYhtUsBJelpBsAqUQCLiMUEEJWZB+KNtQTeHPkHA4oTAu1zEQMnc4z8pH+w/iMDBQB+1Z8DBuW1BAF5ywMmZWkEhtGBBl7ZNQSj1VUEXRVxBn3XHQKp1b0GkZKRADlpZQRMYbEFc3SfAj5Q6QSI220B8LC1BQUclwI5rY0EgCcVAnHu9QACewEC312lB/9htQa2fwEDfdtlAr4BiQTo2bEFzi1BBXZmAwJm+i0CoRFNB9dIQQUFdQkFwuGVB2IpOQcRnM0EgTkbAT0uvQKDaYMAf+2tBCndbQcPsyUDcJ8RARt1qQdN9MsA/UVrAgIJAQRp+lUAdRF/AW2BhQZfrg0BJNzRAm8CuQKiFlkB5sVhBrhJuwIJnZUEnlzlBxfNJQTOJPEAaYzHA7KGIwH4IYkF/gl5AE5AvQdvIUMDsjzxBXtCjQBTTZkFU2TpBa7S/QKgDM0H1KS1BJ1hkQUFMbUHnKnBBxVBLQVuTd0GjMpBAT+zsPTW8VUFBNTlAJbJBQTNYGUECY7xABFZYQDJ37j+LY2JBW01mQG0LWsCRE0xB4SuIwGcudUE4C8NA0plcQf/mM0EgrNZAwAPAQJmGxz8WCVRBvDRVQWdCLkBrOeVAMyZUQc0PP8C11Ts82kjYQCKy2kDVltVAWxHaQKFWR0GXyWFBnj0yQAlnQkGrsy/AaMZgQeSYwkCH/x3AwmBOQTjPVEGbVQVAyo3dQN5xbEHSCOZAxl4eQbIUTUGj2xrAGLAuwPSfZ0H9GFxBnq1NQSNAMECeNVNBfGBiQSs+u0B/tLJAFOOYPAsrZEHLO1ZB7QvbQHDGKUEJTt1Ar4RfQamHbUGkq23AJFiWQGwawkBzbhRBxl3sQNvvakEd/VFBVFduwFJ3AsDqbtJAKP07QPoLO0FE9ChBTEy8QLijO0E0MjhAYsNxwMHkaUG8vVpBW9vdQO/ISUH2zPZABn/RQAXrWUB0zGpBWkbDQPiK5EBIPIzAHVhMQSjwW0HoToZAhJ14QUfxOUHTz0pAb3FBQTU/W0HsgiZAQVDWQKUILUFm+chA3DIwQBVmaUFMtVRBYBZTQRBk3UABa1BAV1lLQaqxYT4ngllBbaFUQSpxYEHhQ1ZBwJZWQTOCNUD+NS9AEd1hQC37jUBLQFlBWPj1PdIkTUCTPGBB6ggyQaZTWD8wc1tBeNR4vvGMN8DxLCg/vpljQQlfSUEWkCpAvkpqQfoe6kDXch1BQ2FbQBFzS0HDgmVB5RQ4Qfn59kDo/hBB7KBvQRRjdkGqRXRAIUtDQC1gdsBbl0xBj4FVQcDjOMCHt0tBgpZ1QVckKkHr0NU/k5cyQRacSUEItmtB0W90QWqRJEHRMsBAxUlCQMG7TkFRh1BBliNuQTM+kUDrquVAn41FQIBJhMA7JChB8JnbQJcK2kAOPCdBRD5SQJapmUBTh0fALRaNwMTzJsB//GFB/p0qQXdiQkEiizZA8fJeQYZVSUHqdTFBDMwyQc8vK0EcRERBuUVNQWK5EEHoCinAJqlHQAYkNEG6cb1AgYMyQccPMUFDiWhB02pmQWYDicAd3D5A28ZYP4XBv0CenjpBjq8wQI26HUGRbh5B/G3cQFTfYcCMwSxBJlRQQSH5MUE4FS5BZW2EwLTzO0D9vCxB6/FOQfBP50DBO3dBIdbZP8i6cUFFdTJBSfgswIpHVkEZzzFBi8cwQWIUXcBI7k1Byqjzvta1VUG81YvAnxtsQV6qQT6TIFxAYsM/QBJLa0Er1U7Arx27QEkemEDvmyXAD9biQEaQKMCJ1UtBhGF3QceZP0Djpl9BNYZ+wAZ9XkFqQjxAHnxtQchTOkFLyRC+NRdbQVDVVMAcSoS+9upLwHypi8DvnDhBZnLhQDfT3UAJU0xBO5pEQRvSGcCLwC5BN6w7QXkgV0F/9CxBuj8yQQ51G0G8tk9AePnSQHr1RkDc4kdA+VpvwJnJQ0EaIlxB5idVQWqtMUHPJ25B7W8yQZWn87sNIRzABjg0QY4jkcCFeEpBImxsQeLnwEBakehArLxFQQhTOEAw8iJB5e05QBhRO0Ez919BOMsYwH3dRMDnDmxB3JtCQIBlTEECVXTA2fklwBZKMkEgUi1BsV0wQfVeWEHxHL9A9WhlwJIlPcC0djhALOLTQFsc0EAEaeBAVnaAwByz9UCNmbdA0Hy9QJtrVEGQQnVB8dtjQdVwK0HqgB5AyZVBQWHoDb6eJzNBpdHCQHlCYMBNgFRBarYwQZpZkMDn82S+ebdVQWguQUHnuTVAEzzrQHURecBe+yXAUQheQflwd0HnAmFBgKIvwLu5N0Ah+ytBG8hAQCgKM0BHgJZAElpPQSF+Y0FhHFVB80ZTQOHECDxte3/AMzJ+wA9MPUAdtEK93w4rQTp1MEHjMWtB0jJGQQ3nOEFb/TBBGUJfQXsigsDR0V1AXFXuvt6AdEHmOTNBB/jeQKCFMkCwmlRBjVKOQKW0jMDnhEhAAr9jQSB4N0At5MVATF1PQSgYzr5SoE5BQtdfQHTrgcAQGT1Af/kdwK80SkAJpGVB5JZDQXuoUsClgj9BmUIgwKS0cEG3RWVBJ8y8QBiiakEizCxBRXE4QSxVMkFbt4rAOXI3QHCdE8AHuUtB4VU1QUrvKUGqjEFB2B4xQHEE7zwKHkHAEX30vlxZUUGfsmjAAWY2QQTFGcCp/OS+y9k6QdQ41UCCUURAztOrP/bTZUEKh2/A3ElDQRtbTkFTqFpB2ehEQUlMT0GdQXZBCBePwHCCi8BN4UBAuId3QUofLkEg2ovAz5RPwEQfLED6HlBBxBQ7QWd5KUF7Y11BqhueQLOadkGgSzRB0X2JwPumvUDn4SlA/5MFQSDCSUGD6ypBYapCQepQIEABjdFAWmw5QXSjUEH+M71ASp5WQUJ4L0F55DhBIFUjwCjFUUHW3p1AoBxbQRShIkHzzzVBMAt+wArjWUAsvUdA958qwAZGSUHcxUtA0I4uQTJnVkEKMiTAnEUiQFZFcMCxVV5BjQUGwOZ6bsC67PVAC8ldQVcTKEGhA/dAHBhWQKjgK0G4kdxA/9+BwAyFv0C4NW9BqTfqQEwiIEA6rkHA/a1FQH89OkH3hihB5GJZQVlMXkCcsCZB2j1BQZyLg8Bg+URBlbm+QDznMEE21klBUUEWwKXBbEGoJWZBXajWQPvgKUFJ/DVBWPUmwP5GLEEjExnATrJzwNQRxz3pPkxBln0iQcsaIcD3sChBFaplQSKuc8CHSCVAWtkyQEowbkFhQ0NBsvFpQZNMQUDWNl9BX0xCQR6rGkA/LUNB29fnQAmhNkFwND9AUDpsQQ/QSkBLpYLA6hltQRZ+YkGQHFtB5c8uQIPNkEAQYF5AxsCQwI2MdEFj+BpB/txVQZ2fU0GQ0mJBkwsmwP7jOkAkv7tA+fYSQT5cKsDypEdAbMv2QLQnMsBJI4PAdJ4pwHaeREGZqkxBsSVpQUhlLUEnHRpB1ZpRQX7vQUBFtGhB9ClGQBsqQkC4bERB+lAlwIW1Ur2/MDRBeoxKQQyDMkEBykFBks01QNUgKUEuVydBI2F0wI6xJUAbu0xBx004Qav9Oz6NIrNAHCBcQQZkKkGsYmxBusxJQOfNRkBZjWNBUH1SQZwLP0F6YybA5qFyQWFXJkAt5UdB+nY4P8/bLUF/Yo5ApIJAQSI3q7zGuRtBEab0QJikLkEGbypB2IsQQXlbKUGR1ktBQlNrPkDcD76rNXpAwop7wLpzbkHDHS7A8hQKvt4H6j0AVWPAWtldQdTE3EBnvU5BQp1PQSP9RECXTTFBoRNQQYBCI0GOjFFB3IVDQDdvMkDBdCfAYtYZvYbP3UATQ1FBckcnwOjIJ8DzuVJBfmdBQTUV8r4KByJBsMpLQUzPccCh7yTAiKVDQStN6EBgtEJAWwGEPo5WSEAamjFAojYbQfeP9EB1ejBAcDYoQWe6TkFYpUZB79E+QM+kIEHeYDNB/7h0wANQOEHwWW5B+zR5wG7mM8CXNEBBUE1MQLkhPkHgOBxBqnUoQMIIoz20uFlBqV1KQTlYZcAc6TJA3Id0QexdTEAutVBBQuvFQEmpMkFbijrAqEPiQOMAPEDZdiBAw+1PQYDfS0DG0oXAxBs3Pcc31kBQQylBTs9bQU4NXkGsaofAVG1lQUQsK0AyX4bACpBLQDayLEF7Z1NAooPZQKl8zEAnsFRBXz4tQOkGN0EgfG1BPqOGvmTdR0E+YCZB/UJUQalkSEF6TSlBkQKzQCtmjcBzkIA+c1E5QFQHK8ARIlC8ucVtPnFvQEAOnElBEurcQAMbbEH/7zJBAlUcQF5xkEB/e0hArBFEQE/FLkF5oEFAQSM9QE5gR0DyYoLAGSxKQeetXMAX1irAJyxLQc8u9UDX4HfA939bQY44i8CxrlZBjK8gwB42xkDq4jRBDn59wN93RUHAXjhBgtgtQSXHYkCSokZB7KJfQRVxOkAkA0RBU9ttQU1aLcBqHjtBytwjQfJjRkFYRkpBK451vhonUEGlez5BFCJNQXnLbEElhH7A59hKQZFBi8BnDU5B4L1wwEZ6WEFJhIpAcshfQcW+1UDoZVxBxnJfQbbbIsDn0EFBpSj4PX01S0CL10ZBm3IuQT+aHUEwxx9AGM3cQNlnJcASOz1BIE2IwMhLJsAL+wNBTZ1NQKODgMAdh1NAjhDwPfnGQUD/xR9BE5VBQQZAUkCWGDVBV2jFPlHuOUGw5jdAwMtxwD6MBb4j4ltBKhYWQVJccMAT9V5Bz9V0wKALSUH9L1lBevsnQRNEIkFelEVAzPDSQP0YVsAFbCtBtYguQbmzSkAm9R9Ay2VBQZczpED09V5BdoTlvkUwZkF+AMU/uphRQGne9ECSuExBZJs9QGWhQUE25SBAumluQRc4OEEMcm5BYxRfQe/xfz4MI2hB0rgqwD25SUD39EpBXO2GwP32kT7+imBB9IwuQCieDkHHrjdAmxg6QZw8AcBbPSxAIkaTwIMVOUFdf8pAfvuDwGG5O0CFhthAajPZQAjJZkHe1Y7AzBb2QG5p2ECpSspADx1MQUYRR0HY7s8/z0VKQT3uTUDSM1pBUaRqQcqRNEGR5WNBR/IkQV2jMkDMjTs+Dz0hQYC5Y8Aw9hBBOWtHQQ==\",\"dtype\":\"float32\",\"order\":\"little\",\"shape\":[1000]}},\"selected\":{\"id\":\"1163\"},\"selection_policy\":{\"id\":\"1162\"}},\"id\":\"1107\",\"type\":\"ColumnDataSource\"},{\"attributes\":{\"text\":\"\"},\"id\":\"1156\",\"type\":\"Title\"},{\"attributes\":{\"callback\":null,\"tooltips\":[[\"token\",\"@token\"]]},\"id\":\"1144\",\"type\":\"HoverTool\"},{\"attributes\":{\"data_source\":{\"id\":\"1107\"},\"glyph\":{\"id\":\"1140\"},\"hover_glyph\":null,\"muted_glyph\":null,\"nonselection_glyph\":{\"id\":\"1141\"},\"selection_glyph\":null,\"view\":{\"id\":\"1143\"}},\"id\":\"1142\",\"type\":\"GlyphRenderer\"},{\"attributes\":{\"bottom_units\":\"screen\",\"fill_alpha\":0.5,\"fill_color\":\"lightgrey\",\"left_units\":\"screen\",\"level\":\"overlay\",\"line_alpha\":1.0,\"line_color\":\"black\",\"line_dash\":[4,4],\"line_width\":2,\"right_units\":\"screen\",\"top_units\":\"screen\"},\"id\":\"1131\",\"type\":\"BoxAnnotation\"},{\"attributes\":{\"source\":{\"id\":\"1107\"}},\"id\":\"1143\",\"type\":\"CDSView\"},{\"attributes\":{},\"id\":\"1162\",\"type\":\"UnionRenderers\"},{\"attributes\":{},\"id\":\"1130\",\"type\":\"HelpTool\"},{\"attributes\":{\"axis\":{\"id\":\"1117\"},\"ticker\":null},\"id\":\"1120\",\"type\":\"Grid\"},{\"attributes\":{},\"id\":\"1125\",\"type\":\"PanTool\"},{\"attributes\":{},\"id\":\"1111\",\"type\":\"DataRange1d\"},{\"attributes\":{\"fill_alpha\":{\"value\":0.25},\"fill_color\":{\"field\":\"color\"},\"line_alpha\":{\"value\":0.25},\"line_color\":{\"field\":\"color\"},\"size\":{\"units\":\"screen\",\"value\":10},\"x\":{\"field\":\"x\"},\"y\":{\"field\":\"y\"}},\"id\":\"1140\",\"type\":\"Scatter\"},{\"attributes\":{},\"id\":\"1122\",\"type\":\"BasicTicker\"},{\"attributes\":{},\"id\":\"1129\",\"type\":\"ResetTool\"},{\"attributes\":{\"fill_alpha\":{\"value\":0.1},\"fill_color\":{\"field\":\"color\"},\"line_alpha\":{\"value\":0.1},\"line_color\":{\"field\":\"color\"},\"size\":{\"units\":\"screen\",\"value\":10},\"x\":{\"field\":\"x\"},\"y\":{\"field\":\"y\"}},\"id\":\"1141\",\"type\":\"Scatter\"},{\"attributes\":{},\"id\":\"1157\",\"type\":\"BasicTickFormatter\"},{\"attributes\":{\"overlay\":{\"id\":\"1131\"}},\"id\":\"1127\",\"type\":\"BoxZoomTool\"},{\"attributes\":{},\"id\":\"1163\",\"type\":\"Selection\"},{\"attributes\":{},\"id\":\"1118\",\"type\":\"BasicTicker\"},{\"attributes\":{\"formatter\":{\"id\":\"1157\"},\"ticker\":{\"id\":\"1122\"}},\"id\":\"1121\",\"type\":\"LinearAxis\"},{\"attributes\":{},\"id\":\"1128\",\"type\":\"SaveTool\"},{\"attributes\":{\"axis\":{\"id\":\"1121\"},\"dimension\":1,\"ticker\":null},\"id\":\"1124\",\"type\":\"Grid\"},{\"attributes\":{},\"id\":\"1159\",\"type\":\"BasicTickFormatter\"},{\"attributes\":{},\"id\":\"1109\",\"type\":\"DataRange1d\"},{\"attributes\":{\"formatter\":{\"id\":\"1159\"},\"ticker\":{\"id\":\"1118\"}},\"id\":\"1117\",\"type\":\"LinearAxis\"}],\"root_ids\":[\"1108\"]},\"title\":\"Bokeh Application\",\"version\":\"2.1.1\"}};\n",
              "  var render_items = [{\"docid\":\"fd5a1b79-ca8b-4d52-9d34-35b8ab0900c1\",\"root_ids\":[\"1108\"],\"roots\":{\"1108\":\"76f2c9c6-ab4e-4124-9233-025daa24b195\"}}];\n",
              "  root.Bokeh.embed.embed_items_notebook(docs_json, render_items);\n",
              "\n",
              "  }\n",
              "  if (root.Bokeh !== undefined) {\n",
              "    embed_document(root);\n",
              "  } else {\n",
              "    var attempts = 0;\n",
              "    var timer = setInterval(function(root) {\n",
              "      if (root.Bokeh !== undefined) {\n",
              "        clearInterval(timer);\n",
              "        embed_document(root);\n",
              "      } else {\n",
              "        attempts++;\n",
              "        if (attempts > 100) {\n",
              "          clearInterval(timer);\n",
              "          console.log(\"Bokeh: ERROR: Unable to run BokehJS code because BokehJS library is missing\");\n",
              "        }\n",
              "      }\n",
              "    }, 10, root)\n",
              "  }\n",
              "})(window);"
            ],
            "application/vnd.bokehjs_exec.v0+json": ""
          },
          "metadata": {
            "tags": [],
            "application/vnd.bokehjs_exec.v0+json": {
              "id": "1108"
            }
          }
        },
        {
          "output_type": "execute_result",
          "data": {
            "text/html": [
              "<div style=\"display: table;\"><div style=\"display: table-row;\"><div style=\"display: table-cell;\"><b title=\"bokeh.plotting.figure.Figure\">Figure</b>(</div><div style=\"display: table-cell;\">id&nbsp;=&nbsp;'1108', <span id=\"1219\" style=\"cursor: pointer;\">&hellip;)</span></div></div><div class=\"1218\" style=\"display: none;\"><div style=\"display: table-cell;\"></div><div style=\"display: table-cell;\">above&nbsp;=&nbsp;[],</div></div><div class=\"1218\" style=\"display: none;\"><div style=\"display: table-cell;\"></div><div style=\"display: table-cell;\">align&nbsp;=&nbsp;'start',</div></div><div class=\"1218\" style=\"display: none;\"><div style=\"display: table-cell;\"></div><div style=\"display: table-cell;\">aspect_ratio&nbsp;=&nbsp;None,</div></div><div class=\"1218\" style=\"display: none;\"><div style=\"display: table-cell;\"></div><div style=\"display: table-cell;\">aspect_scale&nbsp;=&nbsp;1,</div></div><div class=\"1218\" style=\"display: none;\"><div style=\"display: table-cell;\"></div><div style=\"display: table-cell;\">background&nbsp;=&nbsp;None,</div></div><div class=\"1218\" style=\"display: none;\"><div style=\"display: table-cell;\"></div><div style=\"display: table-cell;\">background_fill_alpha&nbsp;=&nbsp;1.0,</div></div><div class=\"1218\" style=\"display: none;\"><div style=\"display: table-cell;\"></div><div style=\"display: table-cell;\">background_fill_color&nbsp;=&nbsp;'#ffffff',</div></div><div class=\"1218\" style=\"display: none;\"><div style=\"display: table-cell;\"></div><div style=\"display: table-cell;\">below&nbsp;=&nbsp;[LinearAxis(id='1117', ...)],</div></div><div class=\"1218\" style=\"display: none;\"><div style=\"display: table-cell;\"></div><div style=\"display: table-cell;\">border_fill_alpha&nbsp;=&nbsp;1.0,</div></div><div class=\"1218\" style=\"display: none;\"><div style=\"display: table-cell;\"></div><div style=\"display: table-cell;\">border_fill_color&nbsp;=&nbsp;'#ffffff',</div></div><div class=\"1218\" style=\"display: none;\"><div style=\"display: table-cell;\"></div><div style=\"display: table-cell;\">center&nbsp;=&nbsp;[Grid(id='1120', ...), Grid(id='1124', ...)],</div></div><div class=\"1218\" style=\"display: none;\"><div style=\"display: table-cell;\"></div><div style=\"display: table-cell;\">css_classes&nbsp;=&nbsp;[],</div></div><div class=\"1218\" style=\"display: none;\"><div style=\"display: table-cell;\"></div><div style=\"display: table-cell;\">disabled&nbsp;=&nbsp;False,</div></div><div class=\"1218\" style=\"display: none;\"><div style=\"display: table-cell;\"></div><div style=\"display: table-cell;\">extra_x_ranges&nbsp;=&nbsp;{},</div></div><div class=\"1218\" style=\"display: none;\"><div style=\"display: table-cell;\"></div><div style=\"display: table-cell;\">extra_y_ranges&nbsp;=&nbsp;{},</div></div><div class=\"1218\" style=\"display: none;\"><div style=\"display: table-cell;\"></div><div style=\"display: table-cell;\">frame_height&nbsp;=&nbsp;None,</div></div><div class=\"1218\" style=\"display: none;\"><div style=\"display: table-cell;\"></div><div style=\"display: table-cell;\">frame_width&nbsp;=&nbsp;None,</div></div><div class=\"1218\" style=\"display: none;\"><div style=\"display: table-cell;\"></div><div style=\"display: table-cell;\">height&nbsp;=&nbsp;None,</div></div><div class=\"1218\" style=\"display: none;\"><div style=\"display: table-cell;\"></div><div style=\"display: table-cell;\">height_policy&nbsp;=&nbsp;'auto',</div></div><div class=\"1218\" style=\"display: none;\"><div style=\"display: table-cell;\"></div><div style=\"display: table-cell;\">hidpi&nbsp;=&nbsp;True,</div></div><div class=\"1218\" style=\"display: none;\"><div style=\"display: table-cell;\"></div><div style=\"display: table-cell;\">js_event_callbacks&nbsp;=&nbsp;{},</div></div><div class=\"1218\" style=\"display: none;\"><div style=\"display: table-cell;\"></div><div style=\"display: table-cell;\">js_property_callbacks&nbsp;=&nbsp;{},</div></div><div class=\"1218\" style=\"display: none;\"><div style=\"display: table-cell;\"></div><div style=\"display: table-cell;\">left&nbsp;=&nbsp;[LinearAxis(id='1121', ...)],</div></div><div class=\"1218\" style=\"display: none;\"><div style=\"display: table-cell;\"></div><div style=\"display: table-cell;\">lod_factor&nbsp;=&nbsp;10,</div></div><div class=\"1218\" style=\"display: none;\"><div style=\"display: table-cell;\"></div><div style=\"display: table-cell;\">lod_interval&nbsp;=&nbsp;300,</div></div><div class=\"1218\" style=\"display: none;\"><div style=\"display: table-cell;\"></div><div style=\"display: table-cell;\">lod_threshold&nbsp;=&nbsp;2000,</div></div><div class=\"1218\" style=\"display: none;\"><div style=\"display: table-cell;\"></div><div style=\"display: table-cell;\">lod_timeout&nbsp;=&nbsp;500,</div></div><div class=\"1218\" style=\"display: none;\"><div style=\"display: table-cell;\"></div><div style=\"display: table-cell;\">margin&nbsp;=&nbsp;(0, 0, 0, 0),</div></div><div class=\"1218\" style=\"display: none;\"><div style=\"display: table-cell;\"></div><div style=\"display: table-cell;\">match_aspect&nbsp;=&nbsp;False,</div></div><div class=\"1218\" style=\"display: none;\"><div style=\"display: table-cell;\"></div><div style=\"display: table-cell;\">max_height&nbsp;=&nbsp;None,</div></div><div class=\"1218\" style=\"display: none;\"><div style=\"display: table-cell;\"></div><div style=\"display: table-cell;\">max_width&nbsp;=&nbsp;None,</div></div><div class=\"1218\" style=\"display: none;\"><div style=\"display: table-cell;\"></div><div style=\"display: table-cell;\">min_border&nbsp;=&nbsp;5,</div></div><div class=\"1218\" style=\"display: none;\"><div style=\"display: table-cell;\"></div><div style=\"display: table-cell;\">min_border_bottom&nbsp;=&nbsp;None,</div></div><div class=\"1218\" style=\"display: none;\"><div style=\"display: table-cell;\"></div><div style=\"display: table-cell;\">min_border_left&nbsp;=&nbsp;None,</div></div><div class=\"1218\" style=\"display: none;\"><div style=\"display: table-cell;\"></div><div style=\"display: table-cell;\">min_border_right&nbsp;=&nbsp;None,</div></div><div class=\"1218\" style=\"display: none;\"><div style=\"display: table-cell;\"></div><div style=\"display: table-cell;\">min_border_top&nbsp;=&nbsp;None,</div></div><div class=\"1218\" style=\"display: none;\"><div style=\"display: table-cell;\"></div><div style=\"display: table-cell;\">min_height&nbsp;=&nbsp;None,</div></div><div class=\"1218\" style=\"display: none;\"><div style=\"display: table-cell;\"></div><div style=\"display: table-cell;\">min_width&nbsp;=&nbsp;None,</div></div><div class=\"1218\" style=\"display: none;\"><div style=\"display: table-cell;\"></div><div style=\"display: table-cell;\">name&nbsp;=&nbsp;None,</div></div><div class=\"1218\" style=\"display: none;\"><div style=\"display: table-cell;\"></div><div style=\"display: table-cell;\">outline_line_alpha&nbsp;=&nbsp;1.0,</div></div><div class=\"1218\" style=\"display: none;\"><div style=\"display: table-cell;\"></div><div style=\"display: table-cell;\">outline_line_cap&nbsp;=&nbsp;'butt',</div></div><div class=\"1218\" style=\"display: none;\"><div style=\"display: table-cell;\"></div><div style=\"display: table-cell;\">outline_line_color&nbsp;=&nbsp;'#e5e5e5',</div></div><div class=\"1218\" style=\"display: none;\"><div style=\"display: table-cell;\"></div><div style=\"display: table-cell;\">outline_line_dash&nbsp;=&nbsp;[],</div></div><div class=\"1218\" style=\"display: none;\"><div style=\"display: table-cell;\"></div><div style=\"display: table-cell;\">outline_line_dash_offset&nbsp;=&nbsp;0,</div></div><div class=\"1218\" style=\"display: none;\"><div style=\"display: table-cell;\"></div><div style=\"display: table-cell;\">outline_line_join&nbsp;=&nbsp;'bevel',</div></div><div class=\"1218\" style=\"display: none;\"><div style=\"display: table-cell;\"></div><div style=\"display: table-cell;\">outline_line_width&nbsp;=&nbsp;1,</div></div><div class=\"1218\" style=\"display: none;\"><div style=\"display: table-cell;\"></div><div style=\"display: table-cell;\">output_backend&nbsp;=&nbsp;'canvas',</div></div><div class=\"1218\" style=\"display: none;\"><div style=\"display: table-cell;\"></div><div style=\"display: table-cell;\">plot_height&nbsp;=&nbsp;400,</div></div><div class=\"1218\" style=\"display: none;\"><div style=\"display: table-cell;\"></div><div style=\"display: table-cell;\">plot_width&nbsp;=&nbsp;600,</div></div><div class=\"1218\" style=\"display: none;\"><div style=\"display: table-cell;\"></div><div style=\"display: table-cell;\">renderers&nbsp;=&nbsp;[GlyphRenderer(id='1142', ...)],</div></div><div class=\"1218\" style=\"display: none;\"><div style=\"display: table-cell;\"></div><div style=\"display: table-cell;\">reset_policy&nbsp;=&nbsp;'standard',</div></div><div class=\"1218\" style=\"display: none;\"><div style=\"display: table-cell;\"></div><div style=\"display: table-cell;\">right&nbsp;=&nbsp;[],</div></div><div class=\"1218\" style=\"display: none;\"><div style=\"display: table-cell;\"></div><div style=\"display: table-cell;\">sizing_mode&nbsp;=&nbsp;None,</div></div><div class=\"1218\" style=\"display: none;\"><div style=\"display: table-cell;\"></div><div style=\"display: table-cell;\">subscribed_events&nbsp;=&nbsp;[],</div></div><div class=\"1218\" style=\"display: none;\"><div style=\"display: table-cell;\"></div><div style=\"display: table-cell;\">tags&nbsp;=&nbsp;[],</div></div><div class=\"1218\" style=\"display: none;\"><div style=\"display: table-cell;\"></div><div style=\"display: table-cell;\">title&nbsp;=&nbsp;Title(id='1156', ...),</div></div><div class=\"1218\" style=\"display: none;\"><div style=\"display: table-cell;\"></div><div style=\"display: table-cell;\">title_location&nbsp;=&nbsp;'above',</div></div><div class=\"1218\" style=\"display: none;\"><div style=\"display: table-cell;\"></div><div style=\"display: table-cell;\">toolbar&nbsp;=&nbsp;Toolbar(id='1132', ...),</div></div><div class=\"1218\" style=\"display: none;\"><div style=\"display: table-cell;\"></div><div style=\"display: table-cell;\">toolbar_location&nbsp;=&nbsp;'right',</div></div><div class=\"1218\" style=\"display: none;\"><div style=\"display: table-cell;\"></div><div style=\"display: table-cell;\">toolbar_sticky&nbsp;=&nbsp;True,</div></div><div class=\"1218\" style=\"display: none;\"><div style=\"display: table-cell;\"></div><div style=\"display: table-cell;\">visible&nbsp;=&nbsp;True,</div></div><div class=\"1218\" style=\"display: none;\"><div style=\"display: table-cell;\"></div><div style=\"display: table-cell;\">width&nbsp;=&nbsp;None,</div></div><div class=\"1218\" style=\"display: none;\"><div style=\"display: table-cell;\"></div><div style=\"display: table-cell;\">width_policy&nbsp;=&nbsp;'auto',</div></div><div class=\"1218\" style=\"display: none;\"><div style=\"display: table-cell;\"></div><div style=\"display: table-cell;\">x_range&nbsp;=&nbsp;DataRange1d(id='1109', ...),</div></div><div class=\"1218\" style=\"display: none;\"><div style=\"display: table-cell;\"></div><div style=\"display: table-cell;\">x_scale&nbsp;=&nbsp;LinearScale(id='1113', ...),</div></div><div class=\"1218\" style=\"display: none;\"><div style=\"display: table-cell;\"></div><div style=\"display: table-cell;\">y_range&nbsp;=&nbsp;DataRange1d(id='1111', ...),</div></div><div class=\"1218\" style=\"display: none;\"><div style=\"display: table-cell;\"></div><div style=\"display: table-cell;\">y_scale&nbsp;=&nbsp;LinearScale(id='1115', ...))</div></div></div>\n",
              "<script>\n",
              "(function() {\n",
              "  var expanded = false;\n",
              "  var ellipsis = document.getElementById(\"1219\");\n",
              "  ellipsis.addEventListener(\"click\", function() {\n",
              "    var rows = document.getElementsByClassName(\"1218\");\n",
              "    for (var i = 0; i < rows.length; i++) {\n",
              "      var el = rows[i];\n",
              "      el.style.display = expanded ? \"none\" : \"table-row\";\n",
              "    }\n",
              "    ellipsis.innerHTML = expanded ? \"&hellip;)\" : \"&lsaquo;&lsaquo;&lsaquo;\";\n",
              "    expanded = !expanded;\n",
              "  });\n",
              "})();\n",
              "</script>\n"
            ],
            "text/plain": [
              "Figure(id='1108', ...)"
            ]
          },
          "metadata": {
            "tags": []
          },
          "execution_count": 22
        }
      ]
    },
    {
      "cell_type": "markdown",
      "metadata": {
        "id": "67rXjcvt4lCu"
      },
      "source": [
        "## Visualizing phrases\n",
        "\n",
        "Word embeddings can also be used to represent short phrases. The simplest way is to take __an average__ of vectors for all tokens in the phrase with some weights.\n",
        "\n",
        "This trick is useful to identify what data are you working with: find if there are any outliers, clusters or other artefacts.\n",
        "\n",
        "Let's try this new hammer on our data!\n"
      ]
    },
    {
      "cell_type": "code",
      "metadata": {
        "id": "2c8o32rv4lCu"
      },
      "source": [
        "def get_phrase_embedding(phrase):\n",
        "    \"\"\"\n",
        "    Convert phrase to a vector by aggregating it's word embeddings.\n",
        "    See description above.\n",
        "    \"\"\"\n",
        "    # 1. Lowercase phrase.\n",
        "    # 2. Tokenize phrase.\n",
        "    # 3. Average word vectors for all words in tokenized phrase.\n",
        "    # Skip words that are not in model's vocabulary.\n",
        "    # If all words are missing from vocabulary, return zeros.\n",
        "\n",
        "    vector = np.zeros([model.vector_size], dtype='float32')\n",
        "    phrase_tokenized = tokenizer.tokenize(phrase.lower())\n",
        "    phrase_vectors = [model[x] for x in phrase_tokenized\n",
        "                      if x in model.vocab.keys()]\n",
        "\n",
        "    if len(phrase_vectors) != 0:\n",
        "        vector = np.mean(phrase_vectors, axis=0)\n",
        "\n",
        "    return vector"
      ],
      "execution_count": 23,
      "outputs": []
    },
    {
      "cell_type": "code",
      "metadata": {
        "id": "YSg4fJPl4lCv",
        "colab": {
          "base_uri": "https://localhost:8080/"
        },
        "outputId": "8a7e6d30-a50e-4382-f621-2102a292a7a3"
      },
      "source": [
        "get_phrase_embedding(data[402687])"
      ],
      "execution_count": 24,
      "outputs": [
        {
          "output_type": "execute_result",
          "data": {
            "text/plain": [
              "array([-0.18204999,  0.30953574,  0.20861094,  0.07982156, -0.22565515,\n",
              "       -0.33001748,  1.2495784 ,  0.13134292, -0.33788875,  0.06196944,\n",
              "       -0.231793  ,  0.09389219, -4.9685497 , -0.23611419, -0.32609668,\n",
              "       -0.092073  ,  0.4407505 , -0.75413746, -0.5389092 , -0.184752  ,\n",
              "        0.07867809,  0.20018655, -0.16202375,  0.30375698, -0.41255665],\n",
              "      dtype=float32)"
            ]
          },
          "metadata": {
            "tags": []
          },
          "execution_count": 24
        }
      ]
    },
    {
      "cell_type": "code",
      "metadata": {
        "id": "1n-sQC-U4lCv"
      },
      "source": [
        "vector = get_phrase_embedding(\r\n",
        "    \"I'm very sure. This never happened to me before...\"\r\n",
        ")"
      ],
      "execution_count": 25,
      "outputs": []
    },
    {
      "cell_type": "code",
      "metadata": {
        "id": "9ZNx96mo4lCw"
      },
      "source": [
        "# Let's only consider ~5k phrases for a first run:\n",
        "chosen_phrases = data[::len(data) // 1000]\n",
        "\n",
        "# Compute vectors for chosen phrases and turn them to numpy array:\n",
        "phrase_vectors = np.asarray([get_phrase_embedding(x) for x in chosen_phrases])"
      ],
      "execution_count": 26,
      "outputs": []
    },
    {
      "cell_type": "code",
      "metadata": {
        "id": "jEV2ufzb4lCw"
      },
      "source": [
        "assert isinstance(phrase_vectors, np.ndarray) \\\n",
        "       and np.isfinite(phrase_vectors).all()\n",
        "assert phrase_vectors.shape == (len(chosen_phrases), model.vector_size)"
      ],
      "execution_count": 27,
      "outputs": []
    },
    {
      "cell_type": "code",
      "metadata": {
        "id": "AdnM31-44lCx"
      },
      "source": [
        "# Map vectors into 2D space with PCA, t-SNE or some other method.\n",
        "# Don't forget to normalize.\n",
        "\n",
        "phrase_vectors_2d = umap.UMAP(n_neighbors=3).fit_transform(phrase_vectors)"
      ],
      "execution_count": 28,
      "outputs": []
    },
    {
      "cell_type": "code",
      "metadata": {
        "id": "yYykN3oP4lCx",
        "colab": {
          "base_uri": "https://localhost:8080/",
          "height": 434
        },
        "outputId": "aa43910f-a86a-4285-c50a-901e06199416"
      },
      "source": [
        "draw_vectors(phrase_vectors_2d[:, 0], phrase_vectors_2d[:, 1],\n",
        "             phrase=[phrase[:50] for phrase in chosen_phrases],\n",
        "             radius=20,)"
      ],
      "execution_count": 29,
      "outputs": [
        {
          "output_type": "display_data",
          "data": {
            "application/javascript": [
              "\n",
              "(function(root) {\n",
              "  function now() {\n",
              "    return new Date();\n",
              "  }\n",
              "\n",
              "  var force = true;\n",
              "\n",
              "  if (typeof root._bokeh_onload_callbacks === \"undefined\" || force === true) {\n",
              "    root._bokeh_onload_callbacks = [];\n",
              "    root._bokeh_is_loading = undefined;\n",
              "  }\n",
              "\n",
              "  var JS_MIME_TYPE = 'application/javascript';\n",
              "  var HTML_MIME_TYPE = 'text/html';\n",
              "  var EXEC_MIME_TYPE = 'application/vnd.bokehjs_exec.v0+json';\n",
              "  var CLASS_NAME = 'output_bokeh rendered_html';\n",
              "\n",
              "  /**\n",
              "   * Render data to the DOM node\n",
              "   */\n",
              "  function render(props, node) {\n",
              "    var script = document.createElement(\"script\");\n",
              "    node.appendChild(script);\n",
              "  }\n",
              "\n",
              "  /**\n",
              "   * Handle when an output is cleared or removed\n",
              "   */\n",
              "  function handleClearOutput(event, handle) {\n",
              "    var cell = handle.cell;\n",
              "\n",
              "    var id = cell.output_area._bokeh_element_id;\n",
              "    var server_id = cell.output_area._bokeh_server_id;\n",
              "    // Clean up Bokeh references\n",
              "    if (id != null && id in Bokeh.index) {\n",
              "      Bokeh.index[id].model.document.clear();\n",
              "      delete Bokeh.index[id];\n",
              "    }\n",
              "\n",
              "    if (server_id !== undefined) {\n",
              "      // Clean up Bokeh references\n",
              "      var cmd = \"from bokeh.io.state import curstate; print(curstate().uuid_to_server['\" + server_id + \"'].get_sessions()[0].document.roots[0]._id)\";\n",
              "      cell.notebook.kernel.execute(cmd, {\n",
              "        iopub: {\n",
              "          output: function(msg) {\n",
              "            var id = msg.content.text.trim();\n",
              "            if (id in Bokeh.index) {\n",
              "              Bokeh.index[id].model.document.clear();\n",
              "              delete Bokeh.index[id];\n",
              "            }\n",
              "          }\n",
              "        }\n",
              "      });\n",
              "      // Destroy server and session\n",
              "      var cmd = \"import bokeh.io.notebook as ion; ion.destroy_server('\" + server_id + \"')\";\n",
              "      cell.notebook.kernel.execute(cmd);\n",
              "    }\n",
              "  }\n",
              "\n",
              "  /**\n",
              "   * Handle when a new output is added\n",
              "   */\n",
              "  function handleAddOutput(event, handle) {\n",
              "    var output_area = handle.output_area;\n",
              "    var output = handle.output;\n",
              "\n",
              "    // limit handleAddOutput to display_data with EXEC_MIME_TYPE content only\n",
              "    if ((output.output_type != \"display_data\") || (!output.data.hasOwnProperty(EXEC_MIME_TYPE))) {\n",
              "      return\n",
              "    }\n",
              "\n",
              "    var toinsert = output_area.element.find(\".\" + CLASS_NAME.split(' ')[0]);\n",
              "\n",
              "    if (output.metadata[EXEC_MIME_TYPE][\"id\"] !== undefined) {\n",
              "      toinsert[toinsert.length - 1].firstChild.textContent = output.data[JS_MIME_TYPE];\n",
              "      // store reference to embed id on output_area\n",
              "      output_area._bokeh_element_id = output.metadata[EXEC_MIME_TYPE][\"id\"];\n",
              "    }\n",
              "    if (output.metadata[EXEC_MIME_TYPE][\"server_id\"] !== undefined) {\n",
              "      var bk_div = document.createElement(\"div\");\n",
              "      bk_div.innerHTML = output.data[HTML_MIME_TYPE];\n",
              "      var script_attrs = bk_div.children[0].attributes;\n",
              "      for (var i = 0; i < script_attrs.length; i++) {\n",
              "        toinsert[toinsert.length - 1].firstChild.setAttribute(script_attrs[i].name, script_attrs[i].value);\n",
              "        toinsert[toinsert.length - 1].firstChild.textContent = bk_div.children[0].textContent\n",
              "      }\n",
              "      // store reference to server id on output_area\n",
              "      output_area._bokeh_server_id = output.metadata[EXEC_MIME_TYPE][\"server_id\"];\n",
              "    }\n",
              "  }\n",
              "\n",
              "  function register_renderer(events, OutputArea) {\n",
              "\n",
              "    function append_mime(data, metadata, element) {\n",
              "      // create a DOM node to render to\n",
              "      var toinsert = this.create_output_subarea(\n",
              "        metadata,\n",
              "        CLASS_NAME,\n",
              "        EXEC_MIME_TYPE\n",
              "      );\n",
              "      this.keyboard_manager.register_events(toinsert);\n",
              "      // Render to node\n",
              "      var props = {data: data, metadata: metadata[EXEC_MIME_TYPE]};\n",
              "      render(props, toinsert[toinsert.length - 1]);\n",
              "      element.append(toinsert);\n",
              "      return toinsert\n",
              "    }\n",
              "\n",
              "    /* Handle when an output is cleared or removed */\n",
              "    events.on('clear_output.CodeCell', handleClearOutput);\n",
              "    events.on('delete.Cell', handleClearOutput);\n",
              "\n",
              "    /* Handle when a new output is added */\n",
              "    events.on('output_added.OutputArea', handleAddOutput);\n",
              "\n",
              "    /**\n",
              "     * Register the mime type and append_mime function with output_area\n",
              "     */\n",
              "    OutputArea.prototype.register_mime_type(EXEC_MIME_TYPE, append_mime, {\n",
              "      /* Is output safe? */\n",
              "      safe: true,\n",
              "      /* Index of renderer in `output_area.display_order` */\n",
              "      index: 0\n",
              "    });\n",
              "  }\n",
              "\n",
              "  // register the mime type if in Jupyter Notebook environment and previously unregistered\n",
              "  if (root.Jupyter !== undefined) {\n",
              "    var events = require('base/js/events');\n",
              "    var OutputArea = require('notebook/js/outputarea').OutputArea;\n",
              "\n",
              "    if (OutputArea.prototype.mime_types().indexOf(EXEC_MIME_TYPE) == -1) {\n",
              "      register_renderer(events, OutputArea);\n",
              "    }\n",
              "  }\n",
              "\n",
              "  \n",
              "  if (typeof (root._bokeh_timeout) === \"undefined\" || force === true) {\n",
              "    root._bokeh_timeout = Date.now() + 5000;\n",
              "    root._bokeh_failed_load = false;\n",
              "  }\n",
              "\n",
              "  var NB_LOAD_WARNING = {'data': {'text/html':\n",
              "     \"<div style='background-color: #fdd'>\\n\"+\n",
              "     \"<p>\\n\"+\n",
              "     \"BokehJS does not appear to have successfully loaded. If loading BokehJS from CDN, this \\n\"+\n",
              "     \"may be due to a slow or bad network connection. Possible fixes:\\n\"+\n",
              "     \"</p>\\n\"+\n",
              "     \"<ul>\\n\"+\n",
              "     \"<li>re-rerun `output_notebook()` to attempt to load from CDN again, or</li>\\n\"+\n",
              "     \"<li>use INLINE resources instead, as so:</li>\\n\"+\n",
              "     \"</ul>\\n\"+\n",
              "     \"<code>\\n\"+\n",
              "     \"from bokeh.resources import INLINE\\n\"+\n",
              "     \"output_notebook(resources=INLINE)\\n\"+\n",
              "     \"</code>\\n\"+\n",
              "     \"</div>\"}};\n",
              "\n",
              "  function display_loaded() {\n",
              "    var el = document.getElementById(null);\n",
              "    if (el != null) {\n",
              "      el.textContent = \"BokehJS is loading...\";\n",
              "    }\n",
              "    if (root.Bokeh !== undefined) {\n",
              "      if (el != null) {\n",
              "        el.textContent = \"BokehJS \" + root.Bokeh.version + \" successfully loaded.\";\n",
              "      }\n",
              "    } else if (Date.now() < root._bokeh_timeout) {\n",
              "      setTimeout(display_loaded, 100)\n",
              "    }\n",
              "  }\n",
              "\n",
              "\n",
              "  function run_callbacks() {\n",
              "    try {\n",
              "      root._bokeh_onload_callbacks.forEach(function(callback) {\n",
              "        if (callback != null)\n",
              "          callback();\n",
              "      });\n",
              "    } finally {\n",
              "      delete root._bokeh_onload_callbacks\n",
              "    }\n",
              "    console.debug(\"Bokeh: all callbacks have finished\");\n",
              "  }\n",
              "\n",
              "  function load_libs(css_urls, js_urls, callback) {\n",
              "    if (css_urls == null) css_urls = [];\n",
              "    if (js_urls == null) js_urls = [];\n",
              "\n",
              "    root._bokeh_onload_callbacks.push(callback);\n",
              "    if (root._bokeh_is_loading > 0) {\n",
              "      console.debug(\"Bokeh: BokehJS is being loaded, scheduling callback at\", now());\n",
              "      return null;\n",
              "    }\n",
              "    if (js_urls == null || js_urls.length === 0) {\n",
              "      run_callbacks();\n",
              "      return null;\n",
              "    }\n",
              "    console.debug(\"Bokeh: BokehJS not loaded, scheduling load and callback at\", now());\n",
              "    root._bokeh_is_loading = css_urls.length + js_urls.length;\n",
              "\n",
              "    function on_load() {\n",
              "      root._bokeh_is_loading--;\n",
              "      if (root._bokeh_is_loading === 0) {\n",
              "        console.debug(\"Bokeh: all BokehJS libraries/stylesheets loaded\");\n",
              "        run_callbacks()\n",
              "      }\n",
              "    }\n",
              "\n",
              "    function on_error() {\n",
              "      console.error(\"failed to load \" + url);\n",
              "    }\n",
              "\n",
              "    for (var i = 0; i < css_urls.length; i++) {\n",
              "      var url = css_urls[i];\n",
              "      const element = document.createElement(\"link\");\n",
              "      element.onload = on_load;\n",
              "      element.onerror = on_error;\n",
              "      element.rel = \"stylesheet\";\n",
              "      element.type = \"text/css\";\n",
              "      element.href = url;\n",
              "      console.debug(\"Bokeh: injecting link tag for BokehJS stylesheet: \", url);\n",
              "      document.body.appendChild(element);\n",
              "    }\n",
              "\n",
              "    const hashes = {\"https://cdn.bokeh.org/bokeh/release/bokeh-2.1.1.min.js\": \"kLr4fYcqcSpbuI95brIH3vnnYCquzzSxHPU6XGQCIkQRGJwhg0StNbj1eegrHs12\", \"https://cdn.bokeh.org/bokeh/release/bokeh-widgets-2.1.1.min.js\": \"xIGPmVtaOm+z0BqfSOMn4lOR6ciex448GIKG4eE61LsAvmGj48XcMQZtKcE/UXZe\", \"https://cdn.bokeh.org/bokeh/release/bokeh-tables-2.1.1.min.js\": \"Dc9u1wF/0zApGIWoBbH77iWEHtdmkuYWG839Uzmv8y8yBLXebjO9ZnERsde5Ln/P\", \"https://cdn.bokeh.org/bokeh/release/bokeh-gl-2.1.1.min.js\": \"cT9JaBz7GiRXdENrJLZNSC6eMNF3nh3fa5fTF51Svp+ukxPdwcU5kGXGPBgDCa2j\"};\n",
              "\n",
              "    for (var i = 0; i < js_urls.length; i++) {\n",
              "      var url = js_urls[i];\n",
              "      var element = document.createElement('script');\n",
              "      element.onload = on_load;\n",
              "      element.onerror = on_error;\n",
              "      element.async = false;\n",
              "      element.src = url;\n",
              "      if (url in hashes) {\n",
              "        element.crossOrigin = \"anonymous\";\n",
              "        element.integrity = \"sha384-\" + hashes[url];\n",
              "      }\n",
              "      console.debug(\"Bokeh: injecting script tag for BokehJS library: \", url);\n",
              "      document.head.appendChild(element);\n",
              "    }\n",
              "  };\n",
              "\n",
              "  function inject_raw_css(css) {\n",
              "    const element = document.createElement(\"style\");\n",
              "    element.appendChild(document.createTextNode(css));\n",
              "    document.body.appendChild(element);\n",
              "  }\n",
              "\n",
              "  \n",
              "  var js_urls = [\"https://cdn.bokeh.org/bokeh/release/bokeh-2.1.1.min.js\", \"https://cdn.bokeh.org/bokeh/release/bokeh-widgets-2.1.1.min.js\", \"https://cdn.bokeh.org/bokeh/release/bokeh-tables-2.1.1.min.js\", \"https://cdn.bokeh.org/bokeh/release/bokeh-gl-2.1.1.min.js\"];\n",
              "  var css_urls = [];\n",
              "  \n",
              "\n",
              "  var inline_js = [\n",
              "    function(Bokeh) {\n",
              "      Bokeh.set_log_level(\"info\");\n",
              "    },\n",
              "    function(Bokeh) {\n",
              "    \n",
              "    \n",
              "    }\n",
              "  ];\n",
              "\n",
              "  function run_inline_js() {\n",
              "    \n",
              "    if (root.Bokeh !== undefined || force === true) {\n",
              "      \n",
              "    for (var i = 0; i < inline_js.length; i++) {\n",
              "      inline_js[i].call(root, root.Bokeh);\n",
              "    }\n",
              "    } else if (Date.now() < root._bokeh_timeout) {\n",
              "      setTimeout(run_inline_js, 100);\n",
              "    } else if (!root._bokeh_failed_load) {\n",
              "      console.log(\"Bokeh: BokehJS failed to load within specified timeout.\");\n",
              "      root._bokeh_failed_load = true;\n",
              "    } else if (force !== true) {\n",
              "      var cell = $(document.getElementById(null)).parents('.cell').data().cell;\n",
              "      cell.output_area.append_execute_result(NB_LOAD_WARNING)\n",
              "    }\n",
              "\n",
              "  }\n",
              "\n",
              "  if (root._bokeh_is_loading === 0) {\n",
              "    console.debug(\"Bokeh: BokehJS loaded, going straight to plotting\");\n",
              "    run_inline_js();\n",
              "  } else {\n",
              "    load_libs(css_urls, js_urls, function() {\n",
              "      console.debug(\"Bokeh: BokehJS plotting callback run at\", now());\n",
              "      run_inline_js();\n",
              "    });\n",
              "  }\n",
              "}(window));"
            ],
            "application/vnd.bokehjs_load.v0+json": "\n(function(root) {\n  function now() {\n    return new Date();\n  }\n\n  var force = true;\n\n  if (typeof root._bokeh_onload_callbacks === \"undefined\" || force === true) {\n    root._bokeh_onload_callbacks = [];\n    root._bokeh_is_loading = undefined;\n  }\n\n  \n\n  \n  if (typeof (root._bokeh_timeout) === \"undefined\" || force === true) {\n    root._bokeh_timeout = Date.now() + 5000;\n    root._bokeh_failed_load = false;\n  }\n\n  var NB_LOAD_WARNING = {'data': {'text/html':\n     \"<div style='background-color: #fdd'>\\n\"+\n     \"<p>\\n\"+\n     \"BokehJS does not appear to have successfully loaded. If loading BokehJS from CDN, this \\n\"+\n     \"may be due to a slow or bad network connection. Possible fixes:\\n\"+\n     \"</p>\\n\"+\n     \"<ul>\\n\"+\n     \"<li>re-rerun `output_notebook()` to attempt to load from CDN again, or</li>\\n\"+\n     \"<li>use INLINE resources instead, as so:</li>\\n\"+\n     \"</ul>\\n\"+\n     \"<code>\\n\"+\n     \"from bokeh.resources import INLINE\\n\"+\n     \"output_notebook(resources=INLINE)\\n\"+\n     \"</code>\\n\"+\n     \"</div>\"}};\n\n  function display_loaded() {\n    var el = document.getElementById(null);\n    if (el != null) {\n      el.textContent = \"BokehJS is loading...\";\n    }\n    if (root.Bokeh !== undefined) {\n      if (el != null) {\n        el.textContent = \"BokehJS \" + root.Bokeh.version + \" successfully loaded.\";\n      }\n    } else if (Date.now() < root._bokeh_timeout) {\n      setTimeout(display_loaded, 100)\n    }\n  }\n\n\n  function run_callbacks() {\n    try {\n      root._bokeh_onload_callbacks.forEach(function(callback) {\n        if (callback != null)\n          callback();\n      });\n    } finally {\n      delete root._bokeh_onload_callbacks\n    }\n    console.debug(\"Bokeh: all callbacks have finished\");\n  }\n\n  function load_libs(css_urls, js_urls, callback) {\n    if (css_urls == null) css_urls = [];\n    if (js_urls == null) js_urls = [];\n\n    root._bokeh_onload_callbacks.push(callback);\n    if (root._bokeh_is_loading > 0) {\n      console.debug(\"Bokeh: BokehJS is being loaded, scheduling callback at\", now());\n      return null;\n    }\n    if (js_urls == null || js_urls.length === 0) {\n      run_callbacks();\n      return null;\n    }\n    console.debug(\"Bokeh: BokehJS not loaded, scheduling load and callback at\", now());\n    root._bokeh_is_loading = css_urls.length + js_urls.length;\n\n    function on_load() {\n      root._bokeh_is_loading--;\n      if (root._bokeh_is_loading === 0) {\n        console.debug(\"Bokeh: all BokehJS libraries/stylesheets loaded\");\n        run_callbacks()\n      }\n    }\n\n    function on_error() {\n      console.error(\"failed to load \" + url);\n    }\n\n    for (var i = 0; i < css_urls.length; i++) {\n      var url = css_urls[i];\n      const element = document.createElement(\"link\");\n      element.onload = on_load;\n      element.onerror = on_error;\n      element.rel = \"stylesheet\";\n      element.type = \"text/css\";\n      element.href = url;\n      console.debug(\"Bokeh: injecting link tag for BokehJS stylesheet: \", url);\n      document.body.appendChild(element);\n    }\n\n    const hashes = {\"https://cdn.bokeh.org/bokeh/release/bokeh-2.1.1.min.js\": \"kLr4fYcqcSpbuI95brIH3vnnYCquzzSxHPU6XGQCIkQRGJwhg0StNbj1eegrHs12\", \"https://cdn.bokeh.org/bokeh/release/bokeh-widgets-2.1.1.min.js\": \"xIGPmVtaOm+z0BqfSOMn4lOR6ciex448GIKG4eE61LsAvmGj48XcMQZtKcE/UXZe\", \"https://cdn.bokeh.org/bokeh/release/bokeh-tables-2.1.1.min.js\": \"Dc9u1wF/0zApGIWoBbH77iWEHtdmkuYWG839Uzmv8y8yBLXebjO9ZnERsde5Ln/P\", \"https://cdn.bokeh.org/bokeh/release/bokeh-gl-2.1.1.min.js\": \"cT9JaBz7GiRXdENrJLZNSC6eMNF3nh3fa5fTF51Svp+ukxPdwcU5kGXGPBgDCa2j\"};\n\n    for (var i = 0; i < js_urls.length; i++) {\n      var url = js_urls[i];\n      var element = document.createElement('script');\n      element.onload = on_load;\n      element.onerror = on_error;\n      element.async = false;\n      element.src = url;\n      if (url in hashes) {\n        element.crossOrigin = \"anonymous\";\n        element.integrity = \"sha384-\" + hashes[url];\n      }\n      console.debug(\"Bokeh: injecting script tag for BokehJS library: \", url);\n      document.head.appendChild(element);\n    }\n  };\n\n  function inject_raw_css(css) {\n    const element = document.createElement(\"style\");\n    element.appendChild(document.createTextNode(css));\n    document.body.appendChild(element);\n  }\n\n  \n  var js_urls = [\"https://cdn.bokeh.org/bokeh/release/bokeh-2.1.1.min.js\", \"https://cdn.bokeh.org/bokeh/release/bokeh-widgets-2.1.1.min.js\", \"https://cdn.bokeh.org/bokeh/release/bokeh-tables-2.1.1.min.js\", \"https://cdn.bokeh.org/bokeh/release/bokeh-gl-2.1.1.min.js\"];\n  var css_urls = [];\n  \n\n  var inline_js = [\n    function(Bokeh) {\n      Bokeh.set_log_level(\"info\");\n    },\n    function(Bokeh) {\n    \n    \n    }\n  ];\n\n  function run_inline_js() {\n    \n    if (root.Bokeh !== undefined || force === true) {\n      \n    for (var i = 0; i < inline_js.length; i++) {\n      inline_js[i].call(root, root.Bokeh);\n    }\n    } else if (Date.now() < root._bokeh_timeout) {\n      setTimeout(run_inline_js, 100);\n    } else if (!root._bokeh_failed_load) {\n      console.log(\"Bokeh: BokehJS failed to load within specified timeout.\");\n      root._bokeh_failed_load = true;\n    } else if (force !== true) {\n      var cell = $(document.getElementById(null)).parents('.cell').data().cell;\n      cell.output_area.append_execute_result(NB_LOAD_WARNING)\n    }\n\n  }\n\n  if (root._bokeh_is_loading === 0) {\n    console.debug(\"Bokeh: BokehJS loaded, going straight to plotting\");\n    run_inline_js();\n  } else {\n    load_libs(css_urls, js_urls, function() {\n      console.debug(\"Bokeh: BokehJS plotting callback run at\", now());\n      run_inline_js();\n    });\n  }\n}(window));"
          },
          "metadata": {
            "tags": []
          }
        },
        {
          "output_type": "display_data",
          "data": {
            "text/html": [
              "\n",
              "\n",
              "\n",
              "\n",
              "\n",
              "\n",
              "  <div class=\"bk-root\" id=\"8ea7b8e1-a8e9-4d1b-92d3-676669425d22\" data-root-id=\"1223\"></div>\n"
            ]
          },
          "metadata": {
            "tags": []
          }
        },
        {
          "output_type": "display_data",
          "data": {
            "application/javascript": [
              "(function(root) {\n",
              "  function embed_document(root) {\n",
              "    \n",
              "  var docs_json = {\"c6d12ec0-2639-48c0-9d2c-94d4f1e2a2a8\":{\"roots\":{\"references\":[{\"attributes\":{\"below\":[{\"id\":\"1232\"}],\"center\":[{\"id\":\"1235\"},{\"id\":\"1239\"}],\"left\":[{\"id\":\"1236\"}],\"plot_height\":400,\"renderers\":[{\"id\":\"1257\"}],\"title\":{\"id\":\"1280\"},\"toolbar\":{\"id\":\"1247\"},\"x_range\":{\"id\":\"1224\"},\"x_scale\":{\"id\":\"1228\"},\"y_range\":{\"id\":\"1226\"},\"y_scale\":{\"id\":\"1230\"}},\"id\":\"1223\",\"subtype\":\"Figure\",\"type\":\"Plot\"},{\"attributes\":{},\"id\":\"1241\",\"type\":\"WheelZoomTool\"},{\"attributes\":{\"bottom_units\":\"screen\",\"fill_alpha\":0.5,\"fill_color\":\"lightgrey\",\"left_units\":\"screen\",\"level\":\"overlay\",\"line_alpha\":1.0,\"line_color\":\"black\",\"line_dash\":[4,4],\"line_width\":2,\"right_units\":\"screen\",\"top_units\":\"screen\"},\"id\":\"1246\",\"type\":\"BoxAnnotation\"},{\"attributes\":{\"fill_alpha\":{\"value\":0.1},\"fill_color\":{\"field\":\"color\"},\"line_alpha\":{\"value\":0.1},\"line_color\":{\"field\":\"color\"},\"size\":{\"units\":\"screen\",\"value\":20},\"x\":{\"field\":\"x\"},\"y\":{\"field\":\"y\"}},\"id\":\"1256\",\"type\":\"Scatter\"},{\"attributes\":{\"axis\":{\"id\":\"1236\"},\"dimension\":1,\"ticker\":null},\"id\":\"1239\",\"type\":\"Grid\"},{\"attributes\":{\"formatter\":{\"id\":\"1281\"},\"ticker\":{\"id\":\"1237\"}},\"id\":\"1236\",\"type\":\"LinearAxis\"},{\"attributes\":{\"source\":{\"id\":\"1222\"}},\"id\":\"1258\",\"type\":\"CDSView\"},{\"attributes\":{},\"id\":\"1233\",\"type\":\"BasicTicker\"},{\"attributes\":{\"fill_alpha\":{\"value\":0.25},\"fill_color\":{\"field\":\"color\"},\"line_alpha\":{\"value\":0.25},\"line_color\":{\"field\":\"color\"},\"size\":{\"units\":\"screen\",\"value\":20},\"x\":{\"field\":\"x\"},\"y\":{\"field\":\"y\"}},\"id\":\"1255\",\"type\":\"Scatter\"},{\"attributes\":{\"text\":\"\"},\"id\":\"1280\",\"type\":\"Title\"},{\"attributes\":{},\"id\":\"1228\",\"type\":\"LinearScale\"},{\"attributes\":{\"callback\":null,\"tooltips\":[[\"phrase\",\"@phrase\"]]},\"id\":\"1259\",\"type\":\"HoverTool\"},{\"attributes\":{},\"id\":\"1240\",\"type\":\"PanTool\"},{\"attributes\":{},\"id\":\"1243\",\"type\":\"SaveTool\"},{\"attributes\":{\"overlay\":{\"id\":\"1246\"}},\"id\":\"1242\",\"type\":\"BoxZoomTool\"},{\"attributes\":{},\"id\":\"1283\",\"type\":\"BasicTickFormatter\"},{\"attributes\":{\"active_drag\":\"auto\",\"active_inspect\":\"auto\",\"active_multi\":null,\"active_scroll\":{\"id\":\"1241\"},\"active_tap\":\"auto\",\"tools\":[{\"id\":\"1240\"},{\"id\":\"1241\"},{\"id\":\"1242\"},{\"id\":\"1243\"},{\"id\":\"1244\"},{\"id\":\"1245\"},{\"id\":\"1259\"}]},\"id\":\"1247\",\"type\":\"Toolbar\"},{\"attributes\":{},\"id\":\"1230\",\"type\":\"LinearScale\"},{\"attributes\":{\"formatter\":{\"id\":\"1283\"},\"ticker\":{\"id\":\"1233\"}},\"id\":\"1232\",\"type\":\"LinearAxis\"},{\"attributes\":{},\"id\":\"1281\",\"type\":\"BasicTickFormatter\"},{\"attributes\":{\"data_source\":{\"id\":\"1222\"},\"glyph\":{\"id\":\"1255\"},\"hover_glyph\":null,\"muted_glyph\":null,\"nonselection_glyph\":{\"id\":\"1256\"},\"selection_glyph\":null,\"view\":{\"id\":\"1258\"}},\"id\":\"1257\",\"type\":\"GlyphRenderer\"},{\"attributes\":{},\"id\":\"1245\",\"type\":\"HelpTool\"},{\"attributes\":{},\"id\":\"1224\",\"type\":\"DataRange1d\"},{\"attributes\":{},\"id\":\"1287\",\"type\":\"Selection\"},{\"attributes\":{},\"id\":\"1244\",\"type\":\"ResetTool\"},{\"attributes\":{\"data\":{\"color\":[\"blue\",\"blue\",\"blue\",\"blue\",\"blue\",\"blue\",\"blue\",\"blue\",\"blue\",\"blue\",\"blue\",\"blue\",\"blue\",\"blue\",\"blue\",\"blue\",\"blue\",\"blue\",\"blue\",\"blue\",\"blue\",\"blue\",\"blue\",\"blue\",\"blue\",\"blue\",\"blue\",\"blue\",\"blue\",\"blue\",\"blue\",\"blue\",\"blue\",\"blue\",\"blue\",\"blue\",\"blue\",\"blue\",\"blue\",\"blue\",\"blue\",\"blue\",\"blue\",\"blue\",\"blue\",\"blue\",\"blue\",\"blue\",\"blue\",\"blue\",\"blue\",\"blue\",\"blue\",\"blue\",\"blue\",\"blue\",\"blue\",\"blue\",\"blue\",\"blue\",\"blue\",\"blue\",\"blue\",\"blue\",\"blue\",\"blue\",\"blue\",\"blue\",\"blue\",\"blue\",\"blue\",\"blue\",\"blue\",\"blue\",\"blue\",\"blue\",\"blue\",\"blue\",\"blue\",\"blue\",\"blue\",\"blue\",\"blue\",\"blue\",\"blue\",\"blue\",\"blue\",\"blue\",\"blue\",\"blue\",\"blue\",\"blue\",\"blue\",\"blue\",\"blue\",\"blue\",\"blue\",\"blue\",\"blue\",\"blue\",\"blue\",\"blue\",\"blue\",\"blue\",\"blue\",\"blue\",\"blue\",\"blue\",\"blue\",\"blue\",\"blue\",\"blue\",\"blue\",\"blue\",\"blue\",\"blue\",\"blue\",\"blue\",\"blue\",\"blue\",\"blue\",\"blue\",\"blue\",\"blue\",\"blue\",\"blue\",\"blue\",\"blue\",\"blue\",\"blue\",\"blue\",\"blue\",\"blue\",\"blue\",\"blue\",\"blue\",\"blue\",\"blue\",\"blue\",\"blue\",\"blue\",\"blue\",\"blue\",\"blue\",\"blue\",\"blue\",\"blue\",\"blue\",\"blue\",\"blue\",\"blue\",\"blue\",\"blue\",\"blue\",\"blue\",\"blue\",\"blue\",\"blue\",\"blue\",\"blue\",\"blue\",\"blue\",\"blue\",\"blue\",\"blue\",\"blue\",\"blue\",\"blue\",\"blue\",\"blue\",\"blue\",\"blue\",\"blue\",\"blue\",\"blue\",\"blue\",\"blue\",\"blue\",\"blue\",\"blue\",\"blue\",\"blue\",\"blue\",\"blue\",\"blue\",\"blue\",\"blue\",\"blue\",\"blue\",\"blue\",\"blue\",\"blue\",\"blue\",\"blue\",\"blue\",\"blue\",\"blue\",\"blue\",\"blue\",\"blue\",\"blue\",\"blue\",\"blue\",\"blue\",\"blue\",\"blue\",\"blue\",\"blue\",\"blue\",\"blue\",\"blue\",\"blue\",\"blue\",\"blue\",\"blue\",\"blue\",\"blue\",\"blue\",\"blue\",\"blue\",\"blue\",\"blue\",\"blue\",\"blue\",\"blue\",\"blue\",\"blue\",\"blue\",\"blue\",\"blue\",\"blue\",\"blue\",\"blue\",\"blue\",\"blue\",\"blue\",\"blue\",\"blue\",\"blue\",\"blue\",\"blue\",\"blue\",\"blue\",\"blue\",\"blue\",\"blue\",\"blue\",\"blue\",\"blue\",\"blue\",\"blue\",\"blue\",\"blue\",\"blue\",\"blue\",\"blue\",\"blue\",\"blue\",\"blue\",\"blue\",\"blue\",\"blue\",\"blue\",\"blue\",\"blue\",\"blue\",\"blue\",\"blue\",\"blue\",\"blue\",\"blue\",\"blue\",\"blue\",\"blue\",\"blue\",\"blue\",\"blue\",\"blue\",\"blue\",\"blue\",\"blue\",\"blue\",\"blue\",\"blue\",\"blue\",\"blue\",\"blue\",\"blue\",\"blue\",\"blue\",\"blue\",\"blue\",\"blue\",\"blue\",\"blue\",\"blue\",\"blue\",\"blue\",\"blue\",\"blue\",\"blue\",\"blue\",\"blue\",\"blue\",\"blue\",\"blue\",\"blue\",\"blue\",\"blue\",\"blue\",\"blue\",\"blue\",\"blue\",\"blue\",\"blue\",\"blue\",\"blue\",\"blue\",\"blue\",\"blue\",\"blue\",\"blue\",\"blue\",\"blue\",\"blue\",\"blue\",\"blue\",\"blue\",\"blue\",\"blue\",\"blue\",\"blue\",\"blue\",\"blue\",\"blue\",\"blue\",\"blue\",\"blue\",\"blue\",\"blue\",\"blue\",\"blue\",\"blue\",\"blue\",\"blue\",\"blue\",\"blue\",\"blue\",\"blue\",\"blue\",\"blue\",\"blue\",\"blue\",\"blue\",\"blue\",\"blue\",\"blue\",\"blue\",\"blue\",\"blue\",\"blue\",\"blue\",\"blue\",\"blue\",\"blue\",\"blue\",\"blue\",\"blue\",\"blue\",\"blue\",\"blue\",\"blue\",\"blue\",\"blue\",\"blue\",\"blue\",\"blue\",\"blue\",\"blue\",\"blue\",\"blue\",\"blue\",\"blue\",\"blue\",\"blue\",\"blue\",\"blue\",\"blue\",\"blue\",\"blue\",\"blue\",\"blue\",\"blue\",\"blue\",\"blue\",\"blue\",\"blue\",\"blue\",\"blue\",\"blue\",\"blue\",\"blue\",\"blue\",\"blue\",\"blue\",\"blue\",\"blue\",\"blue\",\"blue\",\"blue\",\"blue\",\"blue\",\"blue\",\"blue\",\"blue\",\"blue\",\"blue\",\"blue\",\"blue\",\"blue\",\"blue\",\"blue\",\"blue\",\"blue\",\"blue\",\"blue\",\"blue\",\"blue\",\"blue\",\"blue\",\"blue\",\"blue\",\"blue\",\"blue\",\"blue\",\"blue\",\"blue\",\"blue\",\"blue\",\"blue\",\"blue\",\"blue\",\"blue\",\"blue\",\"blue\",\"blue\",\"blue\",\"blue\",\"blue\",\"blue\",\"blue\",\"blue\",\"blue\",\"blue\",\"blue\",\"blue\",\"blue\",\"blue\",\"blue\",\"blue\",\"blue\",\"blue\",\"blue\",\"blue\",\"blue\",\"blue\",\"blue\",\"blue\",\"blue\",\"blue\",\"blue\",\"blue\",\"blue\",\"blue\",\"blue\",\"blue\",\"blue\",\"blue\",\"blue\",\"blue\",\"blue\",\"blue\",\"blue\",\"blue\",\"blue\",\"blue\",\"blue\",\"blue\",\"blue\",\"blue\",\"blue\",\"blue\",\"blue\",\"blue\",\"blue\",\"blue\",\"blue\",\"blue\",\"blue\",\"blue\",\"blue\",\"blue\",\"blue\",\"blue\",\"blue\",\"blue\",\"blue\",\"blue\",\"blue\",\"blue\",\"blue\",\"blue\",\"blue\",\"blue\",\"blue\",\"blue\",\"blue\",\"blue\",\"blue\",\"blue\",\"blue\",\"blue\",\"blue\",\"blue\",\"blue\",\"blue\",\"blue\",\"blue\",\"blue\",\"blue\",\"blue\",\"blue\",\"blue\",\"blue\",\"blue\",\"blue\",\"blue\",\"blue\",\"blue\",\"blue\",\"blue\",\"blue\",\"blue\",\"blue\",\"blue\",\"blue\",\"blue\",\"blue\",\"blue\",\"blue\",\"blue\",\"blue\",\"blue\",\"blue\",\"blue\",\"blue\",\"blue\",\"blue\",\"blue\",\"blue\",\"blue\",\"blue\",\"blue\",\"blue\",\"blue\",\"blue\",\"blue\",\"blue\",\"blue\",\"blue\",\"blue\",\"blue\",\"blue\",\"blue\",\"blue\",\"blue\",\"blue\",\"blue\",\"blue\",\"blue\",\"blue\",\"blue\",\"blue\",\"blue\",\"blue\",\"blue\",\"blue\",\"blue\",\"blue\",\"blue\",\"blue\",\"blue\",\"blue\",\"blue\",\"blue\",\"blue\",\"blue\",\"blue\",\"blue\",\"blue\",\"blue\",\"blue\",\"blue\",\"blue\",\"blue\",\"blue\",\"blue\",\"blue\",\"blue\",\"blue\",\"blue\",\"blue\",\"blue\",\"blue\",\"blue\",\"blue\",\"blue\",\"blue\",\"blue\",\"blue\",\"blue\",\"blue\",\"blue\",\"blue\",\"blue\",\"blue\",\"blue\",\"blue\",\"blue\",\"blue\",\"blue\",\"blue\",\"blue\",\"blue\",\"blue\",\"blue\",\"blue\",\"blue\",\"blue\",\"blue\",\"blue\",\"blue\",\"blue\",\"blue\",\"blue\",\"blue\",\"blue\",\"blue\",\"blue\",\"blue\",\"blue\",\"blue\",\"blue\",\"blue\",\"blue\",\"blue\",\"blue\",\"blue\",\"blue\",\"blue\",\"blue\",\"blue\",\"blue\",\"blue\",\"blue\",\"blue\",\"blue\",\"blue\",\"blue\",\"blue\",\"blue\",\"blue\",\"blue\",\"blue\",\"blue\",\"blue\",\"blue\",\"blue\",\"blue\",\"blue\",\"blue\",\"blue\",\"blue\",\"blue\",\"blue\",\"blue\",\"blue\",\"blue\",\"blue\",\"blue\",\"blue\",\"blue\",\"blue\",\"blue\",\"blue\",\"blue\",\"blue\",\"blue\",\"blue\",\"blue\",\"blue\",\"blue\",\"blue\",\"blue\",\"blue\",\"blue\",\"blue\",\"blue\",\"blue\",\"blue\",\"blue\",\"blue\",\"blue\",\"blue\",\"blue\",\"blue\",\"blue\",\"blue\",\"blue\",\"blue\",\"blue\",\"blue\",\"blue\",\"blue\",\"blue\",\"blue\",\"blue\",\"blue\",\"blue\",\"blue\",\"blue\",\"blue\",\"blue\",\"blue\",\"blue\",\"blue\",\"blue\",\"blue\",\"blue\",\"blue\",\"blue\",\"blue\",\"blue\",\"blue\",\"blue\",\"blue\",\"blue\",\"blue\",\"blue\",\"blue\",\"blue\",\"blue\",\"blue\",\"blue\",\"blue\",\"blue\",\"blue\",\"blue\",\"blue\",\"blue\",\"blue\",\"blue\",\"blue\",\"blue\",\"blue\",\"blue\",\"blue\",\"blue\",\"blue\",\"blue\",\"blue\",\"blue\",\"blue\",\"blue\",\"blue\",\"blue\",\"blue\",\"blue\",\"blue\",\"blue\",\"blue\",\"blue\",\"blue\",\"blue\",\"blue\",\"blue\",\"blue\",\"blue\",\"blue\",\"blue\",\"blue\",\"blue\",\"blue\",\"blue\",\"blue\",\"blue\",\"blue\",\"blue\",\"blue\",\"blue\",\"blue\",\"blue\",\"blue\",\"blue\",\"blue\",\"blue\",\"blue\",\"blue\",\"blue\",\"blue\",\"blue\",\"blue\",\"blue\",\"blue\",\"blue\",\"blue\",\"blue\",\"blue\",\"blue\",\"blue\",\"blue\",\"blue\",\"blue\",\"blue\",\"blue\",\"blue\",\"blue\",\"blue\",\"blue\",\"blue\",\"blue\",\"blue\",\"blue\",\"blue\",\"blue\",\"blue\",\"blue\",\"blue\",\"blue\",\"blue\",\"blue\",\"blue\",\"blue\",\"blue\",\"blue\",\"blue\",\"blue\",\"blue\",\"blue\",\"blue\",\"blue\",\"blue\",\"blue\",\"blue\",\"blue\",\"blue\",\"blue\",\"blue\",\"blue\",\"blue\",\"blue\",\"blue\",\"blue\",\"blue\",\"blue\",\"blue\",\"blue\",\"blue\",\"blue\",\"blue\",\"blue\",\"blue\",\"blue\",\"blue\",\"blue\",\"blue\",\"blue\",\"blue\",\"blue\",\"blue\",\"blue\",\"blue\",\"blue\",\"blue\",\"blue\",\"blue\",\"blue\",\"blue\",\"blue\",\"blue\",\"blue\",\"blue\",\"blue\",\"blue\",\"blue\",\"blue\",\"blue\",\"blue\",\"blue\",\"blue\",\"blue\",\"blue\",\"blue\",\"blue\",\"blue\",\"blue\",\"blue\",\"blue\",\"blue\",\"blue\",\"blue\",\"blue\",\"blue\",\"blue\",\"blue\",\"blue\",\"blue\",\"blue\",\"blue\",\"blue\",\"blue\",\"blue\",\"blue\",\"blue\",\"blue\",\"blue\",\"blue\",\"blue\",\"blue\",\"blue\",\"blue\",\"blue\",\"blue\",\"blue\",\"blue\",\"blue\",\"blue\",\"blue\",\"blue\",\"blue\",\"blue\",\"blue\",\"blue\",\"blue\",\"blue\",\"blue\",\"blue\",\"blue\",\"blue\",\"blue\",\"blue\",\"blue\",\"blue\",\"blue\",\"blue\",\"blue\",\"blue\",\"blue\",\"blue\",\"blue\",\"blue\",\"blue\",\"blue\",\"blue\",\"blue\",\"blue\",\"blue\",\"blue\",\"blue\",\"blue\",\"blue\",\"blue\",\"blue\",\"blue\",\"blue\",\"blue\",\"blue\",\"blue\",\"blue\",\"blue\",\"blue\",\"blue\",\"blue\",\"blue\",\"blue\",\"blue\",\"blue\",\"blue\",\"blue\",\"blue\",\"blue\",\"blue\",\"blue\",\"blue\",\"blue\",\"blue\",\"blue\",\"blue\",\"blue\",\"blue\",\"blue\"],\"phrase\":[\"Can I get back with my ex even though she is pregn\",\"What is the best way to become an arms dealer in t\",\"Why doesn't Japan contribute to peace and prosperi\",\"Which is the best Panasonic air conditioner servic\",\"What did ancient Egyptians believe about the after\",\"How does one prepare for the RBI grade B officers \",\"Which institutions in Kolkata give coaching for en\",\"Will omar bravo be in fifa 17?\\n\",\"What are the pros and cons of arranged marriages?\\n\",\"What will happen if all the vegetable dies?\\n\",\"Why do people hate hypocrites?\\n\",\"What do you consider poor, middle class, wealthy a\",\"How do I concentrate on my studies?\\n\",\"What is new age psychobabble?\\n\",\"How can you tell if your man is cheating even if h\",\"Can you see yourself during lucid dreaming?\\n\",\"Which browser is most safe in terms of privacy and\",\"Can Google Assistant run on OnePlus 3T?\\n\",\"Apart from the VW Vento / Polo and Skoda Rapid, ar\",\"What is Panera Bread?\\n\",\"Do athletes live longer and healthier? If not, why\",\"Could a pitbull take on a wolf in a fight?\\n\",\"What has Obama done for Latinos/Hispanics?\\n\",\"How much is |x|^2?\\n\",\"How does operator.com work?\\n\",\"Why do people not make movies/talk about the Romas\",\"What were the major contributions of the political\",\"Company Secretaries (CS): How do I prepare for CS \",\"What are the job prospects of chemical engineers a\",\"I have never gone to a bank. How do I put money in\",\"What is the best strategy to prepare for the GATE \",\"Who is this porn star?\\n\",\"Why are specs & sunglasses so expensive?\\n\",\"I installed the movie torrent with Ultra XVid Code\",\"Can we ride scootry with learning lisence age of 1\",\"Two cards were drawn, without replacement, from a \",\"How much money is needed per month to live in indi\",\"Why do companies issue bonus shares?\\n\",\"Why are Iranians and Afghans considered white Amer\",\"Could mumps cause deafness?\\n\",\"What is meaning of sadaka?\\n\",\"What should I know before starting a YouTube caree\",\"Is the ITI College Principal is gazetted officer?\\n\",\"How do you feel now that Donald Trump is now the P\",\"What is the difference between imperial units and \",\"What is the easiest way to do effective self hypno\",\"Why has China increased its involvement in the Syr\",\"From which year CBSE class 10th exam be reintroduc\",\"Is 1080p a Blu-ray?\\n\",\"Does using mirrors to concentrate thermal energy d\",\"How do I avoid attractions by phones?\\n\",\"What are some of the effects of education can you \",\"What are the characteristics of a Pisces Sun/Libra\",\"What is the most cost-effective option to ship pac\",\"Are red and blue complementary colors?\\n\",\"Is it possible to make a material that is a superc\",\"What is the best Shonen Jump manga?\\n\",\"Are Oracle and Cisco good companies for a new grad\",\"If lighting a match is considered a chemical chang\",\"Why is Hillary so afraid of Putin?\\n\",\"Which is the best book to study electronics basics\",\"What are the basics I should know before learning \",\"Can I use Cph4 on a day to day basis?\\n\",\"Is it safe when I buy things from China?\\n\",\"Why did some ethnic minorities support Brexit?\\n\",\"How much money has tinder made?\\n\",\"What is the limit?\\n\",\"Will browsing Facebook while connected to Tor reve\",\"If I get 68.4 percent in ftre 2016 class 10 then w\",\"No product market fit: change product or market fi\",\"What makes you sad about India?\\n\",\"How do I know if someone has read my messages on w\",\"Why there is a sound when we crack our knuckles?\\n\",\"Why do I only make friends with guys?\\n\",\"What is 'open-mindedness'?\\n\",\"What is the cause of carpal tunnel syndrome?\\n\",\"What is the difference between a \\\"slow cooker\\\" and\",\"What is Hillary Clinton's stance on nuclear energy\",\"Do IIT colleges require a caste validity for an ST\",\"How do I listen a song from you?\\n\",\"Why do so many Iranians immigrate to Canada?\\n\",\"What will happen to India-U.S. relations after Tru\",\"A program that stored five words in the memory the\",\"What are ways of joining to ISRO as engineer other\",\"Can Magneto defeat Hulk?\\n\",\"What time of year is it best to visit Singapore?\\n\",\"How do I study for ib?\\n\",\"What should I do if someone doesn't reply to my em\",\"How much does Manveer Singh Phogat gets for Dangal\",\"What is it like to be cannibal?\\n\",\"How can the Android app development companies help\",\"Who would you say is the most fun person in Israel\",\"How can one improve her figure and butt size witho\",\"As a company that provides travel agencies and tou\",\"What is the most beautiful thing you saw today?\\n\",\"Is gay flirting good?\\n\",\"Can I use Stripe in Europe?\\n\",\"Will Britain leaving the European Union lead to th\",\"Why are so many East Asian immigrants so averse to\",\"Why do we need computer networking?\\n\",\"What is retina detachment?\\n\",\"Why don't more bars have mechanical bulls?\\n\",\"How do I get better understanding of C++?\\n\",\"Which is the most profitable Porsche US dealer?\\n\",\"What are the best over the ear headphones for abou\",\"Is it true that the first kill is the hardest?\\n\",\"Which is best 32 inch led tv to buy below 20,000 I\",\"I am scoring 130/506 in FiitJEE aits part test adv\",\"What kind of websites are missing from the Interne\",\"What is the best way to use free time at IITB?\\n\",\"Is it possible for me to buy my first company usin\",\"What should I do to have sex with as many women as\",\"What is the scope of Executive MBA in India?\\n\",\"Which BMW models do not have a Hofmeister Kink?\\n\",\"What is yellow journalism?\\n\",\"Why do doctors charge uninsured patients 10 times \",\"Which one is the best public sector job or private\",\"Will social media ever help to spur on the US youn\",\"How should I know a video is 360 degree?\\n\",\"Is a practice manual sufficient for the CA Final I\",\"Career Advice: Being an Indian college student, ho\",\"What are the advantages and disadvantages of Li-Fi\",\"On Snapchat, I deleted someone. Can they re-add me\",\"Are there any cereals that taste good with water?\\n\",\"Why does a woman's vagina push a mans penis out?\\n\",\"What is the British word for bullpen?\\n\",\"How hard is it for international students to get a\",\"How did Revan build his foundation of his army in \",\"What is the best way to read a fictional book? Do \",\"How do you replace a ignition lock cylinder?\\n\",\"How can I prevent business failure?\\n\",\"How often do tides occur? What causes it?\\n\",\"How do I learn Calculus on my own?\\n\",\"What is the reason for Priyanka Gandhi not changin\",\"What should I eat when I'm sick with a cold or flu\",\"What is a Business Intelligence Analyst?\\n\",\"Which sports should I start to play to paticipate \",\"How should I prepare for Java fresher interview?\\n\",\"How different are cuisines of Arab countries?\\n\",\"What is the meaning of the phrase, all is fair in \",\"Why does Quora send me a notification that my ques\",\"What are the hardest obstacles to breaking into a \",\"What makes a falling snowflake large (or not)?\\n\",\"What is the compensation for Partners/Principals a\",\"What is the difference between an array and a vect\",\"If you kiss the NC State wolf do you become an NC \",\"Is it boring (from a social perspective) to live i\",\"What would have happened if in 1971 war all 93000 \",\"What are the easiest things to do while being abro\",\"Does getting root canal cause problem in speaking \",\"What is the definition of a truncated sentence and\",\"Would I look good with a nose ring? if yes which n\",\"What are the perks of working in Amazon?\\n\",\"How can we say that climate change does not bring \",\"What it is like to meet \\\"Shahid Kapoor\\\"?\\n\",\"How does it feel when you are dead?\\n\",\"Which is the best juicer, grinder or mixer in Indi\",\"How do I learn to think more logically?\\n\",\"Which movie has the best beginning ever?\\n\",\"Which laws been enacted to prevent family members \",\"What is iPhone 6s plus cost present?\\n\",\"What is Ohm's law and amperage I?\\n\",\"What is the nicest thing a stranger has done for y\",\"Why do some heroic people who do good things choos\",\"How will Hindus react if Babri Masjid is reconstru\",\"R2I - How did you plan R2I from US if you own the \",\"How can I master C programming in 7 days?\\n\",\"What is the right way to clean ear wax?\\n\",\"What are some good games to play during class?\\n\",\"Is it possible to hack WhatsApp messenger?\\n\",\"Why do airplanes carry more weight than helicopter\",\"Shaving: Do electric shavers work better than manu\",\"Has anyone benefited, health-wise, from essential \",\"Can Students at Hogwarts have sex while there? Doe\",\"How can we enhance our efficiency with Yoga?\\n\",\"What are the best app review sites and blogs?\\n\",\"Can two companies be registered on the same addres\",\"Is it true that as per Indian law, one can't be ha\",\"Who would win in a war between Bangladesh and Myan\",\"How do you reply when someone thanks you for forgi\",\"Who would win a fight between wolverine and Batman\",\"What is one thing you wish for yourself in the fut\",\"Can you cry underwater?\\n\",\"What's the difference between SSL, TLS, and HTTPS?\",\"Why are antigravity muscles more affected in Upper\",\"In order to buy a house, does one have to rent fir\",\"What is the probability of choosing a pink ball fr\",\"Which is the best car to get under 8 lakhs?\\n\",\"Why isn't China's role in the Korean and Vietnam w\",\"What is the Laplace transform of t^(1/2) * e^ (-1/\",\"To those who told a big lie to their parents and t\",\"What is runtime polymorphism or dynamic method dis\",\"I had sex 5 days after my period, what are the cha\",\"How would you describe yourself in one tweet?\\n\",\"How do fairy tales influence creativity in humans?\",\"How do I add delay() and sound() in Dev-C++?\\n\",\"What is the pathophysiology of ADHD?\\n\",\"What are the top benefits of life insurance polici\",\"Can I get a TV from Bang & Olufsen for under $2500\",\"How is the life of an ece student at dayananda sag\",\"What is meditation?\\n\",\"Were the Ancient Greeks scientists, or just philos\",\"How does Google authenticator work?\\n\",\"Wouldn't it be better if kids were allowed to focu\",\"Can you apply for a certificate on Coursera/edX af\",\"Why do Quora engineers use large monitors?\\n\",\"How do I start an online clothing business?\\n\",\"How will the government meet the challenges of acc\",\"I saw a charge on my credit card under from a comp\",\"What is the difference between socialization and r\",\"How would the world be different if everyone spoke\",\"Who receives the fares in a cab service?\\n\",\"As a non-resident alien doing a summer internship \",\"Which is the best camera smartphone under 20k?\\n\",\"What does it mean to dream about someone before th\",\"What are the subjects in which I can apply for my \",\"What are the basics of Jainism?\\n\",\"What is the Difference between existential nihilis\",\"How can I see my girlfriend's WhatsApp chat messag\",\"What are some ways to enjoy sex with my newly marr\",\"How can I study the Bible?\\n\",\"How can someone be a friend, girlfriend, wife and \",\"What are the Snapchat usernames of punjabi celebri\",\"What is 1/2 times 1/2?\\n\",\"Where does the word restaurant come from and what \",\"What can I do with a computational linguistics deg\",\"Will trump win as president?\\n\",\"What impact will AI eventually have on how we plan\",\"Why is eating too unhealthy?\\n\",\"What if the Syrian civil war never happened?\\n\",\"How do the teachings, learning, followership and/o\",\"Did you ever been in a group of stupid people?\\n\",\"What are the multiple types of social issues?\\n\",\"Where can I find beginner NodeJS tutorials that us\",\"If I got a 7.4 CGPA in the SA1 10 class, then can \",\"Which the best time table for 10th class exams pre\",\"Elite Escorts in DHA Lahore?\\n\",\"My ex bf says he doesn't have feelings for me righ\",\"What are the questions in the interview for a fres\",\"What do you think are some of benefits to humans f\",\"Which one is the best medical college hostel in in\",\"Have you lived in a tiny house?\\n\",\"What are some things new employees should know goi\",\"Where can I hire high pressure cleaning service in\",\"How many Bollywood Actresses consume alcohol in re\",\"How does PayU earn money?\\n\",\"Is it possible to change your personality as a chi\",\"How do I apply to London School of Economics as an\",\"How do I build a profile to get accepted into a st\",\"How can I get real ghost stories?\\n\",\"Is it possible to hack NASA's New Horizons satelli\",\"What is the best way of getting good at answering \",\"How would you deal with jerks?\\n\",\"How can I do internship in Accenture India?\\n\",\"Why would an Indian girl not want to get married?\\n\",\"My WhatsApp chat backup got deleted from Google, I\",\"Is going to college really worth it or just a wast\",\"How many prophets did God send to the Jews?\\n\",\"What is the relation and difference between Artifi\",\"If you don\\u2019t have a good network, what would be th\",\"What are the best place to visit in Rio de Janeiro\",\"Which is the best college for PG in Cyber Security\",\"Which are the best English serials?\\n\",\"How do you say \\u201cWhat\\u2019s up?\\u201d in Chinese?\\n\",\"Is it bad to take expired fish oil pills because t\",\"Will there ever be a genuine Authoritarian candida\",\"Is World War III on its way right now?\\n\",\"How can you use time formats in Excel?\\n\",\"What is the best antivirus for Windows 8?\\n\",\"Why do people like Metal/Hard rock so much?\\n\",\"What are the worst smelling things in the world?\\n\",\"Could someone explain the following electives at N\",\"What's a funny thing?\\n\",\"What are the main reason of cracks?\\n\",\"How do I hitchhike in Europe?\\n\",\"What is the physical significance of quantum mecha\",\"How do we get dead people off business junk mail l\",\"Who among the four in the picture given in descrip\",\"How do I know if I authentically, genuinely, hones\",\"On average, how long does it take a letter mail fr\",\"When will One Piece have episode 517 dubbed?\\n\",\"What should I do if I fell in love with my best fr\",\"How do criminal lawyers sleep at night even when t\",\"Can I get refund for Tatkal e-ticket because train\",\"How can I buy the new Macbook 12\\\" M7 512GB model i\",\"What are the different e-governance methods used b\",\"How do I run smoother GTA V? I have intel core i3 \",\"What is the use of tanpura?\\n\",\"What are the Snapchat usernames of celebrities?\\n\",\"Which is better- cracking gate and going for IIT/i\",\"Can you lose weight without exercising?\\n\",\"What is the best way to make life more interesting\",\"Is Delhi a must for UPSC coaching?\\n\",\"Which are the best colleges for electronics and in\",\"I have been a .Net developer for over 2 years and \",\"Has a smartphone ever been taken to space? If yes \",\"What questions should I ask my boyfriend, we are b\",\"How do I delete a contact blocked in WhatsApp?\\n\",\"Is it a good time to buy real estate in Cyprus?\\n\",\"South India: Why is South India much more develope\",\"What is the formula for a hydrocarbon?\\n\",\"What if an alien comes and tells us that the physi\",\"What are the pros & cons of democracy?\\n\",\"I'm 16 years old and wanted to lose weight and bod\",\"Can I add more peers to the torrent for max speed \",\"What are the best neighborhoods to Airbnb in Chica\",\"What we will get in mahabalipuram beach sunrise or\",\"How fast can you accelerate to the speed of light?\",\"What is the difference between R-squared and Adjus\",\"How many times can women reach orgasm in a hour an\",\"Why didn't Johor, Batam & Singapore integrate more\",\"Which products are more profitable in online sell?\",\"How do I get rid of muscle?\\n\",\"What is the process of directing and casting child\",\"Is the 7th pay commission needed?\\n\",\"What are the best games that are compatible on a C\",\"What was the significance of the battle of Somme, \",\"How do you see Pakistan PM Nawaz Sharif's speech a\",\"Where can I publish my apps?\\n\",\"What was your darkest moment?\\n\",\"Why does the UK have an unwritten Constitution?\\n\",\"What are the necessary steps in documenting a mobi\",\"Why was life created? Why was life so painful?\\n\",\"How can I use explainer video to review products o\",\"What is difference between residue and error?\\n\",\"If 6.5 to 8.5 will be the safe level of pH value i\",\"I am 23 and don't know what I want. My life is ver\",\"What are your three favorite websites for reading?\",\"Why do people choose to be a GAY?\\n\",\"What is the process of death?\\n\",\"Why does light red deserve the special name \\\"pink\\\"\",\"Who are millennials?\\n\",\"What it's like doing CA articleship from Big 4s?\\n\",\"What is the most important right or freedom guaran\",\"Why do some porn stars have unprotected sex?\\n\",\"What are my reasons to live?\\n\",\"How small would a planet need to be to plainly see\",\"Some religion speaks of burning in hell after deat\",\"What does it feel like to be an IITian?\\n\",\"How does cognitive behavioural therapy work?\\n\",\"Why should you visit India?\\n\",\"I lost my Google account information. How can I re\",\"What if I port a number from Airtel to Vodafone in\",\"What are the reasons why time travel is impossible\",\"Will my iPhone alarm still go off if \\\"Do Not Distu\",\"Did South Korea cheat during the 2014 Asian Games?\",\"Take the minimum lethal volume of a gaz, put it in\",\"\\\"How to improve Project Management skills?\\\"\\n\",\"When you were small, did you ever think that your \",\"Where did the pointy \\\"S\\\" symbol come from?\\n\",\"How does it feels like to have a rich boyfriend?\\n\",\"What have you used your intelligence for?\\n\",\"What is a freewheeling diode?\\n\",\"How do we derive pi?\\n\",\"What is the importance of communication skills in \",\"How can I put icons on YouTube video titles? Also \",\"What does the phrase \\\"resonate with me\\\" mean?\\n\",\"How many types do we have of Manual testing?\\n\",\"What are IBAN numbers?\\n\",\"What is regret?\\n\",\"As a student specializing in English language, lit\",\"What is the corporate culture like at Corning? How\",\"How can I convert jazz standards to jazz guitar so\",\"How good was the surgical strike by Indian Army on\",\"What recipes are most conducive to romance?\\n\",\"What are the unknown facts about Tamil people whic\",\"Where do I find the most beautiful woman in the wo\",\"What does the grey phone icon mean on the messenge\",\"How do I share 360\\u00b0 photos on WhatsApp?\\n\",\"What is the difference between working stress meth\",\"What are the opportunities for an MBA in finance?\\n\",\"Can you patent clothing or fashion designs?\\n\",\"My in laws are apologists for Nazi war criminals a\",\"Which is the safest city in India for women?\\n\",\"What horse breed were commonly used during the \\\"Wi\",\"Is it weird to sometimes feel almost overwhelmed b\",\"Can anyone please list all the SAP SD topics a per\",\"In the filling of ibps application I put martial s\",\"In a restaurant, what are the different types of t\",\"Why does amir khan never go to any filmy awards fu\",\"What is a good inpatient drug and alcohol rehab ce\",\"Why does UV light cause contamination on optics, b\",\"How do I invest in mutual funds in India?\\n\",\"How comfortable are you with failure?\\n\",\"What skills are required to become a quant?\\n\",\"Why do startups announce fundraising?\\n\",\"What is your review of Amazon Video?\\n\",\"Why there is no team from Tamil nadu in pro kabbad\",\"How do I auto forward texts from my Verizon phone \",\"How do the Chinese people view Americans?\\n\",\"What is virgin or virginity?\\n\",\"What are the different ways of submitting a Reques\",\"Can a high school teacher legally force students t\",\"Why does water droplets form on the outer surface \",\"Which mammals have dark circles around eyes beside\",\"How do each components of a printer work?\\n\",\"What are some foods beginning with the letter W?\\n\",\"What are symptoms of a bad transmission control mo\",\"How do astronauts in ISS vote for Presidential ele\",\"What is the difference between Aim and Goal?\\n\",\"What is AT & C?\\n\",\"Who was Jackson Pollock? Was he mentally ill?\\n\",\"How do I make good vine edits?\\n\",\"How can I cut my penis?\\n\",\"How can I change my Quora profile photo?\\n\",\"My husband was here seeking asylum before we got m\",\"Is it good to use Laravel to develop a web app wit\",\"I have a mild sore throat an headache. What is tha\",\"When will a working nintendo 3DS emulator release \",\"What do we know about the health effects of vaping\",\"INSEAD: Worth the investment?\\n\",\"How is long rides in royal Enfield classic 350?\\n\",\"What famous boxers have participated on Dancing wi\",\"Will season 10 of Big Bang Theory be the final sea\",\"Can I crack KVPY (SX) with only three months left \",\"What are some little-known facts from World War II\",\"What is the most unique way of exam cheating you'v\",\"When was the last time a slam dunk broke a basketb\",\"What should I do for my excessive hair loss?\\n\",\"How do I find people's psychological weakness?\\n\",\"What is the difference between Awareness and Consc\",\"I hate everything that people around me like. Is i\",\"I think I am pretty good at thinking of a business\",\"How do you determine the thickness of a footing ba\",\"Why does vapours are formed when we pressurize alc\",\"Is it easy to adjust in German Universities withou\",\"What is UNIX and UNIX-like?\\n\",\"What is the best way to promote www.dorkyard.com?\\n\",\"What's up in Addis Abeba tonight?\\n\",\"Is there any point to going to college if you have\",\"How much would it cost to construct 800 sqft area \",\"What is an ideal wife? What is an ideal husband? W\",\"What information does port scanning provide?\\n\",\"What are the application of quasicrystals?\\n\",\"What is the determinant of the inverse of a matrix\",\"How is Brad Pitt in \\\"real Life\\\"?\\n\",\"I have a 3 yr bachelor's degree in Computer Scienc\",\"Demonetisation is good for county like India or no\",\"My parents think I am rude for being so introverte\",\"How many people have jumped off the Golden Gate br\",\"What are Osho's views on Islam?\\n\",\"Why does the government regulate health care?\\n\",\"Which phone has the best sound recording quality?\\n\",\"What is the best part of your life, and why is it \",\"Which is better hair wax or hair clay?\\n\",\"How do I charge my motorcycle battery?\\n\",\"What are the updates we get after miui 8.0.6.0?\\n\",\"Why does Robinhood need to bypass the App Store?\\n\",\"Which is a better route, Alipiri or Sri Vaari?\\n\",\"How much extra would it cost if Apple manufactured\",\"When will the next recession be?\\n\",\"What are some arguments in support of electing Don\",\"What does Russia want with Ukraine?\\n\",\"What is the difference between a recorder (block f\",\"What is the meaning of random number?\\n\",\"Which one is good for health: tea or coffee?\\n\",\"Is Texas good state for non-resident to register a\",\"What is kirchoff's law?\\n\",\"Is it wrong for a family member to keep making com\",\"My parents are forcing to marry a girl of their ch\",\"Which is better, Windows+Linux or OSX?\\n\",\"Why aren\\u2019t Christians that pray to/have a relation\",\"How much TDS will I have to pay for an RD account \",\"What is the meaning of thematic connection?\\n\",\"How should you prepare to take your maneuverabilit\",\"What are the best materials/videos/resources to ge\",\"Can a \\\"dirty\\\" finish be added back to jeans?\\n\",\"Why does my dog keep whining at night?\\n\",\"Is it bad to turn off my PC using the power button\",\"What is image processing?\\n\",\"I went to school with mostly black kids, they bull\",\"Does Donald Trump actually think he can become Pre\",\"Which are the 5 best movies you have ever seen?\\n\",\"How do I get traffic to excursions travel website?\",\"Where can I download the Android game Leo's Fortun\",\"How do I get more followers and upvotes on Quora?\\n\",\"What is a factory reset on a phone?\\n\",\"Which phone should I buy if my budget is 12000?\\n\",\"I have GPU implementation as a graduation project.\",\"What are the libertarian views on the Antarctic Tr\",\"What would the world be like if it were ruled by a\",\"How do you choose your first bank?\\n\",\"Who runs berkuliah.com?\\n\",\"What does Godel's incompleteness theorem mean for \",\"How do I delete a Gmail account?\\n\",\"If my ultimate goal is to become a vegan, should I\",\"Did the US win the war in Afghanistan?\\n\",\"How can I become a good engineering student?\\n\",\"What are some ways to increase intuition?\\n\",\"What causes depression in humans?\\n\",\"How can I control my anxiety and worries?\\n\",\"How can we jump in between the working regions of \",\"How do I stop loving someone who loves me?\\n\",\"Can personality and insecurity create a liar?\\n\",\"What is the best country and university to do a Ph\",\"How do I edit a video offline?\\n\",\"What is the rent of kiosk in an upscale mall?\\n\",\"What should I start reading if I want to attempt t\",\"Which is the best anti-virus for computers?\\n\",\"Does food unite people?\\n\",\"What do you like most about Internet?\\n\",\"What is a good model of federalism in the Philippi\",\"How do you know if a girl secretly loves you?\\n\",\"Who is the most annoying fictional character you h\",\"How do you feel when your question is unanswered o\",\"Did early humans know how babies were made?\\n\",\"If I cancel xfinity, how can I sign up as a new cu\",\"Are there any TV series similar to House MD?\\n\",\"What you need to know before buying furniture for \",\"Have you ever had a dream happen in reality?\\n\",\"Is dark matter just a scientific theory or has its\",\"How can you increase your tolerance for pain?\\n\",\"How many logical fallacies are there?\\n\",\"How do buttercream icing frosting separate?\\n\",\"Which is the cheapest cinema hall of India?\\n\",\"What do you think would be a good gre score?\\n\",\"What is the best way to update Xiaomi redmi 3 to M\",\"What does toe jam cheese taste like?\\n\",\"How do I know if a YouTube video is copyrighted?\\n\",\"How should I start a business reselling shoes?\\n\",\"How do I hire a mobile app development company?\\n\",\"What is paras pathar?\\n\",\"How is the word \\\"colony\\\" used in a sentence?\\n\",\"What is Rebecca Fugate known for?\\n\",\"What should I consider before starting my consulta\",\"Do you feel that many attractive women get away wi\",\"Why do I feel so much guilt for kissing a girl?\\n\",\"What are some good tutorials for learning Blender?\",\"Is it deceitful to befriend someone in the hopes t\",\"Who do you think BJP will put as a candidate for t\",\"Which protein supplement is best for gym to gain w\",\"What is your review of KVPY SX/SB 2016?\\n\",\"How do I get people's attention for my work?\\n\",\"What are some of your own personal stories and exp\",\"If salt concentration of the sea(3%) were differen\",\"What is the chemical name for mothballs? How was i\",\"Vitamin D receptors in the Testes?\\n\",\"How do I lose weight without working out?\\n\",\"Where can I watch anime?\\n\",\"What is BusyBox used for?\\n\",\"What would be a good desktop computer for software\",\"What are your top five favorite books and why?\\n\",\"What are some good Harry/Ginny fanfiction?\\n\",\"What are the pros and cons of having sex during pe\",\"Which device will you enjoy watching movies in: a \",\"Will there be \\\"faithless\\\" electors this election?\\n\",\"Is Donald Trump an undercover democrat?\\n\",\"Why am I the way I am?\\n\",\"Why do some women get their nipples pierced?\\n\",\"What do Delhi University girls (especially North C\",\"What is the name of this TV series?\\n\",\"My salary is below the Basic Exemption Limit, yet \",\"What is a foliated rock?\\n\",\"What are some of the best books to start learning \",\"How should I prepare for IIT-JEE 2018?\\n\",\"How do unions work?\\n\",\"Can we give neet coaching in class 11?\\n\",\"Which is the best dish TV connection in Hyderabad?\",\"How can you train a Doberman/Lab mix?\\n\",\"How do you reduce stress at work?\\n\",\"What is the best algorithm for finding the number \",\"How can I earn $250 in 2 months?\\n\",\"Why did GE buy NBC?\\n\",\"What is the highest level of c?\\n\",\"How do you mash potatoes without a masher? What el\",\"How difficult is it to learn Python?\\n\",\"How do you convert years into seconds?\\n\",\"How do you view bisexuality?\\n\",\"What is information technology? What are some exam\",\"Why are Altoids so strong?\\n\",\"How effective is email marketing?\\n\",\"Why does my tutor keep winding me up. He says he i\",\"How can I start my Tok essay which is about accura\",\"How do I repair my corrupt memory card?\\n\",\"I have 3 years to prepare for IIT JAM Physics. How\",\"What are the best Instagram hack tools that have n\",\"I am studing interior design. What are some good i\",\"What are some stupid jokes that make you laugh?\\n\",\"What are the factors affecting Real estate investm\",\"How can I get rid of white dry spot on my face? It\",\"What is it like to have an ugly wife/partner?\\n\",\"What do you love most about your life and why?\\n\",\"In the unlikely event that the Electoral College t\",\"How is life as an Engineer?\\n\",\"Where and why are the imaginary numbers used?\\n\",\"What are some good hypo-allergenic lipsticks?\\n\",\"Did the United Nations play a part in the divide o\",\"When and Why did America become a world power?\\n\",\"What are some recipes using Hormel Black Label Ham\",\"Which is the best company to invest shares on Nove\",\"The man I'm about 2 marry says when I have my peri\",\"What can be the best answer for why finance?\\n\",\"What are the best facts about the universe?\\n\",\"What's the sweetest thing you did for a bestfriend\",\"What is the difference between techno and trance m\",\"TV Sitcoms: Why do English comedy shows have peopl\",\"Does percentile system would affect neet 1 student\",\"Is there Uber in Valencia, Madrid and Barcelona?\\n\",\"Have real-life siblings ever shot intimate scenes \",\"How should I improve my writing skill for blogging\",\"Can cold weather affect a menstrual cycle?\\n\",\"How can we earn money online while studying?\\n\",\"Can a tablet keyboard be used on any kind of table\",\"What are the Upcoming development projects in Chha\",\"Where can I buy cheap Twitter followers?\\n\",\"Why do passengers from aircraft are not given a bu\",\"When should I tell my crush I like her?\\n\",\"Why does Pakistan have a better image and reputati\",\"What are Andrea Pirlo's strengths as a midfielder?\",\"From a point in space billions of light years away\",\"Will Medicaid pay for electrologist to do the shav\",\"Why do technical employees despise sales people so\",\"What are the best freelance websites for C#?\\n\",\"Will I be successful without educations?\\n\",\"How can I learn about cars?\\n\",\"What is the best question asked in an interview?\\n\",\"Why there is so much hatred against Brahmins in In\",\"How do I learn to enter journal entries online in \",\"Will CS be issuing a PR message for Boston?\\n\",\"Why do some people 'hate' drugs or people who ever\",\"How do I know my passion? What is my talent and wh\",\"How do pessimists and optimists differ?\\n\",\"How many pulleys did it take for Archimedes to lif\",\"What is the best course after 12th for a medical s\",\"What are the steps that I should follow to get in \",\"Where was the boston marathon?\\n\",\"What is it like to be in or around a bomb blast?\\n\",\"Will Trump destroy international US-companies thro\",\"Should celebrities have the right to voice their o\",\"Can I say that: \\\"A battery can be seem as a capaci\",\"What is it like to be an ENTP?\\n\",\"How do I start designing on glass?\\n\",\"What is the market risk premium formula?\\n\",\"How can I pay the parking meter if I have no coins\",\"Is it true that Obama has a secret son named \\\"Luth\",\"Which is the best coaching for IAS in up?\\n\",\"How big is the equity funding market in North Amer\",\"Which are the good government medical colleges in \",\"How do I control my hair fall?\\n\",\"Is it really worth creating Shopify themes?\\n\",\"What can cause knee pain? It only hurts when I sta\",\"Where can you find a list of common 9 letter words\",\"NSFW: Is this penis color normal or should I see a\",\"Why do most women remove the hair from their arm p\",\"Which processor is better (faster/more efficient),\",\"Which two statements are true regarding views in s\",\"What is the easiest and quickest Indian food recip\",\"What are the best local SEO companies in India?\\n\",\"How do I get rid of adult content on my Quora feed\",\"Can the zombie fungi attack humans as well?\\n\",\"If I wanted to learn about the Roman Empire,what w\",\"What are the key differences between LXDE and XFCE\",\"Can people see the sellers real name, e-mail addre\",\"Should I still watch The Matrix movie?\\n\",\"Is there any truth to the rumor that the youngest \",\"Is it ok that I don't want to hang out with my fam\",\"I am in class 9. If i want to crack IIT JEE, then \",\"Will Obama's gang stalking/surveillance program be\",\"What are some good songs to lyric text prank a fri\",\"Where can I get best quality video DJ for party in\",\"How long does it take for your hair to grow?\\n\",\"Should I update my Redmi 3s from MIUI 7 to MIUI 8?\",\"How do muscles work?\\n\",\"WHAT IS THE BEST ROUT FOR NEPAL PASUPATI NATH TEMP\",\"How to make a website similar to feedwiser.com in \",\"Why does India so scared of CPEC?\\n\",\"What did your first sex feel like as a girl?\\n\",\"In International ODI/T20 cricket matches, if a bat\",\"Why can humans feel acceleration, but not constant\",\"Can the Microsoft Surface Pro 4 run AutoCAD?\\n\",\"What are the differences between stock Crown Victo\",\"What are the good ways to download Lynda.com's tut\",\"How much is the average salary package for a 1.5 y\",\"How can you reduce the barriers of communication?\\n\",\"Why would someone use Instagram Stories over Snapc\",\"Whiskey: How many 'shots' are in a fifth of Jack D\",\"What might happen now that President-elect Donald \",\"How do I write a waiver letter for school?\\n\",\"I am interested in persuing ma industrial psycholo\",\"Does modafinil shows up on a drug test? Because my\",\"Is it possible to get high off Vyvanse?\\n\",\"Is an agnostic necessarily a skeptic, and how?\\n\",\"Where can I get best support in Sydney for buying \",\"What are the duties of a lieutenant in Indian army\",\"Why is smileys not used on Quora?\\n\",\"What does it feel like for a man when someone who \",\"How does post graduation permit impact .lets say I\",\"Online Payment Gateways and Processing: What is th\",\"What are the best books to learn c programing lang\",\"Solid State Physics: What is The Theory of Alloys?\",\"How do I fill in my first name in a PAN card dupli\",\"Why is egg yolk not good for you?\\n\",\"Anatomy of Female Pelvis: Do women really have an \",\"How much does it cost to develop mobile applicatio\",\"Who is the most honest Game of Thrones character?\\n\",\"What is a high quality Apple MacBook Air charger?\\n\",\"Where and how is the WWE championship belt made?\\n\",\"What is green communication?\\n\",\"I have been a good student since chiild hood but j\",\"I'm solving exercises of artificial neural network\",\"Compared to your own compensation, and in consider\",\"How can I keep browsing Quora forever?\\n\",\"Having built web stuff the old way (PHP/MySQL) bac\",\"Is our new currency note of Rs.2000 equipped with \",\"What's the best way to join a startup in DC?\\n\",\"What would happen if we added a second Earth of eq\",\"When will piracy on Android stop?\\n\",\"What do you mean by executive consultant and suppo\",\"Why do I always feel like I am missing something?\\n\",\"What does a user see when he/she gets a new messag\",\"How can I become a web developer?\\n\",\"Is there any good alternative softwares to Tally?\\n\",\"Would you have sex during period?\\n\",\"Are there prominent Bangladeshi Hindus?\\n\",\"I have registered for PhD (no NET) (phy) in 2013, \",\"I changed my name, but the person did a mistake. M\",\"At what age do your breasts stop growing?\\n\",\"How do I get a girl's phone number in a library?\\n\",\"I am into a habit of over thinking things. How do \",\"What is the average salary of a civil engineer?\\n\",\"What is the difference between rote learning vs me\",\"What are the ways to compete in the Olympics in 20\",\"What trivia (and/or little-known facts) do you fin\",\"Xiaomi Redmi note 3: Which is the best colour to b\",\"What does \\\" the Hadamard Perron theorem\\\" means?\\n\",\"Is there a way to see the viewing history and chat\",\"What is the best place for trekking in Goa?\\n\",\"How does an instant messenger work?\\n\",\"What are the disadvantages of the World Trade Orga\",\"Why does the US military not use AK series rifles?\",\"Does Moto m have gorilla glass?\\n\",\"What is the hierarchy of an associate consultant a\",\"What are some major landforms in Texas, and how do\",\"What other jobs can a medical degree holder do mea\",\"MY HP DEXTOP DOESNOT CONNECT WIFI WHY?\\n\",\"How can I get motivated to workout?\\n\",\"What should I gift it to my mom on her birthday?\\n\",\"Which is the best video you have ever seen?\\n\",\"I was selected in campus and was issued a joining \",\"What makes a poem a good way to express emotions? \",\"What would happen if I cut down a tree outside my \",\"Can you make money in Amway?\\n\",\"Body Weight: How many pounds can I gain every week\",\"What are the impacts (both positive & negative) of\",\"I forgot the password which I used to login n n lo\",\"What are the best websites for career?\\n\",\"What is your favourite episode of the office (USA)\",\"Why is time slower down near heavy objects?\\n\",\"How do l update any version after rooting the mobi\",\"Why is 3 am called the witching hour?\\n\",\"How do I run a shell script from Java code?\\n\",\"What are the advertising campaigns of 2011?\\n\",\"Should I opt for computer science if I don't take \",\"What are the polymers of protein?\\n\",\"How much better will the JWST be than Hubble?\\n\",\"What are the greatest examples of absence of mind?\",\"How can I understand the STOCK market from the bas\",\"How do I make Gazpacho?\\n\",\"What is the typical role of a brand manager?\\n\",\"Who are the top 5 hottest women ever?\\n\",\"What is the name of the game that Aamir Khan was r\",\"How long does it take to learn dance?\\n\",\"What's the funniest thing that's happened to you a\",\"Why are metals malleable and ductile?\\n\",\"List of national daily in India?\\n\",\"Are Volvos actually safer than comparable cars?\\n\",\"Can you tell who has been looking at your Instagra\",\"A ball dropped from the roof of a building takes 4\",\"What percentage of Hillary Clinton's supporters ha\",\"Do you think you are beautiful?\\n\",\"Which are the free email marketing tools?\\n\",\"What topic of discussion do people hate the most? \",\"What is the point in having hyper-politicised stud\",\"Why Steve Jobs is considered as innovator?\\n\",\"How long would it take an average programmer to wr\",\"Why are conservatives defending Holly Fisher? (see\",\"What is so important about Adam Smith's pin factor\",\"What is the Arizona bark scorpion, and how do anim\",\"How do I stop smoking cigarettes?\\n\",\"What are the functions of a computer's motherboard\",\"How can tea bags help for styes?\\n\",\"How can I get a patent for my really effective inn\",\"Can India ever become 'Sone Ki Chidiya' again?\\n\",\"Is there any way to play Android games LAN multipl\",\"Why should I ask my first question?\\n\",\"Who are the top writers on Hinduism on Quora? Who \",\"How do I wake up at 4:00 A.M.?\\n\",\"Why is Quora moderation collapsing all my answers?\",\"In an honest assessment, what do you think of Trum\",\"What type of bonding is present in a coordinate bo\",\"Is it possible to delete your Wikipedia account hi\",\"I'm a +2 CBSE non-medical student. Is there any pr\",\"Are there any limitations as to setting up a forei\",\"How will the drought in California affect its econ\",\"What is Informatica online training?\\n\",\"Is it compulsory for a Web designer and developer \",\"How could the US realistically pay off its debt?\\n\",\"Who is Barry Soetoro?\\n\",\"How do I solve [math]2x^3-x^2+11x+3=0[/math]?\\n\",\"What are some hobbies couples can do at home?\\n\",\"How have meerkats adapted to the desert?\\n\",\"What causes dizziness when you lay down?\\n\",\"What should one do after a civil engineering degre\",\"What are the advantages of hiring skip bins servic\",\"Why is it necessary that singers lip-sync?\\n\",\"How can I turn off the screen overlay detected on \",\"How do you clean or polish a pair of Woodland shoe\",\"What are some classes you wish you took in high sc\",\"What is the formula of [math](a+b)^3[/math]?\\n\",\"What is it like to commit yourself to a psychiatri\",\"Is there any way to slow or reverse the late effec\",\"What would the implications be if we discovered th\",\"Any other program to help on code contribution for\",\"What is the bond order of [math]H_2[/math]?\\n\",\"What is the best way to create a website without c\",\"What were some causes and effects of the French Re\",\"What are some catchy headlines for a dating site?\\n\",\"Should I get Company of Heroes, World in Conflict \",\"How do I remove a person from a group in Skype?\\n\",\"Why was Manmohan Singh briefed by PM Modi after su\",\"Does anybody want to learn Chinese?\\n\",\"Is Xiaomi going the Nokia way to oblivion?\\n\",\"Should I buy hp 17.3 AMD laptop or lenovo 17.3 i5 \",\"Which is better a government job or a software job\",\"How can the word \\\"credulity\\\" be used in a sentence\",\"Does uber track time on app?\\n\",\"How do I get over direct rejection?\\n\",\"How can any institute get an ISO certificate?\\n\",\"What are the best pranks?\\n\",\"Are non-solicit agreements enforceable if the pers\",\"Which phone is best in 2016 for a 18 years boy my \",\"What is the definition of an archetypal hero?\\n\",\"Why are some \\\"ugly\\\" people still very attractive?\\n\",\"What are the chances of Donald Trump's impeachment\",\"What would a society based on laws enforcing only \",\"What is the full form of \\\"veto\\\" power?\\n\",\"How much do people get paid to do a TED talk?\\n\",\"What does it mean to say \\\"enriching herself off of\",\"How can I be more persuasive at work?\\n\",\"What is the corporate culture like at National Bev\",\"What is the fastest way to get a PAN card?\\n\",\"Who will win in America presidential elections in \",\"How do I solve this differential problem?\\n\",\"How is Banjara's Saffron Facial Kit used?\\n\",\"How do you understand life?\\n\",\"Will an MS from NUS in electrical engineering prov\",\"How does one create a strong password? Any tips?\\n\",\"Who was the best dressed at the 2016 Emmy's?\\n\",\"What is the cost of manufacturing a SIM card?\\n\",\"Are you tolerant?\\n\",\"Is [math]\\\\{1,2,3\\\\}[/math] a compact subset of a me\",\"What kind of energy is involved in hearing and vis\",\"What happened with Lehman Brothers?\\n\",\"What is a good web page publisher?\\n\",\"Why does eating radishes cause diarrhea?\\n\",\"How do I encrypt the data on my Android phone?\\n\",\"If there were an Oscar for \\\"Best Line in a Movie\\\",\",\"Why are tyres black?\\n\",\"What is the best way to unlock a Motorola Droid Bi\",\"Is a $45 a month job worth the experience?\\n\",\"Should I settle in Canada or Japan?\\n\",\"How is the appraisal process in Accenture? How wil\",\"How does sand turn into glass?\\n\",\"What effect will increased automation of jobs and \",\"I am 25 years old Indian guy, want to settle in Ne\",\"What are some Raksha Bandhan gift suggestions for \",\"How do I write a multi-dimensional villain that is\",\"Why is there no nucleus in a red blood cell?\\n\",\"Why do Quora allow anonymous fake questions from A\",\"Is it possible to merge a foursquare venue into a \",\"How do I find out if I have Siri on my phone?\\n\",\"Why do I feel like I'm not living my life?\\n\",\"What will happen to global stock market if Donald \",\"What makes weeds grow so much faster and easier th\",\"Do people with extremely high IQ need higher sugar\",\"What should teaching assistants do?\\n\",\"Why is Perth one of the most liveable cities in th\",\"How do you get to the entrance for Resolution Cave\",\"How do I get involved in research as an undergradu\",\"If you have one option to remove anything, what wi\",\"What are the risk after angioplasty?\\n\",\"Why can't men read the signals women give off when\",\"How can a non-EU medical graduate get into residen\",\"How do I stay active?\\n\",\"I'm going to Paris. What is the equivalent \\\"neighb\",\"How do I get rid of dandruff, or at least prevent \",\"Is Medicaid going to pay for the electrologist for\",\"When Australia became a nation in 1901, Did aborig\",\"What is the difference between SSL and Sitelock?\\n\",\"What are some unsolved problems in deep machine le\",\"What's the difference between computer engineering\",\"Is it possible to get a decent job after completin\",\"What is the difference between MG & BG in railway \",\"How do I control an Arduino with a Raspberry Pi?\\n\",\"What is the best field to pursue MS after doing el\",\"What is the difference between Directx and graphic\",\"How do I wirelessly charge the electrical devices \",\"Can you upload Numbers sheets from iPad to Google \",\"What's the best movie franchise you have ever watc\",\"If light does not have mass, then how can it be ab\",\"Why is the book of Esther in the Bible?\\n\",\"What makes comic books worth reading?\\n\",\"What are the advantages of outsourcing property ma\",\"What is a Quora credit competition?\\n\",\"Are data analyst/data science jobs boring?\\n\",\"Why don't satellites crash into each other?\\n\",\"How do dermatologists remove blackheads?\\n\",\"How can I choose between my dad and my mom?\\n\",\"Can you really not change people?\\n\",\"Being a non believer of a spiritual entity, I have\",\"Is black coffee fattening? If so, what makes it fa\",\"The education system is outdated. What would you d\",\"Who are the founders of Quora?\\n\",\"What is it like to be a landlord?\\n\",\"How many stamps do I need to send a letter to germ\",\"My father just recently got married. His wife goes\",\"Which countries are best to migrate from the US?\\n\",\"Can any one tell me a basketball club in Bangalore\",\"How can Spotify download songs offline?\\n\",\"How do I make money online for free in Spain?\\n\",\"Why is Tornado Alley prone to tornadoes?\\n\",\"How does helium change the inhaler's voice?\\n\",\"What is a bedding ceremony in Game of Thrones?\\n\",\"What is it like living in former East Germany as a\",\"Did the USA or NATO commit any war crimes in Iraq?\",\"Why don't we capture terrorist and behead them?\\n\",\"What is your favorite quote (books, movies, people\",\"What mixes well with peach vodka?\\n\",\"Which Patanjali products contain cow urine?\\n\",\"Why are three phases denoted by RYB?\\n\",\"Where could I learn JavaScript online?\\n\",\"Is it appropriate to wear a sports bra simply to t\",\"What are the differences between Jenkins CI and Dr\",\"T right do you think we should be entitled to?\\n\",\"What was the public's reaction to Crystal Pepsi?\\n\",\"How can I crack MH-CET 2017 engineering by self-st\",\"What is the way to become a dental hygienist in th\",\"Why do solving math/statistics problems causes my \",\"Does your name sound as awkward to others as it so\",\"What is the proper format of writing formal-inform\",\"How does doc2vec represent feature vector of a doc\",\"Why are software development task estimations regu\",\"How can I set up molecular pathology lab?\\n\",\"How do I score a rank in CA - IPCC?\\n\",\"What are some examples of strong organic acids?\\n\",\"What can be a good hindi (indian) name for a tea b\",\"Is the Google host matching process different for \",\"Is Cuba considered part of Latin America?\\n\",\"Does the following script (\\u0256\\u2200\\u0f61\\u0632\\u2202 \\u0250\\u0167 \\u01ab\\u04bf\\u03de\\u026e\\u2609 \\u027d\\u03c6\\u0289\\u029b\\u0195), \",\"How can I increase my website's DA?\\n\",\"Is it normal to imagine having sex with other guy \",\"What is the percent purity (approx) of consumable \",\"Do soulmates just come walking into your life when\",\"If I use marijuana with my boyfriend, is there a p\",\"Can you analyze everything in soil?\\n\",\"What difference it would make if India Nuked and K\",\"What are the advantages of a dominant party system\",\"What were some things India did not do but takes c\",\"How many total women have accused Bill Clinton of \",\"Why do I wish some fictional characters existed?\\n\",\"Where can I find best hotel at Ranikhet?\\n\",\"How do I make good memes?\\n\",\"What are some of the common sayings or proverbs in\",\"What kind of writing style makes someone a \\\"dark w\",\"Are Trump and Hillary really the best America has \",\"How can I make my career in embedded system and ro\",\"Will adding a USB to VGA adapter always give an ex\",\"We will never be able to see our own faces with ou\",\"What are the ways you can stop a friend from pitch\",\"What is the average time for preparation of IAS?\\n\",\"How can I learn new things quickly?\\n\",\"What is the definition of political courage?\\n\",\"What makes death scary?\\n\",\"I'm really pretty but I don't want to be I hate th\",\"Is Assam Down Town University good?\\n\",\"How do the brain structures of bonobos change as t\",\"What's the biggest scam?\\n\",\"Does the US government have an alien flying saucer\",\"I need to gain weight, but I don't have abs. It's \",\"Why should I study Calculus?\\n\",\"Do you think your childhood contributed to your fi\",\"How does the Goods and Services Tax (GST) works?\\n\",\"Where can I download Cisco 500-285 exam dumps?\\n\",\"How do I can make a second nation in Cybernations \",\"Did Neil Armstrong really land on the moon?\\n\",\"Why is Devil any other than God head of state?\\n\",\"How do I stop being possessive over my girlfriend?\",\"How does Kongregate compute the statistics of adve\",\"Who is the best nuero physician at NIMHANS, Bangal\",\"What are nonprofit organizations?\\n\",\"I want to know the process of starting outbound ca\",\"Which are some of the best hotels to stay in Helsi\",\"What is good about Deloitte Chicago?\\n\",\"How do I recover data from a formatted hard drive?\",\"Could India and Pakistan unite again?\\n\",\"How often should I massage my face with Argan oil?\",\"How is psychodynamic therapy different from psycho\",\"What are some of Barack Obama's character traits?\\n\",\"Would it make sense to replace the B-52's 8 1960s \",\"Is it possible to bring forward my flight date of \",\"How can I learn marathons?\\n\"],\"x\":{\"__ndarray__\":\"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\",\"dtype\":\"float32\",\"order\":\"little\",\"shape\":[1001]},\"y\":{\"__ndarray__\":\"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\",\"dtype\":\"float32\",\"order\":\"little\",\"shape\":[1001]}},\"selected\":{\"id\":\"1287\"},\"selection_policy\":{\"id\":\"1286\"}},\"id\":\"1222\",\"type\":\"ColumnDataSource\"},{\"attributes\":{\"axis\":{\"id\":\"1232\"},\"ticker\":null},\"id\":\"1235\",\"type\":\"Grid\"},{\"attributes\":{},\"id\":\"1237\",\"type\":\"BasicTicker\"},{\"attributes\":{},\"id\":\"1286\",\"type\":\"UnionRenderers\"},{\"attributes\":{},\"id\":\"1226\",\"type\":\"DataRange1d\"}],\"root_ids\":[\"1223\"]},\"title\":\"Bokeh Application\",\"version\":\"2.1.1\"}};\n",
              "  var render_items = [{\"docid\":\"c6d12ec0-2639-48c0-9d2c-94d4f1e2a2a8\",\"root_ids\":[\"1223\"],\"roots\":{\"1223\":\"8ea7b8e1-a8e9-4d1b-92d3-676669425d22\"}}];\n",
              "  root.Bokeh.embed.embed_items_notebook(docs_json, render_items);\n",
              "\n",
              "  }\n",
              "  if (root.Bokeh !== undefined) {\n",
              "    embed_document(root);\n",
              "  } else {\n",
              "    var attempts = 0;\n",
              "    var timer = setInterval(function(root) {\n",
              "      if (root.Bokeh !== undefined) {\n",
              "        clearInterval(timer);\n",
              "        embed_document(root);\n",
              "      } else {\n",
              "        attempts++;\n",
              "        if (attempts > 100) {\n",
              "          clearInterval(timer);\n",
              "          console.log(\"Bokeh: ERROR: Unable to run BokehJS code because BokehJS library is missing\");\n",
              "        }\n",
              "      }\n",
              "    }, 10, root)\n",
              "  }\n",
              "})(window);"
            ],
            "application/vnd.bokehjs_exec.v0+json": ""
          },
          "metadata": {
            "tags": [],
            "application/vnd.bokehjs_exec.v0+json": {
              "id": "1223"
            }
          }
        },
        {
          "output_type": "execute_result",
          "data": {
            "text/html": [
              "<div style=\"display: table;\"><div style=\"display: table-row;\"><div style=\"display: table-cell;\"><b title=\"bokeh.plotting.figure.Figure\">Figure</b>(</div><div style=\"display: table-cell;\">id&nbsp;=&nbsp;'1223', <span id=\"1343\" style=\"cursor: pointer;\">&hellip;)</span></div></div><div class=\"1342\" style=\"display: none;\"><div style=\"display: table-cell;\"></div><div style=\"display: table-cell;\">above&nbsp;=&nbsp;[],</div></div><div class=\"1342\" style=\"display: none;\"><div style=\"display: table-cell;\"></div><div style=\"display: table-cell;\">align&nbsp;=&nbsp;'start',</div></div><div class=\"1342\" style=\"display: none;\"><div style=\"display: table-cell;\"></div><div style=\"display: table-cell;\">aspect_ratio&nbsp;=&nbsp;None,</div></div><div class=\"1342\" style=\"display: none;\"><div style=\"display: table-cell;\"></div><div style=\"display: table-cell;\">aspect_scale&nbsp;=&nbsp;1,</div></div><div class=\"1342\" style=\"display: none;\"><div style=\"display: table-cell;\"></div><div style=\"display: table-cell;\">background&nbsp;=&nbsp;None,</div></div><div class=\"1342\" style=\"display: none;\"><div style=\"display: table-cell;\"></div><div style=\"display: table-cell;\">background_fill_alpha&nbsp;=&nbsp;1.0,</div></div><div class=\"1342\" style=\"display: none;\"><div style=\"display: table-cell;\"></div><div style=\"display: table-cell;\">background_fill_color&nbsp;=&nbsp;'#ffffff',</div></div><div class=\"1342\" style=\"display: none;\"><div style=\"display: table-cell;\"></div><div style=\"display: table-cell;\">below&nbsp;=&nbsp;[LinearAxis(id='1232', ...)],</div></div><div class=\"1342\" style=\"display: none;\"><div style=\"display: table-cell;\"></div><div style=\"display: table-cell;\">border_fill_alpha&nbsp;=&nbsp;1.0,</div></div><div class=\"1342\" style=\"display: none;\"><div style=\"display: table-cell;\"></div><div style=\"display: table-cell;\">border_fill_color&nbsp;=&nbsp;'#ffffff',</div></div><div class=\"1342\" style=\"display: none;\"><div style=\"display: table-cell;\"></div><div style=\"display: table-cell;\">center&nbsp;=&nbsp;[Grid(id='1235', ...), Grid(id='1239', ...)],</div></div><div class=\"1342\" style=\"display: none;\"><div style=\"display: table-cell;\"></div><div style=\"display: table-cell;\">css_classes&nbsp;=&nbsp;[],</div></div><div class=\"1342\" style=\"display: none;\"><div style=\"display: table-cell;\"></div><div style=\"display: table-cell;\">disabled&nbsp;=&nbsp;False,</div></div><div class=\"1342\" style=\"display: none;\"><div style=\"display: table-cell;\"></div><div style=\"display: table-cell;\">extra_x_ranges&nbsp;=&nbsp;{},</div></div><div class=\"1342\" style=\"display: none;\"><div style=\"display: table-cell;\"></div><div style=\"display: table-cell;\">extra_y_ranges&nbsp;=&nbsp;{},</div></div><div class=\"1342\" style=\"display: none;\"><div style=\"display: table-cell;\"></div><div style=\"display: table-cell;\">frame_height&nbsp;=&nbsp;None,</div></div><div class=\"1342\" style=\"display: none;\"><div style=\"display: table-cell;\"></div><div style=\"display: table-cell;\">frame_width&nbsp;=&nbsp;None,</div></div><div class=\"1342\" style=\"display: none;\"><div style=\"display: table-cell;\"></div><div style=\"display: table-cell;\">height&nbsp;=&nbsp;None,</div></div><div class=\"1342\" style=\"display: none;\"><div style=\"display: table-cell;\"></div><div style=\"display: table-cell;\">height_policy&nbsp;=&nbsp;'auto',</div></div><div class=\"1342\" style=\"display: none;\"><div style=\"display: table-cell;\"></div><div style=\"display: table-cell;\">hidpi&nbsp;=&nbsp;True,</div></div><div class=\"1342\" style=\"display: none;\"><div style=\"display: table-cell;\"></div><div style=\"display: table-cell;\">js_event_callbacks&nbsp;=&nbsp;{},</div></div><div class=\"1342\" style=\"display: none;\"><div style=\"display: table-cell;\"></div><div style=\"display: table-cell;\">js_property_callbacks&nbsp;=&nbsp;{},</div></div><div class=\"1342\" style=\"display: none;\"><div style=\"display: table-cell;\"></div><div style=\"display: table-cell;\">left&nbsp;=&nbsp;[LinearAxis(id='1236', ...)],</div></div><div class=\"1342\" style=\"display: none;\"><div style=\"display: table-cell;\"></div><div style=\"display: table-cell;\">lod_factor&nbsp;=&nbsp;10,</div></div><div class=\"1342\" style=\"display: none;\"><div style=\"display: table-cell;\"></div><div style=\"display: table-cell;\">lod_interval&nbsp;=&nbsp;300,</div></div><div class=\"1342\" style=\"display: none;\"><div style=\"display: table-cell;\"></div><div style=\"display: table-cell;\">lod_threshold&nbsp;=&nbsp;2000,</div></div><div class=\"1342\" style=\"display: none;\"><div style=\"display: table-cell;\"></div><div style=\"display: table-cell;\">lod_timeout&nbsp;=&nbsp;500,</div></div><div class=\"1342\" style=\"display: none;\"><div style=\"display: table-cell;\"></div><div style=\"display: table-cell;\">margin&nbsp;=&nbsp;(0, 0, 0, 0),</div></div><div class=\"1342\" style=\"display: none;\"><div style=\"display: table-cell;\"></div><div style=\"display: table-cell;\">match_aspect&nbsp;=&nbsp;False,</div></div><div class=\"1342\" style=\"display: none;\"><div style=\"display: table-cell;\"></div><div style=\"display: table-cell;\">max_height&nbsp;=&nbsp;None,</div></div><div class=\"1342\" style=\"display: none;\"><div style=\"display: table-cell;\"></div><div style=\"display: table-cell;\">max_width&nbsp;=&nbsp;None,</div></div><div class=\"1342\" style=\"display: none;\"><div style=\"display: table-cell;\"></div><div style=\"display: table-cell;\">min_border&nbsp;=&nbsp;5,</div></div><div class=\"1342\" style=\"display: none;\"><div style=\"display: table-cell;\"></div><div style=\"display: table-cell;\">min_border_bottom&nbsp;=&nbsp;None,</div></div><div class=\"1342\" style=\"display: none;\"><div style=\"display: table-cell;\"></div><div style=\"display: table-cell;\">min_border_left&nbsp;=&nbsp;None,</div></div><div class=\"1342\" style=\"display: none;\"><div style=\"display: table-cell;\"></div><div style=\"display: table-cell;\">min_border_right&nbsp;=&nbsp;None,</div></div><div class=\"1342\" style=\"display: none;\"><div style=\"display: table-cell;\"></div><div style=\"display: table-cell;\">min_border_top&nbsp;=&nbsp;None,</div></div><div class=\"1342\" style=\"display: none;\"><div style=\"display: table-cell;\"></div><div style=\"display: table-cell;\">min_height&nbsp;=&nbsp;None,</div></div><div class=\"1342\" style=\"display: none;\"><div style=\"display: table-cell;\"></div><div style=\"display: table-cell;\">min_width&nbsp;=&nbsp;None,</div></div><div class=\"1342\" style=\"display: none;\"><div style=\"display: table-cell;\"></div><div style=\"display: table-cell;\">name&nbsp;=&nbsp;None,</div></div><div class=\"1342\" style=\"display: none;\"><div style=\"display: table-cell;\"></div><div style=\"display: table-cell;\">outline_line_alpha&nbsp;=&nbsp;1.0,</div></div><div class=\"1342\" style=\"display: none;\"><div style=\"display: table-cell;\"></div><div style=\"display: table-cell;\">outline_line_cap&nbsp;=&nbsp;'butt',</div></div><div class=\"1342\" style=\"display: none;\"><div style=\"display: table-cell;\"></div><div style=\"display: table-cell;\">outline_line_color&nbsp;=&nbsp;'#e5e5e5',</div></div><div class=\"1342\" style=\"display: none;\"><div style=\"display: table-cell;\"></div><div style=\"display: table-cell;\">outline_line_dash&nbsp;=&nbsp;[],</div></div><div class=\"1342\" style=\"display: none;\"><div style=\"display: table-cell;\"></div><div style=\"display: table-cell;\">outline_line_dash_offset&nbsp;=&nbsp;0,</div></div><div class=\"1342\" style=\"display: none;\"><div style=\"display: table-cell;\"></div><div style=\"display: table-cell;\">outline_line_join&nbsp;=&nbsp;'bevel',</div></div><div class=\"1342\" style=\"display: none;\"><div style=\"display: table-cell;\"></div><div style=\"display: table-cell;\">outline_line_width&nbsp;=&nbsp;1,</div></div><div class=\"1342\" style=\"display: none;\"><div style=\"display: table-cell;\"></div><div style=\"display: table-cell;\">output_backend&nbsp;=&nbsp;'canvas',</div></div><div class=\"1342\" style=\"display: none;\"><div style=\"display: table-cell;\"></div><div style=\"display: table-cell;\">plot_height&nbsp;=&nbsp;400,</div></div><div class=\"1342\" style=\"display: none;\"><div style=\"display: table-cell;\"></div><div style=\"display: table-cell;\">plot_width&nbsp;=&nbsp;600,</div></div><div class=\"1342\" style=\"display: none;\"><div style=\"display: table-cell;\"></div><div style=\"display: table-cell;\">renderers&nbsp;=&nbsp;[GlyphRenderer(id='1257', ...)],</div></div><div class=\"1342\" style=\"display: none;\"><div style=\"display: table-cell;\"></div><div style=\"display: table-cell;\">reset_policy&nbsp;=&nbsp;'standard',</div></div><div class=\"1342\" style=\"display: none;\"><div style=\"display: table-cell;\"></div><div style=\"display: table-cell;\">right&nbsp;=&nbsp;[],</div></div><div class=\"1342\" style=\"display: none;\"><div style=\"display: table-cell;\"></div><div style=\"display: table-cell;\">sizing_mode&nbsp;=&nbsp;None,</div></div><div class=\"1342\" style=\"display: none;\"><div style=\"display: table-cell;\"></div><div style=\"display: table-cell;\">subscribed_events&nbsp;=&nbsp;[],</div></div><div class=\"1342\" style=\"display: none;\"><div style=\"display: table-cell;\"></div><div style=\"display: table-cell;\">tags&nbsp;=&nbsp;[],</div></div><div class=\"1342\" style=\"display: none;\"><div style=\"display: table-cell;\"></div><div style=\"display: table-cell;\">title&nbsp;=&nbsp;Title(id='1280', ...),</div></div><div class=\"1342\" style=\"display: none;\"><div style=\"display: table-cell;\"></div><div style=\"display: table-cell;\">title_location&nbsp;=&nbsp;'above',</div></div><div class=\"1342\" style=\"display: none;\"><div style=\"display: table-cell;\"></div><div style=\"display: table-cell;\">toolbar&nbsp;=&nbsp;Toolbar(id='1247', ...),</div></div><div class=\"1342\" style=\"display: none;\"><div style=\"display: table-cell;\"></div><div style=\"display: table-cell;\">toolbar_location&nbsp;=&nbsp;'right',</div></div><div class=\"1342\" style=\"display: none;\"><div style=\"display: table-cell;\"></div><div style=\"display: table-cell;\">toolbar_sticky&nbsp;=&nbsp;True,</div></div><div class=\"1342\" style=\"display: none;\"><div style=\"display: table-cell;\"></div><div style=\"display: table-cell;\">visible&nbsp;=&nbsp;True,</div></div><div class=\"1342\" style=\"display: none;\"><div style=\"display: table-cell;\"></div><div style=\"display: table-cell;\">width&nbsp;=&nbsp;None,</div></div><div class=\"1342\" style=\"display: none;\"><div style=\"display: table-cell;\"></div><div style=\"display: table-cell;\">width_policy&nbsp;=&nbsp;'auto',</div></div><div class=\"1342\" style=\"display: none;\"><div style=\"display: table-cell;\"></div><div style=\"display: table-cell;\">x_range&nbsp;=&nbsp;DataRange1d(id='1224', ...),</div></div><div class=\"1342\" style=\"display: none;\"><div style=\"display: table-cell;\"></div><div style=\"display: table-cell;\">x_scale&nbsp;=&nbsp;LinearScale(id='1228', ...),</div></div><div class=\"1342\" style=\"display: none;\"><div style=\"display: table-cell;\"></div><div style=\"display: table-cell;\">y_range&nbsp;=&nbsp;DataRange1d(id='1226', ...),</div></div><div class=\"1342\" style=\"display: none;\"><div style=\"display: table-cell;\"></div><div style=\"display: table-cell;\">y_scale&nbsp;=&nbsp;LinearScale(id='1230', ...))</div></div></div>\n",
              "<script>\n",
              "(function() {\n",
              "  var expanded = false;\n",
              "  var ellipsis = document.getElementById(\"1343\");\n",
              "  ellipsis.addEventListener(\"click\", function() {\n",
              "    var rows = document.getElementsByClassName(\"1342\");\n",
              "    for (var i = 0; i < rows.length; i++) {\n",
              "      var el = rows[i];\n",
              "      el.style.display = expanded ? \"none\" : \"table-row\";\n",
              "    }\n",
              "    ellipsis.innerHTML = expanded ? \"&hellip;)\" : \"&lsaquo;&lsaquo;&lsaquo;\";\n",
              "    expanded = !expanded;\n",
              "  });\n",
              "})();\n",
              "</script>\n"
            ],
            "text/plain": [
              "Figure(id='1223', ...)"
            ]
          },
          "metadata": {
            "tags": []
          },
          "execution_count": 29
        }
      ]
    },
    {
      "cell_type": "markdown",
      "metadata": {
        "id": "HeyBni3x4lCy"
      },
      "source": [
        "Finally, let's build a simple \"similar question\" engine with phrase embeddings we've built."
      ]
    },
    {
      "cell_type": "code",
      "metadata": {
        "id": "yAFSXr5u4lCy"
      },
      "source": [
        "# Compute vector embedding for all lines in data:\n",
        "data_vectors = np.vstack([get_phrase_embedding(l) for l in data])"
      ],
      "execution_count": 30,
      "outputs": []
    },
    {
      "cell_type": "code",
      "metadata": {
        "id": "UxaVz4_W4lCy"
      },
      "source": [
        "norms = np.linalg.norm(data_vectors, axis=1)"
      ],
      "execution_count": 31,
      "outputs": []
    },
    {
      "cell_type": "code",
      "metadata": {
        "id": "tvW3-izb4lCz"
      },
      "source": [
        "printable_set = set(string.printable)"
      ],
      "execution_count": 32,
      "outputs": []
    },
    {
      "cell_type": "code",
      "metadata": {
        "id": "_KUumx264lCz"
      },
      "source": [
        "data_subset = [x for x in data if set(x).issubset(printable_set)]"
      ],
      "execution_count": 33,
      "outputs": []
    },
    {
      "cell_type": "code",
      "metadata": {
        "id": "LXhGw08m4lCz"
      },
      "source": [
        "def find_nearest(query, k=10):\n",
        "    \"\"\"\n",
        "    Given text line (query), return k most similar lines from data,\n",
        "    sorted from most to least similar.\n",
        "    Similarity should be measured as cosine between\n",
        "    query and line embedding vectors.\n",
        "    Hint: it's okay to use global variables: data and data_vectors.\n",
        "    See also: np.argpartition, np.argsort.\n",
        "    \"\"\"\n",
        "    query_vector = get_phrase_embedding(query)\n",
        "    dists = data_vectors.dot(query_vector[:, None])[:, 0] / (\n",
        "        (norms + 1e-16) * np.linalg.norm(query_vector)\n",
        "    )\n",
        "    nearest_elements = dists.argsort(axis=0)[-k:][::-1]\n",
        "    out = [data[i] for i in nearest_elements]\n",
        "    return out"
      ],
      "execution_count": 34,
      "outputs": []
    },
    {
      "cell_type": "code",
      "metadata": {
        "id": "kfWRnMi84lCz",
        "colab": {
          "base_uri": "https://localhost:8080/"
        },
        "outputId": "e11d2cb7-d399-409e-b178-8be03bd71a28"
      },
      "source": [
        "results = find_nearest(query=\"How do i enter the matrix?\", k=10)\n",
        "\n",
        "print(''.join(results))\n",
        "\n",
        "assert len(results) == 10 and isinstance(results[0], str)\n",
        "assert results[0] == \"How do I get to the dark web?\\n\""
      ],
      "execution_count": 35,
      "outputs": [
        {
          "output_type": "stream",
          "text": [
            "How do I get to the dark web?\n",
            "What universal remote do I need and how do I set it up to a Blaupunkt TV?\n",
            "How do I connect the ASUS_T00Q to my PC?\n",
            "How do you print the gridlines in Excel 2010?\n",
            "How do you print the gridlines in Excel 2007?\n",
            "How do you print the gridlines in Excel 2003?\n",
            "I would like to create a new website. What do I have to do?\n",
            "How do I get the new Neko Atsume wallpapers? How do they work?\n",
            "I want to experience the 4G network. Do I need to change my SIM card from 3G to 4G?\n",
            "What do I have to do to sell my photography?\n",
            "\n"
          ],
          "name": "stdout"
        }
      ]
    },
    {
      "cell_type": "code",
      "metadata": {
        "id": "7dEgH9tm4lC0",
        "colab": {
          "base_uri": "https://localhost:8080/"
        },
        "outputId": "8a932182-6c69-41ae-ab1d-591455ee6646"
      },
      "source": [
        "find_nearest(query=\"How does Trump?\", k=10)"
      ],
      "execution_count": 36,
      "outputs": [
        {
          "output_type": "execute_result",
          "data": {
            "text/plain": [
              "['What does Donald Trump think about Israel?\\n',\n",
              " 'Who or what is Donald Trump, really?\\n',\n",
              " 'Donald Trump: Why are there are so many questions about Donald Trump on Quora?\\n',\n",
              " 'Does anyone like Trump and Clinton?\\n',\n",
              " 'What does Cortana mean?\\n',\n",
              " 'Did Bill Gates outcompete and outsmart IBM? Why? How?\\n',\n",
              " 'Why and how is Bill Gates so rich?\\n',\n",
              " 'What does Donald Trump think about Pakistan?\\n',\n",
              " 'What do you think about Trump and Obama?\\n',\n",
              " 'Who and what is Quora?\\n']"
            ]
          },
          "metadata": {
            "tags": []
          },
          "execution_count": 36
        }
      ]
    },
    {
      "cell_type": "code",
      "metadata": {
        "id": "FjeH1Mt74lC0",
        "colab": {
          "base_uri": "https://localhost:8080/"
        },
        "outputId": "e4f12ab2-44b6-4b96-d258-2f2226761ea1"
      },
      "source": [
        "find_nearest(query=\"Why don't i ask a question myself?\", k=10)"
      ],
      "execution_count": 37,
      "outputs": [
        {
          "output_type": "execute_result",
          "data": {
            "text/plain": [
              "[\"Why don't my parents listen to me?\\n\",\n",
              " \"Why don't people appreciate me?\\n\",\n",
              " \"Why she don't interact with me?\\n\",\n",
              " \"Why don't I get a date?\\n\",\n",
              " \"Why don't I get a girlfriend?\\n\",\n",
              " \"Why don't I have a girlfriend?\\n\",\n",
              " \"Why don't I have a boyfriend?\\n\",\n",
              " \"Why don't I like people touching me?\\n\",\n",
              " \"Why can't I ask a question anonymously?\\n\",\n",
              " \"Why don't you use Facebook much?\\n\"]"
            ]
          },
          "metadata": {
            "tags": []
          },
          "execution_count": 37
        }
      ]
    },
    {
      "cell_type": "code",
      "metadata": {
        "id": "82b-qkhX4lC1"
      },
      "source": [
        "from sklearn.cluster import DBSCAN, KMeans"
      ],
      "execution_count": 38,
      "outputs": []
    },
    {
      "cell_type": "code",
      "metadata": {
        "id": "4FFxKQoe4lC3"
      },
      "source": [
        "kmeans = KMeans(3)"
      ],
      "execution_count": 39,
      "outputs": []
    },
    {
      "cell_type": "code",
      "metadata": {
        "id": "eE4EpJ364lC3"
      },
      "source": [
        "labels = kmeans.fit_predict(np.asarray(phrase_vectors))"
      ],
      "execution_count": 40,
      "outputs": []
    },
    {
      "cell_type": "code",
      "metadata": {
        "id": "y2aGF4uL4lC3"
      },
      "source": [
        "_colors = ['red', 'green', 'blue']"
      ],
      "execution_count": 41,
      "outputs": []
    },
    {
      "cell_type": "code",
      "metadata": {
        "id": "JVhsVNPO4lC5",
        "colab": {
          "base_uri": "https://localhost:8080/",
          "height": 434
        },
        "outputId": "a28b1872-bbf7-435d-f7df-dc6aa329a470"
      },
      "source": [
        "draw_vectors(phrase_vectors_2d[:, 0], phrase_vectors_2d[:, 1],\n",
        "             color=[_colors[l] for l in labels],\n",
        "             phrase=[phrase[:50] for phrase in chosen_phrases],\n",
        "             radius=20,)"
      ],
      "execution_count": 42,
      "outputs": [
        {
          "output_type": "display_data",
          "data": {
            "application/javascript": [
              "\n",
              "(function(root) {\n",
              "  function now() {\n",
              "    return new Date();\n",
              "  }\n",
              "\n",
              "  var force = true;\n",
              "\n",
              "  if (typeof root._bokeh_onload_callbacks === \"undefined\" || force === true) {\n",
              "    root._bokeh_onload_callbacks = [];\n",
              "    root._bokeh_is_loading = undefined;\n",
              "  }\n",
              "\n",
              "  var JS_MIME_TYPE = 'application/javascript';\n",
              "  var HTML_MIME_TYPE = 'text/html';\n",
              "  var EXEC_MIME_TYPE = 'application/vnd.bokehjs_exec.v0+json';\n",
              "  var CLASS_NAME = 'output_bokeh rendered_html';\n",
              "\n",
              "  /**\n",
              "   * Render data to the DOM node\n",
              "   */\n",
              "  function render(props, node) {\n",
              "    var script = document.createElement(\"script\");\n",
              "    node.appendChild(script);\n",
              "  }\n",
              "\n",
              "  /**\n",
              "   * Handle when an output is cleared or removed\n",
              "   */\n",
              "  function handleClearOutput(event, handle) {\n",
              "    var cell = handle.cell;\n",
              "\n",
              "    var id = cell.output_area._bokeh_element_id;\n",
              "    var server_id = cell.output_area._bokeh_server_id;\n",
              "    // Clean up Bokeh references\n",
              "    if (id != null && id in Bokeh.index) {\n",
              "      Bokeh.index[id].model.document.clear();\n",
              "      delete Bokeh.index[id];\n",
              "    }\n",
              "\n",
              "    if (server_id !== undefined) {\n",
              "      // Clean up Bokeh references\n",
              "      var cmd = \"from bokeh.io.state import curstate; print(curstate().uuid_to_server['\" + server_id + \"'].get_sessions()[0].document.roots[0]._id)\";\n",
              "      cell.notebook.kernel.execute(cmd, {\n",
              "        iopub: {\n",
              "          output: function(msg) {\n",
              "            var id = msg.content.text.trim();\n",
              "            if (id in Bokeh.index) {\n",
              "              Bokeh.index[id].model.document.clear();\n",
              "              delete Bokeh.index[id];\n",
              "            }\n",
              "          }\n",
              "        }\n",
              "      });\n",
              "      // Destroy server and session\n",
              "      var cmd = \"import bokeh.io.notebook as ion; ion.destroy_server('\" + server_id + \"')\";\n",
              "      cell.notebook.kernel.execute(cmd);\n",
              "    }\n",
              "  }\n",
              "\n",
              "  /**\n",
              "   * Handle when a new output is added\n",
              "   */\n",
              "  function handleAddOutput(event, handle) {\n",
              "    var output_area = handle.output_area;\n",
              "    var output = handle.output;\n",
              "\n",
              "    // limit handleAddOutput to display_data with EXEC_MIME_TYPE content only\n",
              "    if ((output.output_type != \"display_data\") || (!output.data.hasOwnProperty(EXEC_MIME_TYPE))) {\n",
              "      return\n",
              "    }\n",
              "\n",
              "    var toinsert = output_area.element.find(\".\" + CLASS_NAME.split(' ')[0]);\n",
              "\n",
              "    if (output.metadata[EXEC_MIME_TYPE][\"id\"] !== undefined) {\n",
              "      toinsert[toinsert.length - 1].firstChild.textContent = output.data[JS_MIME_TYPE];\n",
              "      // store reference to embed id on output_area\n",
              "      output_area._bokeh_element_id = output.metadata[EXEC_MIME_TYPE][\"id\"];\n",
              "    }\n",
              "    if (output.metadata[EXEC_MIME_TYPE][\"server_id\"] !== undefined) {\n",
              "      var bk_div = document.createElement(\"div\");\n",
              "      bk_div.innerHTML = output.data[HTML_MIME_TYPE];\n",
              "      var script_attrs = bk_div.children[0].attributes;\n",
              "      for (var i = 0; i < script_attrs.length; i++) {\n",
              "        toinsert[toinsert.length - 1].firstChild.setAttribute(script_attrs[i].name, script_attrs[i].value);\n",
              "        toinsert[toinsert.length - 1].firstChild.textContent = bk_div.children[0].textContent\n",
              "      }\n",
              "      // store reference to server id on output_area\n",
              "      output_area._bokeh_server_id = output.metadata[EXEC_MIME_TYPE][\"server_id\"];\n",
              "    }\n",
              "  }\n",
              "\n",
              "  function register_renderer(events, OutputArea) {\n",
              "\n",
              "    function append_mime(data, metadata, element) {\n",
              "      // create a DOM node to render to\n",
              "      var toinsert = this.create_output_subarea(\n",
              "        metadata,\n",
              "        CLASS_NAME,\n",
              "        EXEC_MIME_TYPE\n",
              "      );\n",
              "      this.keyboard_manager.register_events(toinsert);\n",
              "      // Render to node\n",
              "      var props = {data: data, metadata: metadata[EXEC_MIME_TYPE]};\n",
              "      render(props, toinsert[toinsert.length - 1]);\n",
              "      element.append(toinsert);\n",
              "      return toinsert\n",
              "    }\n",
              "\n",
              "    /* Handle when an output is cleared or removed */\n",
              "    events.on('clear_output.CodeCell', handleClearOutput);\n",
              "    events.on('delete.Cell', handleClearOutput);\n",
              "\n",
              "    /* Handle when a new output is added */\n",
              "    events.on('output_added.OutputArea', handleAddOutput);\n",
              "\n",
              "    /**\n",
              "     * Register the mime type and append_mime function with output_area\n",
              "     */\n",
              "    OutputArea.prototype.register_mime_type(EXEC_MIME_TYPE, append_mime, {\n",
              "      /* Is output safe? */\n",
              "      safe: true,\n",
              "      /* Index of renderer in `output_area.display_order` */\n",
              "      index: 0\n",
              "    });\n",
              "  }\n",
              "\n",
              "  // register the mime type if in Jupyter Notebook environment and previously unregistered\n",
              "  if (root.Jupyter !== undefined) {\n",
              "    var events = require('base/js/events');\n",
              "    var OutputArea = require('notebook/js/outputarea').OutputArea;\n",
              "\n",
              "    if (OutputArea.prototype.mime_types().indexOf(EXEC_MIME_TYPE) == -1) {\n",
              "      register_renderer(events, OutputArea);\n",
              "    }\n",
              "  }\n",
              "\n",
              "  \n",
              "  if (typeof (root._bokeh_timeout) === \"undefined\" || force === true) {\n",
              "    root._bokeh_timeout = Date.now() + 5000;\n",
              "    root._bokeh_failed_load = false;\n",
              "  }\n",
              "\n",
              "  var NB_LOAD_WARNING = {'data': {'text/html':\n",
              "     \"<div style='background-color: #fdd'>\\n\"+\n",
              "     \"<p>\\n\"+\n",
              "     \"BokehJS does not appear to have successfully loaded. If loading BokehJS from CDN, this \\n\"+\n",
              "     \"may be due to a slow or bad network connection. Possible fixes:\\n\"+\n",
              "     \"</p>\\n\"+\n",
              "     \"<ul>\\n\"+\n",
              "     \"<li>re-rerun `output_notebook()` to attempt to load from CDN again, or</li>\\n\"+\n",
              "     \"<li>use INLINE resources instead, as so:</li>\\n\"+\n",
              "     \"</ul>\\n\"+\n",
              "     \"<code>\\n\"+\n",
              "     \"from bokeh.resources import INLINE\\n\"+\n",
              "     \"output_notebook(resources=INLINE)\\n\"+\n",
              "     \"</code>\\n\"+\n",
              "     \"</div>\"}};\n",
              "\n",
              "  function display_loaded() {\n",
              "    var el = document.getElementById(null);\n",
              "    if (el != null) {\n",
              "      el.textContent = \"BokehJS is loading...\";\n",
              "    }\n",
              "    if (root.Bokeh !== undefined) {\n",
              "      if (el != null) {\n",
              "        el.textContent = \"BokehJS \" + root.Bokeh.version + \" successfully loaded.\";\n",
              "      }\n",
              "    } else if (Date.now() < root._bokeh_timeout) {\n",
              "      setTimeout(display_loaded, 100)\n",
              "    }\n",
              "  }\n",
              "\n",
              "\n",
              "  function run_callbacks() {\n",
              "    try {\n",
              "      root._bokeh_onload_callbacks.forEach(function(callback) {\n",
              "        if (callback != null)\n",
              "          callback();\n",
              "      });\n",
              "    } finally {\n",
              "      delete root._bokeh_onload_callbacks\n",
              "    }\n",
              "    console.debug(\"Bokeh: all callbacks have finished\");\n",
              "  }\n",
              "\n",
              "  function load_libs(css_urls, js_urls, callback) {\n",
              "    if (css_urls == null) css_urls = [];\n",
              "    if (js_urls == null) js_urls = [];\n",
              "\n",
              "    root._bokeh_onload_callbacks.push(callback);\n",
              "    if (root._bokeh_is_loading > 0) {\n",
              "      console.debug(\"Bokeh: BokehJS is being loaded, scheduling callback at\", now());\n",
              "      return null;\n",
              "    }\n",
              "    if (js_urls == null || js_urls.length === 0) {\n",
              "      run_callbacks();\n",
              "      return null;\n",
              "    }\n",
              "    console.debug(\"Bokeh: BokehJS not loaded, scheduling load and callback at\", now());\n",
              "    root._bokeh_is_loading = css_urls.length + js_urls.length;\n",
              "\n",
              "    function on_load() {\n",
              "      root._bokeh_is_loading--;\n",
              "      if (root._bokeh_is_loading === 0) {\n",
              "        console.debug(\"Bokeh: all BokehJS libraries/stylesheets loaded\");\n",
              "        run_callbacks()\n",
              "      }\n",
              "    }\n",
              "\n",
              "    function on_error() {\n",
              "      console.error(\"failed to load \" + url);\n",
              "    }\n",
              "\n",
              "    for (var i = 0; i < css_urls.length; i++) {\n",
              "      var url = css_urls[i];\n",
              "      const element = document.createElement(\"link\");\n",
              "      element.onload = on_load;\n",
              "      element.onerror = on_error;\n",
              "      element.rel = \"stylesheet\";\n",
              "      element.type = \"text/css\";\n",
              "      element.href = url;\n",
              "      console.debug(\"Bokeh: injecting link tag for BokehJS stylesheet: \", url);\n",
              "      document.body.appendChild(element);\n",
              "    }\n",
              "\n",
              "    const hashes = {\"https://cdn.bokeh.org/bokeh/release/bokeh-2.1.1.min.js\": \"kLr4fYcqcSpbuI95brIH3vnnYCquzzSxHPU6XGQCIkQRGJwhg0StNbj1eegrHs12\", \"https://cdn.bokeh.org/bokeh/release/bokeh-widgets-2.1.1.min.js\": \"xIGPmVtaOm+z0BqfSOMn4lOR6ciex448GIKG4eE61LsAvmGj48XcMQZtKcE/UXZe\", \"https://cdn.bokeh.org/bokeh/release/bokeh-tables-2.1.1.min.js\": \"Dc9u1wF/0zApGIWoBbH77iWEHtdmkuYWG839Uzmv8y8yBLXebjO9ZnERsde5Ln/P\", \"https://cdn.bokeh.org/bokeh/release/bokeh-gl-2.1.1.min.js\": \"cT9JaBz7GiRXdENrJLZNSC6eMNF3nh3fa5fTF51Svp+ukxPdwcU5kGXGPBgDCa2j\"};\n",
              "\n",
              "    for (var i = 0; i < js_urls.length; i++) {\n",
              "      var url = js_urls[i];\n",
              "      var element = document.createElement('script');\n",
              "      element.onload = on_load;\n",
              "      element.onerror = on_error;\n",
              "      element.async = false;\n",
              "      element.src = url;\n",
              "      if (url in hashes) {\n",
              "        element.crossOrigin = \"anonymous\";\n",
              "        element.integrity = \"sha384-\" + hashes[url];\n",
              "      }\n",
              "      console.debug(\"Bokeh: injecting script tag for BokehJS library: \", url);\n",
              "      document.head.appendChild(element);\n",
              "    }\n",
              "  };\n",
              "\n",
              "  function inject_raw_css(css) {\n",
              "    const element = document.createElement(\"style\");\n",
              "    element.appendChild(document.createTextNode(css));\n",
              "    document.body.appendChild(element);\n",
              "  }\n",
              "\n",
              "  \n",
              "  var js_urls = [\"https://cdn.bokeh.org/bokeh/release/bokeh-2.1.1.min.js\", \"https://cdn.bokeh.org/bokeh/release/bokeh-widgets-2.1.1.min.js\", \"https://cdn.bokeh.org/bokeh/release/bokeh-tables-2.1.1.min.js\", \"https://cdn.bokeh.org/bokeh/release/bokeh-gl-2.1.1.min.js\"];\n",
              "  var css_urls = [];\n",
              "  \n",
              "\n",
              "  var inline_js = [\n",
              "    function(Bokeh) {\n",
              "      Bokeh.set_log_level(\"info\");\n",
              "    },\n",
              "    function(Bokeh) {\n",
              "    \n",
              "    \n",
              "    }\n",
              "  ];\n",
              "\n",
              "  function run_inline_js() {\n",
              "    \n",
              "    if (root.Bokeh !== undefined || force === true) {\n",
              "      \n",
              "    for (var i = 0; i < inline_js.length; i++) {\n",
              "      inline_js[i].call(root, root.Bokeh);\n",
              "    }\n",
              "    } else if (Date.now() < root._bokeh_timeout) {\n",
              "      setTimeout(run_inline_js, 100);\n",
              "    } else if (!root._bokeh_failed_load) {\n",
              "      console.log(\"Bokeh: BokehJS failed to load within specified timeout.\");\n",
              "      root._bokeh_failed_load = true;\n",
              "    } else if (force !== true) {\n",
              "      var cell = $(document.getElementById(null)).parents('.cell').data().cell;\n",
              "      cell.output_area.append_execute_result(NB_LOAD_WARNING)\n",
              "    }\n",
              "\n",
              "  }\n",
              "\n",
              "  if (root._bokeh_is_loading === 0) {\n",
              "    console.debug(\"Bokeh: BokehJS loaded, going straight to plotting\");\n",
              "    run_inline_js();\n",
              "  } else {\n",
              "    load_libs(css_urls, js_urls, function() {\n",
              "      console.debug(\"Bokeh: BokehJS plotting callback run at\", now());\n",
              "      run_inline_js();\n",
              "    });\n",
              "  }\n",
              "}(window));"
            ],
            "application/vnd.bokehjs_load.v0+json": "\n(function(root) {\n  function now() {\n    return new Date();\n  }\n\n  var force = true;\n\n  if (typeof root._bokeh_onload_callbacks === \"undefined\" || force === true) {\n    root._bokeh_onload_callbacks = [];\n    root._bokeh_is_loading = undefined;\n  }\n\n  \n\n  \n  if (typeof (root._bokeh_timeout) === \"undefined\" || force === true) {\n    root._bokeh_timeout = Date.now() + 5000;\n    root._bokeh_failed_load = false;\n  }\n\n  var NB_LOAD_WARNING = {'data': {'text/html':\n     \"<div style='background-color: #fdd'>\\n\"+\n     \"<p>\\n\"+\n     \"BokehJS does not appear to have successfully loaded. If loading BokehJS from CDN, this \\n\"+\n     \"may be due to a slow or bad network connection. Possible fixes:\\n\"+\n     \"</p>\\n\"+\n     \"<ul>\\n\"+\n     \"<li>re-rerun `output_notebook()` to attempt to load from CDN again, or</li>\\n\"+\n     \"<li>use INLINE resources instead, as so:</li>\\n\"+\n     \"</ul>\\n\"+\n     \"<code>\\n\"+\n     \"from bokeh.resources import INLINE\\n\"+\n     \"output_notebook(resources=INLINE)\\n\"+\n     \"</code>\\n\"+\n     \"</div>\"}};\n\n  function display_loaded() {\n    var el = document.getElementById(null);\n    if (el != null) {\n      el.textContent = \"BokehJS is loading...\";\n    }\n    if (root.Bokeh !== undefined) {\n      if (el != null) {\n        el.textContent = \"BokehJS \" + root.Bokeh.version + \" successfully loaded.\";\n      }\n    } else if (Date.now() < root._bokeh_timeout) {\n      setTimeout(display_loaded, 100)\n    }\n  }\n\n\n  function run_callbacks() {\n    try {\n      root._bokeh_onload_callbacks.forEach(function(callback) {\n        if (callback != null)\n          callback();\n      });\n    } finally {\n      delete root._bokeh_onload_callbacks\n    }\n    console.debug(\"Bokeh: all callbacks have finished\");\n  }\n\n  function load_libs(css_urls, js_urls, callback) {\n    if (css_urls == null) css_urls = [];\n    if (js_urls == null) js_urls = [];\n\n    root._bokeh_onload_callbacks.push(callback);\n    if (root._bokeh_is_loading > 0) {\n      console.debug(\"Bokeh: BokehJS is being loaded, scheduling callback at\", now());\n      return null;\n    }\n    if (js_urls == null || js_urls.length === 0) {\n      run_callbacks();\n      return null;\n    }\n    console.debug(\"Bokeh: BokehJS not loaded, scheduling load and callback at\", now());\n    root._bokeh_is_loading = css_urls.length + js_urls.length;\n\n    function on_load() {\n      root._bokeh_is_loading--;\n      if (root._bokeh_is_loading === 0) {\n        console.debug(\"Bokeh: all BokehJS libraries/stylesheets loaded\");\n        run_callbacks()\n      }\n    }\n\n    function on_error() {\n      console.error(\"failed to load \" + url);\n    }\n\n    for (var i = 0; i < css_urls.length; i++) {\n      var url = css_urls[i];\n      const element = document.createElement(\"link\");\n      element.onload = on_load;\n      element.onerror = on_error;\n      element.rel = \"stylesheet\";\n      element.type = \"text/css\";\n      element.href = url;\n      console.debug(\"Bokeh: injecting link tag for BokehJS stylesheet: \", url);\n      document.body.appendChild(element);\n    }\n\n    const hashes = {\"https://cdn.bokeh.org/bokeh/release/bokeh-2.1.1.min.js\": \"kLr4fYcqcSpbuI95brIH3vnnYCquzzSxHPU6XGQCIkQRGJwhg0StNbj1eegrHs12\", \"https://cdn.bokeh.org/bokeh/release/bokeh-widgets-2.1.1.min.js\": \"xIGPmVtaOm+z0BqfSOMn4lOR6ciex448GIKG4eE61LsAvmGj48XcMQZtKcE/UXZe\", \"https://cdn.bokeh.org/bokeh/release/bokeh-tables-2.1.1.min.js\": \"Dc9u1wF/0zApGIWoBbH77iWEHtdmkuYWG839Uzmv8y8yBLXebjO9ZnERsde5Ln/P\", \"https://cdn.bokeh.org/bokeh/release/bokeh-gl-2.1.1.min.js\": \"cT9JaBz7GiRXdENrJLZNSC6eMNF3nh3fa5fTF51Svp+ukxPdwcU5kGXGPBgDCa2j\"};\n\n    for (var i = 0; i < js_urls.length; i++) {\n      var url = js_urls[i];\n      var element = document.createElement('script');\n      element.onload = on_load;\n      element.onerror = on_error;\n      element.async = false;\n      element.src = url;\n      if (url in hashes) {\n        element.crossOrigin = \"anonymous\";\n        element.integrity = \"sha384-\" + hashes[url];\n      }\n      console.debug(\"Bokeh: injecting script tag for BokehJS library: \", url);\n      document.head.appendChild(element);\n    }\n  };\n\n  function inject_raw_css(css) {\n    const element = document.createElement(\"style\");\n    element.appendChild(document.createTextNode(css));\n    document.body.appendChild(element);\n  }\n\n  \n  var js_urls = [\"https://cdn.bokeh.org/bokeh/release/bokeh-2.1.1.min.js\", \"https://cdn.bokeh.org/bokeh/release/bokeh-widgets-2.1.1.min.js\", \"https://cdn.bokeh.org/bokeh/release/bokeh-tables-2.1.1.min.js\", \"https://cdn.bokeh.org/bokeh/release/bokeh-gl-2.1.1.min.js\"];\n  var css_urls = [];\n  \n\n  var inline_js = [\n    function(Bokeh) {\n      Bokeh.set_log_level(\"info\");\n    },\n    function(Bokeh) {\n    \n    \n    }\n  ];\n\n  function run_inline_js() {\n    \n    if (root.Bokeh !== undefined || force === true) {\n      \n    for (var i = 0; i < inline_js.length; i++) {\n      inline_js[i].call(root, root.Bokeh);\n    }\n    } else if (Date.now() < root._bokeh_timeout) {\n      setTimeout(run_inline_js, 100);\n    } else if (!root._bokeh_failed_load) {\n      console.log(\"Bokeh: BokehJS failed to load within specified timeout.\");\n      root._bokeh_failed_load = true;\n    } else if (force !== true) {\n      var cell = $(document.getElementById(null)).parents('.cell').data().cell;\n      cell.output_area.append_execute_result(NB_LOAD_WARNING)\n    }\n\n  }\n\n  if (root._bokeh_is_loading === 0) {\n    console.debug(\"Bokeh: BokehJS loaded, going straight to plotting\");\n    run_inline_js();\n  } else {\n    load_libs(css_urls, js_urls, function() {\n      console.debug(\"Bokeh: BokehJS plotting callback run at\", now());\n      run_inline_js();\n    });\n  }\n}(window));"
          },
          "metadata": {
            "tags": []
          }
        },
        {
          "output_type": "display_data",
          "data": {
            "text/html": [
              "\n",
              "\n",
              "\n",
              "\n",
              "\n",
              "\n",
              "  <div class=\"bk-root\" id=\"bdaca389-8ae5-48c4-acda-e7f3f7471bf1\" data-root-id=\"1347\"></div>\n"
            ]
          },
          "metadata": {
            "tags": []
          }
        },
        {
          "output_type": "display_data",
          "data": {
            "application/javascript": [
              "(function(root) {\n",
              "  function embed_document(root) {\n",
              "    \n",
              "  var docs_json = {\"7ca11e86-a481-4c13-9304-62b0d4b009e8\":{\"roots\":{\"references\":[{\"attributes\":{\"below\":[{\"id\":\"1356\"}],\"center\":[{\"id\":\"1359\"},{\"id\":\"1363\"}],\"left\":[{\"id\":\"1360\"}],\"plot_height\":400,\"renderers\":[{\"id\":\"1381\"}],\"title\":{\"id\":\"1413\"},\"toolbar\":{\"id\":\"1371\"},\"x_range\":{\"id\":\"1348\"},\"x_scale\":{\"id\":\"1352\"},\"y_range\":{\"id\":\"1350\"},\"y_scale\":{\"id\":\"1354\"}},\"id\":\"1347\",\"subtype\":\"Figure\",\"type\":\"Plot\"},{\"attributes\":{\"text\":\"\"},\"id\":\"1413\",\"type\":\"Title\"},{\"attributes\":{},\"id\":\"1364\",\"type\":\"PanTool\"},{\"attributes\":{},\"id\":\"1367\",\"type\":\"SaveTool\"},{\"attributes\":{},\"id\":\"1352\",\"type\":\"LinearScale\"},{\"attributes\":{},\"id\":\"1419\",\"type\":\"UnionRenderers\"},{\"attributes\":{\"callback\":null,\"tooltips\":[[\"phrase\",\"@phrase\"]]},\"id\":\"1383\",\"type\":\"HoverTool\"},{\"attributes\":{},\"id\":\"1361\",\"type\":\"BasicTicker\"},{\"attributes\":{\"axis\":{\"id\":\"1360\"},\"dimension\":1,\"ticker\":null},\"id\":\"1363\",\"type\":\"Grid\"},{\"attributes\":{\"fill_alpha\":{\"value\":0.1},\"fill_color\":{\"field\":\"color\"},\"line_alpha\":{\"value\":0.1},\"line_color\":{\"field\":\"color\"},\"size\":{\"units\":\"screen\",\"value\":20},\"x\":{\"field\":\"x\"},\"y\":{\"field\":\"y\"}},\"id\":\"1380\",\"type\":\"Scatter\"},{\"attributes\":{\"fill_alpha\":{\"value\":0.25},\"fill_color\":{\"field\":\"color\"},\"line_alpha\":{\"value\":0.25},\"line_color\":{\"field\":\"color\"},\"size\":{\"units\":\"screen\",\"value\":20},\"x\":{\"field\":\"x\"},\"y\":{\"field\":\"y\"}},\"id\":\"1379\",\"type\":\"Scatter\"},{\"attributes\":{\"bottom_units\":\"screen\",\"fill_alpha\":0.5,\"fill_color\":\"lightgrey\",\"left_units\":\"screen\",\"level\":\"overlay\",\"line_alpha\":1.0,\"line_color\":\"black\",\"line_dash\":[4,4],\"line_width\":2,\"right_units\":\"screen\",\"top_units\":\"screen\"},\"id\":\"1370\",\"type\":\"BoxAnnotation\"},{\"attributes\":{\"formatter\":{\"id\":\"1416\"},\"ticker\":{\"id\":\"1357\"}},\"id\":\"1356\",\"type\":\"LinearAxis\"},{\"attributes\":{},\"id\":\"1357\",\"type\":\"BasicTicker\"},{\"attributes\":{\"active_drag\":\"auto\",\"active_inspect\":\"auto\",\"active_multi\":null,\"active_scroll\":{\"id\":\"1365\"},\"active_tap\":\"auto\",\"tools\":[{\"id\":\"1364\"},{\"id\":\"1365\"},{\"id\":\"1366\"},{\"id\":\"1367\"},{\"id\":\"1368\"},{\"id\":\"1369\"},{\"id\":\"1383\"}]},\"id\":\"1371\",\"type\":\"Toolbar\"},{\"attributes\":{},\"id\":\"1369\",\"type\":\"HelpTool\"},{\"attributes\":{},\"id\":\"1365\",\"type\":\"WheelZoomTool\"},{\"attributes\":{},\"id\":\"1420\",\"type\":\"Selection\"},{\"attributes\":{},\"id\":\"1414\",\"type\":\"BasicTickFormatter\"},{\"attributes\":{},\"id\":\"1354\",\"type\":\"LinearScale\"},{\"attributes\":{\"data\":{\"color\":[\"red\",\"red\",\"blue\",\"blue\",\"green\",\"blue\",\"blue\",\"blue\",\"green\",\"red\",\"red\",\"red\",\"red\",\"red\",\"red\",\"red\",\"green\",\"blue\",\"blue\",\"red\",\"red\",\"red\",\"blue\",\"red\",\"blue\",\"green\",\"green\",\"blue\",\"green\",\"red\",\"green\",\"red\",\"blue\",\"green\",\"green\",\"green\",\"green\",\"blue\",\"green\",\"blue\",\"green\",\"red\",\"blue\",\"green\",\"green\",\"green\",\"green\",\"green\",\"blue\",\"blue\",\"blue\",\"green\",\"blue\",\"green\",\"blue\",\"red\",\"blue\",\"blue\",\"green\",\"green\",\"blue\",\"green\",\"red\",\"red\",\"blue\",\"red\",\"red\",\"red\",\"red\",\"blue\",\"red\",\"red\",\"red\",\"red\",\"blue\",\"green\",\"blue\",\"blue\",\"blue\",\"red\",\"blue\",\"blue\",\"green\",\"green\",\"blue\",\"red\",\"red\",\"red\",\"green\",\"red\",\"green\",\"red\",\"red\",\"blue\",\"red\",\"red\",\"green\",\"green\",\"blue\",\"red\",\"blue\",\"blue\",\"red\",\"green\",\"green\",\"red\",\"blue\",\"green\",\"green\",\"red\",\"green\",\"red\",\"green\",\"blue\",\"green\",\"blue\",\"green\",\"green\",\"red\",\"blue\",\"green\",\"green\",\"red\",\"red\",\"blue\",\"green\",\"green\",\"green\",\"red\",\"blue\",\"green\",\"blue\",\"red\",\"green\",\"red\",\"blue\",\"red\",\"blue\",\"green\",\"green\",\"red\",\"green\",\"green\",\"blue\",\"green\",\"green\",\"green\",\"green\",\"red\",\"red\",\"green\",\"red\",\"green\",\"red\",\"red\",\"red\",\"blue\",\"red\",\"green\",\"green\",\"blue\",\"blue\",\"red\",\"red\",\"blue\",\"red\",\"green\",\"red\",\"red\",\"blue\",\"blue\",\"blue\",\"blue\",\"red\",\"green\",\"green\",\"green\",\"green\",\"green\",\"red\",\"green\",\"red\",\"red\",\"blue\",\"blue\",\"red\",\"blue\",\"green\",\"blue\",\"blue\",\"red\",\"blue\",\"red\",\"red\",\"blue\",\"blue\",\"green\",\"green\",\"blue\",\"green\",\"green\",\"blue\",\"blue\",\"red\",\"blue\",\"blue\",\"red\",\"green\",\"blue\",\"green\",\"red\",\"blue\",\"blue\",\"green\",\"red\",\"green\",\"green\",\"green\",\"red\",\"red\",\"red\",\"red\",\"green\",\"red\",\"green\",\"blue\",\"blue\",\"green\",\"red\",\"green\",\"blue\",\"red\",\"green\",\"blue\",\"red\",\"green\",\"blue\",\"red\",\"green\",\"red\",\"green\",\"red\",\"red\",\"green\",\"blue\",\"blue\",\"red\",\"green\",\"blue\",\"red\",\"blue\",\"red\",\"red\",\"blue\",\"red\",\"red\",\"red\",\"green\",\"blue\",\"red\",\"blue\",\"green\",\"green\",\"red\",\"red\",\"green\",\"green\",\"green\",\"green\",\"red\",\"red\",\"blue\",\"red\",\"red\",\"red\",\"blue\",\"red\",\"green\",\"red\",\"green\",\"green\",\"red\",\"red\",\"red\",\"green\",\"blue\",\"blue\",\"red\",\"green\",\"green\",\"red\",\"red\",\"blue\",\"green\",\"red\",\"red\",\"red\",\"red\",\"green\",\"green\",\"green\",\"green\",\"green\",\"red\",\"blue\",\"green\",\"green\",\"green\",\"blue\",\"red\",\"blue\",\"blue\",\"red\",\"green\",\"green\",\"blue\",\"green\",\"blue\",\"red\",\"red\",\"green\",\"blue\",\"red\",\"blue\",\"green\",\"green\",\"red\",\"green\",\"red\",\"green\",\"green\",\"blue\",\"red\",\"green\",\"red\",\"red\",\"green\",\"red\",\"red\",\"blue\",\"red\",\"red\",\"green\",\"red\",\"red\",\"green\",\"green\",\"blue\",\"red\",\"blue\",\"red\",\"red\",\"blue\",\"blue\",\"green\",\"red\",\"red\",\"green\",\"blue\",\"red\",\"green\",\"green\",\"blue\",\"blue\",\"blue\",\"green\",\"red\",\"red\",\"blue\",\"green\",\"green\",\"blue\",\"green\",\"green\",\"green\",\"red\",\"green\",\"green\",\"green\",\"blue\",\"blue\",\"blue\",\"green\",\"red\",\"blue\",\"blue\",\"green\",\"blue\",\"red\",\"green\",\"red\",\"green\",\"green\",\"green\",\"blue\",\"blue\",\"green\",\"blue\",\"blue\",\"green\",\"red\",\"red\",\"red\",\"red\",\"red\",\"red\",\"blue\",\"red\",\"blue\",\"green\",\"blue\",\"green\",\"green\",\"green\",\"blue\",\"green\",\"red\",\"red\",\"red\",\"red\",\"green\",\"red\",\"red\",\"green\",\"green\",\"green\",\"blue\",\"blue\",\"blue\",\"red\",\"blue\",\"green\",\"blue\",\"green\",\"green\",\"green\",\"green\",\"green\",\"red\",\"green\",\"blue\",\"green\",\"green\",\"red\",\"green\",\"red\",\"red\",\"blue\",\"blue\",\"green\",\"green\",\"green\",\"green\",\"blue\",\"red\",\"green\",\"blue\",\"blue\",\"red\",\"red\",\"blue\",\"blue\",\"green\",\"green\",\"green\",\"blue\",\"red\",\"red\",\"red\",\"blue\",\"red\",\"green\",\"red\",\"blue\",\"blue\",\"red\",\"blue\",\"red\",\"blue\",\"green\",\"red\",\"red\",\"blue\",\"blue\",\"red\",\"red\",\"green\",\"red\",\"green\",\"green\",\"red\",\"green\",\"red\",\"blue\",\"green\",\"red\",\"green\",\"red\",\"blue\",\"red\",\"red\",\"green\",\"red\",\"green\",\"red\",\"red\",\"red\",\"blue\",\"red\",\"red\",\"green\",\"red\",\"green\",\"blue\",\"green\",\"red\",\"green\",\"red\",\"red\",\"red\",\"blue\",\"blue\",\"green\",\"blue\",\"green\",\"red\",\"red\",\"green\",\"red\",\"green\",\"blue\",\"blue\",\"red\",\"green\",\"green\",\"green\",\"blue\",\"red\",\"red\",\"red\",\"green\",\"red\",\"blue\",\"green\",\"blue\",\"blue\",\"blue\",\"red\",\"red\",\"blue\",\"green\",\"blue\",\"red\",\"green\",\"blue\",\"red\",\"blue\",\"green\",\"blue\",\"red\",\"green\",\"red\",\"blue\",\"green\",\"red\",\"red\",\"red\",\"red\",\"green\",\"red\",\"blue\",\"red\",\"red\",\"blue\",\"red\",\"red\",\"blue\",\"red\",\"blue\",\"red\",\"red\",\"red\",\"green\",\"green\",\"red\",\"blue\",\"green\",\"red\",\"blue\",\"green\",\"red\",\"red\",\"red\",\"red\",\"green\",\"green\",\"blue\",\"blue\",\"green\",\"green\",\"blue\",\"red\",\"blue\",\"green\",\"red\",\"green\",\"red\",\"green\",\"blue\",\"green\",\"green\",\"blue\",\"green\",\"green\",\"red\",\"green\",\"green\",\"red\",\"blue\",\"red\",\"red\",\"blue\",\"green\",\"green\",\"green\",\"green\",\"red\",\"blue\",\"green\",\"red\",\"red\",\"red\",\"blue\",\"red\",\"green\",\"green\",\"green\",\"green\",\"red\",\"blue\",\"red\",\"red\",\"red\",\"green\",\"blue\",\"blue\",\"green\",\"green\",\"red\",\"blue\",\"red\",\"blue\",\"blue\",\"red\",\"green\",\"red\",\"red\",\"blue\",\"red\",\"green\",\"red\",\"blue\",\"red\",\"blue\",\"blue\",\"red\",\"red\",\"blue\",\"blue\",\"blue\",\"green\",\"blue\",\"green\",\"green\",\"red\",\"blue\",\"green\",\"red\",\"red\",\"green\",\"red\",\"blue\",\"green\",\"green\",\"blue\",\"red\",\"green\",\"blue\",\"green\",\"green\",\"green\",\"red\",\"green\",\"green\",\"green\",\"blue\",\"green\",\"green\",\"red\",\"blue\",\"blue\",\"red\",\"blue\",\"blue\",\"green\",\"green\",\"blue\",\"green\",\"red\",\"red\",\"blue\",\"green\",\"red\",\"blue\",\"blue\",\"red\",\"red\",\"red\",\"red\",\"green\",\"green\",\"green\",\"blue\",\"blue\",\"blue\",\"green\",\"green\",\"blue\",\"green\",\"green\",\"blue\",\"blue\",\"green\",\"green\",\"blue\",\"red\",\"red\",\"red\",\"green\",\"red\",\"red\",\"red\",\"red\",\"blue\",\"red\",\"green\",\"green\",\"green\",\"blue\",\"green\",\"blue\",\"green\",\"green\",\"green\",\"red\",\"green\",\"green\",\"red\",\"green\",\"green\",\"green\",\"red\",\"red\",\"blue\",\"green\",\"blue\",\"red\",\"green\",\"green\",\"red\",\"blue\",\"red\",\"blue\",\"blue\",\"green\",\"blue\",\"blue\",\"green\",\"red\",\"blue\",\"red\",\"red\",\"blue\",\"blue\",\"red\",\"green\",\"red\",\"blue\",\"blue\",\"green\",\"red\",\"blue\",\"green\",\"green\",\"blue\",\"blue\",\"green\",\"blue\",\"blue\",\"red\",\"green\",\"red\",\"blue\",\"blue\",\"blue\",\"blue\",\"red\",\"red\",\"blue\",\"red\",\"green\",\"red\",\"green\",\"green\",\"green\",\"green\",\"blue\",\"green\",\"red\",\"blue\",\"red\",\"blue\",\"blue\",\"green\",\"green\",\"blue\",\"red\",\"blue\",\"red\",\"green\",\"red\",\"green\",\"red\",\"blue\",\"green\",\"blue\",\"red\",\"green\",\"red\",\"green\",\"red\",\"green\",\"red\",\"blue\",\"red\",\"blue\",\"blue\",\"green\",\"blue\",\"red\",\"blue\",\"green\",\"blue\",\"blue\",\"blue\",\"red\",\"green\",\"blue\",\"blue\",\"green\",\"green\",\"blue\",\"green\",\"green\",\"green\",\"blue\",\"blue\",\"blue\",\"blue\",\"blue\",\"red\",\"red\",\"green\",\"red\",\"green\",\"blue\",\"green\",\"green\",\"green\",\"red\",\"green\",\"red\",\"blue\",\"red\",\"green\",\"green\",\"green\",\"green\",\"green\",\"green\",\"blue\",\"green\",\"blue\",\"blue\",\"green\",\"green\",\"blue\",\"blue\",\"red\",\"red\",\"green\",\"green\",\"blue\",\"blue\",\"blue\",\"blue\",\"blue\",\"red\",\"red\",\"green\",\"red\",\"red\",\"green\",\"red\",\"red\",\"red\",\"green\",\"red\",\"blue\",\"red\",\"blue\",\"blue\",\"green\",\"green\",\"green\",\"blue\",\"blue\",\"blue\",\"blue\",\"blue\",\"blue\",\"red\",\"blue\",\"red\",\"blue\",\"blue\",\"green\",\"red\",\"red\",\"blue\",\"green\",\"blue\",\"blue\",\"blue\",\"blue\",\"blue\",\"blue\",\"blue\",\"blue\",\"red\",\"red\",\"blue\",\"red\",\"red\",\"red\",\"green\",\"green\",\"red\",\"green\",\"red\",\"red\",\"red\",\"green\",\"red\",\"green\",\"green\",\"blue\",\"red\",\"red\",\"green\",\"red\",\"green\",\"red\",\"red\",\"green\",\"green\",\"blue\",\"green\",\"red\",\"red\",\"red\",\"blue\",\"blue\",\"green\",\"green\",\"green\",\"red\",\"blue\",\"blue\",\"blue\",\"red\",\"green\",\"green\",\"blue\",\"green\",\"blue\",\"green\",\"green\",\"blue\",\"green\",\"red\"],\"phrase\":[\"Can I get back with my ex even though she is pregn\",\"What is the best way to become an arms dealer in t\",\"Why doesn't Japan contribute to peace and prosperi\",\"Which is the best Panasonic air conditioner servic\",\"What did ancient Egyptians believe about the after\",\"How does one prepare for the RBI grade B officers \",\"Which institutions in Kolkata give coaching for en\",\"Will omar bravo be in fifa 17?\\n\",\"What are the pros and cons of arranged marriages?\\n\",\"What will happen if all the vegetable dies?\\n\",\"Why do people hate hypocrites?\\n\",\"What do you consider poor, middle class, wealthy a\",\"How do I concentrate on my studies?\\n\",\"What is new age psychobabble?\\n\",\"How can you tell if your man is cheating even if h\",\"Can you see yourself during lucid dreaming?\\n\",\"Which browser is most safe in terms of privacy and\",\"Can Google Assistant run on OnePlus 3T?\\n\",\"Apart from the VW Vento / Polo and Skoda Rapid, ar\",\"What is Panera Bread?\\n\",\"Do athletes live longer and healthier? If not, why\",\"Could a pitbull take on a wolf in a fight?\\n\",\"What has Obama done for Latinos/Hispanics?\\n\",\"How much is |x|^2?\\n\",\"How does operator.com work?\\n\",\"Why do people not make movies/talk about the Romas\",\"What were the major contributions of the political\",\"Company Secretaries (CS): How do I prepare for CS \",\"What are the job prospects of chemical engineers a\",\"I have never gone to a bank. How do I put money in\",\"What is the best strategy to prepare for the GATE \",\"Who is this porn star?\\n\",\"Why are specs & sunglasses so expensive?\\n\",\"I installed the movie torrent with Ultra XVid Code\",\"Can we ride scootry with learning lisence age of 1\",\"Two cards were drawn, without replacement, from a \",\"How much money is needed per month to live in indi\",\"Why do companies issue bonus shares?\\n\",\"Why are Iranians and Afghans considered white Amer\",\"Could mumps cause deafness?\\n\",\"What is meaning of sadaka?\\n\",\"What should I know before starting a YouTube caree\",\"Is the ITI College Principal is gazetted officer?\\n\",\"How do you feel now that Donald Trump is now the P\",\"What is the difference between imperial units and \",\"What is the easiest way to do effective self hypno\",\"Why has China increased its involvement in the Syr\",\"From which year CBSE class 10th exam be reintroduc\",\"Is 1080p a Blu-ray?\\n\",\"Does using mirrors to concentrate thermal energy d\",\"How do I avoid attractions by phones?\\n\",\"What are some of the effects of education can you \",\"What are the characteristics of a Pisces Sun/Libra\",\"What is the most cost-effective option to ship pac\",\"Are red and blue complementary colors?\\n\",\"Is it possible to make a material that is a superc\",\"What is the best Shonen Jump manga?\\n\",\"Are Oracle and Cisco good companies for a new grad\",\"If lighting a match is considered a chemical chang\",\"Why is Hillary so afraid of Putin?\\n\",\"Which is the best book to study electronics basics\",\"What are the basics I should know before learning \",\"Can I use Cph4 on a day to day basis?\\n\",\"Is it safe when I buy things from China?\\n\",\"Why did some ethnic minorities support Brexit?\\n\",\"How much money has tinder made?\\n\",\"What is the limit?\\n\",\"Will browsing Facebook while connected to Tor reve\",\"If I get 68.4 percent in ftre 2016 class 10 then w\",\"No product market fit: change product or market fi\",\"What makes you sad about India?\\n\",\"How do I know if someone has read my messages on w\",\"Why there is a sound when we crack our knuckles?\\n\",\"Why do I only make friends with guys?\\n\",\"What is 'open-mindedness'?\\n\",\"What is the cause of carpal tunnel syndrome?\\n\",\"What is the difference between a \\\"slow cooker\\\" and\",\"What is Hillary Clinton's stance on nuclear energy\",\"Do IIT colleges require a caste validity for an ST\",\"How do I listen a song from you?\\n\",\"Why do so many Iranians immigrate to Canada?\\n\",\"What will happen to India-U.S. relations after Tru\",\"A program that stored five words in the memory the\",\"What are ways of joining to ISRO as engineer other\",\"Can Magneto defeat Hulk?\\n\",\"What time of year is it best to visit Singapore?\\n\",\"How do I study for ib?\\n\",\"What should I do if someone doesn't reply to my em\",\"How much does Manveer Singh Phogat gets for Dangal\",\"What is it like to be cannibal?\\n\",\"How can the Android app development companies help\",\"Who would you say is the most fun person in Israel\",\"How can one improve her figure and butt size witho\",\"As a company that provides travel agencies and tou\",\"What is the most beautiful thing you saw today?\\n\",\"Is gay flirting good?\\n\",\"Can I use Stripe in Europe?\\n\",\"Will Britain leaving the European Union lead to th\",\"Why are so many East Asian immigrants so averse to\",\"Why do we need computer networking?\\n\",\"What is retina detachment?\\n\",\"Why don't more bars have mechanical bulls?\\n\",\"How do I get better understanding of C++?\\n\",\"Which is the most profitable Porsche US dealer?\\n\",\"What are the best over the ear headphones for abou\",\"Is it true that the first kill is the hardest?\\n\",\"Which is best 32 inch led tv to buy below 20,000 I\",\"I am scoring 130/506 in FiitJEE aits part test adv\",\"What kind of websites are missing from the Interne\",\"What is the best way to use free time at IITB?\\n\",\"Is it possible for me to buy my first company usin\",\"What should I do to have sex with as many women as\",\"What is the scope of Executive MBA in India?\\n\",\"Which BMW models do not have a Hofmeister Kink?\\n\",\"What is yellow journalism?\\n\",\"Why do doctors charge uninsured patients 10 times \",\"Which one is the best public sector job or private\",\"Will social media ever help to spur on the US youn\",\"How should I know a video is 360 degree?\\n\",\"Is a practice manual sufficient for the CA Final I\",\"Career Advice: Being an Indian college student, ho\",\"What are the advantages and disadvantages of Li-Fi\",\"On Snapchat, I deleted someone. Can they re-add me\",\"Are there any cereals that taste good with water?\\n\",\"Why does a woman's vagina push a mans penis out?\\n\",\"What is the British word for bullpen?\\n\",\"How hard is it for international students to get a\",\"How did Revan build his foundation of his army in \",\"What is the best way to read a fictional book? Do \",\"How do you replace a ignition lock cylinder?\\n\",\"How can I prevent business failure?\\n\",\"How often do tides occur? What causes it?\\n\",\"How do I learn Calculus on my own?\\n\",\"What is the reason for Priyanka Gandhi not changin\",\"What should I eat when I'm sick with a cold or flu\",\"What is a Business Intelligence Analyst?\\n\",\"Which sports should I start to play to paticipate \",\"How should I prepare for Java fresher interview?\\n\",\"How different are cuisines of Arab countries?\\n\",\"What is the meaning of the phrase, all is fair in \",\"Why does Quora send me a notification that my ques\",\"What are the hardest obstacles to breaking into a \",\"What makes a falling snowflake large (or not)?\\n\",\"What is the compensation for Partners/Principals a\",\"What is the difference between an array and a vect\",\"If you kiss the NC State wolf do you become an NC \",\"Is it boring (from a social perspective) to live i\",\"What would have happened if in 1971 war all 93000 \",\"What are the easiest things to do while being abro\",\"Does getting root canal cause problem in speaking \",\"What is the definition of a truncated sentence and\",\"Would I look good with a nose ring? if yes which n\",\"What are the perks of working in Amazon?\\n\",\"How can we say that climate change does not bring \",\"What it is like to meet \\\"Shahid Kapoor\\\"?\\n\",\"How does it feel when you are dead?\\n\",\"Which is the best juicer, grinder or mixer in Indi\",\"How do I learn to think more logically?\\n\",\"Which movie has the best beginning ever?\\n\",\"Which laws been enacted to prevent family members \",\"What is iPhone 6s plus cost present?\\n\",\"What is Ohm's law and amperage I?\\n\",\"What is the nicest thing a stranger has done for y\",\"Why do some heroic people who do good things choos\",\"How will Hindus react if Babri Masjid is reconstru\",\"R2I - How did you plan R2I from US if you own the \",\"How can I master C programming in 7 days?\\n\",\"What is the right way to clean ear wax?\\n\",\"What are some good games to play during class?\\n\",\"Is it possible to hack WhatsApp messenger?\\n\",\"Why do airplanes carry more weight than helicopter\",\"Shaving: Do electric shavers work better than manu\",\"Has anyone benefited, health-wise, from essential \",\"Can Students at Hogwarts have sex while there? Doe\",\"How can we enhance our efficiency with Yoga?\\n\",\"What are the best app review sites and blogs?\\n\",\"Can two companies be registered on the same addres\",\"Is it true that as per Indian law, one can't be ha\",\"Who would win in a war between Bangladesh and Myan\",\"How do you reply when someone thanks you for forgi\",\"Who would win a fight between wolverine and Batman\",\"What is one thing you wish for yourself in the fut\",\"Can you cry underwater?\\n\",\"What's the difference between SSL, TLS, and HTTPS?\",\"Why are antigravity muscles more affected in Upper\",\"In order to buy a house, does one have to rent fir\",\"What is the probability of choosing a pink ball fr\",\"Which is the best car to get under 8 lakhs?\\n\",\"Why isn't China's role in the Korean and Vietnam w\",\"What is the Laplace transform of t^(1/2) * e^ (-1/\",\"To those who told a big lie to their parents and t\",\"What is runtime polymorphism or dynamic method dis\",\"I had sex 5 days after my period, what are the cha\",\"How would you describe yourself in one tweet?\\n\",\"How do fairy tales influence creativity in humans?\",\"How do I add delay() and sound() in Dev-C++?\\n\",\"What is the pathophysiology of ADHD?\\n\",\"What are the top benefits of life insurance polici\",\"Can I get a TV from Bang & Olufsen for under $2500\",\"How is the life of an ece student at dayananda sag\",\"What is meditation?\\n\",\"Were the Ancient Greeks scientists, or just philos\",\"How does Google authenticator work?\\n\",\"Wouldn't it be better if kids were allowed to focu\",\"Can you apply for a certificate on Coursera/edX af\",\"Why do Quora engineers use large monitors?\\n\",\"How do I start an online clothing business?\\n\",\"How will the government meet the challenges of acc\",\"I saw a charge on my credit card under from a comp\",\"What is the difference between socialization and r\",\"How would the world be different if everyone spoke\",\"Who receives the fares in a cab service?\\n\",\"As a non-resident alien doing a summer internship \",\"Which is the best camera smartphone under 20k?\\n\",\"What does it mean to dream about someone before th\",\"What are the subjects in which I can apply for my \",\"What are the basics of Jainism?\\n\",\"What is the Difference between existential nihilis\",\"How can I see my girlfriend's WhatsApp chat messag\",\"What are some ways to enjoy sex with my newly marr\",\"How can I study the Bible?\\n\",\"How can someone be a friend, girlfriend, wife and \",\"What are the Snapchat usernames of punjabi celebri\",\"What is 1/2 times 1/2?\\n\",\"Where does the word restaurant come from and what \",\"What can I do with a computational linguistics deg\",\"Will trump win as president?\\n\",\"What impact will AI eventually have on how we plan\",\"Why is eating too unhealthy?\\n\",\"What if the Syrian civil war never happened?\\n\",\"How do the teachings, learning, followership and/o\",\"Did you ever been in a group of stupid people?\\n\",\"What are the multiple types of social issues?\\n\",\"Where can I find beginner NodeJS tutorials that us\",\"If I got a 7.4 CGPA in the SA1 10 class, then can \",\"Which the best time table for 10th class exams pre\",\"Elite Escorts in DHA Lahore?\\n\",\"My ex bf says he doesn't have feelings for me righ\",\"What are the questions in the interview for a fres\",\"What do you think are some of benefits to humans f\",\"Which one is the best medical college hostel in in\",\"Have you lived in a tiny house?\\n\",\"What are some things new employees should know goi\",\"Where can I hire high pressure cleaning service in\",\"How many Bollywood Actresses consume alcohol in re\",\"How does PayU earn money?\\n\",\"Is it possible to change your personality as a chi\",\"How do I apply to London School of Economics as an\",\"How do I build a profile to get accepted into a st\",\"How can I get real ghost stories?\\n\",\"Is it possible to hack NASA's New Horizons satelli\",\"What is the best way of getting good at answering \",\"How would you deal with jerks?\\n\",\"How can I do internship in Accenture India?\\n\",\"Why would an Indian girl not want to get married?\\n\",\"My WhatsApp chat backup got deleted from Google, I\",\"Is going to college really worth it or just a wast\",\"How many prophets did God send to the Jews?\\n\",\"What is the relation and difference between Artifi\",\"If you don\\u2019t have a good network, what would be th\",\"What are the best place to visit in Rio de Janeiro\",\"Which is the best college for PG in Cyber Security\",\"Which are the best English serials?\\n\",\"How do you say \\u201cWhat\\u2019s up?\\u201d in Chinese?\\n\",\"Is it bad to take expired fish oil pills because t\",\"Will there ever be a genuine Authoritarian candida\",\"Is World War III on its way right now?\\n\",\"How can you use time formats in Excel?\\n\",\"What is the best antivirus for Windows 8?\\n\",\"Why do people like Metal/Hard rock so much?\\n\",\"What are the worst smelling things in the world?\\n\",\"Could someone explain the following electives at N\",\"What's a funny thing?\\n\",\"What are the main reason of cracks?\\n\",\"How do I hitchhike in Europe?\\n\",\"What is the physical significance of quantum mecha\",\"How do we get dead people off business junk mail l\",\"Who among the four in the picture given in descrip\",\"How do I know if I authentically, genuinely, hones\",\"On average, how long does it take a letter mail fr\",\"When will One Piece have episode 517 dubbed?\\n\",\"What should I do if I fell in love with my best fr\",\"How do criminal lawyers sleep at night even when t\",\"Can I get refund for Tatkal e-ticket because train\",\"How can I buy the new Macbook 12\\\" M7 512GB model i\",\"What are the different e-governance methods used b\",\"How do I run smoother GTA V? I have intel core i3 \",\"What is the use of tanpura?\\n\",\"What are the Snapchat usernames of celebrities?\\n\",\"Which is better- cracking gate and going for IIT/i\",\"Can you lose weight without exercising?\\n\",\"What is the best way to make life more interesting\",\"Is Delhi a must for UPSC coaching?\\n\",\"Which are the best colleges for electronics and in\",\"I have been a .Net developer for over 2 years and \",\"Has a smartphone ever been taken to space? If yes \",\"What questions should I ask my boyfriend, we are b\",\"How do I delete a contact blocked in WhatsApp?\\n\",\"Is it a good time to buy real estate in Cyprus?\\n\",\"South India: Why is South India much more develope\",\"What is the formula for a hydrocarbon?\\n\",\"What if an alien comes and tells us that the physi\",\"What are the pros & cons of democracy?\\n\",\"I'm 16 years old and wanted to lose weight and bod\",\"Can I add more peers to the torrent for max speed \",\"What are the best neighborhoods to Airbnb in Chica\",\"What we will get in mahabalipuram beach sunrise or\",\"How fast can you accelerate to the speed of light?\",\"What is the difference between R-squared and Adjus\",\"How many times can women reach orgasm in a hour an\",\"Why didn't Johor, Batam & Singapore integrate more\",\"Which products are more profitable in online sell?\",\"How do I get rid of muscle?\\n\",\"What is the process of directing and casting child\",\"Is the 7th pay commission needed?\\n\",\"What are the best games that are compatible on a C\",\"What was the significance of the battle of Somme, \",\"How do you see Pakistan PM Nawaz Sharif's speech a\",\"Where can I publish my apps?\\n\",\"What was your darkest moment?\\n\",\"Why does the UK have an unwritten Constitution?\\n\",\"What are the necessary steps in documenting a mobi\",\"Why was life created? Why was life so painful?\\n\",\"How can I use explainer video to review products o\",\"What is difference between residue and error?\\n\",\"If 6.5 to 8.5 will be the safe level of pH value i\",\"I am 23 and don't know what I want. My life is ver\",\"What are your three favorite websites for reading?\",\"Why do people choose to be a GAY?\\n\",\"What is the process of death?\\n\",\"Why does light red deserve the special name \\\"pink\\\"\",\"Who are millennials?\\n\",\"What it's like doing CA articleship from Big 4s?\\n\",\"What is the most important right or freedom guaran\",\"Why do some porn stars have unprotected sex?\\n\",\"What are my reasons to live?\\n\",\"How small would a planet need to be to plainly see\",\"Some religion speaks of burning in hell after deat\",\"What does it feel like to be an IITian?\\n\",\"How does cognitive behavioural therapy work?\\n\",\"Why should you visit India?\\n\",\"I lost my Google account information. How can I re\",\"What if I port a number from Airtel to Vodafone in\",\"What are the reasons why time travel is impossible\",\"Will my iPhone alarm still go off if \\\"Do Not Distu\",\"Did South Korea cheat during the 2014 Asian Games?\",\"Take the minimum lethal volume of a gaz, put it in\",\"\\\"How to improve Project Management skills?\\\"\\n\",\"When you were small, did you ever think that your \",\"Where did the pointy \\\"S\\\" symbol come from?\\n\",\"How does it feels like to have a rich boyfriend?\\n\",\"What have you used your intelligence for?\\n\",\"What is a freewheeling diode?\\n\",\"How do we derive pi?\\n\",\"What is the importance of communication skills in \",\"How can I put icons on YouTube video titles? Also \",\"What does the phrase \\\"resonate with me\\\" mean?\\n\",\"How many types do we have of Manual testing?\\n\",\"What are IBAN numbers?\\n\",\"What is regret?\\n\",\"As a student specializing in English language, lit\",\"What is the corporate culture like at Corning? How\",\"How can I convert jazz standards to jazz guitar so\",\"How good was the surgical strike by Indian Army on\",\"What recipes are most conducive to romance?\\n\",\"What are the unknown facts about Tamil people whic\",\"Where do I find the most beautiful woman in the wo\",\"What does the grey phone icon mean on the messenge\",\"How do I share 360\\u00b0 photos on WhatsApp?\\n\",\"What is the difference between working stress meth\",\"What are the opportunities for an MBA in finance?\\n\",\"Can you patent clothing or fashion designs?\\n\",\"My in laws are apologists for Nazi war criminals a\",\"Which is the safest city in India for women?\\n\",\"What horse breed were commonly used during the \\\"Wi\",\"Is it weird to sometimes feel almost overwhelmed b\",\"Can anyone please list all the SAP SD topics a per\",\"In the filling of ibps application I put martial s\",\"In a restaurant, what are the different types of t\",\"Why does amir khan never go to any filmy awards fu\",\"What is a good inpatient drug and alcohol rehab ce\",\"Why does UV light cause contamination on optics, b\",\"How do I invest in mutual funds in India?\\n\",\"How comfortable are you with failure?\\n\",\"What skills are required to become a quant?\\n\",\"Why do startups announce fundraising?\\n\",\"What is your review of Amazon Video?\\n\",\"Why there is no team from Tamil nadu in pro kabbad\",\"How do I auto forward texts from my Verizon phone \",\"How do the Chinese people view Americans?\\n\",\"What is virgin or virginity?\\n\",\"What are the different ways of submitting a Reques\",\"Can a high school teacher legally force students t\",\"Why does water droplets form on the outer surface \",\"Which mammals have dark circles around eyes beside\",\"How do each components of a printer work?\\n\",\"What are some foods beginning with the letter W?\\n\",\"What are symptoms of a bad transmission control mo\",\"How do astronauts in ISS vote for Presidential ele\",\"What is the difference between Aim and Goal?\\n\",\"What is AT & C?\\n\",\"Who was Jackson Pollock? Was he mentally ill?\\n\",\"How do I make good vine edits?\\n\",\"How can I cut my penis?\\n\",\"How can I change my Quora profile photo?\\n\",\"My husband was here seeking asylum before we got m\",\"Is it good to use Laravel to develop a web app wit\",\"I have a mild sore throat an headache. What is tha\",\"When will a working nintendo 3DS emulator release \",\"What do we know about the health effects of vaping\",\"INSEAD: Worth the investment?\\n\",\"How is long rides in royal Enfield classic 350?\\n\",\"What famous boxers have participated on Dancing wi\",\"Will season 10 of Big Bang Theory be the final sea\",\"Can I crack KVPY (SX) with only three months left \",\"What are some little-known facts from World War II\",\"What is the most unique way of exam cheating you'v\",\"When was the last time a slam dunk broke a basketb\",\"What should I do for my excessive hair loss?\\n\",\"How do I find people's psychological weakness?\\n\",\"What is the difference between Awareness and Consc\",\"I hate everything that people around me like. Is i\",\"I think I am pretty good at thinking of a business\",\"How do you determine the thickness of a footing ba\",\"Why does vapours are formed when we pressurize alc\",\"Is it easy to adjust in German Universities withou\",\"What is UNIX and UNIX-like?\\n\",\"What is the best way to promote www.dorkyard.com?\\n\",\"What's up in Addis Abeba tonight?\\n\",\"Is there any point to going to college if you have\",\"How much would it cost to construct 800 sqft area \",\"What is an ideal wife? What is an ideal husband? W\",\"What information does port scanning provide?\\n\",\"What are the application of quasicrystals?\\n\",\"What is the determinant of the inverse of a matrix\",\"How is Brad Pitt in \\\"real Life\\\"?\\n\",\"I have a 3 yr bachelor's degree in Computer Scienc\",\"Demonetisation is good for county like India or no\",\"My parents think I am rude for being so introverte\",\"How many people have jumped off the Golden Gate br\",\"What are Osho's views on Islam?\\n\",\"Why does the government regulate health care?\\n\",\"Which phone has the best sound recording quality?\\n\",\"What is the best part of your life, and why is it \",\"Which is better hair wax or hair clay?\\n\",\"How do I charge my motorcycle battery?\\n\",\"What are the updates we get after miui 8.0.6.0?\\n\",\"Why does Robinhood need to bypass the App Store?\\n\",\"Which is a better route, Alipiri or Sri Vaari?\\n\",\"How much extra would it cost if Apple manufactured\",\"When will the next recession be?\\n\",\"What are some arguments in support of electing Don\",\"What does Russia want with Ukraine?\\n\",\"What is the difference between a recorder (block f\",\"What is the meaning of random number?\\n\",\"Which one is good for health: tea or coffee?\\n\",\"Is Texas good state for non-resident to register a\",\"What is kirchoff's law?\\n\",\"Is it wrong for a family member to keep making com\",\"My parents are forcing to marry a girl of their ch\",\"Which is better, Windows+Linux or OSX?\\n\",\"Why aren\\u2019t Christians that pray to/have a relation\",\"How much TDS will I have to pay for an RD account \",\"What is the meaning of thematic connection?\\n\",\"How should you prepare to take your maneuverabilit\",\"What are the best materials/videos/resources to ge\",\"Can a \\\"dirty\\\" finish be added back to jeans?\\n\",\"Why does my dog keep whining at night?\\n\",\"Is it bad to turn off my PC using the power button\",\"What is image processing?\\n\",\"I went to school with mostly black kids, they bull\",\"Does Donald Trump actually think he can become Pre\",\"Which are the 5 best movies you have ever seen?\\n\",\"How do I get traffic to excursions travel website?\",\"Where can I download the Android game Leo's Fortun\",\"How do I get more followers and upvotes on Quora?\\n\",\"What is a factory reset on a phone?\\n\",\"Which phone should I buy if my budget is 12000?\\n\",\"I have GPU implementation as a graduation project.\",\"What are the libertarian views on the Antarctic Tr\",\"What would the world be like if it were ruled by a\",\"How do you choose your first bank?\\n\",\"Who runs berkuliah.com?\\n\",\"What does Godel's incompleteness theorem mean for \",\"How do I delete a Gmail account?\\n\",\"If my ultimate goal is to become a vegan, should I\",\"Did the US win the war in Afghanistan?\\n\",\"How can I become a good engineering student?\\n\",\"What are some ways to increase intuition?\\n\",\"What causes depression in humans?\\n\",\"How can I control my anxiety and worries?\\n\",\"How can we jump in between the working regions of \",\"How do I stop loving someone who loves me?\\n\",\"Can personality and insecurity create a liar?\\n\",\"What is the best country and university to do a Ph\",\"How do I edit a video offline?\\n\",\"What is the rent of kiosk in an upscale mall?\\n\",\"What should I start reading if I want to attempt t\",\"Which is the best anti-virus for computers?\\n\",\"Does food unite people?\\n\",\"What do you like most about Internet?\\n\",\"What is a good model of federalism in the Philippi\",\"How do you know if a girl secretly loves you?\\n\",\"Who is the most annoying fictional character you h\",\"How do you feel when your question is unanswered o\",\"Did early humans know how babies were made?\\n\",\"If I cancel xfinity, how can I sign up as a new cu\",\"Are there any TV series similar to House MD?\\n\",\"What you need to know before buying furniture for \",\"Have you ever had a dream happen in reality?\\n\",\"Is dark matter just a scientific theory or has its\",\"How can you increase your tolerance for pain?\\n\",\"How many logical fallacies are there?\\n\",\"How do buttercream icing frosting separate?\\n\",\"Which is the cheapest cinema hall of India?\\n\",\"What do you think would be a good gre score?\\n\",\"What is the best way to update Xiaomi redmi 3 to M\",\"What does toe jam cheese taste like?\\n\",\"How do I know if a YouTube video is copyrighted?\\n\",\"How should I start a business reselling shoes?\\n\",\"How do I hire a mobile app development company?\\n\",\"What is paras pathar?\\n\",\"How is the word \\\"colony\\\" used in a sentence?\\n\",\"What is Rebecca Fugate known for?\\n\",\"What should I consider before starting my consulta\",\"Do you feel that many attractive women get away wi\",\"Why do I feel so much guilt for kissing a girl?\\n\",\"What are some good tutorials for learning Blender?\",\"Is it deceitful to befriend someone in the hopes t\",\"Who do you think BJP will put as a candidate for t\",\"Which protein supplement is best for gym to gain w\",\"What is your review of KVPY SX/SB 2016?\\n\",\"How do I get people's attention for my work?\\n\",\"What are some of your own personal stories and exp\",\"If salt concentration of the sea(3%) were differen\",\"What is the chemical name for mothballs? How was i\",\"Vitamin D receptors in the Testes?\\n\",\"How do I lose weight without working out?\\n\",\"Where can I watch anime?\\n\",\"What is BusyBox used for?\\n\",\"What would be a good desktop computer for software\",\"What are your top five favorite books and why?\\n\",\"What are some good Harry/Ginny fanfiction?\\n\",\"What are the pros and cons of having sex during pe\",\"Which device will you enjoy watching movies in: a \",\"Will there be \\\"faithless\\\" electors this election?\\n\",\"Is Donald Trump an undercover democrat?\\n\",\"Why am I the way I am?\\n\",\"Why do some women get their nipples pierced?\\n\",\"What do Delhi University girls (especially North C\",\"What is the name of this TV series?\\n\",\"My salary is below the Basic Exemption Limit, yet \",\"What is a foliated rock?\\n\",\"What are some of the best books to start learning \",\"How should I prepare for IIT-JEE 2018?\\n\",\"How do unions work?\\n\",\"Can we give neet coaching in class 11?\\n\",\"Which is the best dish TV connection in Hyderabad?\",\"How can you train a Doberman/Lab mix?\\n\",\"How do you reduce stress at work?\\n\",\"What is the best algorithm for finding the number \",\"How can I earn $250 in 2 months?\\n\",\"Why did GE buy NBC?\\n\",\"What is the highest level of c?\\n\",\"How do you mash potatoes without a masher? What el\",\"How difficult is it to learn Python?\\n\",\"How do you convert years into seconds?\\n\",\"How do you view bisexuality?\\n\",\"What is information technology? What are some exam\",\"Why are Altoids so strong?\\n\",\"How effective is email marketing?\\n\",\"Why does my tutor keep winding me up. He says he i\",\"How can I start my Tok essay which is about accura\",\"How do I repair my corrupt memory card?\\n\",\"I have 3 years to prepare for IIT JAM Physics. How\",\"What are the best Instagram hack tools that have n\",\"I am studing interior design. What are some good i\",\"What are some stupid jokes that make you laugh?\\n\",\"What are the factors affecting Real estate investm\",\"How can I get rid of white dry spot on my face? It\",\"What is it like to have an ugly wife/partner?\\n\",\"What do you love most about your life and why?\\n\",\"In the unlikely event that the Electoral College t\",\"How is life as an Engineer?\\n\",\"Where and why are the imaginary numbers used?\\n\",\"What are some good hypo-allergenic lipsticks?\\n\",\"Did the United Nations play a part in the divide o\",\"When and Why did America become a world power?\\n\",\"What are some recipes using Hormel Black Label Ham\",\"Which is the best company to invest shares on Nove\",\"The man I'm about 2 marry says when I have my peri\",\"What can be the best answer for why finance?\\n\",\"What are the best facts about the universe?\\n\",\"What's the sweetest thing you did for a bestfriend\",\"What is the difference between techno and trance m\",\"TV Sitcoms: Why do English comedy shows have peopl\",\"Does percentile system would affect neet 1 student\",\"Is there Uber in Valencia, Madrid and Barcelona?\\n\",\"Have real-life siblings ever shot intimate scenes \",\"How should I improve my writing skill for blogging\",\"Can cold weather affect a menstrual cycle?\\n\",\"How can we earn money online while studying?\\n\",\"Can a tablet keyboard be used on any kind of table\",\"What are the Upcoming development projects in Chha\",\"Where can I buy cheap Twitter followers?\\n\",\"Why do passengers from aircraft are not given a bu\",\"When should I tell my crush I like her?\\n\",\"Why does Pakistan have a better image and reputati\",\"What are Andrea Pirlo's strengths as a midfielder?\",\"From a point in space billions of light years away\",\"Will Medicaid pay for electrologist to do the shav\",\"Why do technical employees despise sales people so\",\"What are the best freelance websites for C#?\\n\",\"Will I be successful without educations?\\n\",\"How can I learn about cars?\\n\",\"What is the best question asked in an interview?\\n\",\"Why there is so much hatred against Brahmins in In\",\"How do I learn to enter journal entries online in \",\"Will CS be issuing a PR message for Boston?\\n\",\"Why do some people 'hate' drugs or people who ever\",\"How do I know my passion? What is my talent and wh\",\"How do pessimists and optimists differ?\\n\",\"How many pulleys did it take for Archimedes to lif\",\"What is the best course after 12th for a medical s\",\"What are the steps that I should follow to get in \",\"Where was the boston marathon?\\n\",\"What is it like to be in or around a bomb blast?\\n\",\"Will Trump destroy international US-companies thro\",\"Should celebrities have the right to voice their o\",\"Can I say that: \\\"A battery can be seem as a capaci\",\"What is it like to be an ENTP?\\n\",\"How do I start designing on glass?\\n\",\"What is the market risk premium formula?\\n\",\"How can I pay the parking meter if I have no coins\",\"Is it true that Obama has a secret son named \\\"Luth\",\"Which is the best coaching for IAS in up?\\n\",\"How big is the equity funding market in North Amer\",\"Which are the good government medical colleges in \",\"How do I control my hair fall?\\n\",\"Is it really worth creating Shopify themes?\\n\",\"What can cause knee pain? It only hurts when I sta\",\"Where can you find a list of common 9 letter words\",\"NSFW: Is this penis color normal or should I see a\",\"Why do most women remove the hair from their arm p\",\"Which processor is better (faster/more efficient),\",\"Which two statements are true regarding views in s\",\"What is the easiest and quickest Indian food recip\",\"What are the best local SEO companies in India?\\n\",\"How do I get rid of adult content on my Quora feed\",\"Can the zombie fungi attack humans as well?\\n\",\"If I wanted to learn about the Roman Empire,what w\",\"What are the key differences between LXDE and XFCE\",\"Can people see the sellers real name, e-mail addre\",\"Should I still watch The Matrix movie?\\n\",\"Is there any truth to the rumor that the youngest \",\"Is it ok that I don't want to hang out with my fam\",\"I am in class 9. If i want to crack IIT JEE, then \",\"Will Obama's gang stalking/surveillance program be\",\"What are some good songs to lyric text prank a fri\",\"Where can I get best quality video DJ for party in\",\"How long does it take for your hair to grow?\\n\",\"Should I update my Redmi 3s from MIUI 7 to MIUI 8?\",\"How do muscles work?\\n\",\"WHAT IS THE BEST ROUT FOR NEPAL PASUPATI NATH TEMP\",\"How to make a website similar to feedwiser.com in \",\"Why does India so scared of CPEC?\\n\",\"What did your first sex feel like as a girl?\\n\",\"In International ODI/T20 cricket matches, if a bat\",\"Why can humans feel acceleration, but not constant\",\"Can the Microsoft Surface Pro 4 run AutoCAD?\\n\",\"What are the differences between stock Crown Victo\",\"What are the good ways to download Lynda.com's tut\",\"How much is the average salary package for a 1.5 y\",\"How can you reduce the barriers of communication?\\n\",\"Why would someone use Instagram Stories over Snapc\",\"Whiskey: How many 'shots' are in a fifth of Jack D\",\"What might happen now that President-elect Donald \",\"How do I write a waiver letter for school?\\n\",\"I am interested in persuing ma industrial psycholo\",\"Does modafinil shows up on a drug test? Because my\",\"Is it possible to get high off Vyvanse?\\n\",\"Is an agnostic necessarily a skeptic, and how?\\n\",\"Where can I get best support in Sydney for buying \",\"What are the duties of a lieutenant in Indian army\",\"Why is smileys not used on Quora?\\n\",\"What does it feel like for a man when someone who \",\"How does post graduation permit impact .lets say I\",\"Online Payment Gateways and Processing: What is th\",\"What are the best books to learn c programing lang\",\"Solid State Physics: What is The Theory of Alloys?\",\"How do I fill in my first name in a PAN card dupli\",\"Why is egg yolk not good for you?\\n\",\"Anatomy of Female Pelvis: Do women really have an \",\"How much does it cost to develop mobile applicatio\",\"Who is the most honest Game of Thrones character?\\n\",\"What is a high quality Apple MacBook Air charger?\\n\",\"Where and how is the WWE championship belt made?\\n\",\"What is green communication?\\n\",\"I have been a good student since chiild hood but j\",\"I'm solving exercises of artificial neural network\",\"Compared to your own compensation, and in consider\",\"How can I keep browsing Quora forever?\\n\",\"Having built web stuff the old way (PHP/MySQL) bac\",\"Is our new currency note of Rs.2000 equipped with \",\"What's the best way to join a startup in DC?\\n\",\"What would happen if we added a second Earth of eq\",\"When will piracy on Android stop?\\n\",\"What do you mean by executive consultant and suppo\",\"Why do I always feel like I am missing something?\\n\",\"What does a user see when he/she gets a new messag\",\"How can I become a web developer?\\n\",\"Is there any good alternative softwares to Tally?\\n\",\"Would you have sex during period?\\n\",\"Are there prominent Bangladeshi Hindus?\\n\",\"I have registered for PhD (no NET) (phy) in 2013, \",\"I changed my name, but the person did a mistake. M\",\"At what age do your breasts stop growing?\\n\",\"How do I get a girl's phone number in a library?\\n\",\"I am into a habit of over thinking things. How do \",\"What is the average salary of a civil engineer?\\n\",\"What is the difference between rote learning vs me\",\"What are the ways to compete in the Olympics in 20\",\"What trivia (and/or little-known facts) do you fin\",\"Xiaomi Redmi note 3: Which is the best colour to b\",\"What does \\\" the Hadamard Perron theorem\\\" means?\\n\",\"Is there a way to see the viewing history and chat\",\"What is the best place for trekking in Goa?\\n\",\"How does an instant messenger work?\\n\",\"What are the disadvantages of the World Trade Orga\",\"Why does the US military not use AK series rifles?\",\"Does Moto m have gorilla glass?\\n\",\"What is the hierarchy of an associate consultant a\",\"What are some major landforms in Texas, and how do\",\"What other jobs can a medical degree holder do mea\",\"MY HP DEXTOP DOESNOT CONNECT WIFI WHY?\\n\",\"How can I get motivated to workout?\\n\",\"What should I gift it to my mom on her birthday?\\n\",\"Which is the best video you have ever seen?\\n\",\"I was selected in campus and was issued a joining \",\"What makes a poem a good way to express emotions? \",\"What would happen if I cut down a tree outside my \",\"Can you make money in Amway?\\n\",\"Body Weight: How many pounds can I gain every week\",\"What are the impacts (both positive & negative) of\",\"I forgot the password which I used to login n n lo\",\"What are the best websites for career?\\n\",\"What is your favourite episode of the office (USA)\",\"Why is time slower down near heavy objects?\\n\",\"How do l update any version after rooting the mobi\",\"Why is 3 am called the witching hour?\\n\",\"How do I run a shell script from Java code?\\n\",\"What are the advertising campaigns of 2011?\\n\",\"Should I opt for computer science if I don't take \",\"What are the polymers of protein?\\n\",\"How much better will the JWST be than Hubble?\\n\",\"What are the greatest examples of absence of mind?\",\"How can I understand the STOCK market from the bas\",\"How do I make Gazpacho?\\n\",\"What is the typical role of a brand manager?\\n\",\"Who are the top 5 hottest women ever?\\n\",\"What is the name of the game that Aamir Khan was r\",\"How long does it take to learn dance?\\n\",\"What's the funniest thing that's happened to you a\",\"Why are metals malleable and ductile?\\n\",\"List of national daily in India?\\n\",\"Are Volvos actually safer than comparable cars?\\n\",\"Can you tell who has been looking at your Instagra\",\"A ball dropped from the roof of a building takes 4\",\"What percentage of Hillary Clinton's supporters ha\",\"Do you think you are beautiful?\\n\",\"Which are the free email marketing tools?\\n\",\"What topic of discussion do people hate the most? \",\"What is the point in having hyper-politicised stud\",\"Why Steve Jobs is considered as innovator?\\n\",\"How long would it take an average programmer to wr\",\"Why are conservatives defending Holly Fisher? (see\",\"What is so important about Adam Smith's pin factor\",\"What is the Arizona bark scorpion, and how do anim\",\"How do I stop smoking cigarettes?\\n\",\"What are the functions of a computer's motherboard\",\"How can tea bags help for styes?\\n\",\"How can I get a patent for my really effective inn\",\"Can India ever become 'Sone Ki Chidiya' again?\\n\",\"Is there any way to play Android games LAN multipl\",\"Why should I ask my first question?\\n\",\"Who are the top writers on Hinduism on Quora? Who \",\"How do I wake up at 4:00 A.M.?\\n\",\"Why is Quora moderation collapsing all my answers?\",\"In an honest assessment, what do you think of Trum\",\"What type of bonding is present in a coordinate bo\",\"Is it possible to delete your Wikipedia account hi\",\"I'm a +2 CBSE non-medical student. Is there any pr\",\"Are there any limitations as to setting up a forei\",\"How will the drought in California affect its econ\",\"What is Informatica online training?\\n\",\"Is it compulsory for a Web designer and developer \",\"How could the US realistically pay off its debt?\\n\",\"Who is Barry Soetoro?\\n\",\"How do I solve [math]2x^3-x^2+11x+3=0[/math]?\\n\",\"What are some hobbies couples can do at home?\\n\",\"How have meerkats adapted to the desert?\\n\",\"What causes dizziness when you lay down?\\n\",\"What should one do after a civil engineering degre\",\"What are the advantages of hiring skip bins servic\",\"Why is it necessary that singers lip-sync?\\n\",\"How can I turn off the screen overlay detected on \",\"How do you clean or polish a pair of Woodland shoe\",\"What are some classes you wish you took in high sc\",\"What is the formula of [math](a+b)^3[/math]?\\n\",\"What is it like to commit yourself to a psychiatri\",\"Is there any way to slow or reverse the late effec\",\"What would the implications be if we discovered th\",\"Any other program to help on code contribution for\",\"What is the bond order of [math]H_2[/math]?\\n\",\"What is the best way to create a website without c\",\"What were some causes and effects of the French Re\",\"What are some catchy headlines for a dating site?\\n\",\"Should I get Company of Heroes, World in Conflict \",\"How do I remove a person from a group in Skype?\\n\",\"Why was Manmohan Singh briefed by PM Modi after su\",\"Does anybody want to learn Chinese?\\n\",\"Is Xiaomi going the Nokia way to oblivion?\\n\",\"Should I buy hp 17.3 AMD laptop or lenovo 17.3 i5 \",\"Which is better a government job or a software job\",\"How can the word \\\"credulity\\\" be used in a sentence\",\"Does uber track time on app?\\n\",\"How do I get over direct rejection?\\n\",\"How can any institute get an ISO certificate?\\n\",\"What are the best pranks?\\n\",\"Are non-solicit agreements enforceable if the pers\",\"Which phone is best in 2016 for a 18 years boy my \",\"What is the definition of an archetypal hero?\\n\",\"Why are some \\\"ugly\\\" people still very attractive?\\n\",\"What are the chances of Donald Trump's impeachment\",\"What would a society based on laws enforcing only \",\"What is the full form of \\\"veto\\\" power?\\n\",\"How much do people get paid to do a TED talk?\\n\",\"What does it mean to say \\\"enriching herself off of\",\"How can I be more persuasive at work?\\n\",\"What is the corporate culture like at National Bev\",\"What is the fastest way to get a PAN card?\\n\",\"Who will win in America presidential elections in \",\"How do I solve this differential problem?\\n\",\"How is Banjara's Saffron Facial Kit used?\\n\",\"How do you understand life?\\n\",\"Will an MS from NUS in electrical engineering prov\",\"How does one create a strong password? Any tips?\\n\",\"Who was the best dressed at the 2016 Emmy's?\\n\",\"What is the cost of manufacturing a SIM card?\\n\",\"Are you tolerant?\\n\",\"Is [math]\\\\{1,2,3\\\\}[/math] a compact subset of a me\",\"What kind of energy is involved in hearing and vis\",\"What happened with Lehman Brothers?\\n\",\"What is a good web page publisher?\\n\",\"Why does eating radishes cause diarrhea?\\n\",\"How do I encrypt the data on my Android phone?\\n\",\"If there were an Oscar for \\\"Best Line in a Movie\\\",\",\"Why are tyres black?\\n\",\"What is the best way to unlock a Motorola Droid Bi\",\"Is a $45 a month job worth the experience?\\n\",\"Should I settle in Canada or Japan?\\n\",\"How is the appraisal process in Accenture? How wil\",\"How does sand turn into glass?\\n\",\"What effect will increased automation of jobs and \",\"I am 25 years old Indian guy, want to settle in Ne\",\"What are some Raksha Bandhan gift suggestions for \",\"How do I write a multi-dimensional villain that is\",\"Why is there no nucleus in a red blood cell?\\n\",\"Why do Quora allow anonymous fake questions from A\",\"Is it possible to merge a foursquare venue into a \",\"How do I find out if I have Siri on my phone?\\n\",\"Why do I feel like I'm not living my life?\\n\",\"What will happen to global stock market if Donald \",\"What makes weeds grow so much faster and easier th\",\"Do people with extremely high IQ need higher sugar\",\"What should teaching assistants do?\\n\",\"Why is Perth one of the most liveable cities in th\",\"How do you get to the entrance for Resolution Cave\",\"How do I get involved in research as an undergradu\",\"If you have one option to remove anything, what wi\",\"What are the risk after angioplasty?\\n\",\"Why can't men read the signals women give off when\",\"How can a non-EU medical graduate get into residen\",\"How do I stay active?\\n\",\"I'm going to Paris. What is the equivalent \\\"neighb\",\"How do I get rid of dandruff, or at least prevent \",\"Is Medicaid going to pay for the electrologist for\",\"When Australia became a nation in 1901, Did aborig\",\"What is the difference between SSL and Sitelock?\\n\",\"What are some unsolved problems in deep machine le\",\"What's the difference between computer engineering\",\"Is it possible to get a decent job after completin\",\"What is the difference between MG & BG in railway \",\"How do I control an Arduino with a Raspberry Pi?\\n\",\"What is the best field to pursue MS after doing el\",\"What is the difference between Directx and graphic\",\"How do I wirelessly charge the electrical devices \",\"Can you upload Numbers sheets from iPad to Google \",\"What's the best movie franchise you have ever watc\",\"If light does not have mass, then how can it be ab\",\"Why is the book of Esther in the Bible?\\n\",\"What makes comic books worth reading?\\n\",\"What are the advantages of outsourcing property ma\",\"What is a Quora credit competition?\\n\",\"Are data analyst/data science jobs boring?\\n\",\"Why don't satellites crash into each other?\\n\",\"How do dermatologists remove blackheads?\\n\",\"How can I choose between my dad and my mom?\\n\",\"Can you really not change people?\\n\",\"Being a non believer of a spiritual entity, I have\",\"Is black coffee fattening? If so, what makes it fa\",\"The education system is outdated. What would you d\",\"Who are the founders of Quora?\\n\",\"What is it like to be a landlord?\\n\",\"How many stamps do I need to send a letter to germ\",\"My father just recently got married. His wife goes\",\"Which countries are best to migrate from the US?\\n\",\"Can any one tell me a basketball club in Bangalore\",\"How can Spotify download songs offline?\\n\",\"How do I make money online for free in Spain?\\n\",\"Why is Tornado Alley prone to tornadoes?\\n\",\"How does helium change the inhaler's voice?\\n\",\"What is a bedding ceremony in Game of Thrones?\\n\",\"What is it like living in former East Germany as a\",\"Did the USA or NATO commit any war crimes in Iraq?\",\"Why don't we capture terrorist and behead them?\\n\",\"What is your favorite quote (books, movies, people\",\"What mixes well with peach vodka?\\n\",\"Which Patanjali products contain cow urine?\\n\",\"Why are three phases denoted by RYB?\\n\",\"Where could I learn JavaScript online?\\n\",\"Is it appropriate to wear a sports bra simply to t\",\"What are the differences between Jenkins CI and Dr\",\"T right do you think we should be entitled to?\\n\",\"What was the public's reaction to Crystal Pepsi?\\n\",\"How can I crack MH-CET 2017 engineering by self-st\",\"What is the way to become a dental hygienist in th\",\"Why do solving math/statistics problems causes my \",\"Does your name sound as awkward to others as it so\",\"What is the proper format of writing formal-inform\",\"How does doc2vec represent feature vector of a doc\",\"Why are software development task estimations regu\",\"How can I set up molecular pathology lab?\\n\",\"How do I score a rank in CA - IPCC?\\n\",\"What are some examples of strong organic acids?\\n\",\"What can be a good hindi (indian) name for a tea b\",\"Is the Google host matching process different for \",\"Is Cuba considered part of Latin America?\\n\",\"Does the following script (\\u0256\\u2200\\u0f61\\u0632\\u2202 \\u0250\\u0167 \\u01ab\\u04bf\\u03de\\u026e\\u2609 \\u027d\\u03c6\\u0289\\u029b\\u0195), \",\"How can I increase my website's DA?\\n\",\"Is it normal to imagine having sex with other guy \",\"What is the percent purity (approx) of consumable \",\"Do soulmates just come walking into your life when\",\"If I use marijuana with my boyfriend, is there a p\",\"Can you analyze everything in soil?\\n\",\"What difference it would make if India Nuked and K\",\"What are the advantages of a dominant party system\",\"What were some things India did not do but takes c\",\"How many total women have accused Bill Clinton of \",\"Why do I wish some fictional characters existed?\\n\",\"Where can I find best hotel at Ranikhet?\\n\",\"How do I make good memes?\\n\",\"What are some of the common sayings or proverbs in\",\"What kind of writing style makes someone a \\\"dark w\",\"Are Trump and Hillary really the best America has \",\"How can I make my career in embedded system and ro\",\"Will adding a USB to VGA adapter always give an ex\",\"We will never be able to see our own faces with ou\",\"What are the ways you can stop a friend from pitch\",\"What is the average time for preparation of IAS?\\n\",\"How can I learn new things quickly?\\n\",\"What is the definition of political courage?\\n\",\"What makes death scary?\\n\",\"I'm really pretty but I don't want to be I hate th\",\"Is Assam Down Town University good?\\n\",\"How do the brain structures of bonobos change as t\",\"What's the biggest scam?\\n\",\"Does the US government have an alien flying saucer\",\"I need to gain weight, but I don't have abs. It's \",\"Why should I study Calculus?\\n\",\"Do you think your childhood contributed to your fi\",\"How does the Goods and Services Tax (GST) works?\\n\",\"Where can I download Cisco 500-285 exam dumps?\\n\",\"How do I can make a second nation in Cybernations \",\"Did Neil Armstrong really land on the moon?\\n\",\"Why is Devil any other than God head of state?\\n\",\"How do I stop being possessive over my girlfriend?\",\"How does Kongregate compute the statistics of adve\",\"Who is the best nuero physician at NIMHANS, Bangal\",\"What are nonprofit organizations?\\n\",\"I want to know the process of starting outbound ca\",\"Which are some of the best hotels to stay in Helsi\",\"What is good about Deloitte Chicago?\\n\",\"How do I recover data from a formatted hard drive?\",\"Could India and Pakistan unite again?\\n\",\"How often should I massage my face with Argan oil?\",\"How is psychodynamic therapy different from psycho\",\"What are some of Barack Obama's character traits?\\n\",\"Would it make sense to replace the B-52's 8 1960s \",\"Is it possible to bring forward my flight date of \",\"How can I learn marathons?\\n\"],\"x\":{\"__ndarray__\":\"xYPYQFmIIkGHDD5BGtFhQW+JDEHR5VJBsVBMQW9wMEFF7AZBKNsNQfo1pUBcbI1A2n2pQFhzHkEIuCFAN64EQQt2PkEFpipBguswQQv4AUETa45AeW76QLMvPUGfNydBrCifQLrIWkGlh+5AFUIOQTOgUkFXDt1AW3dIQUB5HUH+XQZBb2QdQUlvC0FNvStBsU0lQbjgMUEc4ltBxJkkQc8sJ0HxORVBcNFQQY4TQkGw/EZBn/z5QJ8PUkHjRUFBAwImQZwWRkF7O9BApi0uQfomLEH28FRB6VYQQS+ZCUEcuR1B7JtRQYYROUHu2QBBMERZQYPuDkHCRO1AxiUHQRW0XUFqCudA/iIcQRaq4UBq+kRBCAxGQVvwAkEG58dAvo4HQQZYcUDwljFBTMM6QYetIkF3FD5BeWNMQfM65EAcpwtBMs88QfHTOEH5yVtB/EZAQQjAXkDSG6pAaFTKQM4rEkEwSgBB0e0qQfgC7UBOw69A9KBHQbxMFUGhUCRBdysrQd37UEEEP1lBgJ+1QC9VREE1RjFBdU7aQIlYPEHdRCtBfL0UQZ+jNUExAEFBKEcxQXL8XUDNOhZB5E9wQO/BXEEEUB9BXyZpQS+kWkFn0k5BYjNHQYuV2EB0cStBVCENQaVIO0GBsbJAMyIGQQV0s0AhUTZBhsAUQcmSSkFCmpFABYAcQbRUSkHSGh5BW1ylQAmEFEHt87pAxVE2QXdfiUBoJg9BmdcHQdxSOkF8ZRVBp3sQQR6/HkFnDlFB1ek2QR5eQkHgiRhBWxhAQUYKdUBxzA9BCs81QWkUB0FB+TBB5Z9JQV1WFUHW9yRAP6RgQWkDeEAVtBlBuPRTQQG1JEGMfCdBOUzhQA1QdkDf8D5BF/nYQIGnMkGkGRhBCMxcQEKd20COw9ZA9no+QZ3yTkFr1H5AwmkEQbYb6EDpBgxBwholQZSLTEHWd2RAQckvQaJkFEHz/wRBdB80QY1mQEEDjg5B4n0QQV+VKkF55D5BT9I4QUTW7EDBJElBDNX0QI/lzkD6Bk9BXu4zQZXSN0EWSfBALusXQVgLXUGZF2pBdFdbQdkxHkFfv/xAMYNVQX29NEGyXfBAXTTvQDOxM0EWajFBJQgDQX4INEFeeypBQ/osQZOR60DCrDtBDiMvQQ/kPUES+61A3IzUQINraUADw9dABqnvQEmLJ0EuewhB3raxQCBITEGP2w1BlLMDQfSeQEEDjk1B3yvmQLS47ECboyxBOgUkQfXMREF7NztBT7/aQHKbTUFRuH9AMcJeQSpsBEH5Ml5As6MVQSR/UEGFAB9BDuQ4QakEOkFBVzZBLbnZQGdtNUGogQNBIDQCQfIYNkHo29VAl23dQEYnXUC0UQ5BFklDQbZ860D3FBhBGwBgQXcKCEEAEKxAOkEaQRUrUkFGRgtBCfLNQHmpLEEo65JAj9r8QLYTM0HAVyRBRwgLQd74C0HRh0JBsVDNQDVZL0GHPZdAOo0rQYuSF0ErMMxAtBcFQUckHUHxVRZBgIRKQUQNMUEZxBVBwzPtQBWVSEErnmJBUwwVQXUSTEHSrFlBCk4MQYmnCkEiYMBAUWmwQCq5B0Hjj1ZBD8w/QT2FD0GKNEtBafcFQbr8KUGsfU5BZHNVQfplBEErxS5BPKr7QE7TOkHHXCxBpkagQGflOUE2wTlBdyIbQeNWNEGfojNBqhrLQCOz2UBfiAFBUTYuQfP7A0FXbipBzGg/QW5lNEHMP+FAWxsHQTWhk0AhcjpB39ARQTv8jUBAkN1AgifvQPPPyUA9G3VAkkMcQdZnC0EXaftATf5HQQt31kAYc9pA+30pQdyMBUE4q7JAwQdbQeCgDEHb+C5BcJIiQHOdI0GxRuJAtLZgQB3tQUHJ5ZdAH046QcVX4kDOlAJBHYTQQODSPEEGKQRBXFYlQV0H90CHyiVBTu9TQb22QEFGkgFBltbkQJjS3UCyTKlAJX1AQev4W0FKlw5BhUdcQYeDXkG3lihBe2f6QEBGDEHdaz1BaeQ+QRnID0E3Uk9BDZhHQTuAM0F4/wBBIgQlQdIMM0EiRypB+es0QUN23ED/JIZAa7AJQZBYDUEHvDFBEORFQS5vR0HxIRxBYUEwQZKrQUFgR0xBnYQwQaaLJkEBVPtAaDSRQA7LsEBWpxVBJAzWQOFnKkFRRrtA2RsYQdhGD0Fg0U9B3txZQWiUKkHZxxxBGkOiQAKJA0Hm9iVBZTcIQWXmo0A4sqNAmY0xQViyAEGYcQpBmhQ9QUv1C0FTNERBHJtqQYKPn0B+kTBBTDtfQOkiSUF3ZiRBicRbQSLaL0GACTZBR8osQZKYMkEJyxVBW2+2QB8fJkGFjzdBlgJKQbr8LEHaUBVB8sYZQT71GUHVD6RAZJIeQbqXKUF40itBcq9AQbneXkFxZD9BuZYlQaGl2UAktTBB8JwoQaQ9KUHvBgdBDqzXQCKoNEEHWFpBa7goQYJAN0GqMGJAE+AuQa91r0C2ZcNAsILiQAueakF2t7tAcvP+QC7EF0FaJb5AaWoYQQ0Ty0BkORxBRuoGQYIoMEE0fUxB+uH6QLMlcEA+5DxBortBQfC9rkD1XwdBMENLQdulj0ACsGJBz98gQQ5lD0G2tSpBvk19QG7iIEHagzlBzIGtQD1YYUF+okBBEgQjQb0kjkAelY1A5pE6QZ5ydkCNeBJB3bETQVfS9EAwpBJBpG1HQfWVYEAuf+JApPU7QVYsY0FRrmJBU7M4QaRbYUFmJNZAqhkWQc1xAkFWDbRAWrMUQZDpNUERkSlBBGgkQZtWEkEkmBRBxB4BQcisi0CKtDFBGdb5QOO8SkE/BwVBW+UlQXbq5EAbaA1BlIcvQT/cEEE1wDlBUvmkQH0EF0HNHxZB/+4zQRUXBkErSipBf+AFQeI6HUGnFz5Bq4Q+QaDJBEF03xpBtWBYQdtcIEHq2TNBtKwkQVxzMEFy6A5BU0WtQHSHL0GjjmFBKIEZQVsTpEBfIDpBaiwnQc9nDEHhWzVB+pqiQNV1CEHBaZVAUYOWQCpIMEFKIKBArk4uQfm780AlbvFARrkbQZwhDEEHP9lAP1BHQRE7I0B8ylRBPA0HQdmw1UB8LXJAjEpDQYXPMkGEfANB7MoEQWxDRkG78PtAc/cGQTgDVUEiTNZApRpqQMRrB0EBmKhAgqgyQfWIFkFcI0lBjfQuQSFDG0HU1ypB811DQY6lzkDRbC1BtD1WQbDkyEBElyNBqbvLQIbMQUFUOExBOu8pQRYGZkA+sNFAVgLqQMXmDEFZcHlAMUodQYBlVkFAJb5A1qorQRv1p0AbYdRA0B06QSz/FkE0PUxB2scbQQnLQ0HL979AUp9RQX8FA0H3+6dAJeH5QJUPskCDS0VBh1APQQAfQ0EbCk5BWxpUQVeMVEEZR49ATko6QUT5BEGR5hdB8z+yQNeTG0HgNDZBRIY8QYGMREHufE5BUSnLQO3RWEFFh3FA1dBIQeTbMEEvyBdBtmVEQe013kCTmAxBgaQ+QfvYj0DDlhpBbTbsQACgFkG5waNAqJxRQV95o0D3EQJB8w3ZQIU8I0Efnx9BJjQyQaU6TEEfRaFAsKFRQcdxYkFGwOVAGjEkQda4QUGaYaNA8BkMQYSvDUFTJhFBNOMgQR6FFUFm0k1B39MIQa+A1UCLO0JBfeRNQQhnykCh+WRBw8AxQbcHBkHuhRxBL4wpQcJtFEFEVx1BSfk0QUJbakGgpONA/lg/QadiU0EFtslAXtQlQWO8NkHrFhhBwzsuQcSz4UBE1S5BKqvwQAB5skCZJDdBsYdDQbea9kBJ21tBpb4PQV9j20DZF5hASJmsQCa/7kCQYFBBFzc/QZ/6iEAMUylBX/wSQRf6I0HzmEdBhTJXQbyP2UAbC/VAkoMhQYRuLUEPqk5BnBGIQGlPN0GKYwxBSLGmQG03zEAi0hhB/hEzQaAJOkFVicBA524dQS++JkFWuk5B5/jYQL6f60CFqyFBjeojQTOLJkElyUJBobEgQSgZ7UB+QzBBabNDQZ1xBEGyeDJBjXsBQRL9lUAVHUtBi1T8QK/PM0HKlepAy/LcQGX4R0HVtGBB+dxFQdHS6EBlCytBCq1MQVhUcUC6bC1BheQDQSyqREHy6CJBkIn9QCU6KkFiVydBj70pQQFSpUBXxCdBSG0dQS8XFUF9+TxBZsIhQe8Ux0A24P1ArQCsQAW4O0H+2ipBCM85QfeY5kBzvChBBC1KQcZ0UUHsDjJBs+QtQfi8R0FKIhNBVOI4QUILi0AN/RVBLckfQaOBOEEEcFtBJAoKQUTRHkGROg5BRz5dQLTrJ0F7qI9ACPREQZIwEEHmLFZBHBcoQe4mPUE19kdBlGYVQak0LkH1u61At509QTRRgEAA6hdBlM4MQZMBNkEBUyVBnYYdQcAhqUAjdB9B8kAHQQyjVEFxZRtBid42QcFVtUC9R0xBfLJfQXOaI0H+wJZA3dAVQTqVrUDmCvVAmbMKQXHXTUGyIKtAIZQ+QYpuiEBZtlNBEODYQGDUGkF8J0FBOYSdQIhLNEF99TlBZJkRQQiMNUHyrCNBva7dQOrHG0GmDwZBRv8XQVkgCEGthytBa385QVkhHkFva1BBKvAxQbtt8EA4pB5Bvt0NQe1SXUHdcCtBgCnJQCMP5UAajFJB60QaQYvAHEGK5q1Arq3uQK4MHUHkwDtBKxxjQDHkPkGX7KdA/s8oQRUjmUAm8RpBCysbQevvYUBAolVBn/IwQSAqSUE38SZBz+ZBQXg2JUGqOyBBRdNHQR2TOUFSWR9BVAwgQZcfG0E6TglBIbE6QUwxM0E3KltBeiU2QWfNUEFXhjdBlxE4Qb7pzEC2XTNAIe0cQcpDBEHSOAdBkv38QEnu20DhJ6FAaZXWQGuSU0HSoP1AmpcmQaPK70A/PyRBPEUkQSchVEEybk1BPopQQV70OEE5fClBwiwDQSBHO0F5H0hBjsfEQA6ODEFMwzpBZKzVQJVfI0HklyZBhilOQaYM90CmTOVAu8IwQQUVO0HTRjFB59cKQVuUNEHENEJBbVCiQJq6WUHUej9BKhFQQYVWqECVXNJALrtPQQl/6kDP3RlBZawHQbHlEEEClUFBGXtvQLHdTkE0e4lAYJMMQelqlECbUvxAAvQ2Qf+gQUE0BAJByVkgQUFs8UBTO+ZA9pFKQZjRcEBMBzRBdiwGQXCt4kCyz1hBjv1hQaNIJkHhvCpBGhuoQNs6rUCjVgZBviJMQXwCDEFoWiBBSQ0xQb5jD0ExXbhANvg6QQqOUEF4Vo5APrUTQW6wT0HC3lFBdMQbQVyqTkFcVBxBzTI8QeOcS0HLzStBG9AeQZ7JhUA=\",\"dtype\":\"float32\",\"order\":\"little\",\"shape\":[1001]},\"y\":{\"__ndarray__\":\"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\",\"dtype\":\"float32\",\"order\":\"little\",\"shape\":[1001]}},\"selected\":{\"id\":\"1420\"},\"selection_policy\":{\"id\":\"1419\"}},\"id\":\"1346\",\"type\":\"ColumnDataSource\"},{\"attributes\":{\"formatter\":{\"id\":\"1414\"},\"ticker\":{\"id\":\"1361\"}},\"id\":\"1360\",\"type\":\"LinearAxis\"},{\"attributes\":{},\"id\":\"1350\",\"type\":\"DataRange1d\"},{\"attributes\":{\"overlay\":{\"id\":\"1370\"}},\"id\":\"1366\",\"type\":\"BoxZoomTool\"},{\"attributes\":{\"data_source\":{\"id\":\"1346\"},\"glyph\":{\"id\":\"1379\"},\"hover_glyph\":null,\"muted_glyph\":null,\"nonselection_glyph\":{\"id\":\"1380\"},\"selection_glyph\":null,\"view\":{\"id\":\"1382\"}},\"id\":\"1381\",\"type\":\"GlyphRenderer\"},{\"attributes\":{\"axis\":{\"id\":\"1356\"},\"ticker\":null},\"id\":\"1359\",\"type\":\"Grid\"},{\"attributes\":{\"source\":{\"id\":\"1346\"}},\"id\":\"1382\",\"type\":\"CDSView\"},{\"attributes\":{},\"id\":\"1416\",\"type\":\"BasicTickFormatter\"},{\"attributes\":{},\"id\":\"1368\",\"type\":\"ResetTool\"},{\"attributes\":{},\"id\":\"1348\",\"type\":\"DataRange1d\"}],\"root_ids\":[\"1347\"]},\"title\":\"Bokeh Application\",\"version\":\"2.1.1\"}};\n",
              "  var render_items = [{\"docid\":\"7ca11e86-a481-4c13-9304-62b0d4b009e8\",\"root_ids\":[\"1347\"],\"roots\":{\"1347\":\"bdaca389-8ae5-48c4-acda-e7f3f7471bf1\"}}];\n",
              "  root.Bokeh.embed.embed_items_notebook(docs_json, render_items);\n",
              "\n",
              "  }\n",
              "  if (root.Bokeh !== undefined) {\n",
              "    embed_document(root);\n",
              "  } else {\n",
              "    var attempts = 0;\n",
              "    var timer = setInterval(function(root) {\n",
              "      if (root.Bokeh !== undefined) {\n",
              "        clearInterval(timer);\n",
              "        embed_document(root);\n",
              "      } else {\n",
              "        attempts++;\n",
              "        if (attempts > 100) {\n",
              "          clearInterval(timer);\n",
              "          console.log(\"Bokeh: ERROR: Unable to run BokehJS code because BokehJS library is missing\");\n",
              "        }\n",
              "      }\n",
              "    }, 10, root)\n",
              "  }\n",
              "})(window);"
            ],
            "application/vnd.bokehjs_exec.v0+json": ""
          },
          "metadata": {
            "tags": [],
            "application/vnd.bokehjs_exec.v0+json": {
              "id": "1347"
            }
          }
        },
        {
          "output_type": "execute_result",
          "data": {
            "text/html": [
              "<div style=\"display: table;\"><div style=\"display: table-row;\"><div style=\"display: table-cell;\"><b title=\"bokeh.plotting.figure.Figure\">Figure</b>(</div><div style=\"display: table-cell;\">id&nbsp;=&nbsp;'1347', <span id=\"1476\" style=\"cursor: pointer;\">&hellip;)</span></div></div><div class=\"1475\" style=\"display: none;\"><div style=\"display: table-cell;\"></div><div style=\"display: table-cell;\">above&nbsp;=&nbsp;[],</div></div><div class=\"1475\" style=\"display: none;\"><div style=\"display: table-cell;\"></div><div style=\"display: table-cell;\">align&nbsp;=&nbsp;'start',</div></div><div class=\"1475\" style=\"display: none;\"><div style=\"display: table-cell;\"></div><div style=\"display: table-cell;\">aspect_ratio&nbsp;=&nbsp;None,</div></div><div class=\"1475\" style=\"display: none;\"><div style=\"display: table-cell;\"></div><div style=\"display: table-cell;\">aspect_scale&nbsp;=&nbsp;1,</div></div><div class=\"1475\" style=\"display: none;\"><div style=\"display: table-cell;\"></div><div style=\"display: table-cell;\">background&nbsp;=&nbsp;None,</div></div><div class=\"1475\" style=\"display: none;\"><div style=\"display: table-cell;\"></div><div style=\"display: table-cell;\">background_fill_alpha&nbsp;=&nbsp;1.0,</div></div><div class=\"1475\" style=\"display: none;\"><div style=\"display: table-cell;\"></div><div style=\"display: table-cell;\">background_fill_color&nbsp;=&nbsp;'#ffffff',</div></div><div class=\"1475\" style=\"display: none;\"><div style=\"display: table-cell;\"></div><div style=\"display: table-cell;\">below&nbsp;=&nbsp;[LinearAxis(id='1356', ...)],</div></div><div class=\"1475\" style=\"display: none;\"><div style=\"display: table-cell;\"></div><div style=\"display: table-cell;\">border_fill_alpha&nbsp;=&nbsp;1.0,</div></div><div class=\"1475\" style=\"display: none;\"><div style=\"display: table-cell;\"></div><div style=\"display: table-cell;\">border_fill_color&nbsp;=&nbsp;'#ffffff',</div></div><div class=\"1475\" style=\"display: none;\"><div style=\"display: table-cell;\"></div><div style=\"display: table-cell;\">center&nbsp;=&nbsp;[Grid(id='1359', ...), Grid(id='1363', ...)],</div></div><div class=\"1475\" style=\"display: none;\"><div style=\"display: table-cell;\"></div><div style=\"display: table-cell;\">css_classes&nbsp;=&nbsp;[],</div></div><div class=\"1475\" style=\"display: none;\"><div style=\"display: table-cell;\"></div><div style=\"display: table-cell;\">disabled&nbsp;=&nbsp;False,</div></div><div class=\"1475\" style=\"display: none;\"><div style=\"display: table-cell;\"></div><div style=\"display: table-cell;\">extra_x_ranges&nbsp;=&nbsp;{},</div></div><div class=\"1475\" style=\"display: none;\"><div style=\"display: table-cell;\"></div><div style=\"display: table-cell;\">extra_y_ranges&nbsp;=&nbsp;{},</div></div><div class=\"1475\" style=\"display: none;\"><div style=\"display: table-cell;\"></div><div style=\"display: table-cell;\">frame_height&nbsp;=&nbsp;None,</div></div><div class=\"1475\" style=\"display: none;\"><div style=\"display: table-cell;\"></div><div style=\"display: table-cell;\">frame_width&nbsp;=&nbsp;None,</div></div><div class=\"1475\" style=\"display: none;\"><div style=\"display: table-cell;\"></div><div style=\"display: table-cell;\">height&nbsp;=&nbsp;None,</div></div><div class=\"1475\" style=\"display: none;\"><div style=\"display: table-cell;\"></div><div style=\"display: table-cell;\">height_policy&nbsp;=&nbsp;'auto',</div></div><div class=\"1475\" style=\"display: none;\"><div style=\"display: table-cell;\"></div><div style=\"display: table-cell;\">hidpi&nbsp;=&nbsp;True,</div></div><div class=\"1475\" style=\"display: none;\"><div style=\"display: table-cell;\"></div><div style=\"display: table-cell;\">js_event_callbacks&nbsp;=&nbsp;{},</div></div><div class=\"1475\" style=\"display: none;\"><div style=\"display: table-cell;\"></div><div style=\"display: table-cell;\">js_property_callbacks&nbsp;=&nbsp;{},</div></div><div class=\"1475\" style=\"display: none;\"><div style=\"display: table-cell;\"></div><div style=\"display: table-cell;\">left&nbsp;=&nbsp;[LinearAxis(id='1360', ...)],</div></div><div class=\"1475\" style=\"display: none;\"><div style=\"display: table-cell;\"></div><div style=\"display: table-cell;\">lod_factor&nbsp;=&nbsp;10,</div></div><div class=\"1475\" style=\"display: none;\"><div style=\"display: table-cell;\"></div><div style=\"display: table-cell;\">lod_interval&nbsp;=&nbsp;300,</div></div><div class=\"1475\" style=\"display: none;\"><div style=\"display: table-cell;\"></div><div style=\"display: table-cell;\">lod_threshold&nbsp;=&nbsp;2000,</div></div><div class=\"1475\" style=\"display: none;\"><div style=\"display: table-cell;\"></div><div style=\"display: table-cell;\">lod_timeout&nbsp;=&nbsp;500,</div></div><div class=\"1475\" style=\"display: none;\"><div style=\"display: table-cell;\"></div><div style=\"display: table-cell;\">margin&nbsp;=&nbsp;(0, 0, 0, 0),</div></div><div class=\"1475\" style=\"display: none;\"><div style=\"display: table-cell;\"></div><div style=\"display: table-cell;\">match_aspect&nbsp;=&nbsp;False,</div></div><div class=\"1475\" style=\"display: none;\"><div style=\"display: table-cell;\"></div><div style=\"display: table-cell;\">max_height&nbsp;=&nbsp;None,</div></div><div class=\"1475\" style=\"display: none;\"><div style=\"display: table-cell;\"></div><div style=\"display: table-cell;\">max_width&nbsp;=&nbsp;None,</div></div><div class=\"1475\" style=\"display: none;\"><div style=\"display: table-cell;\"></div><div style=\"display: table-cell;\">min_border&nbsp;=&nbsp;5,</div></div><div class=\"1475\" style=\"display: none;\"><div style=\"display: table-cell;\"></div><div style=\"display: table-cell;\">min_border_bottom&nbsp;=&nbsp;None,</div></div><div class=\"1475\" style=\"display: none;\"><div style=\"display: table-cell;\"></div><div style=\"display: table-cell;\">min_border_left&nbsp;=&nbsp;None,</div></div><div class=\"1475\" style=\"display: none;\"><div style=\"display: table-cell;\"></div><div style=\"display: table-cell;\">min_border_right&nbsp;=&nbsp;None,</div></div><div class=\"1475\" style=\"display: none;\"><div style=\"display: table-cell;\"></div><div style=\"display: table-cell;\">min_border_top&nbsp;=&nbsp;None,</div></div><div class=\"1475\" style=\"display: none;\"><div style=\"display: table-cell;\"></div><div style=\"display: table-cell;\">min_height&nbsp;=&nbsp;None,</div></div><div class=\"1475\" style=\"display: none;\"><div style=\"display: table-cell;\"></div><div style=\"display: table-cell;\">min_width&nbsp;=&nbsp;None,</div></div><div class=\"1475\" style=\"display: none;\"><div style=\"display: table-cell;\"></div><div style=\"display: table-cell;\">name&nbsp;=&nbsp;None,</div></div><div class=\"1475\" style=\"display: none;\"><div style=\"display: table-cell;\"></div><div style=\"display: table-cell;\">outline_line_alpha&nbsp;=&nbsp;1.0,</div></div><div class=\"1475\" style=\"display: none;\"><div style=\"display: table-cell;\"></div><div style=\"display: table-cell;\">outline_line_cap&nbsp;=&nbsp;'butt',</div></div><div class=\"1475\" style=\"display: none;\"><div style=\"display: table-cell;\"></div><div style=\"display: table-cell;\">outline_line_color&nbsp;=&nbsp;'#e5e5e5',</div></div><div class=\"1475\" style=\"display: none;\"><div style=\"display: table-cell;\"></div><div style=\"display: table-cell;\">outline_line_dash&nbsp;=&nbsp;[],</div></div><div class=\"1475\" style=\"display: none;\"><div style=\"display: table-cell;\"></div><div style=\"display: table-cell;\">outline_line_dash_offset&nbsp;=&nbsp;0,</div></div><div class=\"1475\" style=\"display: none;\"><div style=\"display: table-cell;\"></div><div style=\"display: table-cell;\">outline_line_join&nbsp;=&nbsp;'bevel',</div></div><div class=\"1475\" style=\"display: none;\"><div style=\"display: table-cell;\"></div><div style=\"display: table-cell;\">outline_line_width&nbsp;=&nbsp;1,</div></div><div class=\"1475\" style=\"display: none;\"><div style=\"display: table-cell;\"></div><div style=\"display: table-cell;\">output_backend&nbsp;=&nbsp;'canvas',</div></div><div class=\"1475\" style=\"display: none;\"><div style=\"display: table-cell;\"></div><div style=\"display: table-cell;\">plot_height&nbsp;=&nbsp;400,</div></div><div class=\"1475\" style=\"display: none;\"><div style=\"display: table-cell;\"></div><div style=\"display: table-cell;\">plot_width&nbsp;=&nbsp;600,</div></div><div class=\"1475\" style=\"display: none;\"><div style=\"display: table-cell;\"></div><div style=\"display: table-cell;\">renderers&nbsp;=&nbsp;[GlyphRenderer(id='1381', ...)],</div></div><div class=\"1475\" style=\"display: none;\"><div style=\"display: table-cell;\"></div><div style=\"display: table-cell;\">reset_policy&nbsp;=&nbsp;'standard',</div></div><div class=\"1475\" style=\"display: none;\"><div style=\"display: table-cell;\"></div><div style=\"display: table-cell;\">right&nbsp;=&nbsp;[],</div></div><div class=\"1475\" style=\"display: none;\"><div style=\"display: table-cell;\"></div><div style=\"display: table-cell;\">sizing_mode&nbsp;=&nbsp;None,</div></div><div class=\"1475\" style=\"display: none;\"><div style=\"display: table-cell;\"></div><div style=\"display: table-cell;\">subscribed_events&nbsp;=&nbsp;[],</div></div><div class=\"1475\" style=\"display: none;\"><div style=\"display: table-cell;\"></div><div style=\"display: table-cell;\">tags&nbsp;=&nbsp;[],</div></div><div class=\"1475\" style=\"display: none;\"><div style=\"display: table-cell;\"></div><div style=\"display: table-cell;\">title&nbsp;=&nbsp;Title(id='1413', ...),</div></div><div class=\"1475\" style=\"display: none;\"><div style=\"display: table-cell;\"></div><div style=\"display: table-cell;\">title_location&nbsp;=&nbsp;'above',</div></div><div class=\"1475\" style=\"display: none;\"><div style=\"display: table-cell;\"></div><div style=\"display: table-cell;\">toolbar&nbsp;=&nbsp;Toolbar(id='1371', ...),</div></div><div class=\"1475\" style=\"display: none;\"><div style=\"display: table-cell;\"></div><div style=\"display: table-cell;\">toolbar_location&nbsp;=&nbsp;'right',</div></div><div class=\"1475\" style=\"display: none;\"><div style=\"display: table-cell;\"></div><div style=\"display: table-cell;\">toolbar_sticky&nbsp;=&nbsp;True,</div></div><div class=\"1475\" style=\"display: none;\"><div style=\"display: table-cell;\"></div><div style=\"display: table-cell;\">visible&nbsp;=&nbsp;True,</div></div><div class=\"1475\" style=\"display: none;\"><div style=\"display: table-cell;\"></div><div style=\"display: table-cell;\">width&nbsp;=&nbsp;None,</div></div><div class=\"1475\" style=\"display: none;\"><div style=\"display: table-cell;\"></div><div style=\"display: table-cell;\">width_policy&nbsp;=&nbsp;'auto',</div></div><div class=\"1475\" style=\"display: none;\"><div style=\"display: table-cell;\"></div><div style=\"display: table-cell;\">x_range&nbsp;=&nbsp;DataRange1d(id='1348', ...),</div></div><div class=\"1475\" style=\"display: none;\"><div style=\"display: table-cell;\"></div><div style=\"display: table-cell;\">x_scale&nbsp;=&nbsp;LinearScale(id='1352', ...),</div></div><div class=\"1475\" style=\"display: none;\"><div style=\"display: table-cell;\"></div><div style=\"display: table-cell;\">y_range&nbsp;=&nbsp;DataRange1d(id='1350', ...),</div></div><div class=\"1475\" style=\"display: none;\"><div style=\"display: table-cell;\"></div><div style=\"display: table-cell;\">y_scale&nbsp;=&nbsp;LinearScale(id='1354', ...))</div></div></div>\n",
              "<script>\n",
              "(function() {\n",
              "  var expanded = false;\n",
              "  var ellipsis = document.getElementById(\"1476\");\n",
              "  ellipsis.addEventListener(\"click\", function() {\n",
              "    var rows = document.getElementsByClassName(\"1475\");\n",
              "    for (var i = 0; i < rows.length; i++) {\n",
              "      var el = rows[i];\n",
              "      el.style.display = expanded ? \"none\" : \"table-row\";\n",
              "    }\n",
              "    ellipsis.innerHTML = expanded ? \"&hellip;)\" : \"&lsaquo;&lsaquo;&lsaquo;\";\n",
              "    expanded = !expanded;\n",
              "  });\n",
              "})();\n",
              "</script>\n"
            ],
            "text/plain": [
              "Figure(id='1347', ...)"
            ]
          },
          "metadata": {
            "tags": []
          },
          "execution_count": 42
        }
      ]
    },
    {
      "cell_type": "code",
      "metadata": {
        "id": "6RgoAtm84lC5",
        "colab": {
          "base_uri": "https://localhost:8080/",
          "height": 610
        },
        "outputId": "9651223e-b71f-4169-acaf-2858071c6ba0"
      },
      "source": [
        "plt.figure(figsize=(12, 10))\n",
        "plt.scatter(phrase_vectors_2d[:,0], phrase_vectors_2d[:, 1],\n",
        "            c=labels.astype(float))"
      ],
      "execution_count": 43,
      "outputs": [
        {
          "output_type": "execute_result",
          "data": {
            "text/plain": [
              "<matplotlib.collections.PathCollection at 0x7f7a0b83e710>"
            ]
          },
          "metadata": {
            "tags": []
          },
          "execution_count": 43
        },
        {
          "output_type": "display_data",
          "data": {
            "image/png": "[encoded data removed]",
            "text/plain": [
              "<Figure size 864x720 with 1 Axes>"
            ]
          },
          "metadata": {
            "tags": [],
            "needs_background": "light"
          }
        }
      ]
    },
    {
      "cell_type": "markdown",
      "metadata": {
        "collapsed": true,
        "id": "REX4b-RF4lC6"
      },
      "source": [
        "__What's next?__\n",
        "* Try running TSNE instead of UMAP (it takes a long time).\n",
        "* Try running UMAP or TSNE on all data, not just 1000 phrases.\n",
        "* See what other embeddings are there in the model zoo: `gensim.downloader.info()`.\n",
        "* Take a look at [FastText](https://github.com/facebookresearch/fastText) embeddings.\n",
        "* Optimize `find_nearest` with locality-sensitive hashing: use [nearpy](https://github.com/pixelogik/NearPy) or `sklearn.neighbors`.\n",
        "\n",
        "\n"
      ]
    },
    {
      "cell_type": "markdown",
      "metadata": {
        "id": "FrqJ-9eF4lC6"
      },
      "source": [
        "## Extra: your own word2vec"
      ]
    },
    {
      "cell_type": "code",
      "metadata": {
        "id": "iys9MWF04lC7"
      },
      "source": [
        "import torch\n",
        "import torch.nn as  nn\n",
        "import torch.autograd  as autograd\n",
        "import torch.optim as optim\n",
        "import torch.nn.functional as F\n",
        "from torch.optim.lr_scheduler import StepLR, ReduceLROnPlateau"
      ],
      "execution_count": null,
      "outputs": []
    },
    {
      "cell_type": "code",
      "metadata": {
        "id": "hmuZ0ciF4lC8"
      },
      "source": [
        "vocabulary = set(itertools.chain.from_iterable(data_tok))\n",
        "\n",
        "word_to_index = # YOUR CODE HERE\n",
        "index_to_word = # YOUR CODE HERE\n",
        "word_counter = {word: 0 for word in word_to_index.keys()}"
      ],
      "execution_count": null,
      "outputs": []
    },
    {
      "cell_type": "markdown",
      "metadata": {
        "id": "Nzu8T2gl4lC8"
      },
      "source": [
        "Generating context pairs:"
      ]
    },
    {
      "cell_type": "code",
      "metadata": {
        "id": "4haTIj834lC8"
      },
      "source": [
        "context_tuple_list = []\n",
        "w = 4\n",
        "\n",
        "for text in data_tok:\n",
        "    for i, word in enumerate(text):\n",
        "        first_context_word_index = max(0, i - w)\n",
        "        last_context_word_index = min(i + w, len(text))\n",
        "        for j in range(first_context_word_index, last_context_word_index):\n",
        "            if i != j:\n",
        "                context_tuple_list.append((word_to_index[word],\n",
        "                                           word_to_index[text[j]]))\n",
        "                word_counter[word] += 1.\n",
        "\n",
        "print(\"There are {} pairs of target and context words.\".format(\n",
        "    len(context_tuple_list)\n",
        "))"
      ],
      "execution_count": null,
      "outputs": []
    },
    {
      "cell_type": "markdown",
      "metadata": {
        "id": "oKvFbapt4lC8"
      },
      "source": [
        "Casting everything to `torch.LongTensor`."
      ]
    },
    {
      "cell_type": "code",
      "metadata": {
        "id": "dCn0RKiO4lC9"
      },
      "source": [
        "data_torch = torch.tensor(context_tuple_list).type(torch.LongTensor)\n",
        "X_torch = data_torch[:, 0]\n",
        "y_torch = data_torch[:, 1]\n",
        "del data_torch"
      ],
      "execution_count": null,
      "outputs": []
    },
    {
      "cell_type": "code",
      "metadata": {
        "id": "nkNL5ct04lC9"
      },
      "source": [
        "class Word2VecModel(nn.Module):\n",
        "    def __init__(self, embedding_size, vocab_size):\n",
        "        super(Word2VecModel, self).__init__()\n",
        "        # YOUR CODE HERE\n",
        "\n",
        "    def forward(self, context_word):\n",
        "        # YOUR CODE HERE"
      ],
      "execution_count": null,
      "outputs": []
    },
    {
      "cell_type": "code",
      "metadata": {
        "id": "Jrn4DQcS4lC9"
      },
      "source": [
        "device = torch.device('cuda:0' if torch.cuda.is_available() else 'cpu')\r\n",
        "print(device)"
      ],
      "execution_count": null,
      "outputs": []
    },
    {
      "cell_type": "code",
      "metadata": {
        "id": "v0mdB6y74lC-"
      },
      "source": [
        "model = Word2VecModel(25, len(word_to_index)).to(device)"
      ],
      "execution_count": null,
      "outputs": []
    },
    {
      "cell_type": "code",
      "metadata": {
        "id": "8b9Awyl24lC_"
      },
      "source": [
        "loss_func = nn.CrossEntropyLoss()\n",
        "opt = torch.optim.Adam(model.parameters(), lr=0.01)\n",
        "# To reduce learning rate on plateau of the loss functions:\n",
        "lr_scheduler = ReduceLROnPlateau(opt, patience=35)"
      ],
      "execution_count": null,
      "outputs": []
    },
    {
      "cell_type": "code",
      "metadata": {
        "id": "WiQDI1E_4lC_"
      },
      "source": [
        "loss_func(model(X_torch[:5].to(device)), y_torch[:5].to(device))"
      ],
      "execution_count": null,
      "outputs": []
    },
    {
      "cell_type": "code",
      "metadata": {
        "id": "Uf2fTN-g4lC_"
      },
      "source": [
        "batch_size = 1024\n",
        "n_iterations = 1000\n",
        "local_train_loss_history = []"
      ],
      "execution_count": null,
      "outputs": []
    },
    {
      "cell_type": "code",
      "metadata": {
        "id": "JOrwrYjz4lC_"
      },
      "source": [
        "def plot_train_process(train_loss):\n",
        "    fig, axes = plt.subplots(1, 1, figsize=(15, 5))\n",
        "\n",
        "    axes.set_title('Loss')\n",
        "    axes.plot(train_loss, label='train')\n",
        "    axes.legend()\n",
        "    plt.show()"
      ],
      "execution_count": null,
      "outputs": []
    },
    {
      "cell_type": "code",
      "metadata": {
        "id": "HahK7zWq4lC_"
      },
      "source": [
        "for i in range(n_iterations):\n",
        "    ix = np.random.randint(0, len(context_tuple_list), batch_size)\n",
        "    x_batch = X_torch[ix].to(device)\n",
        "    y_batch = y_torch[ix].to(device)\n",
        "\n",
        "    # predict log-probabilities or logits\n",
        "    ### YOUR CODE\n",
        "\n",
        "    # compute loss, just like before\n",
        "    ### YOUR CODE\n",
        "\n",
        "    # compute gradients\n",
        "    ### YOUR CODE\n",
        "\n",
        "    # Adam step\n",
        "    ### YOUR CODE\n",
        "\n",
        "    # clear gradients\n",
        "    ### YOUR CODE\n",
        "\n",
        "    local_train_loss_history.append(loss.item())\n",
        "    lr_scheduler.step(local_train_loss_history[-1])\n",
        "\n",
        "    if i % 100 == 0:\n",
        "        clear_output(True)\n",
        "        plot_train_process(local_train_loss_history)"
      ],
      "execution_count": null,
      "outputs": []
    },
    {
      "cell_type": "code",
      "metadata": {
        "id": "VwVn5t054lDA"
      },
      "source": [
        "matrix = next(model.embeddings.parameters()).detach().cpu()"
      ],
      "execution_count": null,
      "outputs": []
    },
    {
      "cell_type": "code",
      "metadata": {
        "id": "j71QdH4-4lDA"
      },
      "source": [
        "def get_closest(word, top_n):\n",
        "    global matrix, word_to_index, index_to_word\n",
        "    y = matrix[word_to_index[word]][None, :]\n",
        "\n",
        "    dist = F.cosine_similarity(matrix,y)\n",
        "    index_sorted = torch.argsort(dist)\n",
        "    top_n = index_sorted[-top_n:]\n",
        "    return [index_to_word[x] for x in top_n.numpy()]"
      ],
      "execution_count": null,
      "outputs": []
    },
    {
      "cell_type": "code",
      "metadata": {
        "id": "Z_f7j-b84lDB"
      },
      "source": [
        "get_closest('apple', 5)"
      ],
      "execution_count": null,
      "outputs": []
    },
    {
      "cell_type": "markdown",
      "metadata": {
        "id": "rbT0CWWW4lDB"
      },
      "source": [
        "It might look not so promising. Remember about the upgrades to word2vec: subsampling and negative sampling."
      ]
    }
  ]
}