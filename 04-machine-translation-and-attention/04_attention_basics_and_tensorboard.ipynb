{
  "nbformat": 4,
  "nbformat_minor": 0,
  "metadata": {
    "anaconda-cloud": {},
    "kernelspec": {
      "name": "python3",
      "display_name": "Python 3"
    },
    "colab": {
      "name": "nlp04_extra_attention_basics_and_tensorboard.ipynb",
      "provenance": [],
      "collapsed_sections": []
    },
    "language_info": {
      "name": "python"
    }
  },
  "cells": [
    {
      "cell_type": "markdown",
      "metadata": {
        "id": "a_S6Wtq12Ue_"
      },
      "source": [
        "# Practice: Attention Basics\n",
        "Original notebook is provided by Udacity at [github](https://github.com/udacity/deep-learning-v2-pytorch/blob/master/attention/Attention_Basics.ipynb).\n",
        "\n",
        "In this notebook, we look at how attention is implemented. We will focus on implementing attention in isolation from a larger model. That's because when implementing attention in a real-world model, a lot of the focus goes into piping the data and juggling the various vectors rather than the concepts of attention themselves.\n",
        "\n",
        "We will implement attention scoring as well as calculating an attention context vector."
      ]
    },
    {
      "cell_type": "markdown",
      "metadata": {
        "id": "7cGyeKtOfkLj"
      },
      "source": [
        "## Attention Scoring"
      ]
    },
    {
      "cell_type": "markdown",
      "metadata": {
        "id": "-UCvNt9tgWPi"
      },
      "source": [
        "### Inputs to the scoring function\n",
        "Let's start by looking at the inputs we'll give to the scoring function. We will assume we're in the first step in the decoding phase. The first input to the scoring function is the hidden state of decoder (assuming a toy RNN with three hidden nodes — not usable in real life, but easier to illustrate):"
      ]
    },
    {
      "cell_type": "code",
      "metadata": {
        "id": "-_JlwZ-H2UfJ"
      },
      "source": [
        "import matplotlib.pyplot as plt\n",
        "%matplotlib inline\n",
        "import numpy as np\n",
        "import seaborn as sns"
      ],
      "execution_count": 1,
      "outputs": []
    },
    {
      "cell_type": "code",
      "metadata": {
        "id": "iI5dXHIR2UfH"
      },
      "source": [
        "dec_hidden_state = np.transpose(np.matrix([5, 1, 20]))"
      ],
      "execution_count": 2,
      "outputs": []
    },
    {
      "cell_type": "markdown",
      "metadata": {
        "id": "mTBQJEWL2UfI"
      },
      "source": [
        "Let's visualize this vector:"
      ]
    },
    {
      "cell_type": "code",
      "metadata": {
        "colab": {
          "base_uri": "https://localhost:8080/",
          "height": 297
        },
        "id": "aqDOBLIgZDqD",
        "outputId": "3dd48753-e37b-40dd-b768-0a36fc583f96"
      },
      "source": [
        "# Let's visualize our decoder hidden state:\n",
        "plt.figure(figsize=(1.5, 4.5))\n",
        "sns.heatmap(\n",
        "    dec_hidden_state,\n",
        "    annot=True,\n",
        "    cmap=sns.light_palette(\"purple\", as_cmap=True),\n",
        "    linewidths=1\n",
        ");"
      ],
      "execution_count": 3,
      "outputs": [
        {
          "output_type": "display_data",
          "data": {
            "image/png": "[encoded data removed]",
            "text/plain": [
              "<Figure size 108x324 with 2 Axes>"
            ]
          },
          "metadata": {
            "tags": [],
            "needs_background": "light"
          }
        }
      ]
    },
    {
      "cell_type": "markdown",
      "metadata": {
        "id": "cSPiJgiF2UfJ"
      },
      "source": [
        "Our first scoring function will score a single annotation (encoder hidden state), which looks like this:"
      ]
    },
    {
      "cell_type": "code",
      "metadata": {
        "id": "o0gRwmls2UfJ"
      },
      "source": [
        "annotation = np.transpose(np.matrix([3, 12, 45]))  # e.g. encoder hidden state"
      ],
      "execution_count": 4,
      "outputs": []
    },
    {
      "cell_type": "code",
      "metadata": {
        "id": "ZiMWlY2r2UfK",
        "colab": {
          "base_uri": "https://localhost:8080/",
          "height": 297
        },
        "outputId": "09388241-7935-47dd-f665-05da0a7a78d2"
      },
      "source": [
        "# Let's visualize the single annotation:\n",
        "plt.figure(figsize=(1.5, 4.5))\n",
        "sns.heatmap(\n",
        "    annotation,\n",
        "    annot=True,\n",
        "    cmap=sns.light_palette(\"orange\", as_cmap=True),\n",
        "    linewidths=1\n",
        ");"
      ],
      "execution_count": 5,
      "outputs": [
        {
          "output_type": "display_data",
          "data": {
            "image/png": "[encoded data removed]",
            "text/plain": [
              "<Figure size 108x324 with 2 Axes>"
            ]
          },
          "metadata": {
            "tags": [],
            "needs_background": "light"
          }
        }
      ]
    },
    {
      "cell_type": "markdown",
      "metadata": {
        "id": "St5gq5WW2UfK"
      },
      "source": [
        "### IMPLEMENT: Scoring a Single Annotation\n",
        "\n",
        "Let's calculate the dot product of a single annotation. NumPy's [dot()](https://docs.scipy.org/doc/numpy/reference/generated/numpy.dot.html) is a good candidate for this operation."
      ]
    },
    {
      "cell_type": "code",
      "metadata": {
        "id": "OYcjCK852UfK",
        "colab": {
          "base_uri": "https://localhost:8080/"
        },
        "outputId": "e7e301ad-ed8d-4bbc-bc7f-6ac5289e5260"
      },
      "source": [
        "def single_dot_attention_score(dec_hidden_state, enc_hidden_state):\n",
        "    # Return the dot product of the two vectors:\n",
        "    return np.dot(dec_hidden_state.T, enc_hidden_state)\n",
        "\n",
        "single_dot_attention_score(dec_hidden_state, annotation)"
      ],
      "execution_count": 6,
      "outputs": [
        {
          "output_type": "execute_result",
          "data": {
            "text/plain": [
              "matrix([[927]])"
            ]
          },
          "metadata": {
            "tags": []
          },
          "execution_count": 6
        }
      ]
    },
    {
      "cell_type": "markdown",
      "metadata": {
        "id": "xbNsHkJt2UfL"
      },
      "source": [
        "### Annotations Matrix\n",
        "\n",
        "Let's now look at scoring all the annotations at once. To do that, here's our annotation matrix:"
      ]
    },
    {
      "cell_type": "code",
      "metadata": {
        "id": "bY9zRQY02UfL"
      },
      "source": [
        "annotations = np.transpose([[3, 12, 45],\n",
        "                            [59, 2, 5],\n",
        "                            [1, 43, 5],\n",
        "                            [4, 3, 45.3]])"
      ],
      "execution_count": 7,
      "outputs": []
    },
    {
      "cell_type": "markdown",
      "metadata": {
        "id": "lgdZTMqY2UfL"
      },
      "source": [
        "And it can be visualized like this (each column is a hidden state of an encoder time step):"
      ]
    },
    {
      "cell_type": "code",
      "metadata": {
        "id": "T6QbJqcK2UfM",
        "colab": {
          "base_uri": "https://localhost:8080/",
          "height": 265
        },
        "outputId": "83350400-f2da-42c7-e41c-7c249d68cdf1"
      },
      "source": [
        "# Let's visualize our annotations (each column is an annotation):\n",
        "ax = sns.heatmap(\n",
        "    annotations,\n",
        "    annot=True,\n",
        "    cmap=sns.light_palette(\"orange\", as_cmap=True),\n",
        "    linewidths=1\n",
        ");"
      ],
      "execution_count": 8,
      "outputs": [
        {
          "output_type": "display_data",
          "data": {
            "image/png": "[encoded data removed]",
            "text/plain": [
              "<Figure size 432x288 with 2 Axes>"
            ]
          },
          "metadata": {
            "tags": [],
            "needs_background": "light"
          }
        }
      ]
    },
    {
      "cell_type": "markdown",
      "metadata": {
        "id": "_artZ2TO2UfM"
      },
      "source": [
        "### IMPLEMENT: Scoring All Annotations at Once\n",
        "\n",
        "Let's calculate the scores of all the annotations in one step using matrix multiplication. Let's continue to use the dot scoring method.\n",
        "\n",
        "<img src=\"https://github.com/neychev/made_nlp_course/blob/master/week05_machine_translation/img/scoring_functions.png?raw=1\" />\n",
        "\n",
        "To do that, we'll have to transpose `dec_hidden_state` and [matrix multiply](https://docs.scipy.org/doc/numpy/reference/generated/numpy.matmul.html) it with `annotations`."
      ]
    },
    {
      "cell_type": "code",
      "metadata": {
        "id": "xvONIxPQ2UfM",
        "colab": {
          "base_uri": "https://localhost:8080/"
        },
        "outputId": "335b16c0-602b-43a3-8c0a-ecf11218e058"
      },
      "source": [
        "def dot_attention_score(dec_hidden_state, annotations):\n",
        "    # Return the product of dec_hidden_state transposed and enc_hidden_states:\n",
        "    return np.dot(dec_hidden_state.T, annotations)\n",
        "\n",
        "attention_weights_raw = dot_attention_score(dec_hidden_state, annotations)\n",
        "attention_weights_raw"
      ],
      "execution_count": 9,
      "outputs": [
        {
          "output_type": "execute_result",
          "data": {
            "text/plain": [
              "matrix([[927., 397., 148., 929.]])"
            ]
          },
          "metadata": {
            "tags": []
          },
          "execution_count": 9
        }
      ]
    },
    {
      "cell_type": "markdown",
      "metadata": {
        "id": "PSL8bqwta7Ui"
      },
      "source": [
        "Looking at these scores, can you guess which of the four vectors will get the most attention from the decoder at this time step?"
      ]
    },
    {
      "cell_type": "markdown",
      "metadata": {
        "id": "vxLyauqp2UfN"
      },
      "source": [
        "### Softmax\n",
        "\n",
        "Now that we have our scores, let's apply softmax:\n",
        "\n",
        "<img src=\"https://github.com/neychev/made_nlp_course/blob/master/week05_machine_translation/img/softmax.png?raw=1\" />"
      ]
    },
    {
      "cell_type": "code",
      "metadata": {
        "id": "mn43BQTF2UfN",
        "colab": {
          "base_uri": "https://localhost:8080/"
        },
        "outputId": "cc35f581-7073-4f2c-f4ff-a514a98aee7d"
      },
      "source": [
        "def softmax(x):\n",
        "    x = np.array(x, dtype=np.float128)\n",
        "    x -= x.min()  # for numerical stability\n",
        "    e_x = np.exp(x)\n",
        "    return e_x / e_x.sum(axis=1)\n",
        "\n",
        "attention_weights = softmax(attention_weights_raw)\n",
        "attention_weights"
      ],
      "execution_count": 10,
      "outputs": [
        {
          "output_type": "execute_result",
          "data": {
            "text/plain": [
              "array([[1.19202922e-001, 7.94715151e-232, 5.76614420e-340,\n",
              "        8.80797078e-001]], dtype=float128)"
            ]
          },
          "metadata": {
            "tags": []
          },
          "execution_count": 10
        }
      ]
    },
    {
      "cell_type": "markdown",
      "metadata": {
        "id": "DvZ5_u1MdOmw"
      },
      "source": [
        "Even when knowing which annotation will get the most focus, it's interesting to see how drastic softmax makes the end score become. The first and last annotation had the respective scores of 927 and 929. But after softmax, the attention they'll get is 0.12 and 0.88 respectively."
      ]
    },
    {
      "cell_type": "markdown",
      "metadata": {
        "id": "kkQaLCgc2UfO"
      },
      "source": [
        "### Applying the scores back on the annotations\n",
        "\n",
        "Now that we have our scores, let's multiply each annotation by its score to proceed closer to the attention context vector. This is the multiplication part of this formula (we'll tackle the summation part in the latter cells).\n",
        "\n",
        "<img src=\"https://github.com/neychev/made_nlp_course/blob/master/week05_machine_translation/img/Context_vector.png?raw=1\" />"
      ]
    },
    {
      "cell_type": "code",
      "metadata": {
        "id": "_TXxJZ1J2UfP"
      },
      "source": [
        "def apply_attention_scores(attention_weights, annotations):\n",
        "    # Multiple the annotations by their weights:\n",
        "    return np.multiply(annotations, attention_weights)"
      ],
      "execution_count": 11,
      "outputs": []
    },
    {
      "cell_type": "code",
      "metadata": {
        "colab": {
          "base_uri": "https://localhost:8080/"
        },
        "id": "lEbO2LUu2P7K",
        "outputId": "bdce10cb-515c-4dda-b1ce-910f9b2c5ccc"
      },
      "source": [
        "applied_attention = apply_attention_scores(attention_weights, annotations)\n",
        "applied_attention"
      ],
      "execution_count": 12,
      "outputs": [
        {
          "output_type": "execute_result",
          "data": {
            "text/plain": [
              "array([[3.57608766e-001, 4.68881939e-230, 5.76614420e-340,\n",
              "        3.52318831e+000],\n",
              "       [1.43043506e+000, 1.58943030e-231, 2.47944200e-338,\n",
              "        2.64239123e+000],\n",
              "       [5.36413149e+000, 3.97357575e-231, 2.88307210e-339,\n",
              "        3.99001076e+001]], dtype=float128)"
            ]
          },
          "metadata": {
            "tags": []
          },
          "execution_count": 12
        }
      ]
    },
    {
      "cell_type": "markdown",
      "metadata": {
        "id": "SJPJRjv82UfP"
      },
      "source": [
        "Let's visualize how the context vector looks now that we've applied the attention scores back on it:"
      ]
    },
    {
      "cell_type": "code",
      "metadata": {
        "id": "Gt8sXXu12UfP",
        "colab": {
          "base_uri": "https://localhost:8080/",
          "height": 265
        },
        "outputId": "4604466a-9899-42e5-e075-344b5989acc4"
      },
      "source": [
        "# Let's visualize our annotations after applying attention to them:\n",
        "ax = sns.heatmap(\n",
        "    applied_attention,\n",
        "    annot=True,\n",
        "    cmap=sns.light_palette(\"orange\", as_cmap=True),\n",
        "    linewidths=1\n",
        ");"
      ],
      "execution_count": 13,
      "outputs": [
        {
          "output_type": "display_data",
          "data": {
            "image/png": "[encoded data removed]",
            "text/plain": [
              "<Figure size 432x288 with 2 Axes>"
            ]
          },
          "metadata": {
            "tags": [],
            "needs_background": "light"
          }
        }
      ]
    },
    {
      "cell_type": "markdown",
      "metadata": {
        "id": "EU6xJmgcehoi"
      },
      "source": [
        "Contrast this with the raw annotations visualized earlier in the notebook, and we can see that the second and third annotations (columns) have been nearly wiped out. The first annotation maintains some of its value, and the fourth annotation is the most pronounced."
      ]
    },
    {
      "cell_type": "markdown",
      "metadata": {
        "id": "RSb4kks12UfP"
      },
      "source": [
        "### Calculating the Attention Context Vector\n",
        "\n",
        "All that remains to produce our attention context vector now is to sum up the four columns to produce a single attention context vector."
      ]
    },
    {
      "cell_type": "code",
      "metadata": {
        "id": "3Zbt_LpR2UfQ",
        "colab": {
          "base_uri": "https://localhost:8080/"
        },
        "outputId": "f2bb9fac-d9ac-49e2-b3c3-2054303db99e"
      },
      "source": [
        "def calculate_attention_vector(applied_attention):\n",
        "    return np.sum(applied_attention, axis=1)\n",
        "\n",
        "attention_vector = calculate_attention_vector(applied_attention)\n",
        "attention_vector"
      ],
      "execution_count": 14,
      "outputs": [
        {
          "output_type": "execute_result",
          "data": {
            "text/plain": [
              "array([ 3.88079708,  4.0728263 , 45.26423912], dtype=float128)"
            ]
          },
          "metadata": {
            "tags": []
          },
          "execution_count": 14
        }
      ]
    },
    {
      "cell_type": "code",
      "metadata": {
        "scrolled": false,
        "id": "Tw-4QKzd2UfQ",
        "colab": {
          "base_uri": "https://localhost:8080/",
          "height": 295
        },
        "outputId": "b0edd201-bdfa-4950-f0c0-f6acb747dcc0"
      },
      "source": [
        "# Let's visualize the attention context vector:\n",
        "plt.figure(figsize=(1.5, 4.5))\n",
        "sns.heatmap(\n",
        "    np.transpose(np.matrix(attention_vector)),\n",
        "    annot=True,\n",
        "    cmap=sns.light_palette(\"Blue\", as_cmap=True),\n",
        "    linewidths=1\n",
        ");"
      ],
      "execution_count": 15,
      "outputs": [
        {
          "output_type": "display_data",
          "data": {
            "image/png": "[encoded data removed]",
            "text/plain": [
              "<Figure size 108x324 with 2 Axes>"
            ]
          },
          "metadata": {
            "tags": [],
            "needs_background": "light"
          }
        }
      ]
    },
    {
      "cell_type": "markdown",
      "metadata": {
        "id": "Hwkn15ro2UfR"
      },
      "source": [
        "Now that we have the context vector, we can concatenate it with the hidden state and pass it through a hidden layer to produce the result of this decoding time step."
      ]
    },
    {
      "cell_type": "markdown",
      "metadata": {
        "id": "NVIXJVzq2UfR"
      },
      "source": [
        "## Your turn\n",
        "\n",
        "Now implement the _general_ and _concat_ attention scores and check it below."
      ]
    },
    {
      "cell_type": "markdown",
      "metadata": {
        "id": "m89uAHYMgBgF"
      },
      "source": [
        "#### General attention scoring"
      ]
    },
    {
      "cell_type": "code",
      "metadata": {
        "id": "3QTmklVJ2UfR",
        "colab": {
          "base_uri": "https://localhost:8080/"
        },
        "outputId": "50ad20f4-ab1f-4b08-cd4b-38a525134485"
      },
      "source": [
        "# Yeah, you need to initialize the matrix first\n",
        "# (just use random, the main idea is the dimentionality):\n",
        "Wa = np.random.randn(dec_hidden_state.shape[0], annotations.shape[0])\n",
        "\n",
        "def general_attention_score(dec_hidden_state, annotations, Wa):\n",
        "    # Return the product of dec_hidden_state transpose,\n",
        "    # Wa, and enc_hidden_states:\n",
        "    return np.dot(np.dot(dec_hidden_state.T, Wa), annotations)\n",
        "\n",
        "attention_weights_raw = general_attention_score(dec_hidden_state,\n",
        "                                                annotations, Wa)\n",
        "attention_weights_raw"
      ],
      "execution_count": 16,
      "outputs": [
        {
          "output_type": "execute_result",
          "data": {
            "text/plain": [
              "matrix([[178.39573938, 871.14217469, 955.32567706,  -8.23505583]])"
            ]
          },
          "metadata": {
            "tags": []
          },
          "execution_count": 16
        }
      ]
    },
    {
      "cell_type": "code",
      "metadata": {
        "id": "snluEPb32UfR",
        "colab": {
          "base_uri": "https://localhost:8080/"
        },
        "outputId": "f1eb8546-21a3-4592-dc8d-85041b0c40c5"
      },
      "source": [
        "# Some post-processing like above:\n",
        "attention_weights = softmax(attention_weights_raw)\n",
        "attention_weights"
      ],
      "execution_count": 17,
      "outputs": [
        {
          "output_type": "execute_result",
          "data": {
            "text/plain": [
              "array([[3.83367453e-338, 2.75149960e-037, 1.00000000e+000,\n",
              "        3.39539829e-419]], dtype=float128)"
            ]
          },
          "metadata": {
            "tags": []
          },
          "execution_count": 17
        }
      ]
    },
    {
      "cell_type": "code",
      "metadata": {
        "colab": {
          "base_uri": "https://localhost:8080/"
        },
        "id": "mRCtLQD8sr0U",
        "outputId": "121df044-c268-482d-855a-47ba1166cd42"
      },
      "source": [
        "applied_attention = apply_attention_scores(attention_weights, annotations)\n",
        "applied_attention"
      ],
      "execution_count": 18,
      "outputs": [
        {
          "output_type": "execute_result",
          "data": {
            "text/plain": [
              "array([[1.15010236e-337, 1.62338476e-035, 1.00000000e+000,\n",
              "        1.35815932e-418],\n",
              "       [4.60040944e-337, 5.50299920e-037, 4.30000000e+001,\n",
              "        1.01861949e-418],\n",
              "       [1.72515354e-336, 1.37574980e-036, 5.00000000e+000,\n",
              "        1.53811543e-417]], dtype=float128)"
            ]
          },
          "metadata": {
            "tags": []
          },
          "execution_count": 18
        }
      ]
    },
    {
      "cell_type": "code",
      "metadata": {
        "colab": {
          "base_uri": "https://localhost:8080/",
          "height": 265
        },
        "id": "1daXtN9lssvd",
        "outputId": "7752d430-58e0-4808-ffd4-a097a08fdcf2"
      },
      "source": [
        "ax = sns.heatmap(\n",
        "    applied_attention,\n",
        "    annot=True,\n",
        "    cmap=sns.light_palette(\"orange\", as_cmap=True),\n",
        "    linewidths=1\n",
        ");"
      ],
      "execution_count": 19,
      "outputs": [
        {
          "output_type": "display_data",
          "data": {
            "image/png": "[encoded data removed]",
            "text/plain": [
              "<Figure size 432x288 with 2 Axes>"
            ]
          },
          "metadata": {
            "tags": [],
            "needs_background": "light"
          }
        }
      ]
    },
    {
      "cell_type": "code",
      "metadata": {
        "colab": {
          "base_uri": "https://localhost:8080/"
        },
        "id": "HQaAifzfoFKw",
        "outputId": "12f85b4d-9752-4569-98ed-50d9b977cb5b"
      },
      "source": [
        "attention_vector = calculate_attention_vector(applied_attention)\n",
        "attention_vector"
      ],
      "execution_count": 20,
      "outputs": [
        {
          "output_type": "execute_result",
          "data": {
            "text/plain": [
              "array([ 1., 43.,  5.], dtype=float128)"
            ]
          },
          "metadata": {
            "tags": []
          },
          "execution_count": 20
        }
      ]
    },
    {
      "cell_type": "code",
      "metadata": {
        "colab": {
          "base_uri": "https://localhost:8080/",
          "height": 293
        },
        "id": "K_4bz2IdoGBv",
        "outputId": "65dd3115-251c-4dd5-eeba-5af3875fbd92"
      },
      "source": [
        "plt.figure(figsize=(1.5, 4.5))\n",
        "sns.heatmap(\n",
        "    np.transpose(np.matrix(attention_vector)),\n",
        "    annot=True,\n",
        "    cmap=sns.light_palette(\"Blue\", as_cmap=True),\n",
        "    linewidths=1\n",
        ");"
      ],
      "execution_count": 21,
      "outputs": [
        {
          "output_type": "display_data",
          "data": {
            "image/png": "[encoded data removed]",
            "text/plain": [
              "<Figure size 108x324 with 2 Axes>"
            ]
          },
          "metadata": {
            "tags": [],
            "needs_background": "light"
          }
        }
      ]
    },
    {
      "cell_type": "markdown",
      "metadata": {
        "id": "oeUmCOI4gF28"
      },
      "source": [
        "### Concat attention scoring"
      ]
    },
    {
      "cell_type": "code",
      "metadata": {
        "id": "t4TnmJBu2UfS",
        "colab": {
          "base_uri": "https://localhost:8080/"
        },
        "outputId": "ea62bc9c-7380-4c04-e99e-d36a710a8f43"
      },
      "source": [
        "# And here you need to initialize both the vector va and the matrix Wa\n",
        "# (again, random is fine):\n",
        "Wa = np.random.randn(dec_hidden_state.shape[0], annotations.shape[0])\n",
        "va = np.random.randn(dec_hidden_state.shape[0])\n",
        "\n",
        "def concat_attention_score(dec_hidden_state, annotations, Wa, va):\n",
        "    # Return the product of va transposed, tanh of product of Wa and\n",
        "    # concatenation of dec_hidden_state and enc_hidden_states:\n",
        "    result = np.hstack((dec_hidden_state, annotations))\n",
        "    result = np.dot(Wa, result)\n",
        "    result = np.tanh(result)\n",
        "    result = np.dot(va, result)\n",
        "    return result\n",
        "\n",
        "attention_weights_raw = concat_attention_score(dec_hidden_state, annotations,\n",
        "                                               Wa, va)\n",
        "attention_weights_raw"
      ],
      "execution_count": 22,
      "outputs": [
        {
          "output_type": "execute_result",
          "data": {
            "text/plain": [
              "matrix([[ 0.20917794,  0.20916041,  0.20916041, -0.95370235,  0.20916382]])"
            ]
          },
          "metadata": {
            "tags": []
          },
          "execution_count": 22
        }
      ]
    },
    {
      "cell_type": "code",
      "metadata": {
        "id": "mHd1vF_72UfS",
        "colab": {
          "base_uri": "https://localhost:8080/"
        },
        "outputId": "87aecd33-f008-4d97-e80a-c79bca38a0ed"
      },
      "source": [
        "# And again some post-processing:\n",
        "attention_weights = softmax(attention_weights_raw)\n",
        "attention_weights"
      ],
      "execution_count": 23,
      "outputs": [
        {
          "output_type": "execute_result",
          "data": {
            "text/plain": [
              "array([[0.23188216, 0.23187809, 0.23187809, 0.07248278, 0.23187888]],\n",
              "      dtype=float128)"
            ]
          },
          "metadata": {
            "tags": []
          },
          "execution_count": 23
        }
      ]
    },
    {
      "cell_type": "code",
      "metadata": {
        "colab": {
          "base_uri": "https://localhost:8080/"
        },
        "id": "wxYtIfygwuXV",
        "outputId": "8dae865b-59ca-4eaf-edb9-a4fa85195a2e"
      },
      "source": [
        "applied_attention = apply_attention_scores(\n",
        "    attention_weights, np.hstack((dec_hidden_state, annotations))\n",
        ")\n",
        "applied_attention"
      ],
      "execution_count": 24,
      "outputs": [
        {
          "output_type": "execute_result",
          "data": {
            "text/plain": [
              "matrix([[ 1.15941078,  0.69563427, 13.6808074 ,  0.07248278,  0.92751553],\n",
              "        [ 0.23188216,  2.7825371 ,  0.46375618,  3.1167595 ,  0.69563665],\n",
              "        [ 4.63764312, 10.43451412,  1.15939046,  0.3624139 , 10.50411336]],\n",
              "       dtype=float128)"
            ]
          },
          "metadata": {
            "tags": []
          },
          "execution_count": 24
        }
      ]
    },
    {
      "cell_type": "code",
      "metadata": {
        "id": "1iqH34KxwzYA",
        "colab": {
          "base_uri": "https://localhost:8080/",
          "height": 265
        },
        "outputId": "39e948d6-e47d-4bc3-bed6-47f5fc36a108"
      },
      "source": [
        "ax = sns.heatmap(\n",
        "    applied_attention,\n",
        "    annot=True,\n",
        "    cmap=sns.light_palette(\"orange\", as_cmap=True),\n",
        "    linewidths=1\n",
        ");"
      ],
      "execution_count": 25,
      "outputs": [
        {
          "output_type": "display_data",
          "data": {
            "image/png": "[encoded data removed]",
            "text/plain": [
              "<Figure size 432x288 with 2 Axes>"
            ]
          },
          "metadata": {
            "tags": [],
            "needs_background": "light"
          }
        }
      ]
    },
    {
      "cell_type": "markdown",
      "metadata": {
        "id": "OM9l4GhE2UfS"
      },
      "source": [
        "# Part 2: Google Colab intro\n",
        "\n",
        "We roll back to the week03 practice: name generation."
      ]
    },
    {
      "cell_type": "code",
      "metadata": {
        "id": "VaYm_5Z_2UfS"
      },
      "source": [
        "import numpy as np\n",
        "import matplotlib.pyplot as plt\n",
        "%matplotlib inline\n",
        "import os"
      ],
      "execution_count": null,
      "outputs": []
    },
    {
      "cell_type": "code",
      "metadata": {
        "id": "x7Upa8xb2UfT"
      },
      "source": [
        "from IPython.display import clear_output\n",
        "from random import sample"
      ],
      "execution_count": null,
      "outputs": []
    },
    {
      "cell_type": "code",
      "metadata": {
        "id": "p3TkUsbw2UfT"
      },
      "source": [
        "start_token = \" \"\n",
        "\n",
        "def read_names(path_to_file):\n",
        "    global start_token\n",
        "    \n",
        "    with open(path_to_file) as f:\n",
        "        names = f.read()[:-1].split('\\n')\n",
        "        names = [start_token + line for line in names]\n",
        "        return names"
      ],
      "execution_count": null,
      "outputs": []
    },
    {
      "cell_type": "code",
      "metadata": {
        "id": "lF8R3hVx2UfV"
      },
      "source": [
        "try:\n",
        "    names = read_names('../datasets/names_dataset/names')\n",
        "except FileNotFoundError:\n",
        "    !wget https://raw.githubusercontent.com/neychev/made_nlp_course/master/datasets/names_dataset/names -nc -O names\n",
        "    names = read_names('./names')"
      ],
      "execution_count": null,
      "outputs": []
    },
    {
      "cell_type": "code",
      "metadata": {
        "id": "Ad2EfbYb2UfW"
      },
      "source": [
        "try:\n",
        "    names_ru = read_names('../datasets/names_dataset/names_ru')\n",
        "except FileNotFoundError:\n",
        "    !wget https://raw.githubusercontent.com/neychev/made_nlp_course/master/datasets/names_dataset/names_ru -nc -O names_ru\n",
        "    names_ru = read_names('./names_ru')"
      ],
      "execution_count": null,
      "outputs": []
    },
    {
      "cell_type": "code",
      "metadata": {
        "id": "ZnadjCg42UfX"
      },
      "source": [
        "print ('n samples = ',len(names_ru))\n",
        "for idx in np.arange(0, len(names), 1000):\n",
        "    print(names[idx], names_ru[idx])"
      ],
      "execution_count": null,
      "outputs": []
    },
    {
      "cell_type": "code",
      "metadata": {
        "id": "rFcUIQt72UfX"
      },
      "source": [
        "MAX_LENGTH = max(map(len, names))\n",
        "print(\"max length =\", MAX_LENGTH)\n",
        "\n",
        "plt.title('Sequence length distribution')\n",
        "plt.hist(list(map(len, names)),bins=25, label='en');\n",
        "\n",
        "plt.title('Sequence length distribution')\n",
        "plt.hist(list(map(len, names_ru)),bins=25, alpha=0.5, label='ru');\n",
        "plt.legend()"
      ],
      "execution_count": null,
      "outputs": []
    },
    {
      "cell_type": "code",
      "metadata": {
        "id": "ODHWJfe-2UfX"
      },
      "source": [
        "all_tokens_set_en = set()\n",
        "for name in names:\n",
        "    all_tokens_set_en.update(set(name))\n",
        "\n",
        "# List of all unique characters in the dataset:\n",
        "tokens_en = list(all_tokens_set_en)\n",
        "\n",
        "num_tokens_en = len(tokens_en)\n",
        "print ('num_tokens = ', num_tokens_en)\n",
        "\n",
        "assert 50 < num_tokens_en < 60, (\n",
        "    \"Names should contain within 50 and 60 unique tokens depending on encoding.\"\n",
        ")"
      ],
      "execution_count": null,
      "outputs": []
    },
    {
      "cell_type": "code",
      "metadata": {
        "id": "H5EybyEQ2UfX"
      },
      "source": [
        "all_tokens_set_ru = set()\n",
        "for name in names_ru:\n",
        "    all_tokens_set_ru.update(set(name))\n",
        "\n",
        "# List of all unique characters in the dataset:\n",
        "tokens_ru = list(all_tokens_set_ru)\n",
        "\n",
        "num_tokens_ru = len(tokens_ru)\n",
        "print ('num_tokens = ', num_tokens_ru)\n",
        "\n",
        "assert 50 < num_tokens_ru < 60, (\n",
        "    \"Names should contain within 50 and 60 unique tokens depending on encoding.\"\n",
        ")"
      ],
      "execution_count": null,
      "outputs": []
    },
    {
      "cell_type": "code",
      "metadata": {
        "id": "gkdOf7q82UfY"
      },
      "source": [
        "token_to_id_en = {\n",
        "    token: idx for idx, token in enumerate(tokens_en)\n",
        "}\n",
        "\n",
        "token_to_id_ru = {\n",
        "    token: idx for idx, token in enumerate(tokens_ru)\n",
        "}"
      ],
      "execution_count": null,
      "outputs": []
    },
    {
      "cell_type": "code",
      "metadata": {
        "id": "YOKVxAPI2UfY"
      },
      "source": [
        "assert len(tokens_ru) == len(token_to_id_ru), (\n",
        "    \"Dictionaries must have the same size.\"\n",
        ")\n",
        "\n",
        "for i in range(num_tokens_ru):\n",
        "    assert token_to_id_ru[tokens_ru[i]] == i, (\n",
        "        \"Token identifier must be it's position in tokens list.\"\n",
        "    )\n",
        "\n",
        "for i in range(num_tokens_en):\n",
        "    assert token_to_id_en[tokens_en[i]] == i, (\n",
        "        \"Token identifier must be it's position in tokens list.\"\n",
        "    )\n",
        "\n",
        "print(\"Seems alright!\")"
      ],
      "execution_count": null,
      "outputs": []
    },
    {
      "cell_type": "code",
      "metadata": {
        "id": "X0FdZ0A-2UfY"
      },
      "source": [
        "def to_matrix(names, token_to_id, max_len=None, pad=None, dtype='int32',\n",
        "              batch_first=False):\n",
        "    \"\"\"Casts a list of names into rnn-digestable matrix\"\"\"\n",
        "    pad = token_to_id[' ']\n",
        "    max_len = max_len or max(map(len, names))\n",
        "    names_ix = np.zeros([len(names), max_len], dtype) + pad\n",
        "\n",
        "    for i in range(len(names)):\n",
        "        line_ix = [token_to_id[c] for c in names[i]]\n",
        "        names_ix[i, :len(line_ix)] = line_ix\n",
        "\n",
        "    if not batch_first:  # convert [batch, time] into [time, batch]\n",
        "        names_ix = np.transpose(names_ix)\n",
        "\n",
        "    return names_ix"
      ],
      "execution_count": null,
      "outputs": []
    },
    {
      "cell_type": "code",
      "metadata": {
        "id": "g9rDdJ4k2UfZ"
      },
      "source": [
        "import torch, torch.nn as nn\n",
        "import torch.nn.functional as F"
      ],
      "execution_count": null,
      "outputs": []
    },
    {
      "cell_type": "code",
      "metadata": {
        "id": "SOSiSCH42UfZ"
      },
      "source": [
        "class MyModel(nn.Module):\n",
        "    def __init__(self, num_tokens=num_tokens_en, emb_size=16, rnn_num_units=64):\n",
        "        super(self.__class__, self).__init__()\n",
        "        self.emb = nn.Embedding(num_tokens, emb_size)\n",
        "        self.rnn = nn.RNN(emb_size, rnn_num_units)\n",
        "        self.hid_to_logits = nn.Linear(rnn_num_units, num_tokens)\n",
        "\n",
        "    def forward(self, x):\n",
        "        assert isinstance(x.data, torch.LongTensor)\n",
        "        h_seq, _ = self.rnn(self.emb(x))\n",
        "        next_logits = self.hid_to_logits(h_seq)\n",
        "        next_logp = F.log_softmax(next_logits, dim=-1)\n",
        "        return next_logp"
      ],
      "execution_count": null,
      "outputs": []
    },
    {
      "cell_type": "code",
      "metadata": {
        "id": "QuDCsq8A2Ufa"
      },
      "source": [
        "model = MyModel()\n",
        "opt = torch.optim.Adam(model.parameters())\n",
        "criterion = nn.NLLLoss()\n",
        "history = []\n",
        "\n",
        "# The model applies over the whole sequence:\n",
        "batch_ix = to_matrix(sample(names, 32), token_to_id_en, max_len=MAX_LENGTH)\n",
        "batch_ix = torch.LongTensor(batch_ix)"
      ],
      "execution_count": null,
      "outputs": []
    },
    {
      "cell_type": "code",
      "metadata": {
        "id": "pP8cephA2Ufa"
      },
      "source": [
        "logp_seq = model(batch_ix)\n",
        "\n",
        "loss = criterion(logp_seq[:, :-1].contiguous().view(-1, num_tokens_en),\n",
        "                 batch_ix[:, 1:].contiguous().view(-1))\n",
        "\n",
        "loss.backward()"
      ],
      "execution_count": null,
      "outputs": []
    },
    {
      "cell_type": "code",
      "metadata": {
        "id": "YZ4-gxE02Ufa"
      },
      "source": [
        "from torch.utils.tensorboard import SummaryWriter\n",
        "\n",
        "# default `log_dir` is \"runs\" - we'll be more specific here\n",
        "writer = SummaryWriter()"
      ],
      "execution_count": null,
      "outputs": []
    },
    {
      "cell_type": "code",
      "metadata": {
        "id": "vP6HI91h2Ufa"
      },
      "source": [
        "writer.add_graph(model, batch_ix)"
      ],
      "execution_count": null,
      "outputs": []
    },
    {
      "cell_type": "code",
      "metadata": {
        "id": "HZErK_IL39VP"
      },
      "source": [
        "%load_ext tensorboard\n",
        "%tensorboard --logdir runs"
      ],
      "execution_count": null,
      "outputs": []
    },
    {
      "cell_type": "code",
      "metadata": {
        "id": "NPfPKL3F2Ufa"
      },
      "source": [
        "MAX_LENGTH = 16\n",
        "\n",
        "for i in range(1000):\n",
        "    batch_ix = to_matrix(sample(names, 32), token_to_id_en, max_len=MAX_LENGTH)\n",
        "    batch_ix = torch.tensor(batch_ix, dtype=torch.int64)\n",
        "\n",
        "    logp_seq = model(batch_ix)\n",
        "\n",
        "    loss = criterion(logp_seq[:, :-1].contiguous().view(-1, num_tokens_en),\n",
        "                     batch_ix[:, 1:].contiguous().view(-1))\n",
        "\n",
        "    loss.backward()\n",
        "\n",
        "    opt.step()\n",
        "    opt.zero_grad()\n",
        "\n",
        "    # compute loss\n",
        "\n",
        "    # YOUR CODE HERE\n",
        "\n",
        "    # train with backprop\n",
        "\n",
        "    # YOUR CODE HERE\n",
        "\n",
        "    history.append(loss.data.numpy())\n",
        "    if (i + 1) % 100 == 0:\n",
        "        writer.add_scalar('train loss', history[-1], i)\n",
        "\n",
        "assert np.mean(history[:10]) > np.mean(history[-10:]), \"RNN didn't converge.\""
      ],
      "execution_count": null,
      "outputs": []
    },
    {
      "cell_type": "markdown",
      "metadata": {
        "id": "q7HPli5K2Ufb"
      },
      "source": [
        "# More serious: char-level machine translation"
      ]
    },
    {
      "cell_type": "markdown",
      "metadata": {
        "id": "0DoFMYt82Ufb"
      },
      "source": [
        "Let's try to transliterate these names from English to Russian. So we need 2 models: encoder and decoder."
      ]
    },
    {
      "cell_type": "code",
      "metadata": {
        "id": "YNXgCu-42Ufb"
      },
      "source": [
        "class Encoder(nn.Module):\n",
        "    def __init__(self, num_tokens=num_tokens_en, emb_size=16, rnn_num_units=64):\n",
        "        super(self.__class__, self).__init__()\n",
        "        self.emb = nn.Embedding(num_tokens, emb_size)\n",
        "        self.rnn = nn.RNN(emb_size, rnn_num_units)\n",
        "        self.hid_to_logits = nn.Linear(rnn_num_units, num_tokens)\n",
        "        \n",
        "    def forward(self, x):\n",
        "        assert isinstance(x.data, torch.LongTensor)\n",
        "        h_seq, h_last = self.rnn(self.emb(x))\n",
        "        next_logits = self.hid_to_logits(h_seq)\n",
        "        next_logp = F.log_softmax(next_logits, dim=-1)\n",
        "        return next_logp, h_last"
      ],
      "execution_count": null,
      "outputs": []
    },
    {
      "cell_type": "code",
      "metadata": {
        "id": "boSm9wty2Ufb"
      },
      "source": [
        "class Decoder(nn.Module):\n",
        "    def __init__(self, num_tokens=num_tokens_ru, emb_size=16, rnn_num_units=64):\n",
        "        super(self.__class__, self).__init__()\n",
        "        self.emb = nn.Embedding(num_tokens, emb_size)\n",
        "        self.rnn = nn.RNN(emb_size, rnn_num_units)\n",
        "        self.hid_to_logits = nn.Linear(rnn_num_units, num_tokens)\n",
        "\n",
        "    def forward(self, x, enc_last_state):\n",
        "        assert isinstance(x.data, torch.LongTensor)\n",
        "        h_seq, h_last = self.rnn(self.emb(x), enc_last_state)\n",
        "        next_logits = self.hid_to_logits(h_seq)\n",
        "        next_logp = F.log_softmax(next_logits, dim=-1)\n",
        "        return next_logp, h_last"
      ],
      "execution_count": null,
      "outputs": []
    },
    {
      "cell_type": "code",
      "metadata": {
        "id": "LCAZoHh92Ufc"
      },
      "source": [
        "class Seq2Seq(nn.Module):\n",
        "    def __init__(self):\n",
        "        super(self.__class__, self).__init__()\n",
        "        # YOUR CODE HERE\n",
        "\n",
        "    def forward(self, src, trg):\n",
        "        # YOUR CODE HERE\n",
        "\n",
        "        return logp_seq"
      ],
      "execution_count": null,
      "outputs": []
    },
    {
      "cell_type": "code",
      "metadata": {
        "id": "Qf_wHp392Ufc"
      },
      "source": [
        "nmt_model = Seq2Seq()\n",
        "opt = torch.optim.Adam(nmt_model.parameters())\n",
        "criterion = nn.NLLLoss()"
      ],
      "execution_count": null,
      "outputs": []
    },
    {
      "cell_type": "code",
      "metadata": {
        "id": "_d8V76vB2Ufc"
      },
      "source": [
        "# example\n",
        "indices = np.random.choice(np.arange(len(names)), size=32)\n",
        "batch_en = to_matrix(np.array(names)[indices], token_to_id=token_to_id_en,\n",
        "                     max_len=MAX_LENGTH)\n",
        "input_tensor = torch.from_numpy(batch_en).type(torch.int64)\n",
        "\n",
        "batch_ru = to_matrix(np.array(names_ru)[indices], token_to_id=token_to_id_ru,\n",
        "                     max_len=MAX_LENGTH)\n",
        "target_tensor = torch.from_numpy(batch_ru).type(torch.int64)"
      ],
      "execution_count": null,
      "outputs": []
    },
    {
      "cell_type": "code",
      "metadata": {
        "id": "tLv9lBnI2Ufc"
      },
      "source": [
        "out = nmt_model(input_tensor, target_tensor)"
      ],
      "execution_count": null,
      "outputs": []
    },
    {
      "cell_type": "code",
      "metadata": {
        "id": "Nt3KzlPH2Ufc"
      },
      "source": [
        "idx_to_token_en = {idx: token for token, idx in token_to_id_en.items()}\n",
        "idx_to_token_ru = {idx: token for token, idx in token_to_id_ru.items()}"
      ],
      "execution_count": null,
      "outputs": []
    },
    {
      "cell_type": "code",
      "metadata": {
        "id": "OvPT4YMA2Ufc"
      },
      "source": [
        "a = out.argmax(dim=-1)"
      ],
      "execution_count": null,
      "outputs": []
    },
    {
      "cell_type": "code",
      "metadata": {
        "id": "Z-HT9gU32Ufd"
      },
      "source": [
        "# Train your model here"
      ],
      "execution_count": null,
      "outputs": []
    },
    {
      "cell_type": "markdown",
      "metadata": {
        "id": "u83iXmjB2Ufd"
      },
      "source": [
        "Let's take a look at the results"
      ]
    },
    {
      "cell_type": "code",
      "metadata": {
        "id": "EUXURiH02Ufd"
      },
      "source": [
        "def get_example(idx):\n",
        "    translated = ''.join([idx_to_token_ru[x] for x in a[:, idx].numpy()])\n",
        "    original = ''.join(\n",
        "        [idx_to_token_en[x] for x in input_tensor[:, idx].numpy()]\n",
        "    )\n",
        "    print(original, translated)"
      ],
      "execution_count": null,
      "outputs": []
    },
    {
      "cell_type": "code",
      "metadata": {
        "id": "eonRYJL22Ufd"
      },
      "source": [
        "get_example(9)"
      ],
      "execution_count": null,
      "outputs": []
    }
  ]
}