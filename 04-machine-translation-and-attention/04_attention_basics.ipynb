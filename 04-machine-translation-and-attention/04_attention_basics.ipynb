{
  "nbformat": 4,
  "nbformat_minor": 0,
  "metadata": {
    "anaconda-cloud": {},
    "colab": {
      "name": "nlp04_attention_basics_and_tensorboard.ipynb",
      "provenance": [],
      "collapsed_sections": [],
      "toc_visible": true
    },
    "kernelspec": {
      "display_name": "Python 3",
      "name": "python3"
    },
    "language_info": {
      "name": "python"
    }
  },
  "cells": [
    {
      "cell_type": "markdown",
      "metadata": {
        "id": "a_S6Wtq12Ue_"
      },
      "source": [
        "# Practice: Attention Basics\n",
        "Original notebook is provided by Udacity at [github](https://github.com/udacity/deep-learning-v2-pytorch/blob/master/attention/Attention_Basics.ipynb).\n",
        "\n",
        "In this notebook, we look at how attention is implemented. We will focus on implementing attention in isolation from a larger model. That's because when implementing attention in a real-world model, a lot of the focus goes into piping the data and juggling the various vectors rather than the concepts of attention themselves.\n",
        "\n",
        "We will implement attention scoring as well as calculating an attention context vector."
      ]
    },
    {
      "cell_type": "markdown",
      "metadata": {
        "id": "7cGyeKtOfkLj"
      },
      "source": [
        "## Attention Scoring"
      ]
    },
    {
      "cell_type": "markdown",
      "metadata": {
        "id": "-UCvNt9tgWPi"
      },
      "source": [
        "### Inputs to the scoring function\n",
        "Let's start by looking at the inputs we'll give to the scoring function. We will assume we're in the first step in the decoding phase. The first input to the scoring function is the hidden state of decoder (assuming a toy RNN with three hidden nodes — not usable in real life, but easier to illustrate):"
      ]
    },
    {
      "cell_type": "code",
      "metadata": {
        "id": "-_JlwZ-H2UfJ"
      },
      "source": [
        "import matplotlib.pyplot as plt\n",
        "%matplotlib inline\n",
        "import numpy as np\n",
        "import seaborn as sns"
      ],
      "execution_count": 1,
      "outputs": []
    },
    {
      "cell_type": "code",
      "metadata": {
        "id": "iI5dXHIR2UfH"
      },
      "source": [
        "dec_hidden_state = np.transpose(np.matrix([5, 1, 20]))"
      ],
      "execution_count": 2,
      "outputs": []
    },
    {
      "cell_type": "markdown",
      "metadata": {
        "id": "mTBQJEWL2UfI"
      },
      "source": [
        "Let's visualize this vector:"
      ]
    },
    {
      "cell_type": "code",
      "metadata": {
        "id": "aqDOBLIgZDqD",
        "colab": {
          "base_uri": "https://localhost:8080/",
          "height": 297
        },
        "outputId": "43df8d9c-90b8-4103-f4bd-6a2aa990d5df"
      },
      "source": [
        "# Let's visualize our decoder hidden state:\n",
        "plt.figure(figsize=(1.5, 4.5))\n",
        "sns.heatmap(\n",
        "    dec_hidden_state,\n",
        "    annot=True,\n",
        "    cmap=sns.light_palette(\"purple\", as_cmap=True),\n",
        "    linewidths=1,\n",
        ");"
      ],
      "execution_count": 3,
      "outputs": [
        {
          "output_type": "display_data",
          "data": {
            "image/png": "[encoded data removed]",
            "text/plain": [
              "<Figure size 108x324 with 2 Axes>"
            ]
          },
          "metadata": {
            "tags": [],
            "needs_background": "light"
          }
        }
      ]
    },
    {
      "cell_type": "markdown",
      "metadata": {
        "id": "cSPiJgiF2UfJ"
      },
      "source": [
        "Our first scoring function will score a single annotation (encoder hidden state), which looks like this:"
      ]
    },
    {
      "cell_type": "code",
      "metadata": {
        "id": "o0gRwmls2UfJ"
      },
      "source": [
        "annotation = np.transpose(np.matrix([3, 12, 45]))  # e.g. encoder hidden state"
      ],
      "execution_count": 4,
      "outputs": []
    },
    {
      "cell_type": "code",
      "metadata": {
        "id": "ZiMWlY2r2UfK",
        "colab": {
          "base_uri": "https://localhost:8080/",
          "height": 297
        },
        "outputId": "788e5dc7-3b8e-42a8-9758-7b8bb3f3b6f7"
      },
      "source": [
        "# Let's visualize the single annotation:\n",
        "plt.figure(figsize=(1.5, 4.5))\n",
        "sns.heatmap(\n",
        "    annotation, annot=True, cmap=sns.light_palette(\"orange\", as_cmap=True), linewidths=1\n",
        ");"
      ],
      "execution_count": 5,
      "outputs": [
        {
          "output_type": "display_data",
          "data": {
            "image/png": "[encoded data removed]",
            "text/plain": [
              "<Figure size 108x324 with 2 Axes>"
            ]
          },
          "metadata": {
            "tags": [],
            "needs_background": "light"
          }
        }
      ]
    },
    {
      "cell_type": "markdown",
      "metadata": {
        "id": "St5gq5WW2UfK"
      },
      "source": [
        "### IMPLEMENT: Scoring a Single Annotation\n",
        "\n",
        "Let's calculate the dot product of a single annotation. NumPy's [dot()](https://docs.scipy.org/doc/numpy/reference/generated/numpy.dot.html) is a good candidate for this operation."
      ]
    },
    {
      "cell_type": "code",
      "metadata": {
        "id": "OYcjCK852UfK",
        "colab": {
          "base_uri": "https://localhost:8080/"
        },
        "outputId": "c6e0dcf4-aa30-454e-d72b-7f81e24715ad"
      },
      "source": [
        "def single_dot_attention_score(dec_hidden_state, enc_hidden_state):\n",
        "    # Return the dot product of the two vectors:\n",
        "    return np.dot(dec_hidden_state.T, enc_hidden_state)\n",
        "\n",
        "\n",
        "single_dot_attention_score(dec_hidden_state, annotation)"
      ],
      "execution_count": 6,
      "outputs": [
        {
          "output_type": "execute_result",
          "data": {
            "text/plain": [
              "matrix([[927]])"
            ]
          },
          "metadata": {
            "tags": []
          },
          "execution_count": 6
        }
      ]
    },
    {
      "cell_type": "markdown",
      "metadata": {
        "id": "xbNsHkJt2UfL"
      },
      "source": [
        "### Annotations Matrix\n",
        "\n",
        "Let's now look at scoring all the annotations at once. To do that, here's our annotation matrix:"
      ]
    },
    {
      "cell_type": "code",
      "metadata": {
        "id": "bY9zRQY02UfL"
      },
      "source": [
        "annotations = np.transpose([[3, 12, 45], [59, 2, 5], [1, 43, 5], [4, 3, 45.3]])"
      ],
      "execution_count": 7,
      "outputs": []
    },
    {
      "cell_type": "markdown",
      "metadata": {
        "id": "lgdZTMqY2UfL"
      },
      "source": [
        "And it can be visualized like this (each column is a hidden state of an encoder time step):"
      ]
    },
    {
      "cell_type": "code",
      "metadata": {
        "id": "T6QbJqcK2UfM",
        "colab": {
          "base_uri": "https://localhost:8080/",
          "height": 265
        },
        "outputId": "4f54aaa6-d822-4631-a825-2a829dde9da1"
      },
      "source": [
        "# Let's visualize our annotations (each column is an annotation):\n",
        "ax = sns.heatmap(\n",
        "    annotations,\n",
        "    annot=True,\n",
        "    cmap=sns.light_palette(\"orange\", as_cmap=True),\n",
        "    linewidths=1,\n",
        ");"
      ],
      "execution_count": 8,
      "outputs": [
        {
          "output_type": "display_data",
          "data": {
            "image/png": "[encoded data removed]",
            "text/plain": [
              "<Figure size 432x288 with 2 Axes>"
            ]
          },
          "metadata": {
            "tags": [],
            "needs_background": "light"
          }
        }
      ]
    },
    {
      "cell_type": "markdown",
      "metadata": {
        "id": "_artZ2TO2UfM"
      },
      "source": [
        "### IMPLEMENT: Scoring All Annotations at Once\n",
        "\n",
        "Let's calculate the scores of all the annotations in one step using matrix multiplication. Let's continue to use the dot scoring method.\n",
        "\n",
        "<img src=\"https://github.com/neychev/made_nlp_course/blob/master/week05_machine_translation/img/scoring_functions.png?raw=1\" />\n",
        "\n",
        "To do that, we'll have to transpose `dec_hidden_state` and [matrix multiply](https://docs.scipy.org/doc/numpy/reference/generated/numpy.matmul.html) it with `annotations`."
      ]
    },
    {
      "cell_type": "code",
      "metadata": {
        "id": "xvONIxPQ2UfM",
        "colab": {
          "base_uri": "https://localhost:8080/"
        },
        "outputId": "921cf295-452e-401b-9fee-7e7cf60d6508"
      },
      "source": [
        "def dot_attention_score(dec_hidden_state, annotations):\n",
        "    # Return the product of dec_hidden_state transposed and enc_hidden_states:\n",
        "    return np.dot(dec_hidden_state.T, annotations)\n",
        "\n",
        "\n",
        "attention_weights_raw = dot_attention_score(dec_hidden_state, annotations)\n",
        "attention_weights_raw"
      ],
      "execution_count": 9,
      "outputs": [
        {
          "output_type": "execute_result",
          "data": {
            "text/plain": [
              "matrix([[927., 397., 148., 929.]])"
            ]
          },
          "metadata": {
            "tags": []
          },
          "execution_count": 9
        }
      ]
    },
    {
      "cell_type": "markdown",
      "metadata": {
        "id": "PSL8bqwta7Ui"
      },
      "source": [
        "Looking at these scores, can you guess which of the four vectors will get the most attention from the decoder at this time step?"
      ]
    },
    {
      "cell_type": "markdown",
      "metadata": {
        "id": "vxLyauqp2UfN"
      },
      "source": [
        "### Softmax\n",
        "\n",
        "Now that we have our scores, let's apply softmax:\n",
        "\n",
        "<img src=\"https://github.com/neychev/made_nlp_course/blob/master/week05_machine_translation/img/softmax.png?raw=1\" />"
      ]
    },
    {
      "cell_type": "code",
      "metadata": {
        "id": "mn43BQTF2UfN",
        "colab": {
          "base_uri": "https://localhost:8080/"
        },
        "outputId": "804fa661-4efc-46e3-85c5-b62176107d26"
      },
      "source": [
        "def softmax(x):\n",
        "    x = np.array(x, dtype=np.float128)\n",
        "    x -= x.min()  # for numerical stability\n",
        "    e_x = np.exp(x)\n",
        "    return e_x / e_x.sum(axis=1)\n",
        "\n",
        "\n",
        "attention_weights = softmax(attention_weights_raw)\n",
        "attention_weights"
      ],
      "execution_count": 10,
      "outputs": [
        {
          "output_type": "execute_result",
          "data": {
            "text/plain": [
              "array([[1.19202922e-001, 7.94715151e-232, 5.76614420e-340,\n",
              "        8.80797078e-001]], dtype=float128)"
            ]
          },
          "metadata": {
            "tags": []
          },
          "execution_count": 10
        }
      ]
    },
    {
      "cell_type": "markdown",
      "metadata": {
        "id": "DvZ5_u1MdOmw"
      },
      "source": [
        "Even when knowing which annotation will get the most focus, it's interesting to see how drastic softmax makes the end score become. The first and last annotation had the respective scores of 927 and 929. But after softmax, the attention they'll get is 0.12 and 0.88 respectively."
      ]
    },
    {
      "cell_type": "markdown",
      "metadata": {
        "id": "kkQaLCgc2UfO"
      },
      "source": [
        "### Applying the scores back on the annotations\n",
        "\n",
        "Now that we have our scores, let's multiply each annotation by its score to proceed closer to the attention context vector. This is the multiplication part of this formula (we'll tackle the summation part in the latter cells).\n",
        "\n",
        "<img src=\"https://github.com/neychev/made_nlp_course/blob/master/week05_machine_translation/img/Context_vector.png?raw=1\" />"
      ]
    },
    {
      "cell_type": "code",
      "metadata": {
        "id": "_TXxJZ1J2UfP"
      },
      "source": [
        "def apply_attention_scores(attention_weights, annotations):\n",
        "    # Multiple the annotations by their weights:\n",
        "    return np.multiply(annotations, attention_weights)"
      ],
      "execution_count": 11,
      "outputs": []
    },
    {
      "cell_type": "code",
      "metadata": {
        "id": "lEbO2LUu2P7K",
        "colab": {
          "base_uri": "https://localhost:8080/"
        },
        "outputId": "b39719b8-c39a-48ed-e910-aeaebad919aa"
      },
      "source": [
        "applied_attention = apply_attention_scores(attention_weights, annotations)\n",
        "applied_attention"
      ],
      "execution_count": 12,
      "outputs": [
        {
          "output_type": "execute_result",
          "data": {
            "text/plain": [
              "array([[3.57608766e-001, 4.68881939e-230, 5.76614420e-340,\n",
              "        3.52318831e+000],\n",
              "       [1.43043506e+000, 1.58943030e-231, 2.47944200e-338,\n",
              "        2.64239123e+000],\n",
              "       [5.36413149e+000, 3.97357575e-231, 2.88307210e-339,\n",
              "        3.99001076e+001]], dtype=float128)"
            ]
          },
          "metadata": {
            "tags": []
          },
          "execution_count": 12
        }
      ]
    },
    {
      "cell_type": "markdown",
      "metadata": {
        "id": "SJPJRjv82UfP"
      },
      "source": [
        "Let's visualize how the context vector looks now that we've applied the attention scores back on it:"
      ]
    },
    {
      "cell_type": "code",
      "metadata": {
        "id": "Gt8sXXu12UfP",
        "colab": {
          "base_uri": "https://localhost:8080/",
          "height": 265
        },
        "outputId": "4c543e63-5881-494a-afd1-037bb0f3275a"
      },
      "source": [
        "# Let's visualize our annotations after applying attention to them:\n",
        "ax = sns.heatmap(\n",
        "    applied_attention,\n",
        "    annot=True,\n",
        "    cmap=sns.light_palette(\"orange\", as_cmap=True),\n",
        "    linewidths=1,\n",
        ");"
      ],
      "execution_count": 13,
      "outputs": [
        {
          "output_type": "display_data",
          "data": {
            "image/png": "[encoded data removed]",
            "text/plain": [
              "<Figure size 432x288 with 2 Axes>"
            ]
          },
          "metadata": {
            "tags": [],
            "needs_background": "light"
          }
        }
      ]
    },
    {
      "cell_type": "markdown",
      "metadata": {
        "id": "EU6xJmgcehoi"
      },
      "source": [
        "Contrast this with the raw annotations visualized earlier in the notebook, and we can see that the second and third annotations (columns) have been nearly wiped out. The first annotation maintains some of its value, and the fourth annotation is the most pronounced."
      ]
    },
    {
      "cell_type": "markdown",
      "metadata": {
        "id": "RSb4kks12UfP"
      },
      "source": [
        "### Calculating the Attention Context Vector\n",
        "\n",
        "All that remains to produce our attention context vector now is to sum up the four columns to produce a single attention context vector."
      ]
    },
    {
      "cell_type": "code",
      "metadata": {
        "id": "3Zbt_LpR2UfQ",
        "colab": {
          "base_uri": "https://localhost:8080/"
        },
        "outputId": "79d3357a-e7e9-4bc8-fc52-fba63bdbddfe"
      },
      "source": [
        "def calculate_attention_vector(applied_attention):\n",
        "    return np.sum(applied_attention, axis=1)\n",
        "\n",
        "\n",
        "attention_vector = calculate_attention_vector(applied_attention)\n",
        "attention_vector"
      ],
      "execution_count": 14,
      "outputs": [
        {
          "output_type": "execute_result",
          "data": {
            "text/plain": [
              "array([ 3.88079708,  4.0728263 , 45.26423912], dtype=float128)"
            ]
          },
          "metadata": {
            "tags": []
          },
          "execution_count": 14
        }
      ]
    },
    {
      "cell_type": "code",
      "metadata": {
        "id": "Tw-4QKzd2UfQ",
        "scrolled": false,
        "colab": {
          "base_uri": "https://localhost:8080/",
          "height": 295
        },
        "outputId": "adb4518d-f158-43e5-982d-1ae50b376969"
      },
      "source": [
        "# Let's visualize the attention context vector:\n",
        "plt.figure(figsize=(1.5, 4.5))\n",
        "sns.heatmap(\n",
        "    np.transpose(np.matrix(attention_vector)),\n",
        "    annot=True,\n",
        "    cmap=sns.light_palette(\"Blue\", as_cmap=True),\n",
        "    linewidths=1,\n",
        ");"
      ],
      "execution_count": 15,
      "outputs": [
        {
          "output_type": "display_data",
          "data": {
            "image/png": "[encoded data removed]",
            "text/plain": [
              "<Figure size 108x324 with 2 Axes>"
            ]
          },
          "metadata": {
            "tags": [],
            "needs_background": "light"
          }
        }
      ]
    },
    {
      "cell_type": "markdown",
      "metadata": {
        "id": "Hwkn15ro2UfR"
      },
      "source": [
        "Now that we have the context vector, we can concatenate it with the hidden state and pass it through a hidden layer to produce the result of this decoding time step."
      ]
    },
    {
      "cell_type": "markdown",
      "metadata": {
        "id": "NVIXJVzq2UfR"
      },
      "source": [
        "## Your turn\n",
        "\n",
        "Now implement the _general_ and _concat_ attention scores and check it below."
      ]
    },
    {
      "cell_type": "markdown",
      "metadata": {
        "id": "m89uAHYMgBgF"
      },
      "source": [
        "#### General attention scoring"
      ]
    },
    {
      "cell_type": "code",
      "metadata": {
        "id": "3QTmklVJ2UfR",
        "colab": {
          "base_uri": "https://localhost:8080/"
        },
        "outputId": "f35fa4e8-f1ed-4c4d-ef6a-450f253b0ca9"
      },
      "source": [
        "# Yeah, you need to initialize the matrix first\n",
        "# (just use random, the main idea is the dimentionality):\n",
        "Wa = np.random.randn(dec_hidden_state.shape[0], annotations.shape[0])\n",
        "\n",
        "\n",
        "def general_attention_score(dec_hidden_state, annotations, Wa):\n",
        "    # Return the product of dec_hidden_state transpose,\n",
        "    # Wa, and enc_hidden_states:\n",
        "    return np.dot(np.dot(dec_hidden_state.T, Wa), annotations)\n",
        "\n",
        "\n",
        "attention_weights_raw = general_attention_score(dec_hidden_state, annotations, Wa)\n",
        "attention_weights_raw"
      ],
      "execution_count": 16,
      "outputs": [
        {
          "output_type": "execute_result",
          "data": {
            "text/plain": [
              "matrix([[ 877.70605728, 1156.85897864, 1149.50557332,  674.30918349]])"
            ]
          },
          "metadata": {
            "tags": []
          },
          "execution_count": 16
        }
      ]
    },
    {
      "cell_type": "code",
      "metadata": {
        "id": "snluEPb32UfR",
        "colab": {
          "base_uri": "https://localhost:8080/"
        },
        "outputId": "c6f48ac4-d65e-429c-8841-802a972ce70e"
      },
      "source": [
        "# Some post-processing like above:\n",
        "attention_weights = softmax(attention_weights_raw)\n",
        "attention_weights"
      ],
      "execution_count": 17,
      "outputs": [
        {
          "output_type": "execute_result",
          "data": {
            "text/plain": [
              "array([[5.82302443e-122, 9.99360002e-001, 6.39997992e-004,\n",
              "        2.69779340e-210]], dtype=float128)"
            ]
          },
          "metadata": {
            "tags": []
          },
          "execution_count": 17
        }
      ]
    },
    {
      "cell_type": "code",
      "metadata": {
        "id": "mRCtLQD8sr0U",
        "colab": {
          "base_uri": "https://localhost:8080/"
        },
        "outputId": "736439a3-a13c-46ee-e3d4-43b00b37aeda"
      },
      "source": [
        "applied_attention = apply_attention_scores(attention_weights, annotations)\n",
        "applied_attention"
      ],
      "execution_count": 18,
      "outputs": [
        {
          "output_type": "execute_result",
          "data": {
            "text/plain": [
              "array([[1.74690733e-121, 5.89622401e+001, 6.39997992e-004,\n",
              "        1.07911736e-209],\n",
              "       [6.98762932e-121, 1.99872000e+000, 2.75199137e-002,\n",
              "        8.09338020e-210],\n",
              "       [2.62036099e-120, 4.99680001e+000, 3.19998996e-003,\n",
              "        1.22210041e-208]], dtype=float128)"
            ]
          },
          "metadata": {
            "tags": []
          },
          "execution_count": 18
        }
      ]
    },
    {
      "cell_type": "code",
      "metadata": {
        "id": "1daXtN9lssvd",
        "colab": {
          "base_uri": "https://localhost:8080/",
          "height": 265
        },
        "outputId": "081e311c-8718-4b35-a90c-0e647e2bce8e"
      },
      "source": [
        "ax = sns.heatmap(\n",
        "    applied_attention,\n",
        "    annot=True,\n",
        "    cmap=sns.light_palette(\"orange\", as_cmap=True),\n",
        "    linewidths=1,\n",
        ");"
      ],
      "execution_count": 19,
      "outputs": [
        {
          "output_type": "display_data",
          "data": {
            "image/png": "[encoded data removed]",
            "text/plain": [
              "<Figure size 432x288 with 2 Axes>"
            ]
          },
          "metadata": {
            "tags": [],
            "needs_background": "light"
          }
        }
      ]
    },
    {
      "cell_type": "code",
      "metadata": {
        "id": "HQaAifzfoFKw",
        "colab": {
          "base_uri": "https://localhost:8080/"
        },
        "outputId": "068e7e28-ccc1-47be-dacd-3a29eb3c003b"
      },
      "source": [
        "attention_vector = calculate_attention_vector(applied_attention)\n",
        "attention_vector"
      ],
      "execution_count": 20,
      "outputs": [
        {
          "output_type": "execute_result",
          "data": {
            "text/plain": [
              "array([58.96288012,  2.02623992,  5.        ], dtype=float128)"
            ]
          },
          "metadata": {
            "tags": []
          },
          "execution_count": 20
        }
      ]
    },
    {
      "cell_type": "code",
      "metadata": {
        "id": "K_4bz2IdoGBv",
        "colab": {
          "base_uri": "https://localhost:8080/",
          "height": 293
        },
        "outputId": "2adb4e29-d7a5-4ab9-b3be-78f7350965be"
      },
      "source": [
        "plt.figure(figsize=(1.5, 4.5))\n",
        "sns.heatmap(\n",
        "    np.transpose(np.matrix(attention_vector)),\n",
        "    annot=True,\n",
        "    cmap=sns.light_palette(\"Blue\", as_cmap=True),\n",
        "    linewidths=1,\n",
        ");"
      ],
      "execution_count": 21,
      "outputs": [
        {
          "output_type": "display_data",
          "data": {
            "image/png": "[encoded data removed]",
            "text/plain": [
              "<Figure size 108x324 with 2 Axes>"
            ]
          },
          "metadata": {
            "tags": [],
            "needs_background": "light"
          }
        }
      ]
    },
    {
      "cell_type": "markdown",
      "metadata": {
        "id": "oeUmCOI4gF28"
      },
      "source": [
        "### Concat attention scoring"
      ]
    },
    {
      "cell_type": "code",
      "metadata": {
        "id": "t4TnmJBu2UfS",
        "colab": {
          "base_uri": "https://localhost:8080/"
        },
        "outputId": "c2fc093e-4e4a-48c4-f43d-7d5829a4d669"
      },
      "source": [
        "# And here you need to initialize both the vector va and the matrix Wa\n",
        "# (again, random is fine):\n",
        "Wa = np.random.randn(dec_hidden_state.shape[0], annotations.shape[0])\n",
        "va = np.random.randn(dec_hidden_state.shape[0])\n",
        "\n",
        "\n",
        "def concat_attention_score(dec_hidden_state, annotations, Wa, va):\n",
        "    # Return the product of va transposed, tanh of product of Wa and\n",
        "    # concatenation of dec_hidden_state and enc_hidden_states:\n",
        "    result = np.hstack((dec_hidden_state, annotations))\n",
        "    result = np.dot(Wa, result)\n",
        "    result = np.tanh(result)\n",
        "    result = np.dot(va, result)\n",
        "    return result\n",
        "\n",
        "\n",
        "attention_weights_raw = concat_attention_score(dec_hidden_state, annotations, Wa, va)\n",
        "attention_weights_raw"
      ],
      "execution_count": 22,
      "outputs": [
        {
          "output_type": "execute_result",
          "data": {
            "text/plain": [
              "matrix([[-0.84680249, -0.84680249, -1.29793593, -0.84680249, -0.84680249]])"
            ]
          },
          "metadata": {
            "tags": []
          },
          "execution_count": 22
        }
      ]
    },
    {
      "cell_type": "code",
      "metadata": {
        "id": "mHd1vF_72UfS",
        "colab": {
          "base_uri": "https://localhost:8080/"
        },
        "outputId": "6040017c-b8bb-49a6-be30-ab0cc9584f51"
      },
      "source": [
        "# And again some post-processing:\n",
        "attention_weights = softmax(attention_weights_raw)\n",
        "attention_weights"
      ],
      "execution_count": 23,
      "outputs": [
        {
          "output_type": "execute_result",
          "data": {
            "text/plain": [
              "array([[0.21566105, 0.21566105, 0.13735579, 0.21566105, 0.21566105]],\n",
              "      dtype=float128)"
            ]
          },
          "metadata": {
            "tags": []
          },
          "execution_count": 23
        }
      ]
    },
    {
      "cell_type": "code",
      "metadata": {
        "id": "wxYtIfygwuXV",
        "colab": {
          "base_uri": "https://localhost:8080/"
        },
        "outputId": "acacf608-82e1-4aac-809f-cb84392967f0"
      },
      "source": [
        "applied_attention = apply_attention_scores(\n",
        "    attention_weights, np.hstack((dec_hidden_state, annotations))\n",
        ")\n",
        "applied_attention"
      ],
      "execution_count": 24,
      "outputs": [
        {
          "output_type": "execute_result",
          "data": {
            "text/plain": [
              "matrix([[1.07830527, 0.64698316, 8.10399137, 0.21566105, 0.86264421],\n",
              "        [0.21566105, 2.58793264, 0.27471157, 9.2734253 , 0.64698316],\n",
              "        [4.31322107, 9.70474741, 0.68677893, 1.07830527, 9.76944573]],\n",
              "       dtype=float128)"
            ]
          },
          "metadata": {
            "tags": []
          },
          "execution_count": 24
        }
      ]
    },
    {
      "cell_type": "code",
      "metadata": {
        "id": "1iqH34KxwzYA",
        "colab": {
          "base_uri": "https://localhost:8080/",
          "height": 265
        },
        "outputId": "911fc186-265d-4f45-b4a2-109d8b1e6985"
      },
      "source": [
        "ax = sns.heatmap(\n",
        "    applied_attention,\n",
        "    annot=True,\n",
        "    cmap=sns.light_palette(\"orange\", as_cmap=True),\n",
        "    linewidths=1,\n",
        ");"
      ],
      "execution_count": 25,
      "outputs": [
        {
          "output_type": "display_data",
          "data": {
            "image/png": "[encoded data removed]",
            "text/plain": [
              "<Figure size 432x288 with 2 Axes>"
            ]
          },
          "metadata": {
            "tags": [],
            "needs_background": "light"
          }
        }
      ]
    },
    {
      "cell_type": "code",
      "metadata": {
        "id": "bFY9U1ZXYlv1"
      },
      "source": [
        ""
      ],
      "execution_count": 25,
      "outputs": []
    }
  ]
}